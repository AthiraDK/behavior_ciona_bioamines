{
 "cells": [
  {
   "cell_type": "markdown",
   "metadata": {},
   "source": [
    "This notebook will be used to create the violin plots for fig 2 of the paper. These violin plots will show the distribution of the different feature values calculated for the set of experiments that has been tierpsied "
   ]
  },
  {
   "cell_type": "markdown",
   "metadata": {},
   "source": [
    "# Import the libraries"
   ]
  },
  {
   "cell_type": "code",
   "execution_count": 1,
   "metadata": {},
   "outputs": [],
   "source": [
    "import os\n",
    "import sys\n",
    "\n",
    "\n",
    "import h5py\n",
    "import numpy as np\n",
    "import pandas as pd"
   ]
  },
  {
   "cell_type": "code",
   "execution_count": 2,
   "metadata": {},
   "outputs": [],
   "source": [
    "import tqdm\n",
    "from itertools import compress"
   ]
  },
  {
   "cell_type": "code",
   "execution_count": 3,
   "metadata": {},
   "outputs": [],
   "source": [
    "from scipy import stats"
   ]
  },
  {
   "cell_type": "code",
   "execution_count": 4,
   "metadata": {},
   "outputs": [],
   "source": [
    "import matplotlib as mpl\n",
    "import matplotlib.pyplot as plt\n",
    "import seaborn as sns"
   ]
  },
  {
   "cell_type": "code",
   "execution_count": 5,
   "metadata": {},
   "outputs": [],
   "source": [
    "from joblib import Parallel, delayed"
   ]
  },
  {
   "cell_type": "markdown",
   "metadata": {},
   "source": [
    "# Get the data"
   ]
  },
  {
   "cell_type": "code",
   "execution_count": 6,
   "metadata": {},
   "outputs": [],
   "source": [
    "path_metadata = '/data/longterm/10/athira/paper_tierpsy_behavior_v0/metadata/20210209_metadata_1743_of_4086_exps.pickle'"
   ]
  },
  {
   "cell_type": "code",
   "execution_count": 7,
   "metadata": {},
   "outputs": [],
   "source": [
    "df_metadata = pd.read_pickle(path_metadata)"
   ]
  },
  {
   "cell_type": "code",
   "execution_count": 8,
   "metadata": {},
   "outputs": [],
   "source": [
    "df_drugs_and_wild = df_metadata[(df_metadata['good_694'] == True) | (df_metadata['drugs_899'] == True)]"
   ]
  },
  {
   "cell_type": "code",
   "execution_count": 9,
   "metadata": {},
   "outputs": [
    {
     "data": {
      "text/plain": [
       "1593"
      ]
     },
     "execution_count": 9,
     "metadata": {},
     "output_type": "execute_result"
    }
   ],
   "source": [
    "# This should be 1593 \n",
    "len(df_drugs_and_wild.index)"
   ]
  },
  {
   "cell_type": "code",
   "execution_count": 10,
   "metadata": {},
   "outputs": [],
   "source": [
    "df_features = pd.read_pickle('/data/longterm/10/athira/July17_features_combined_noLightStimuli.pickle')"
   ]
  },
  {
   "cell_type": "code",
   "execution_count": 11,
   "metadata": {},
   "outputs": [
    {
     "data": {
      "text/html": [
       "<div>\n",
       "<style scoped>\n",
       "    .dataframe tbody tr th:only-of-type {\n",
       "        vertical-align: middle;\n",
       "    }\n",
       "\n",
       "    .dataframe tbody tr th {\n",
       "        vertical-align: top;\n",
       "    }\n",
       "\n",
       "    .dataframe thead th {\n",
       "        text-align: right;\n",
       "    }\n",
       "</style>\n",
       "<table border=\"1\" class=\"dataframe\">\n",
       "  <thead>\n",
       "    <tr style=\"text-align: right;\">\n",
       "      <th></th>\n",
       "      <th>frames</th>\n",
       "      <th>filename</th>\n",
       "      <th>drug</th>\n",
       "      <th>light</th>\n",
       "      <th>curv_head</th>\n",
       "      <th>speed_x_head</th>\n",
       "      <th>speed_y_head</th>\n",
       "      <th>speed_head</th>\n",
       "      <th>tan_head</th>\n",
       "      <th>angvel_head</th>\n",
       "      <th>...</th>\n",
       "      <th>rel_tan_tail_mid</th>\n",
       "      <th>rel_tan_tail_post_mid</th>\n",
       "      <th>rel_tan_tail_tip</th>\n",
       "      <th>ects_1</th>\n",
       "      <th>ects_2</th>\n",
       "      <th>ects_3</th>\n",
       "      <th>ects_4</th>\n",
       "      <th>ects_5</th>\n",
       "      <th>ects_6</th>\n",
       "      <th>quirkness</th>\n",
       "    </tr>\n",
       "  </thead>\n",
       "  <tbody>\n",
       "    <tr>\n",
       "      <th>0</th>\n",
       "      <td>7</td>\n",
       "      <td>20180919_115015_1_5m0s_None_None_None_INVERTED...</td>\n",
       "      <td>None</td>\n",
       "      <td>None</td>\n",
       "      <td>-0.017198</td>\n",
       "      <td>-27.008057</td>\n",
       "      <td>-0.536011</td>\n",
       "      <td>27.013375</td>\n",
       "      <td>1.728838</td>\n",
       "      <td>-1.680707</td>\n",
       "      <td>...</td>\n",
       "      <td>-0.965574</td>\n",
       "      <td>-1.442325</td>\n",
       "      <td>4.191924</td>\n",
       "      <td>-0.242226</td>\n",
       "      <td>0.252907</td>\n",
       "      <td>0.100737</td>\n",
       "      <td>-0.103630</td>\n",
       "      <td>-0.036702</td>\n",
       "      <td>0.040370</td>\n",
       "      <td>0.942960</td>\n",
       "    </tr>\n",
       "    <tr>\n",
       "      <th>1</th>\n",
       "      <td>8</td>\n",
       "      <td>20180919_115015_1_5m0s_None_None_None_INVERTED...</td>\n",
       "      <td>None</td>\n",
       "      <td>None</td>\n",
       "      <td>-0.022632</td>\n",
       "      <td>-25.689758</td>\n",
       "      <td>-1.873779</td>\n",
       "      <td>25.758003</td>\n",
       "      <td>0.048131</td>\n",
       "      <td>-1.680707</td>\n",
       "      <td>...</td>\n",
       "      <td>0.737270</td>\n",
       "      <td>0.893605</td>\n",
       "      <td>0.906057</td>\n",
       "      <td>0.171081</td>\n",
       "      <td>0.179248</td>\n",
       "      <td>-0.096917</td>\n",
       "      <td>0.017548</td>\n",
       "      <td>0.020535</td>\n",
       "      <td>-0.006624</td>\n",
       "      <td>0.980586</td>\n",
       "    </tr>\n",
       "    <tr>\n",
       "      <th>2</th>\n",
       "      <td>9</td>\n",
       "      <td>20180919_115015_1_5m0s_None_None_None_INVERTED...</td>\n",
       "      <td>None</td>\n",
       "      <td>None</td>\n",
       "      <td>-0.013683</td>\n",
       "      <td>0.178772</td>\n",
       "      <td>12.000000</td>\n",
       "      <td>12.001332</td>\n",
       "      <td>5.897407</td>\n",
       "      <td>5.849276</td>\n",
       "      <td>...</td>\n",
       "      <td>0.261397</td>\n",
       "      <td>-5.556279</td>\n",
       "      <td>-4.919775</td>\n",
       "      <td>0.135002</td>\n",
       "      <td>-0.094772</td>\n",
       "      <td>-0.126590</td>\n",
       "      <td>0.110299</td>\n",
       "      <td>0.006492</td>\n",
       "      <td>0.022628</td>\n",
       "      <td>0.971257</td>\n",
       "    </tr>\n",
       "    <tr>\n",
       "      <th>3</th>\n",
       "      <td>20</td>\n",
       "      <td>20180919_115015_1_5m0s_None_None_None_INVERTED...</td>\n",
       "      <td>None</td>\n",
       "      <td>None</td>\n",
       "      <td>-0.016047</td>\n",
       "      <td>-5.867770</td>\n",
       "      <td>-1.454545</td>\n",
       "      <td>6.045364</td>\n",
       "      <td>0.244842</td>\n",
       "      <td>-0.513870</td>\n",
       "      <td>...</td>\n",
       "      <td>5.793753</td>\n",
       "      <td>5.687008</td>\n",
       "      <td>5.740084</td>\n",
       "      <td>-0.072909</td>\n",
       "      <td>-0.066518</td>\n",
       "      <td>0.017333</td>\n",
       "      <td>0.002223</td>\n",
       "      <td>-0.083971</td>\n",
       "      <td>0.042877</td>\n",
       "      <td>0.992129</td>\n",
       "    </tr>\n",
       "    <tr>\n",
       "      <th>4</th>\n",
       "      <td>23</td>\n",
       "      <td>20180919_115015_1_5m0s_None_None_None_INVERTED...</td>\n",
       "      <td>None</td>\n",
       "      <td>None</td>\n",
       "      <td>0.005098</td>\n",
       "      <td>-4.011912</td>\n",
       "      <td>0.333333</td>\n",
       "      <td>4.025736</td>\n",
       "      <td>6.239577</td>\n",
       "      <td>1.998245</td>\n",
       "      <td>...</td>\n",
       "      <td>-5.994454</td>\n",
       "      <td>-6.180219</td>\n",
       "      <td>-0.169155</td>\n",
       "      <td>0.020776</td>\n",
       "      <td>0.112950</td>\n",
       "      <td>-0.028227</td>\n",
       "      <td>0.071771</td>\n",
       "      <td>0.060161</td>\n",
       "      <td>-0.024482</td>\n",
       "      <td>0.998460</td>\n",
       "    </tr>\n",
       "    <tr>\n",
       "      <th>...</th>\n",
       "      <td>...</td>\n",
       "      <td>...</td>\n",
       "      <td>...</td>\n",
       "      <td>...</td>\n",
       "      <td>...</td>\n",
       "      <td>...</td>\n",
       "      <td>...</td>\n",
       "      <td>...</td>\n",
       "      <td>...</td>\n",
       "      <td>...</td>\n",
       "      <td>...</td>\n",
       "      <td>...</td>\n",
       "      <td>...</td>\n",
       "      <td>...</td>\n",
       "      <td>...</td>\n",
       "      <td>...</td>\n",
       "      <td>...</td>\n",
       "      <td>...</td>\n",
       "      <td>...</td>\n",
       "      <td>...</td>\n",
       "      <td>...</td>\n",
       "    </tr>\n",
       "    <tr>\n",
       "      <th>18013993</th>\n",
       "      <td>8996</td>\n",
       "      <td>20180808_112130_1_5m0s_Dopamine_None_None_skel...</td>\n",
       "      <td>Dopamine</td>\n",
       "      <td>None</td>\n",
       "      <td>0.003221</td>\n",
       "      <td>1.000000</td>\n",
       "      <td>-0.320496</td>\n",
       "      <td>1.050104</td>\n",
       "      <td>4.798446</td>\n",
       "      <td>-0.000824</td>\n",
       "      <td>...</td>\n",
       "      <td>-0.887769</td>\n",
       "      <td>-1.041476</td>\n",
       "      <td>-1.033917</td>\n",
       "      <td>-0.098597</td>\n",
       "      <td>-0.030548</td>\n",
       "      <td>-0.014418</td>\n",
       "      <td>-0.033454</td>\n",
       "      <td>0.025632</td>\n",
       "      <td>0.009221</td>\n",
       "      <td>0.970947</td>\n",
       "    </tr>\n",
       "    <tr>\n",
       "      <th>18013994</th>\n",
       "      <td>8997</td>\n",
       "      <td>20180808_112130_1_5m0s_Dopamine_None_None_skel...</td>\n",
       "      <td>Dopamine</td>\n",
       "      <td>None</td>\n",
       "      <td>0.005596</td>\n",
       "      <td>0.000000</td>\n",
       "      <td>0.047180</td>\n",
       "      <td>0.047180</td>\n",
       "      <td>4.765812</td>\n",
       "      <td>-0.032634</td>\n",
       "      <td>...</td>\n",
       "      <td>-0.788512</td>\n",
       "      <td>-0.950782</td>\n",
       "      <td>-1.077892</td>\n",
       "      <td>-0.101701</td>\n",
       "      <td>-0.016822</td>\n",
       "      <td>0.003646</td>\n",
       "      <td>-0.022406</td>\n",
       "      <td>0.032891</td>\n",
       "      <td>0.016292</td>\n",
       "      <td>0.968614</td>\n",
       "    </tr>\n",
       "    <tr>\n",
       "      <th>18013995</th>\n",
       "      <td>8998</td>\n",
       "      <td>20180808_112130_1_5m0s_Dopamine_None_None_skel...</td>\n",
       "      <td>Dopamine</td>\n",
       "      <td>None</td>\n",
       "      <td>0.003030</td>\n",
       "      <td>-0.669434</td>\n",
       "      <td>0.529572</td>\n",
       "      <td>0.853573</td>\n",
       "      <td>4.788003</td>\n",
       "      <td>0.022191</td>\n",
       "      <td>...</td>\n",
       "      <td>-0.810796</td>\n",
       "      <td>-1.024025</td>\n",
       "      <td>-1.074564</td>\n",
       "      <td>-0.099125</td>\n",
       "      <td>-0.022143</td>\n",
       "      <td>-0.006314</td>\n",
       "      <td>-0.039338</td>\n",
       "      <td>0.031269</td>\n",
       "      <td>0.008395</td>\n",
       "      <td>0.971154</td>\n",
       "    </tr>\n",
       "    <tr>\n",
       "      <th>18013996</th>\n",
       "      <td>8999</td>\n",
       "      <td>20180808_112130_1_5m0s_Dopamine_None_None_skel...</td>\n",
       "      <td>Dopamine</td>\n",
       "      <td>None</td>\n",
       "      <td>-0.007859</td>\n",
       "      <td>1.000000</td>\n",
       "      <td>0.545929</td>\n",
       "      <td>1.139315</td>\n",
       "      <td>4.793839</td>\n",
       "      <td>0.005836</td>\n",
       "      <td>...</td>\n",
       "      <td>-0.866849</td>\n",
       "      <td>-1.047440</td>\n",
       "      <td>-1.126085</td>\n",
       "      <td>-0.095032</td>\n",
       "      <td>0.007813</td>\n",
       "      <td>-0.011771</td>\n",
       "      <td>-0.047995</td>\n",
       "      <td>0.043870</td>\n",
       "      <td>0.013303</td>\n",
       "      <td>0.967644</td>\n",
       "    </tr>\n",
       "    <tr>\n",
       "      <th>18013997</th>\n",
       "      <td>9000</td>\n",
       "      <td>20180808_112130_1_5m0s_Dopamine_None_None_skel...</td>\n",
       "      <td>Dopamine</td>\n",
       "      <td>None</td>\n",
       "      <td>0.013176</td>\n",
       "      <td>-0.997620</td>\n",
       "      <td>0.591553</td>\n",
       "      <td>1.159819</td>\n",
       "      <td>4.752576</td>\n",
       "      <td>-0.041262</td>\n",
       "      <td>...</td>\n",
       "      <td>-0.853288</td>\n",
       "      <td>-1.003709</td>\n",
       "      <td>-1.075639</td>\n",
       "      <td>-0.102250</td>\n",
       "      <td>-0.036865</td>\n",
       "      <td>0.018598</td>\n",
       "      <td>-0.024561</td>\n",
       "      <td>0.021791</td>\n",
       "      <td>0.023166</td>\n",
       "      <td>0.968911</td>\n",
       "    </tr>\n",
       "  </tbody>\n",
       "</table>\n",
       "<p>18013998 rows × 59 columns</p>\n",
       "</div>"
      ],
      "text/plain": [
       "          frames                                           filename      drug  \\\n",
       "0              7  20180919_115015_1_5m0s_None_None_None_INVERTED...      None   \n",
       "1              8  20180919_115015_1_5m0s_None_None_None_INVERTED...      None   \n",
       "2              9  20180919_115015_1_5m0s_None_None_None_INVERTED...      None   \n",
       "3             20  20180919_115015_1_5m0s_None_None_None_INVERTED...      None   \n",
       "4             23  20180919_115015_1_5m0s_None_None_None_INVERTED...      None   \n",
       "...          ...                                                ...       ...   \n",
       "18013993    8996  20180808_112130_1_5m0s_Dopamine_None_None_skel...  Dopamine   \n",
       "18013994    8997  20180808_112130_1_5m0s_Dopamine_None_None_skel...  Dopamine   \n",
       "18013995    8998  20180808_112130_1_5m0s_Dopamine_None_None_skel...  Dopamine   \n",
       "18013996    8999  20180808_112130_1_5m0s_Dopamine_None_None_skel...  Dopamine   \n",
       "18013997    9000  20180808_112130_1_5m0s_Dopamine_None_None_skel...  Dopamine   \n",
       "\n",
       "         light  curv_head  speed_x_head  speed_y_head  speed_head  tan_head  \\\n",
       "0         None  -0.017198    -27.008057     -0.536011   27.013375  1.728838   \n",
       "1         None  -0.022632    -25.689758     -1.873779   25.758003  0.048131   \n",
       "2         None  -0.013683      0.178772     12.000000   12.001332  5.897407   \n",
       "3         None  -0.016047     -5.867770     -1.454545    6.045364  0.244842   \n",
       "4         None   0.005098     -4.011912      0.333333    4.025736  6.239577   \n",
       "...        ...        ...           ...           ...         ...       ...   \n",
       "18013993  None   0.003221      1.000000     -0.320496    1.050104  4.798446   \n",
       "18013994  None   0.005596      0.000000      0.047180    0.047180  4.765812   \n",
       "18013995  None   0.003030     -0.669434      0.529572    0.853573  4.788003   \n",
       "18013996  None  -0.007859      1.000000      0.545929    1.139315  4.793839   \n",
       "18013997  None   0.013176     -0.997620      0.591553    1.159819  4.752576   \n",
       "\n",
       "          angvel_head  ...  rel_tan_tail_mid  rel_tan_tail_post_mid  \\\n",
       "0           -1.680707  ...         -0.965574              -1.442325   \n",
       "1           -1.680707  ...          0.737270               0.893605   \n",
       "2            5.849276  ...          0.261397              -5.556279   \n",
       "3           -0.513870  ...          5.793753               5.687008   \n",
       "4            1.998245  ...         -5.994454              -6.180219   \n",
       "...               ...  ...               ...                    ...   \n",
       "18013993    -0.000824  ...         -0.887769              -1.041476   \n",
       "18013994    -0.032634  ...         -0.788512              -0.950782   \n",
       "18013995     0.022191  ...         -0.810796              -1.024025   \n",
       "18013996     0.005836  ...         -0.866849              -1.047440   \n",
       "18013997    -0.041262  ...         -0.853288              -1.003709   \n",
       "\n",
       "          rel_tan_tail_tip    ects_1    ects_2    ects_3    ects_4    ects_5  \\\n",
       "0                 4.191924 -0.242226  0.252907  0.100737 -0.103630 -0.036702   \n",
       "1                 0.906057  0.171081  0.179248 -0.096917  0.017548  0.020535   \n",
       "2                -4.919775  0.135002 -0.094772 -0.126590  0.110299  0.006492   \n",
       "3                 5.740084 -0.072909 -0.066518  0.017333  0.002223 -0.083971   \n",
       "4                -0.169155  0.020776  0.112950 -0.028227  0.071771  0.060161   \n",
       "...                    ...       ...       ...       ...       ...       ...   \n",
       "18013993         -1.033917 -0.098597 -0.030548 -0.014418 -0.033454  0.025632   \n",
       "18013994         -1.077892 -0.101701 -0.016822  0.003646 -0.022406  0.032891   \n",
       "18013995         -1.074564 -0.099125 -0.022143 -0.006314 -0.039338  0.031269   \n",
       "18013996         -1.126085 -0.095032  0.007813 -0.011771 -0.047995  0.043870   \n",
       "18013997         -1.075639 -0.102250 -0.036865  0.018598 -0.024561  0.021791   \n",
       "\n",
       "            ects_6  quirkness  \n",
       "0         0.040370   0.942960  \n",
       "1        -0.006624   0.980586  \n",
       "2         0.022628   0.971257  \n",
       "3         0.042877   0.992129  \n",
       "4        -0.024482   0.998460  \n",
       "...            ...        ...  \n",
       "18013993  0.009221   0.970947  \n",
       "18013994  0.016292   0.968614  \n",
       "18013995  0.008395   0.971154  \n",
       "18013996  0.013303   0.967644  \n",
       "18013997  0.023166   0.968911  \n",
       "\n",
       "[18013998 rows x 59 columns]"
      ]
     },
     "execution_count": 11,
     "metadata": {},
     "output_type": "execute_result"
    }
   ],
   "source": [
    "df_features.reset_index(drop=True, inplace=True)\n",
    "df_features"
   ]
  },
  {
   "cell_type": "code",
   "execution_count": 12,
   "metadata": {},
   "outputs": [],
   "source": [
    "params_list = df_features.columns.to_list()"
   ]
  },
  {
   "cell_type": "code",
   "execution_count": 13,
   "metadata": {},
   "outputs": [],
   "source": [
    "speed_xys = ['speed_x_head', 'speed_y_head','speed_x_neck', 'speed_y_neck','speed_x_tail_base', 'speed_y_tail_base',\n",
    " 'speed_x_tail_pre_mid', 'speed_y_tail_pre_mid','speed_x_tail_mid', 'speed_y_tail_mid',\n",
    " 'speed_x_tail_post_mid', 'speed_y_tail_post_mid','speed_x_tail_tip', 'speed_y_tail_tip']\n",
    "for sp_ in speed_xys:\n",
    "    params_list.remove(sp_)"
   ]
  },
  {
   "cell_type": "code",
   "execution_count": 14,
   "metadata": {},
   "outputs": [
    {
     "name": "stdout",
     "output_type": "stream",
     "text": [
      "['curv_head', 'speed_head', 'tan_head', 'angvel_head', 'curv_neck', 'speed_neck', 'tan_neck', 'angvel_neck', 'curv_tail_base', 'speed_tail_base', 'tan_tail_base', 'angvel_tail_base', 'curv_tail_pre_mid', 'speed_tail_pre_mid', 'tan_tail_pre_mid', 'angvel_tail_pre_mid', 'curv_tail_mid', 'speed_tail_mid', 'tan_tail_mid', 'angvel_tail_mid', 'curv_tail_post_mid', 'speed_tail_post_mid', 'tan_tail_post_mid', 'angvel_tail_post_mid', 'curv_tail_tip', 'speed_tail_tip', 'tan_tail_tip', 'angvel_tail_tip', 'rel_tan_neck', 'rel_tan_tail_base', 'rel_tan_tail_pre_mid', 'rel_tan_tail_mid', 'rel_tan_tail_post_mid', 'rel_tan_tail_tip', 'ects_1', 'ects_2', 'ects_3', 'ects_4', 'ects_5', 'ects_6', 'quirkness']\n"
     ]
    }
   ],
   "source": [
    "\n",
    "params_list.remove('frames')\n",
    "params_list.remove('filename')\n",
    "params_list.remove('drug')\n",
    "params_list.remove('light')\n",
    "print(params_list)"
   ]
  },
  {
   "cell_type": "code",
   "execution_count": 15,
   "metadata": {},
   "outputs": [
    {
     "data": {
      "text/plain": [
       "['curv_head',\n",
       " 'speed_head',\n",
       " 'tan_head',\n",
       " 'angvel_head',\n",
       " 'curv_neck',\n",
       " 'speed_neck',\n",
       " 'tan_neck',\n",
       " 'angvel_neck',\n",
       " 'curv_tail_base',\n",
       " 'speed_tail_base',\n",
       " 'tan_tail_base',\n",
       " 'angvel_tail_base',\n",
       " 'curv_tail_pre_mid',\n",
       " 'speed_tail_pre_mid',\n",
       " 'tan_tail_pre_mid',\n",
       " 'angvel_tail_pre_mid',\n",
       " 'curv_tail_mid',\n",
       " 'speed_tail_mid',\n",
       " 'tan_tail_mid',\n",
       " 'angvel_tail_mid',\n",
       " 'curv_tail_post_mid',\n",
       " 'speed_tail_post_mid',\n",
       " 'tan_tail_post_mid',\n",
       " 'angvel_tail_post_mid',\n",
       " 'curv_tail_tip',\n",
       " 'speed_tail_tip',\n",
       " 'tan_tail_tip',\n",
       " 'angvel_tail_tip',\n",
       " 'rel_tan_neck',\n",
       " 'rel_tan_tail_base',\n",
       " 'rel_tan_tail_pre_mid',\n",
       " 'rel_tan_tail_mid',\n",
       " 'rel_tan_tail_post_mid',\n",
       " 'rel_tan_tail_tip',\n",
       " 'ects_1',\n",
       " 'ects_2',\n",
       " 'ects_3',\n",
       " 'ects_4',\n",
       " 'ects_5',\n",
       " 'ects_6',\n",
       " 'quirkness']"
      ]
     },
     "execution_count": 15,
     "metadata": {},
     "output_type": "execute_result"
    }
   ],
   "source": [
    "params_list"
   ]
  },
  {
   "cell_type": "markdown",
   "metadata": {},
   "source": [
    "# Make plots for control "
   ]
  },
  {
   "cell_type": "code",
   "execution_count": 16,
   "metadata": {},
   "outputs": [],
   "source": [
    "df_features_combined = pd.merge(df_features, df_metadata[['filename','good_694', 'drugs_899']], left_on=['filename'], right_on=['filename'],\n",
    "        left_index=True, how='left' )\n"
   ]
  },
  {
   "cell_type": "code",
   "execution_count": null,
   "metadata": {},
   "outputs": [],
   "source": [
    "df_features_control = df_features_combined[df_features_combined['good_694'] == True] "
   ]
  },
  {
   "cell_type": "code",
   "execution_count": null,
   "metadata": {},
   "outputs": [],
   "source": [
    "len(df_features_control.index)"
   ]
  },
  {
   "cell_type": "code",
   "execution_count": null,
   "metadata": {},
   "outputs": [],
   "source": [
    "len(df_features_control.filename.unique())"
   ]
  },
  {
   "cell_type": "code",
   "execution_count": null,
   "metadata": {},
   "outputs": [],
   "source": [
    "df_features_control.columns"
   ]
  },
  {
   "cell_type": "code",
   "execution_count": null,
   "metadata": {},
   "outputs": [],
   "source": [
    "feat = 'curv'\n",
    "df_feat_control = df_features_control.filter(like=f'{feat}_')\n",
    "df_feat_control_zf = df_features_control[(np.abs(stats.zscore(df_feat_control)) < 3).all(axis=1)] \n",
    "df_feat_control_zf = df_feat_control_zf.filter(items = [\"drug\",f\"{feat}_neck\",f\"{feat}_tail_base\", f\"{feat}_tail_pre_mid\",\n",
    "                                            f\"{feat}_tail_mid\", f\"{feat}_tail_post_mid\", f\"{feat}_tail_tip\"])"
   ]
  },
  {
   "cell_type": "code",
   "execution_count": null,
   "metadata": {},
   "outputs": [],
   "source": [
    "df_feat_control"
   ]
  },
  {
   "cell_type": "code",
   "execution_count": null,
   "metadata": {},
   "outputs": [],
   "source": [
    "curv_unit_conv =  (1/11.56)"
   ]
  },
  {
   "cell_type": "code",
   "execution_count": null,
   "metadata": {},
   "outputs": [],
   "source": [
    "curv_unit_conv"
   ]
  },
  {
   "cell_type": "code",
   "execution_count": null,
   "metadata": {},
   "outputs": [],
   "source": [
    "df_feat_control = df_feat_control * curv_unit_conv "
   ]
  },
  {
   "cell_type": "code",
   "execution_count": null,
   "metadata": {},
   "outputs": [],
   "source": [
    "df_feat_control "
   ]
  },
  {
   "cell_type": "code",
   "execution_count": null,
   "metadata": {},
   "outputs": [],
   "source": [
    "# Try to get some stats for control \n",
    "\n",
    "import itertools \n",
    "from ipywidgets import widgets\n",
    "\n"
   ]
  },
  {
   "cell_type": "code",
   "execution_count": null,
   "metadata": {},
   "outputs": [],
   "source": [
    "@widgets.interact_manual\n",
    "def get_pvals_shapiro(feat = ['curv', 'speed', 'rel_tan']):\n",
    "\n",
    "    df_feat_control = df_features_control.filter(like=f'{feat}_')\n",
    "    cols = df_feat_control.columns\n",
    "    \n",
    "    \n",
    "\n",
    "    for i in cols:\n",
    "\n",
    "\n",
    "        test_results = stats.shapiro(df_feat_control[i])\n",
    "        print(test_results)\n",
    "    "
   ]
  },
  {
   "cell_type": "code",
   "execution_count": null,
   "metadata": {},
   "outputs": [],
   "source": [
    "@widgets.interact_manual\n",
    "def get_pvals_wilcoxon(feat = ['curv', 'speed', 'rel_tan', 'ects'], tail_ = ['two-sided', 'greater', 'less']):\n",
    "\n",
    "    df_feat_control = df_features_control.filter(like=f'{feat}_')\n",
    "    cols = df_feat_control.columns\n",
    "    df_pvals_curv_control = pd.DataFrame(columns=cols, index=cols)\n",
    "    df_teststat_curv_control = pd.DataFrame(columns=cols, index=cols)\n",
    "    \n",
    "\n",
    "    for i in itertools.permutations(cols, 2):\n",
    "\n",
    "        rvs1 = df_feat_control[i[0]]\n",
    "        rvs2 = df_feat_control[i[1]]\n",
    "        test_results = stats.wilcoxon(rvs1, rvs2, alternative=tail_)\n",
    "\n",
    "        test_pval = test_results[1]\n",
    "        test_stat = test_results[0]\n",
    "        df_pvals_curv_control.at[i[0],i[1]] = test_pval\n",
    "        df_teststat_curv_control.at[i[0],i[1]] = test_stat\n",
    "        \n",
    "        \n",
    "#     writer_1 = pd.ExcelWriter(f'./Results_30072021/pvals_wilcoxon_control/pvals_control_fig1_{feat}_{tail_}.xlsx', engine='openpyxl')\n",
    "\n",
    "#     # Write each dataframe to a different worksheet.\n",
    "\n",
    "#     df_pvals_curv_control.to_excel(writer_1, sheet_name=f'pvalue_{tail_}')\n",
    "#     df_teststat_curv_control.to_excel(writer_1, sheet_name=f'test statistic_{tail_}')\n",
    "\n",
    "#     # Close the Pandas Excel writer and output the Excel file.\n",
    "#     writer_1.save()\n",
    "        \n",
    "    return True\n",
    "    "
   ]
  },
  {
   "cell_type": "code",
   "execution_count": null,
   "metadata": {},
   "outputs": [],
   "source": []
  },
  {
   "cell_type": "code",
   "execution_count": null,
   "metadata": {},
   "outputs": [],
   "source": [
    "df_melted = pd.melt(df_feat_control_zf, var_name= 'segment', value_name=feat)"
   ]
  },
  {
   "cell_type": "code",
   "execution_count": null,
   "metadata": {},
   "outputs": [],
   "source": [
    "df_melted"
   ]
  },
  {
   "cell_type": "code",
   "execution_count": null,
   "metadata": {},
   "outputs": [],
   "source": [
    "# with sns.axes_style(\"darkgrid\"):\n",
    "#     ax = sns.violinplot(data = df_melted, x = 'segment', y= feat, color='b')\n",
    "#     ax.set_xticklabels(ax.get_xticklabels(),rotation=30)"
   ]
  },
  {
   "cell_type": "code",
   "execution_count": 17,
   "metadata": {},
   "outputs": [],
   "source": [
    "feat_names_dict = {'curv':'Curvature', 'speed': 'Speed', 'rel_tan': 'Relative tangent angles'}"
   ]
  },
  {
   "cell_type": "code",
   "execution_count": 18,
   "metadata": {},
   "outputs": [
    {
     "data": {
      "image/png": "[encoded data removed]",
      "text/plain": [
       "<Figure size 432x72 with 1 Axes>"
      ]
     },
     "metadata": {
      "needs_background": "light"
     },
     "output_type": "display_data"
    }
   ],
   "source": [
    "cpal = sns.color_palette(\"hls\",9)\n",
    "color_pal = [cpal[0], cpal[3], cpal[4], cpal[5], cpal[6], cpal[7]]\n",
    "# color_pal_dict = {'neck':cpal[0], 'tail_base':cpal[3], 'tail_pre_mid':cpal[4], 'tail_mid':cpal[5], 'tail_post_mid':cpal[6], 'tail_tip':cpal[7]}\n",
    "\n",
    "sns.palplot(color_pal)"
   ]
  },
  {
   "cell_type": "code",
   "execution_count": 19,
   "metadata": {},
   "outputs": [],
   "source": [
    "corn_b = sns.color_palette(\"tab10\",9)[0]"
   ]
  },
  {
   "cell_type": "code",
   "execution_count": 20,
   "metadata": {},
   "outputs": [],
   "source": [
    "df_control_zf_dict = {}"
   ]
  },
  {
   "cell_type": "code",
   "execution_count": 21,
   "metadata": {},
   "outputs": [],
   "source": [
    "feat_short_dict = {'curv':'c', 'speed':'s', 'rel_tan':'rta', 'ects':'EC' }"
   ]
  },
  {
   "cell_type": "code",
   "execution_count": null,
   "metadata": {},
   "outputs": [],
   "source": [
    "# fig, axes = plt.subplots(1,3, figsize = (24, 10))\n",
    "\n",
    "for i, feat in tqdm.tqdm(enumerate(['curv', 'speed', 'rel_tan'])):\n",
    "    \n",
    "    feat_s = feat_short_dict[feat]\n",
    "    \n",
    "    df_feat_control = df_features_control.filter(items = [f\"{feat}_neck\",f\"{feat}_tail_base\", f\"{feat}_tail_pre_mid\",\n",
    "                                                f\"{feat}_tail_mid\", f\"{feat}_tail_post_mid\", f\"{feat}_tail_tip\"])\n",
    "    df_feat_control_zf = df_features_control[(np.abs(stats.zscore(df_feat_control)) < 3).all(axis=1)] \n",
    "    df_feat_control_zf = df_feat_control_zf.filter(items = [f\"{feat}_neck\",f\"{feat}_tail_base\", f\"{feat}_tail_pre_mid\",\n",
    "                                                f\"{feat}_tail_mid\", f\"{feat}_tail_post_mid\", f\"{feat}_tail_tip\"])\n",
    "\n",
    "    col_rename_dict = {f\"{feat}_neck\" : f\"{feat_s}N\",\n",
    "                       f\"{feat}_tail_base\" :f\"{feat_s}TB\", \n",
    "                       f\"{feat}_tail_pre_mid\" : f\"{feat_s}TprM\",      \n",
    "                       f\"{feat}_tail_mid\": f\"{feat_s}TM\", \n",
    "                       f\"{feat}_tail_post_mid\": f\"{feat_s}TpoM\", \n",
    "                       f\"{feat}_tail_tip\": f\"{feat_s}TT\"}\n",
    "    \n",
    "\n",
    "        \n",
    "    df_feat_control_zf.rename(columns= col_rename_dict, inplace=True)\n",
    "    df_control_zf_dict[feat] = df_feat_control_zf"
   ]
  },
  {
   "cell_type": "code",
   "execution_count": null,
   "metadata": {},
   "outputs": [],
   "source": []
  },
  {
   "cell_type": "code",
   "execution_count": null,
   "metadata": {},
   "outputs": [],
   "source": [
    "#     df_melted = pd.melt(df_feat_control_zf, var_name= 'segment', value_name= feat)\n",
    "fig, axes = plt.subplots(1,3, figsize = (24, 10))\n",
    "for i, feat in tqdm.tqdm(enumerate(['curv', 'speed', 'rel_tan'])):\n",
    "    \n",
    "    df_feat_control_zf = df_control_zf_dict[feat]\n",
    "    if feat == 'curv':\n",
    "        df_feat_control_zf = df_feat_control_zf * (1/11.56)\n",
    "    elif feat == 'speed':\n",
    "        df_feat_control_zf = df_feat_control_zf * (346.80)\n",
    "    sns.violinplot(data = df_feat_control_zf, ax=axes[i], palette= color_pal, alpha = 0.1)\n",
    "    axes[i].set_xticklabels(axes[i].get_xticklabels(),rotation=30, size = 'x-large')\n",
    "    axes[i].set_ylabel(feat_names_dict[feat], size = 'xx-large')\n",
    "    plt.setp(axes[i].collections, alpha=.5)"
   ]
  },
  {
   "cell_type": "code",
   "execution_count": null,
   "metadata": {},
   "outputs": [],
   "source": [
    "# for ax in axes:\n",
    "#     plt.setp(ax.collections, alpha=.5)"
   ]
  },
  {
   "cell_type": "code",
   "execution_count": 22,
   "metadata": {},
   "outputs": [],
   "source": [
    "dest_folder_oct18 = '/data/temp/athira/oct18_violinplots_rescaled'"
   ]
  },
  {
   "cell_type": "code",
   "execution_count": null,
   "metadata": {},
   "outputs": [],
   "source": [
    "fig.savefig(os.path.join(dest_folder_oct18, 'stats_control_feats3_a.svg'))"
   ]
  },
  {
   "cell_type": "code",
   "execution_count": null,
   "metadata": {},
   "outputs": [],
   "source": [
    "df_feat_control = df_features_control.filter(like='ects_')\n",
    "df_feat_control_zf = df_features_control[(np.abs(stats.zscore(df_feat_control)) < 3).all(axis=1)] \n",
    "df_feat_control_zf = df_feat_control_zf.filter(like='ects_')\n",
    "\n",
    "\n",
    "df_melted = pd.melt(df_feat_control_zf, var_name= 'coeff', value_name= 'ects')\n",
    "# with sns.axes_style(\"darkgrid\"):\n",
    "\n"
   ]
  },
  {
   "cell_type": "code",
   "execution_count": null,
   "metadata": {},
   "outputs": [],
   "source": [
    "\n",
    "# df_feat_control = df_features_control.filter(like='ects_')\n",
    "# df_feat_control_zf = df_features_control[(np.abs(stats.zscore(df_feat_control)) < 3).all(axis=1)] \n",
    "# df_feat_control_zf = df_feat_control_zf.filter(like='ects_')\n",
    "\n",
    "# df_melted = pd.melt(df_feat_control_zf, var_name= 'coeff', value_name= 'ects')\n",
    "# # with sns.axes_style(\"darkgrid\"):\n",
    "fig2, ax2 = plt.subplots(1,1, figsize = (15, 10))\n",
    "sns.violinplot(data = df_melted, x = 'coeff', y= 'ects', ax=ax2, palette=sns.color_palette('Set2',6))\n",
    "ax2.set_xticklabels(ax2.get_xticklabels(),rotation=30, size = 'x-large')\n",
    "ax2.set_ylabel('Eigen cofficient value', size = 'xx-large')\n",
    "ax2.set_xlabel('Coefficient', size = 'xx-large')\n",
    "plt.setp(ax2.collections, alpha=.8)\n",
    "fig2.savefig(os.path.join(dest_folder_oct18, 'stats_control_feats3_a.svg'))"
   ]
  },
  {
   "cell_type": "code",
   "execution_count": null,
   "metadata": {
    "scrolled": true
   },
   "outputs": [],
   "source": [
    "plt.setp(ax2.collections)\n",
    "fig.savefig('stats_control_feats3_b.svg')"
   ]
  },
  {
   "cell_type": "code",
   "execution_count": null,
   "metadata": {},
   "outputs": [],
   "source": [
    "df_feat_control = df_features_control.filter(like='quirkness')\n",
    "df_feat_control_zf = df_features_control[(np.abs(stats.zscore(df_feat_control)) < 3).all(axis=1)] \n",
    "df_feat_control_zf = df_feat_control_zf.filter(like='quirkness')\n",
    "\n",
    "with sns.axes_style(\"darkgrid\"):\n",
    "    fig, ax3 = plt.subplots(1,1, figsize = (8, 10))\n",
    "    sns.violinplot(data = df_feat_control_zf, color= corn_b, alpha = 0.5, ax = ax3 )\n",
    "    ax3.set_xticklabels(ax3.get_xticklabels(),rotation=30)\n",
    "    ax3.set_ylabel('Quirkiness', size = 'xx-large')\n",
    "    ax3.axes.xaxis.set_visible(False)\n",
    "# fig.savefig('stats_control_feats1_c.svg')"
   ]
  },
  {
   "cell_type": "markdown",
   "metadata": {},
   "source": [
    "# Statistic tests"
   ]
  },
  {
   "cell_type": "code",
   "execution_count": null,
   "metadata": {},
   "outputs": [],
   "source": [
    "from scipy.stats import mannwhitneyu"
   ]
  },
  {
   "cell_type": "code",
   "execution_count": 23,
   "metadata": {},
   "outputs": [],
   "source": [
    "def test_drugs_mannwhitney(drug, params_list, _tail):\n",
    "    \n",
    "    pvalues_dict = {}\n",
    "    pvalues_dict['drug'] = drug\n",
    "    \n",
    "    if drug == 'Dopamine':\n",
    "        control = 'AA'\n",
    "    else:\n",
    "        control = 'None'\n",
    "    \n",
    "    for param in params_list:\n",
    "        \n",
    "        results = mannwhitneyu(*[df_features_drugs_and_control[param][df_features_drugs_and_control[\"drug\"] == group].values \n",
    "                         for group in [control,drug]], alternative= _tail)\n",
    "        \n",
    "        pvalues_dict[param] = results[-1]\n",
    "        \n",
    "        \n",
    "    return pvalues_dict"
   ]
  },
  {
   "cell_type": "code",
   "execution_count": 24,
   "metadata": {},
   "outputs": [
    {
     "data": {
      "text/plain": [
       "['Chlorpromazine',\n",
       " 'Methiothepin',\n",
       " 'Dopamine',\n",
       " 'Raclopride',\n",
       " 'AA',\n",
       " 'Paroxetine',\n",
       " 'Phentolamine',\n",
       " 'Serotonin',\n",
       " 'Fluoxetine',\n",
       " 'Clomipramine',\n",
       " 'Alphamethyl',\n",
       " 'Quinpirole003',\n",
       " 'Imipramine',\n",
       " 'Mianserin']"
      ]
     },
     "execution_count": 24,
     "metadata": {},
     "output_type": "execute_result"
    }
   ],
   "source": [
    "drugs_list = list(df_drugs_and_wild.drug.unique())\n",
    "# drugs_list.remove('AA')\n",
    "drugs_list.remove('None')\n",
    "drugs_list.remove('Tyramine')\n",
    "drugs_list.remove('Octopamine')\n",
    "drugs_list.remove('Quinpirole0003')\n",
    "drugs_list\n"
   ]
  },
  {
   "cell_type": "code",
   "execution_count": 25,
   "metadata": {},
   "outputs": [
    {
     "data": {
      "text/plain": [
       "14"
      ]
     },
     "execution_count": 25,
     "metadata": {},
     "output_type": "execute_result"
    }
   ],
   "source": [
    "len(drugs_list)"
   ]
  },
  {
   "cell_type": "code",
   "execution_count": 26,
   "metadata": {},
   "outputs": [],
   "source": [
    "df_features_drugs_and_control = df_features_combined[(df_features_combined['good_694'] == True) | (df_features_combined['drugs_899'] == True)] "
   ]
  },
  {
   "cell_type": "code",
   "execution_count": null,
   "metadata": {},
   "outputs": [],
   "source": [
    "mannwhitney_combo_list = Parallel(n_jobs=len(drugs_list), verbose = 5)(delayed(test_drugs_mannwhitney)(drug, params_list,'two-sided') \n",
    "                                                          for drug in drugs_list)"
   ]
  },
  {
   "cell_type": "code",
   "execution_count": null,
   "metadata": {},
   "outputs": [],
   "source": [
    "df_pval_mannwhitney = pd.DataFrame(mannwhitney_combo_list)"
   ]
  },
  {
   "cell_type": "code",
   "execution_count": null,
   "metadata": {},
   "outputs": [],
   "source": [
    "df_pval_mannwhitney.set_index('drug', inplace = True)"
   ]
  },
  {
   "cell_type": "code",
   "execution_count": null,
   "metadata": {},
   "outputs": [],
   "source": [
    "df_pval_mannwhitney.index"
   ]
  },
  {
   "cell_type": "code",
   "execution_count": null,
   "metadata": {
    "scrolled": false
   },
   "outputs": [],
   "source": [
    "\n",
    "# Bonferroni correction\n",
    "bf_corr_pvalue = 0.05/len(df_pval_mannwhitney.index) \n",
    "df_binary_bf = df_pval_mannwhitney > bf_corr_pvalue\n",
    "\n"
   ]
  },
  {
   "cell_type": "code",
   "execution_count": null,
   "metadata": {},
   "outputs": [],
   "source": [
    "mwu_combo_list_less = Parallel(n_jobs=15, verbose = 5)(delayed(test_drugs_mannwhitney)(drug, params_list, 'less') \n",
    "                                                          for drug in drugs_list)\n",
    "\n",
    "df_pval_mwu_less = pd.DataFrame(mwu_combo_list_less)\n",
    "df_pval_mwu_less.set_index('drug', inplace = True)\n",
    "df_binary_bf_less = df_pval_mwu_less > bf_corr_pvalue"
   ]
  },
  {
   "cell_type": "code",
   "execution_count": null,
   "metadata": {},
   "outputs": [],
   "source": [
    "mwu_combo_list_greater = Parallel(n_jobs=15, verbose = 5)(delayed(test_drugs_mannwhitney)(drug, params_list, 'greater') \n",
    "                                                          for drug in drugs_list)\n",
    "df_pval_mwu_greater = pd.DataFrame(mwu_combo_list_greater)\n",
    "df_pval_mwu_greater.set_index('drug', inplace = True)\n",
    "df_binary_bf_greater = df_pval_mwu_greater > bf_corr_pvalue"
   ]
  },
  {
   "cell_type": "code",
   "execution_count": null,
   "metadata": {},
   "outputs": [],
   "source": [
    "df_pval_mannwhitney.to_pickle('./Results_30072021/drugs_pvals_all_for_figures/mwu_pval_drugs_twosided.pickle')\n",
    "df_pval_mwu_less.to_pickle('./Results_30072021/drugs_pvals_all_for_figures/mwu_pval_drugs_less.pickle')\n",
    "df_pval_mwu_greater.to_pickle('./Results_30072021/drugs_pvals_all_for_figures/mwu_pval_drugs_greater.pickle')"
   ]
  },
  {
   "cell_type": "code",
   "execution_count": null,
   "metadata": {},
   "outputs": [],
   "source": [
    "df_pval_mannwhitney.to_pickle('./Results_30072021/drugs_pvals_all_for_figures/mwu_pval_drugs_twosided.pickle')\n",
    "df_pval_mwu_less.to_pickle('./Results_30072021/drugs_pvals_all_for_figures/mwu_pval_drugs_less.pickle')\n",
    "df_pval_mwu_greater.to_pickle('./Results_30072021/drugs_pvals_all_for_figures/mwu_pval_drugs_greater.pickle')"
   ]
  },
  {
   "cell_type": "code",
   "execution_count": null,
   "metadata": {},
   "outputs": [],
   "source": []
  },
  {
   "cell_type": "code",
   "execution_count": null,
   "metadata": {},
   "outputs": [],
   "source": [
    "writer = pd.ExcelWriter('./Results_30072021/drugs_pvals_all_for_figures/pvalues_mannwhitneyu_drugs_all_for_figures.xlsx', engine='openpyxl')\n",
    "\n",
    "# Write each dataframe to a different worksheet.\n",
    "df_pval_mannwhitney.to_excel(writer, sheet_name='Two_tailed')\n",
    "df_pval_mwu_less.to_excel(writer, sheet_name='Less')\n",
    "df_pval_mwu_greater.to_excel(writer, sheet_name='Greater')\n",
    "\n",
    "# Close the Pandas Excel writer and output the Excel file.\n",
    "writer.save()"
   ]
  },
  {
   "cell_type": "code",
   "execution_count": null,
   "metadata": {},
   "outputs": [],
   "source": [
    "# df_binary_bf.to_pickle('./Results_30072021/drugs_pvals_all_for_figures/mwu_test_drugs_twosided.pickle')\n",
    "# df_binary_bf_less.to_pickle('./Results_30072021/drugs_pvals_all_for_figures/mwu_test_drugs_less.pickle')\n",
    "# df_binary_bf_greater.to_pickle('./Results_30072021/drugs_pvals_all_for_figures/mwu_test_drugs_greater.pickle')"
   ]
  },
  {
   "cell_type": "code",
   "execution_count": 27,
   "metadata": {},
   "outputs": [],
   "source": [
    "df_binary_bf = pd.read_pickle('./Results_30072021/drugs_pvals_all_for_figures/mwu_test_drugs_twosided.pickle')\n",
    "df_binary_bf_less = pd.read_pickle('./Results_30072021/drugs_pvals_all_for_figures/mwu_test_drugs_less.pickle')\n",
    "df_binary_bf_greater = pd.read_pickle('./Results_30072021/drugs_pvals_all_for_figures/mwu_test_drugs_greater.pickle')"
   ]
  },
  {
   "cell_type": "markdown",
   "metadata": {},
   "source": [
    "# Make plots"
   ]
  },
  {
   "cell_type": "markdown",
   "metadata": {},
   "source": [
    "## test for one parameter/ feature"
   ]
  },
  {
   "cell_type": "code",
   "execution_count": null,
   "metadata": {},
   "outputs": [],
   "source": [
    "param = 'curv_tail_base'\n",
    "list_drugs_l = df_binary_bf.index[(~df_binary_bf[param]==True)&\n",
    "                                 (~df_binary_bf_less[param]==True)&\n",
    "                                 (~df_binary_bf_greater[param]==False)].values\n",
    "list_drugs_g = df_binary_bf.index[(~df_binary_bf[param]==True)&\n",
    "                                 (~df_binary_bf_greater[param]==True)&\n",
    "                                 (~df_binary_bf_less[param]==False)].values\n",
    "list_drugs_lg = df_binary_bf.index[(~df_binary_bf[param]==True)&\n",
    "                                 (~df_binary_bf_greater[param]==True)&\n",
    "                                 (~df_binary_bf_less[param]==True)].values"
   ]
  },
  {
   "cell_type": "code",
   "execution_count": null,
   "metadata": {},
   "outputs": [],
   "source": [
    "list_drugs_l"
   ]
  },
  {
   "cell_type": "code",
   "execution_count": null,
   "metadata": {},
   "outputs": [],
   "source": [
    "list_drugs_g"
   ]
  },
  {
   "cell_type": "code",
   "execution_count": null,
   "metadata": {},
   "outputs": [],
   "source": [
    "list_drugs_lg"
   ]
  },
  {
   "cell_type": "code",
   "execution_count": 28,
   "metadata": {},
   "outputs": [],
   "source": [
    "def get_zscores(param):\n",
    "\n",
    "    df_param = df_features_drugs_and_control.groupby('drug')[param].transform(lambda x: np.abs(stats.zscore(x, ddof=1)))\n",
    "    \n",
    "    return df_param"
   ]
  },
  {
   "cell_type": "code",
   "execution_count": null,
   "metadata": {},
   "outputs": [],
   "source": []
  },
  {
   "cell_type": "code",
   "execution_count": 29,
   "metadata": {},
   "outputs": [],
   "source": [
    "short_params_list =  ['curv_neck',\n",
    "'speed_neck',\n",
    "'curv_tail_base',\n",
    "'speed_tail_base',\n",
    "'curv_tail_pre_mid',\n",
    "'speed_tail_pre_mid',\n",
    "'curv_tail_mid',\n",
    "'speed_tail_mid',\n",
    "'curv_tail_post_mid',\n",
    "'speed_tail_post_mid',\n",
    "'curv_tail_tip',\n",
    "'speed_tail_tip',\n",
    "'rel_tan_neck',\n",
    "'rel_tan_tail_base',\n",
    "'rel_tan_tail_pre_mid',\n",
    "'rel_tan_tail_mid',\n",
    "'rel_tan_tail_post_mid',\n",
    "'rel_tan_tail_tip',\n",
    "'ects_1',\n",
    "'ects_2',\n",
    "'ects_3',\n",
    "'ects_4',\n",
    "'ects_5',\n",
    "'ects_6',\n",
    "'quirkness']"
   ]
  },
  {
   "cell_type": "code",
   "execution_count": 30,
   "metadata": {},
   "outputs": [
    {
     "name": "stderr",
     "output_type": "stream",
     "text": [
      "[Parallel(n_jobs=25)]: Using backend LokyBackend with 25 concurrent workers.\n",
      "[Parallel(n_jobs=25)]: Done   6 out of  25 | elapsed:   21.2s remaining:  1.1min\n",
      "[Parallel(n_jobs=25)]: Done  12 out of  25 | elapsed:   30.5s remaining:   33.1s\n",
      "[Parallel(n_jobs=25)]: Done  18 out of  25 | elapsed:   41.4s remaining:   16.1s\n",
      "[Parallel(n_jobs=25)]: Done  25 out of  25 | elapsed:   53.9s finished\n"
     ]
    },
    {
     "data": {
      "text/html": [
       "<div>\n",
       "<style scoped>\n",
       "    .dataframe tbody tr th:only-of-type {\n",
       "        vertical-align: middle;\n",
       "    }\n",
       "\n",
       "    .dataframe tbody tr th {\n",
       "        vertical-align: top;\n",
       "    }\n",
       "\n",
       "    .dataframe thead th {\n",
       "        text-align: right;\n",
       "    }\n",
       "</style>\n",
       "<table border=\"1\" class=\"dataframe\">\n",
       "  <thead>\n",
       "    <tr style=\"text-align: right;\">\n",
       "      <th></th>\n",
       "      <th>curv_neck_zscore</th>\n",
       "      <th>speed_neck_zscore</th>\n",
       "      <th>curv_tail_base_zscore</th>\n",
       "      <th>speed_tail_base_zscore</th>\n",
       "      <th>curv_tail_pre_mid_zscore</th>\n",
       "      <th>speed_tail_pre_mid_zscore</th>\n",
       "      <th>curv_tail_mid_zscore</th>\n",
       "      <th>speed_tail_mid_zscore</th>\n",
       "      <th>curv_tail_post_mid_zscore</th>\n",
       "      <th>speed_tail_post_mid_zscore</th>\n",
       "      <th>...</th>\n",
       "      <th>rel_tan_tail_mid_zscore</th>\n",
       "      <th>rel_tan_tail_post_mid_zscore</th>\n",
       "      <th>rel_tan_tail_tip_zscore</th>\n",
       "      <th>ects_1_zscore</th>\n",
       "      <th>ects_2_zscore</th>\n",
       "      <th>ects_3_zscore</th>\n",
       "      <th>ects_4_zscore</th>\n",
       "      <th>ects_5_zscore</th>\n",
       "      <th>ects_6_zscore</th>\n",
       "      <th>quirkness_zscore</th>\n",
       "    </tr>\n",
       "  </thead>\n",
       "  <tbody>\n",
       "    <tr>\n",
       "      <th>0</th>\n",
       "      <td>0.806790</td>\n",
       "      <td>5.529372</td>\n",
       "      <td>0.036567</td>\n",
       "      <td>4.937554</td>\n",
       "      <td>2.945483</td>\n",
       "      <td>4.301404</td>\n",
       "      <td>4.221243</td>\n",
       "      <td>4.586266</td>\n",
       "      <td>2.956435</td>\n",
       "      <td>4.312869</td>\n",
       "      <td>...</td>\n",
       "      <td>0.544205</td>\n",
       "      <td>0.749815</td>\n",
       "      <td>2.226712</td>\n",
       "      <td>2.895174</td>\n",
       "      <td>3.365822</td>\n",
       "      <td>1.448431</td>\n",
       "      <td>2.484689</td>\n",
       "      <td>0.960742</td>\n",
       "      <td>1.112145</td>\n",
       "      <td>0.744641</td>\n",
       "    </tr>\n",
       "    <tr>\n",
       "      <th>0</th>\n",
       "      <td>1.338447</td>\n",
       "      <td>5.761069</td>\n",
       "      <td>2.117753</td>\n",
       "      <td>4.821584</td>\n",
       "      <td>1.892472</td>\n",
       "      <td>4.382247</td>\n",
       "      <td>1.403737</td>\n",
       "      <td>4.458927</td>\n",
       "      <td>0.057270</td>\n",
       "      <td>4.011417</td>\n",
       "      <td>...</td>\n",
       "      <td>0.500619</td>\n",
       "      <td>0.537594</td>\n",
       "      <td>0.519983</td>\n",
       "      <td>1.862154</td>\n",
       "      <td>2.413042</td>\n",
       "      <td>1.804495</td>\n",
       "      <td>0.224129</td>\n",
       "      <td>0.512647</td>\n",
       "      <td>0.329381</td>\n",
       "      <td>0.013380</td>\n",
       "    </tr>\n",
       "    <tr>\n",
       "      <th>0</th>\n",
       "      <td>0.628036</td>\n",
       "      <td>1.842266</td>\n",
       "      <td>0.038801</td>\n",
       "      <td>0.285821</td>\n",
       "      <td>0.476083</td>\n",
       "      <td>0.154675</td>\n",
       "      <td>1.955609</td>\n",
       "      <td>1.508867</td>\n",
       "      <td>2.786050</td>\n",
       "      <td>2.826136</td>\n",
       "      <td>...</td>\n",
       "      <td>0.208635</td>\n",
       "      <td>3.017151</td>\n",
       "      <td>2.506041</td>\n",
       "      <td>1.446874</td>\n",
       "      <td>1.131399</td>\n",
       "      <td>2.292855</td>\n",
       "      <td>2.297473</td>\n",
       "      <td>0.151159</td>\n",
       "      <td>0.567905</td>\n",
       "      <td>0.174563</td>\n",
       "    </tr>\n",
       "    <tr>\n",
       "      <th>0</th>\n",
       "      <td>0.320115</td>\n",
       "      <td>1.258930</td>\n",
       "      <td>0.886801</td>\n",
       "      <td>0.951114</td>\n",
       "      <td>1.233068</td>\n",
       "      <td>0.639000</td>\n",
       "      <td>0.604067</td>\n",
       "      <td>0.645673</td>\n",
       "      <td>0.723639</td>\n",
       "      <td>0.717548</td>\n",
       "      <td>...</td>\n",
       "      <td>3.603157</td>\n",
       "      <td>3.179398</td>\n",
       "      <td>3.030850</td>\n",
       "      <td>0.946264</td>\n",
       "      <td>0.765928</td>\n",
       "      <td>0.075786</td>\n",
       "      <td>0.118463</td>\n",
       "      <td>2.177526</td>\n",
       "      <td>1.189065</td>\n",
       "      <td>0.245925</td>\n",
       "    </tr>\n",
       "    <tr>\n",
       "      <th>0</th>\n",
       "      <td>0.026918</td>\n",
       "      <td>1.076364</td>\n",
       "      <td>0.235692</td>\n",
       "      <td>1.033256</td>\n",
       "      <td>1.532862</td>\n",
       "      <td>0.787046</td>\n",
       "      <td>0.849712</td>\n",
       "      <td>0.840958</td>\n",
       "      <td>0.840831</td>\n",
       "      <td>0.995012</td>\n",
       "      <td>...</td>\n",
       "      <td>3.629807</td>\n",
       "      <td>3.361025</td>\n",
       "      <td>0.038498</td>\n",
       "      <td>0.132082</td>\n",
       "      <td>1.555486</td>\n",
       "      <td>0.674013</td>\n",
       "      <td>1.436230</td>\n",
       "      <td>1.532691</td>\n",
       "      <td>0.877158</td>\n",
       "      <td>0.373472</td>\n",
       "    </tr>\n",
       "    <tr>\n",
       "      <th>...</th>\n",
       "      <td>...</td>\n",
       "      <td>...</td>\n",
       "      <td>...</td>\n",
       "      <td>...</td>\n",
       "      <td>...</td>\n",
       "      <td>...</td>\n",
       "      <td>...</td>\n",
       "      <td>...</td>\n",
       "      <td>...</td>\n",
       "      <td>...</td>\n",
       "      <td>...</td>\n",
       "      <td>...</td>\n",
       "      <td>...</td>\n",
       "      <td>...</td>\n",
       "      <td>...</td>\n",
       "      <td>...</td>\n",
       "      <td>...</td>\n",
       "      <td>...</td>\n",
       "      <td>...</td>\n",
       "      <td>...</td>\n",
       "      <td>...</td>\n",
       "    </tr>\n",
       "    <tr>\n",
       "      <th>4081</th>\n",
       "      <td>0.483894</td>\n",
       "      <td>0.257404</td>\n",
       "      <td>0.746125</td>\n",
       "      <td>0.211023</td>\n",
       "      <td>1.814834</td>\n",
       "      <td>0.001385</td>\n",
       "      <td>0.925915</td>\n",
       "      <td>0.055652</td>\n",
       "      <td>0.253625</td>\n",
       "      <td>0.084765</td>\n",
       "      <td>...</td>\n",
       "      <td>0.667336</td>\n",
       "      <td>0.706976</td>\n",
       "      <td>0.700128</td>\n",
       "      <td>1.190182</td>\n",
       "      <td>0.544266</td>\n",
       "      <td>0.553741</td>\n",
       "      <td>1.030347</td>\n",
       "      <td>0.743452</td>\n",
       "      <td>0.287035</td>\n",
       "      <td>0.380663</td>\n",
       "    </tr>\n",
       "    <tr>\n",
       "      <th>4081</th>\n",
       "      <td>0.455737</td>\n",
       "      <td>0.318403</td>\n",
       "      <td>0.405858</td>\n",
       "      <td>0.311149</td>\n",
       "      <td>1.685597</td>\n",
       "      <td>0.292693</td>\n",
       "      <td>1.306242</td>\n",
       "      <td>0.313435</td>\n",
       "      <td>0.429103</td>\n",
       "      <td>0.296438</td>\n",
       "      <td>...</td>\n",
       "      <td>0.601976</td>\n",
       "      <td>0.656294</td>\n",
       "      <td>0.723353</td>\n",
       "      <td>1.233858</td>\n",
       "      <td>0.291034</td>\n",
       "      <td>0.225110</td>\n",
       "      <td>0.756626</td>\n",
       "      <td>0.960144</td>\n",
       "      <td>0.584201</td>\n",
       "      <td>0.445584</td>\n",
       "    </tr>\n",
       "    <tr>\n",
       "      <th>4081</th>\n",
       "      <td>0.555040</td>\n",
       "      <td>0.049089</td>\n",
       "      <td>0.870691</td>\n",
       "      <td>0.145036</td>\n",
       "      <td>1.551647</td>\n",
       "      <td>0.253130</td>\n",
       "      <td>1.293855</td>\n",
       "      <td>0.179866</td>\n",
       "      <td>0.214230</td>\n",
       "      <td>0.196723</td>\n",
       "      <td>...</td>\n",
       "      <td>0.616650</td>\n",
       "      <td>0.697224</td>\n",
       "      <td>0.721595</td>\n",
       "      <td>1.197610</td>\n",
       "      <td>0.389212</td>\n",
       "      <td>0.406306</td>\n",
       "      <td>1.176133</td>\n",
       "      <td>0.911732</td>\n",
       "      <td>0.252293</td>\n",
       "      <td>0.374909</td>\n",
       "    </tr>\n",
       "    <tr>\n",
       "      <th>4081</th>\n",
       "      <td>0.624257</td>\n",
       "      <td>0.420533</td>\n",
       "      <td>1.131014</td>\n",
       "      <td>0.230570</td>\n",
       "      <td>1.798349</td>\n",
       "      <td>0.236096</td>\n",
       "      <td>1.000399</td>\n",
       "      <td>0.260473</td>\n",
       "      <td>0.104712</td>\n",
       "      <td>0.334747</td>\n",
       "      <td>...</td>\n",
       "      <td>0.653560</td>\n",
       "      <td>0.710308</td>\n",
       "      <td>0.748806</td>\n",
       "      <td>1.140012</td>\n",
       "      <td>0.163450</td>\n",
       "      <td>0.505593</td>\n",
       "      <td>1.390640</td>\n",
       "      <td>1.287896</td>\n",
       "      <td>0.458584</td>\n",
       "      <td>0.472598</td>\n",
       "    </tr>\n",
       "    <tr>\n",
       "      <th>4081</th>\n",
       "      <td>0.121679</td>\n",
       "      <td>0.078146</td>\n",
       "      <td>0.665456</td>\n",
       "      <td>0.248799</td>\n",
       "      <td>1.897112</td>\n",
       "      <td>0.204459</td>\n",
       "      <td>0.929546</td>\n",
       "      <td>0.148007</td>\n",
       "      <td>0.119611</td>\n",
       "      <td>0.320848</td>\n",
       "      <td>...</td>\n",
       "      <td>0.644630</td>\n",
       "      <td>0.685871</td>\n",
       "      <td>0.722163</td>\n",
       "      <td>1.241586</td>\n",
       "      <td>0.660811</td>\n",
       "      <td>0.046895</td>\n",
       "      <td>0.810027</td>\n",
       "      <td>0.628778</td>\n",
       "      <td>0.873090</td>\n",
       "      <td>0.437341</td>\n",
       "    </tr>\n",
       "  </tbody>\n",
       "</table>\n",
       "<p>15199588 rows × 25 columns</p>\n",
       "</div>"
      ],
      "text/plain": [
       "      curv_neck_zscore  speed_neck_zscore  curv_tail_base_zscore  \\\n",
       "0             0.806790           5.529372               0.036567   \n",
       "0             1.338447           5.761069               2.117753   \n",
       "0             0.628036           1.842266               0.038801   \n",
       "0             0.320115           1.258930               0.886801   \n",
       "0             0.026918           1.076364               0.235692   \n",
       "...                ...                ...                    ...   \n",
       "4081          0.483894           0.257404               0.746125   \n",
       "4081          0.455737           0.318403               0.405858   \n",
       "4081          0.555040           0.049089               0.870691   \n",
       "4081          0.624257           0.420533               1.131014   \n",
       "4081          0.121679           0.078146               0.665456   \n",
       "\n",
       "      speed_tail_base_zscore  curv_tail_pre_mid_zscore  \\\n",
       "0                   4.937554                  2.945483   \n",
       "0                   4.821584                  1.892472   \n",
       "0                   0.285821                  0.476083   \n",
       "0                   0.951114                  1.233068   \n",
       "0                   1.033256                  1.532862   \n",
       "...                      ...                       ...   \n",
       "4081                0.211023                  1.814834   \n",
       "4081                0.311149                  1.685597   \n",
       "4081                0.145036                  1.551647   \n",
       "4081                0.230570                  1.798349   \n",
       "4081                0.248799                  1.897112   \n",
       "\n",
       "      speed_tail_pre_mid_zscore  curv_tail_mid_zscore  speed_tail_mid_zscore  \\\n",
       "0                      4.301404              4.221243               4.586266   \n",
       "0                      4.382247              1.403737               4.458927   \n",
       "0                      0.154675              1.955609               1.508867   \n",
       "0                      0.639000              0.604067               0.645673   \n",
       "0                      0.787046              0.849712               0.840958   \n",
       "...                         ...                   ...                    ...   \n",
       "4081                   0.001385              0.925915               0.055652   \n",
       "4081                   0.292693              1.306242               0.313435   \n",
       "4081                   0.253130              1.293855               0.179866   \n",
       "4081                   0.236096              1.000399               0.260473   \n",
       "4081                   0.204459              0.929546               0.148007   \n",
       "\n",
       "      curv_tail_post_mid_zscore  speed_tail_post_mid_zscore  ...  \\\n",
       "0                      2.956435                    4.312869  ...   \n",
       "0                      0.057270                    4.011417  ...   \n",
       "0                      2.786050                    2.826136  ...   \n",
       "0                      0.723639                    0.717548  ...   \n",
       "0                      0.840831                    0.995012  ...   \n",
       "...                         ...                         ...  ...   \n",
       "4081                   0.253625                    0.084765  ...   \n",
       "4081                   0.429103                    0.296438  ...   \n",
       "4081                   0.214230                    0.196723  ...   \n",
       "4081                   0.104712                    0.334747  ...   \n",
       "4081                   0.119611                    0.320848  ...   \n",
       "\n",
       "      rel_tan_tail_mid_zscore  rel_tan_tail_post_mid_zscore  \\\n",
       "0                    0.544205                      0.749815   \n",
       "0                    0.500619                      0.537594   \n",
       "0                    0.208635                      3.017151   \n",
       "0                    3.603157                      3.179398   \n",
       "0                    3.629807                      3.361025   \n",
       "...                       ...                           ...   \n",
       "4081                 0.667336                      0.706976   \n",
       "4081                 0.601976                      0.656294   \n",
       "4081                 0.616650                      0.697224   \n",
       "4081                 0.653560                      0.710308   \n",
       "4081                 0.644630                      0.685871   \n",
       "\n",
       "      rel_tan_tail_tip_zscore  ects_1_zscore  ects_2_zscore  ects_3_zscore  \\\n",
       "0                    2.226712       2.895174       3.365822       1.448431   \n",
       "0                    0.519983       1.862154       2.413042       1.804495   \n",
       "0                    2.506041       1.446874       1.131399       2.292855   \n",
       "0                    3.030850       0.946264       0.765928       0.075786   \n",
       "0                    0.038498       0.132082       1.555486       0.674013   \n",
       "...                       ...            ...            ...            ...   \n",
       "4081                 0.700128       1.190182       0.544266       0.553741   \n",
       "4081                 0.723353       1.233858       0.291034       0.225110   \n",
       "4081                 0.721595       1.197610       0.389212       0.406306   \n",
       "4081                 0.748806       1.140012       0.163450       0.505593   \n",
       "4081                 0.722163       1.241586       0.660811       0.046895   \n",
       "\n",
       "      ects_4_zscore  ects_5_zscore  ects_6_zscore  quirkness_zscore  \n",
       "0          2.484689       0.960742       1.112145          0.744641  \n",
       "0          0.224129       0.512647       0.329381          0.013380  \n",
       "0          2.297473       0.151159       0.567905          0.174563  \n",
       "0          0.118463       2.177526       1.189065          0.245925  \n",
       "0          1.436230       1.532691       0.877158          0.373472  \n",
       "...             ...            ...            ...               ...  \n",
       "4081       1.030347       0.743452       0.287035          0.380663  \n",
       "4081       0.756626       0.960144       0.584201          0.445584  \n",
       "4081       1.176133       0.911732       0.252293          0.374909  \n",
       "4081       1.390640       1.287896       0.458584          0.472598  \n",
       "4081       0.810027       0.628778       0.873090          0.437341  \n",
       "\n",
       "[15199588 rows x 25 columns]"
      ]
     },
     "execution_count": 30,
     "metadata": {},
     "output_type": "execute_result"
    }
   ],
   "source": [
    "df_params_list = Parallel(n_jobs=25, verbose = 5)(delayed(get_zscores)(param) for param in short_params_list)\n",
    "\n",
    "df_combined_zscores = pd.concat(df_params_list, axis = 1, keys=[f'{df.name}_zscore' for df in df_params_list])\n",
    "df_combined_zscores"
   ]
  },
  {
   "cell_type": "code",
   "execution_count": 31,
   "metadata": {},
   "outputs": [],
   "source": [
    "# df_combined_zscores = pd.concat(df_params_list, axis = 1, keys=[f'{df.name}_zscore' for df in df_params_list])\n",
    "# df_combined_zscores"
   ]
  },
  {
   "cell_type": "code",
   "execution_count": 32,
   "metadata": {},
   "outputs": [],
   "source": [
    "df_features_zscores = pd.concat([df_features_drugs_and_control,df_combined_zscores], axis=1)"
   ]
  },
  {
   "cell_type": "code",
   "execution_count": 34,
   "metadata": {},
   "outputs": [
    {
     "data": {
      "text/plain": [
       "['Chlorpromazine',\n",
       " 'Methiothepin',\n",
       " 'Dopamine',\n",
       " 'Raclopride',\n",
       " 'AA',\n",
       " 'Paroxetine',\n",
       " 'Phentolamine',\n",
       " 'Serotonin',\n",
       " 'Fluoxetine',\n",
       " 'Clomipramine',\n",
       " 'Alphamethyl',\n",
       " 'Quinpirole003',\n",
       " 'Imipramine',\n",
       " 'Mianserin']"
      ]
     },
     "execution_count": 34,
     "metadata": {},
     "output_type": "execute_result"
    }
   ],
   "source": [
    "drugs_list"
   ]
  },
  {
   "cell_type": "code",
   "execution_count": 35,
   "metadata": {},
   "outputs": [],
   "source": [
    "def make_a_melted_df(main_df, param, drug_list):\n",
    "    \n",
    "    list_to_melt = []\n",
    "    params_df = main_df.filter(items=['drug', param, f'{param}_zscore'])\n",
    "    \n",
    "    for drug in drug_list:\n",
    "        \n",
    "        if drug == 'Dopamine':\n",
    "            control = 'AA'\n",
    "        else :\n",
    "            control = 'None'\n",
    "        \n",
    "        # Select only those rows which are relevant to the particular drug \n",
    "        drug_df = params_df[(params_df['drug']==control)|(params_df['drug']==drug)]\n",
    "        \n",
    "        # Select those rows which have an acceptable zscore\n",
    "        drug_df = drug_df[drug_df[f'{param}_zscore'] < 3]\n",
    "        drug_df.drop(columns=f'{param}_zscore', inplace=True)\n",
    "        \n",
    "        # Append a column as drug_screened\n",
    "        drug_df['test_drug'] = drug\n",
    "        \n",
    "        # Rename the drug column\n",
    "        drug_df['drug']= drug_df.drug.apply(lambda x: 'drug' if x==drug else 'control')\n",
    "        \n",
    "        list_to_melt.append(drug_df)\n",
    "    \n",
    "    melted_param_df = pd.concat(list_to_melt)\n",
    "    return melted_param_df      \n"
   ]
  },
  {
   "cell_type": "code",
   "execution_count": null,
   "metadata": {},
   "outputs": [],
   "source": [
    "melted_curvtb_df = make_a_melted_df(df_features_zscores, 'curv_tail_base', drugs_list )"
   ]
  },
  {
   "cell_type": "code",
   "execution_count": null,
   "metadata": {},
   "outputs": [],
   "source": [
    "melted_curvtb_df"
   ]
  },
  {
   "cell_type": "code",
   "execution_count": null,
   "metadata": {},
   "outputs": [],
   "source": [
    "melted_curvtb_df.drug.unique()"
   ]
  },
  {
   "cell_type": "code",
   "execution_count": null,
   "metadata": {},
   "outputs": [],
   "source": [
    "fig, axes = plt.subplots(1,1, figsize=(25,10))\n",
    "sns.violinplot(data=melted_curvtb_df, x='test_drug',y='curv_tail_base',hue='drug', \n",
    "                                   split=True, scale=\"width\", scale_hue=False, ax=axes)"
   ]
  },
  {
   "cell_type": "code",
   "execution_count": null,
   "metadata": {},
   "outputs": [],
   "source": [
    "melted_curvtb_df_g = make_a_melted_df(df_features_zscores, 'curv_tail_base', list_drugs_g)"
   ]
  },
  {
   "cell_type": "code",
   "execution_count": null,
   "metadata": {},
   "outputs": [],
   "source": [
    "fig, axes = plt.subplots(1,1, figsize=(25,10))\n",
    "sns.violinplot(data=melted_curvtb_df_g, x='test_drug',y='curv_tail_base',hue='drug', hue_order = ['control', 'drug'],\n",
    "                                   split=True, scale=\"width\", scale_hue=False, ax=axes)"
   ]
  },
  {
   "cell_type": "code",
   "execution_count": null,
   "metadata": {},
   "outputs": [],
   "source": [
    "# def plot_fig2(param):\n",
    "    \n",
    "#     violin_height = 4\n",
    "        \n",
    "#     list_drugs = []\n",
    "#     dict_drugs = {}\n",
    "\n",
    "#     list_drugs1 = list(df_binary_bf.index[(~df_binary_bf[param]==True)&\n",
    "#                                      (~df_binary_bf_less[param]==True)&\n",
    "#                                      (~df_binary_bf_greater[param]==False)].values)\n",
    "#     if list_drugs1:\n",
    "#         list_drugs.append(list_drugs1)\n",
    "#         dict_drugs['g'] = list_drugs1\n",
    "\n",
    "#     list_drugs2 = list(df_binary_bf.index[(~df_binary_bf[param]==True)&\n",
    "#                                      (~df_binary_bf_greater[param]==True)&\n",
    "#                                      (~df_binary_bf_less[param]==False)].values)\n",
    "#     if list_drugs2:\n",
    "#         list_drugs.append(list_drugs2)\n",
    "#         dict_drugs['l'] = list_drugs2\n",
    "\n",
    "#     list_drugs3 = list(df_binary_bf.index[(~df_binary_bf[param]==True)&\n",
    "#                                      (~df_binary_bf_greater[param]==True)&\n",
    "#                                      (~df_binary_bf_less[param]==True)].values)\n",
    "#     if list_drugs3:\n",
    "#         list_drugs.append(list_drugs3)\n",
    "#         dict_drugs['lg'] = list_drugs3\n",
    "\n",
    "# #     n_drugs = len(list_drugs1) + len(list_drugs2) + len(list_drugs3)\n",
    "# #         n_plots = (len(list_drugs1)!=0) + (len(list_drugs2)!=0) + (len(list_drugs3)!=0)\n",
    "\n",
    "#     n_plots = len(list(dict_drugs.keys()))\n",
    "#     if n_plots != 0:\n",
    "\n",
    "#         for i, key in enumerate(dict_drugs.keys()):\n",
    "            \n",
    "#             ld = dict_drugs[key]\n",
    "#             n_drugs = len(ld)\n",
    "            \n",
    "#             fig, axes = plt.subplots(1, 1, figsize=(violin_height*n_drugs/2, violin_height))\n",
    "            \n",
    "            \n",
    "#             melted_param_df = make_a_melted_df(df_features_zscores, param, ld)\n",
    "#             if 'speed_' in param: \n",
    "#                 sns.violinplot(data=melted_param_df, x='test_drug',y=param, hue='drug', hue_order = ['control', 'drug'],\n",
    "#                                            split=True, scale=\"width\", scale_hue=False, ax=axes, cut=0)\n",
    "#             else:\n",
    "#                 sns.violinplot(data=melted_param_df, x='test_drug',y=param, hue='drug', hue_order = ['control', 'drug'],\n",
    "#                                        split=True, scale=\"width\", scale_hue=False, ax=axes)\n",
    "            \n",
    "#             if key == 'l':\n",
    "#                 title_string = 'Significantly less than control'\n",
    "#             elif key == 'g':\n",
    "#                 title_string = 'Significantly greater than control'\n",
    "#             if key == 'lg':\n",
    "#                 title_string = 'Two tailed significance'\n",
    "            \n",
    "#             axes.set_title(title_string, size = 'xx-large')\n",
    "#             axes.set_xticklabels(axes.get_xticklabels(), size = 'x-large')\n",
    "#             axes.set_ylabel(param, size = 'xx-large')\n",
    "#             plt.tight_layout()\n",
    "#             fig.savefig(f'./Figures/stats_drugs_1/{param}_{key}.svg')\n",
    "\n",
    "#         return None"
   ]
  },
  {
   "cell_type": "code",
   "execution_count": null,
   "metadata": {},
   "outputs": [],
   "source": [
    "# plot_fig2('curv_tail_base')"
   ]
  },
  {
   "cell_type": "code",
   "execution_count": null,
   "metadata": {},
   "outputs": [],
   "source": [
    "# df_params_list = Parallel(n_jobs= 25, verbose = 5)(delayed(plot_fig2)(param) for param in short_params_list)"
   ]
  },
  {
   "cell_type": "code",
   "execution_count": null,
   "metadata": {},
   "outputs": [],
   "source": [
    "# df_bin = df_binary_bf.filter(items = check_drugs, axis=0)\n",
    "# df_bin_less = df_binary_bf_less.filter(items = check_drugs, axis=0) \n",
    "# df_bin_greater = df_binary_bf_greater.filter(items = check_drugs, axis=0)\n",
    "df_binary_bf"
   ]
  },
  {
   "cell_type": "code",
   "execution_count": null,
   "metadata": {},
   "outputs": [],
   "source": [
    "# df_bin_less[short_params_list]"
   ]
  },
  {
   "cell_type": "code",
   "execution_count": null,
   "metadata": {},
   "outputs": [],
   "source": [
    "# def plot_fig2(param):\n",
    "    \n",
    "#     violin_height = 4\n",
    "        \n",
    "#     list_drugs = []\n",
    "#     dict_drugs = {}\n",
    "\n",
    "#     list_drugs1 = list(df_bin.index[(~df_bin[param]==True)&\n",
    "#                                      (~df_bin_less[param]==True)&\n",
    "#                                      (~df_bin_greater[param]==False)].values)\n",
    "#     if list_drugs1:\n",
    "#         list_drugs.append(list_drugs1)\n",
    "#         dict_drugs['g'] = list_drugs1\n",
    "\n",
    "#     list_drugs2 = list(df_bin.index[(~df_bin[param]==True)&\n",
    "#                                      (~df_bin_greater[param]==True)&\n",
    "#                                      (~df_bin_less[param]==False)].values)\n",
    "#     if list_drugs2:\n",
    "#         list_drugs.append(list_drugs2)\n",
    "#         dict_drugs['l'] = list_drugs2\n",
    "\n",
    "#     list_drugs3 = list(df_bin.index[(~df_bin[param]==True)&\n",
    "#                                      (~df_bin_greater[param]==True)&\n",
    "#                                      (~df_bin_less[param]==True)].values)\n",
    "#     if list_drugs3:\n",
    "#         list_drugs.append(list_drugs3)\n",
    "#         dict_drugs['lg'] = list_drugs3\n",
    "\n",
    "#     n_drugs = len(list_drugs1) + len(list_drugs2) + len(list_drugs3)\n",
    "# #         n_plots = (len(list_drugs1)!=0) + (len(list_drugs2)!=0) + (len(list_drugs3)!=0)\n",
    "\n",
    "#     n_plots = len(list(dict_drugs.keys()))\n",
    "    \n",
    "#     if n_plots != 0:\n",
    "\n",
    "        \n",
    "#         fig = plt.figure(figsize=(violin_height*n_drugs/2, violin_height))\n",
    "        \n",
    "        \n",
    "#         keys = dict_drugs.keys()\n",
    "#         if 'l' in keys:\n",
    "#         key1 = keys[0]\n",
    "#         ld1 = dict_drugs[key1]\n",
    "#         n_drugs1 = len(ld1)\n",
    "#         ax1 = plt.subplot(121, aspect= 2*n_drugs1)\n",
    "        \n",
    "        \n",
    "#         melted_param_df1 = make_a_melted_df(df_features_zscores, param, ld1)\n",
    "#         if 'speed_' in param: \n",
    "#             sns.violinplot(data=melted_param_df1, x='test_drug',y=param, hue='drug', hue_order = ['control', 'drug'],\n",
    "#                                        split=True, scale=\"width\", scale_hue=False, ax=axes, cut=0)\n",
    "#         else:\n",
    "#             sns.violinplot(data=melted_param_df1, x='test_drug',y=param, hue='drug', hue_order = ['control', 'drug'],\n",
    "#                                    split=True, scale=\"width\", scale_hue=False, ax=axes)\n",
    "\n",
    "#         if key1 == 'l':\n",
    "#             title_string1 = 'Significantly less than control'\n",
    "#         elif key1 == 'g':\n",
    "#             title_string1 = 'Significantly greater than control'\n",
    "#         else:\n",
    "#             title_string1 = 'Both'\n",
    "            \n",
    "            \n",
    "#         ax1.set_title(title_string1, size = 'xx-large')\n",
    "#         ax1.set_xticklabels(ax.get_xticklabels(), size = 'x-large', rotation=30)\n",
    "#         ax1.set_ylabel(param, size = 'xx-large')\n",
    "\n",
    "        \n",
    "#         if len(keys) > 2:\n",
    "            \n",
    "        \n",
    "#         plt.tight_layout()\n",
    "# #         fig.savefig(f'./Figures/stats_drugs_1/{param}_{key}.svg')\n",
    "\n",
    "#         return None"
   ]
  },
  {
   "cell_type": "code",
   "execution_count": 39,
   "metadata": {},
   "outputs": [
    {
     "data": {
      "text/html": [
       "<div>\n",
       "<style scoped>\n",
       "    .dataframe tbody tr th:only-of-type {\n",
       "        vertical-align: middle;\n",
       "    }\n",
       "\n",
       "    .dataframe tbody tr th {\n",
       "        vertical-align: top;\n",
       "    }\n",
       "\n",
       "    .dataframe thead th {\n",
       "        text-align: right;\n",
       "    }\n",
       "</style>\n",
       "<table border=\"1\" class=\"dataframe\">\n",
       "  <thead>\n",
       "    <tr style=\"text-align: right;\">\n",
       "      <th></th>\n",
       "      <th>curv_head</th>\n",
       "      <th>speed_head</th>\n",
       "      <th>tan_head</th>\n",
       "      <th>angvel_head</th>\n",
       "      <th>curv_neck</th>\n",
       "      <th>speed_neck</th>\n",
       "      <th>tan_neck</th>\n",
       "      <th>angvel_neck</th>\n",
       "      <th>curv_tail_base</th>\n",
       "      <th>speed_tail_base</th>\n",
       "      <th>...</th>\n",
       "      <th>rel_tan_tail_mid</th>\n",
       "      <th>rel_tan_tail_post_mid</th>\n",
       "      <th>rel_tan_tail_tip</th>\n",
       "      <th>ects_1</th>\n",
       "      <th>ects_2</th>\n",
       "      <th>ects_3</th>\n",
       "      <th>ects_4</th>\n",
       "      <th>ects_5</th>\n",
       "      <th>ects_6</th>\n",
       "      <th>quirkness</th>\n",
       "    </tr>\n",
       "    <tr>\n",
       "      <th>drug</th>\n",
       "      <th></th>\n",
       "      <th></th>\n",
       "      <th></th>\n",
       "      <th></th>\n",
       "      <th></th>\n",
       "      <th></th>\n",
       "      <th></th>\n",
       "      <th></th>\n",
       "      <th></th>\n",
       "      <th></th>\n",
       "      <th></th>\n",
       "      <th></th>\n",
       "      <th></th>\n",
       "      <th></th>\n",
       "      <th></th>\n",
       "      <th></th>\n",
       "      <th></th>\n",
       "      <th></th>\n",
       "      <th></th>\n",
       "      <th></th>\n",
       "      <th></th>\n",
       "    </tr>\n",
       "  </thead>\n",
       "  <tbody>\n",
       "    <tr>\n",
       "      <th>Chlorpromazine</th>\n",
       "      <td>False</td>\n",
       "      <td>False</td>\n",
       "      <td>True</td>\n",
       "      <td>True</td>\n",
       "      <td>False</td>\n",
       "      <td>False</td>\n",
       "      <td>True</td>\n",
       "      <td>True</td>\n",
       "      <td>False</td>\n",
       "      <td>False</td>\n",
       "      <td>...</td>\n",
       "      <td>False</td>\n",
       "      <td>False</td>\n",
       "      <td>False</td>\n",
       "      <td>False</td>\n",
       "      <td>True</td>\n",
       "      <td>False</td>\n",
       "      <td>False</td>\n",
       "      <td>False</td>\n",
       "      <td>True</td>\n",
       "      <td>True</td>\n",
       "    </tr>\n",
       "    <tr>\n",
       "      <th>Methiothepin</th>\n",
       "      <td>False</td>\n",
       "      <td>True</td>\n",
       "      <td>False</td>\n",
       "      <td>True</td>\n",
       "      <td>False</td>\n",
       "      <td>True</td>\n",
       "      <td>False</td>\n",
       "      <td>True</td>\n",
       "      <td>False</td>\n",
       "      <td>True</td>\n",
       "      <td>...</td>\n",
       "      <td>False</td>\n",
       "      <td>False</td>\n",
       "      <td>False</td>\n",
       "      <td>False</td>\n",
       "      <td>False</td>\n",
       "      <td>False</td>\n",
       "      <td>True</td>\n",
       "      <td>False</td>\n",
       "      <td>False</td>\n",
       "      <td>True</td>\n",
       "    </tr>\n",
       "    <tr>\n",
       "      <th>Dopamine</th>\n",
       "      <td>True</td>\n",
       "      <td>True</td>\n",
       "      <td>False</td>\n",
       "      <td>True</td>\n",
       "      <td>True</td>\n",
       "      <td>True</td>\n",
       "      <td>False</td>\n",
       "      <td>True</td>\n",
       "      <td>True</td>\n",
       "      <td>True</td>\n",
       "      <td>...</td>\n",
       "      <td>True</td>\n",
       "      <td>True</td>\n",
       "      <td>True</td>\n",
       "      <td>True</td>\n",
       "      <td>False</td>\n",
       "      <td>False</td>\n",
       "      <td>True</td>\n",
       "      <td>True</td>\n",
       "      <td>False</td>\n",
       "      <td>True</td>\n",
       "    </tr>\n",
       "    <tr>\n",
       "      <th>Raclopride</th>\n",
       "      <td>False</td>\n",
       "      <td>False</td>\n",
       "      <td>True</td>\n",
       "      <td>True</td>\n",
       "      <td>True</td>\n",
       "      <td>False</td>\n",
       "      <td>True</td>\n",
       "      <td>True</td>\n",
       "      <td>True</td>\n",
       "      <td>False</td>\n",
       "      <td>...</td>\n",
       "      <td>True</td>\n",
       "      <td>True</td>\n",
       "      <td>True</td>\n",
       "      <td>True</td>\n",
       "      <td>False</td>\n",
       "      <td>False</td>\n",
       "      <td>False</td>\n",
       "      <td>False</td>\n",
       "      <td>False</td>\n",
       "      <td>True</td>\n",
       "    </tr>\n",
       "    <tr>\n",
       "      <th>AA</th>\n",
       "      <td>False</td>\n",
       "      <td>True</td>\n",
       "      <td>True</td>\n",
       "      <td>True</td>\n",
       "      <td>False</td>\n",
       "      <td>True</td>\n",
       "      <td>True</td>\n",
       "      <td>True</td>\n",
       "      <td>True</td>\n",
       "      <td>True</td>\n",
       "      <td>...</td>\n",
       "      <td>False</td>\n",
       "      <td>False</td>\n",
       "      <td>False</td>\n",
       "      <td>True</td>\n",
       "      <td>True</td>\n",
       "      <td>False</td>\n",
       "      <td>False</td>\n",
       "      <td>False</td>\n",
       "      <td>True</td>\n",
       "      <td>False</td>\n",
       "    </tr>\n",
       "    <tr>\n",
       "      <th>Paroxetine</th>\n",
       "      <td>True</td>\n",
       "      <td>True</td>\n",
       "      <td>False</td>\n",
       "      <td>True</td>\n",
       "      <td>False</td>\n",
       "      <td>True</td>\n",
       "      <td>False</td>\n",
       "      <td>True</td>\n",
       "      <td>False</td>\n",
       "      <td>True</td>\n",
       "      <td>...</td>\n",
       "      <td>False</td>\n",
       "      <td>False</td>\n",
       "      <td>False</td>\n",
       "      <td>False</td>\n",
       "      <td>False</td>\n",
       "      <td>False</td>\n",
       "      <td>False</td>\n",
       "      <td>True</td>\n",
       "      <td>False</td>\n",
       "      <td>True</td>\n",
       "    </tr>\n",
       "    <tr>\n",
       "      <th>Phentolamine</th>\n",
       "      <td>True</td>\n",
       "      <td>False</td>\n",
       "      <td>False</td>\n",
       "      <td>True</td>\n",
       "      <td>False</td>\n",
       "      <td>False</td>\n",
       "      <td>False</td>\n",
       "      <td>True</td>\n",
       "      <td>False</td>\n",
       "      <td>False</td>\n",
       "      <td>...</td>\n",
       "      <td>False</td>\n",
       "      <td>True</td>\n",
       "      <td>False</td>\n",
       "      <td>False</td>\n",
       "      <td>False</td>\n",
       "      <td>False</td>\n",
       "      <td>True</td>\n",
       "      <td>True</td>\n",
       "      <td>True</td>\n",
       "      <td>False</td>\n",
       "    </tr>\n",
       "    <tr>\n",
       "      <th>Serotonin</th>\n",
       "      <td>False</td>\n",
       "      <td>False</td>\n",
       "      <td>False</td>\n",
       "      <td>True</td>\n",
       "      <td>False</td>\n",
       "      <td>True</td>\n",
       "      <td>False</td>\n",
       "      <td>True</td>\n",
       "      <td>True</td>\n",
       "      <td>False</td>\n",
       "      <td>...</td>\n",
       "      <td>False</td>\n",
       "      <td>False</td>\n",
       "      <td>False</td>\n",
       "      <td>True</td>\n",
       "      <td>True</td>\n",
       "      <td>False</td>\n",
       "      <td>True</td>\n",
       "      <td>False</td>\n",
       "      <td>True</td>\n",
       "      <td>False</td>\n",
       "    </tr>\n",
       "    <tr>\n",
       "      <th>Fluoxetine</th>\n",
       "      <td>True</td>\n",
       "      <td>True</td>\n",
       "      <td>True</td>\n",
       "      <td>True</td>\n",
       "      <td>True</td>\n",
       "      <td>True</td>\n",
       "      <td>False</td>\n",
       "      <td>True</td>\n",
       "      <td>True</td>\n",
       "      <td>True</td>\n",
       "      <td>...</td>\n",
       "      <td>True</td>\n",
       "      <td>True</td>\n",
       "      <td>True</td>\n",
       "      <td>True</td>\n",
       "      <td>True</td>\n",
       "      <td>False</td>\n",
       "      <td>False</td>\n",
       "      <td>True</td>\n",
       "      <td>True</td>\n",
       "      <td>False</td>\n",
       "    </tr>\n",
       "    <tr>\n",
       "      <th>Clomipramine</th>\n",
       "      <td>False</td>\n",
       "      <td>False</td>\n",
       "      <td>True</td>\n",
       "      <td>True</td>\n",
       "      <td>False</td>\n",
       "      <td>False</td>\n",
       "      <td>True</td>\n",
       "      <td>True</td>\n",
       "      <td>False</td>\n",
       "      <td>False</td>\n",
       "      <td>...</td>\n",
       "      <td>False</td>\n",
       "      <td>False</td>\n",
       "      <td>False</td>\n",
       "      <td>False</td>\n",
       "      <td>False</td>\n",
       "      <td>False</td>\n",
       "      <td>True</td>\n",
       "      <td>False</td>\n",
       "      <td>True</td>\n",
       "      <td>False</td>\n",
       "    </tr>\n",
       "    <tr>\n",
       "      <th>Alphamethyl</th>\n",
       "      <td>False</td>\n",
       "      <td>False</td>\n",
       "      <td>False</td>\n",
       "      <td>True</td>\n",
       "      <td>True</td>\n",
       "      <td>False</td>\n",
       "      <td>False</td>\n",
       "      <td>True</td>\n",
       "      <td>True</td>\n",
       "      <td>False</td>\n",
       "      <td>...</td>\n",
       "      <td>True</td>\n",
       "      <td>True</td>\n",
       "      <td>True</td>\n",
       "      <td>True</td>\n",
       "      <td>True</td>\n",
       "      <td>True</td>\n",
       "      <td>False</td>\n",
       "      <td>False</td>\n",
       "      <td>False</td>\n",
       "      <td>True</td>\n",
       "    </tr>\n",
       "    <tr>\n",
       "      <th>Quinpirole003</th>\n",
       "      <td>False</td>\n",
       "      <td>False</td>\n",
       "      <td>False</td>\n",
       "      <td>True</td>\n",
       "      <td>True</td>\n",
       "      <td>False</td>\n",
       "      <td>False</td>\n",
       "      <td>True</td>\n",
       "      <td>True</td>\n",
       "      <td>False</td>\n",
       "      <td>...</td>\n",
       "      <td>True</td>\n",
       "      <td>True</td>\n",
       "      <td>True</td>\n",
       "      <td>True</td>\n",
       "      <td>False</td>\n",
       "      <td>False</td>\n",
       "      <td>False</td>\n",
       "      <td>False</td>\n",
       "      <td>True</td>\n",
       "      <td>True</td>\n",
       "    </tr>\n",
       "    <tr>\n",
       "      <th>Imipramine</th>\n",
       "      <td>False</td>\n",
       "      <td>True</td>\n",
       "      <td>False</td>\n",
       "      <td>True</td>\n",
       "      <td>False</td>\n",
       "      <td>True</td>\n",
       "      <td>False</td>\n",
       "      <td>True</td>\n",
       "      <td>False</td>\n",
       "      <td>True</td>\n",
       "      <td>...</td>\n",
       "      <td>False</td>\n",
       "      <td>False</td>\n",
       "      <td>True</td>\n",
       "      <td>False</td>\n",
       "      <td>True</td>\n",
       "      <td>False</td>\n",
       "      <td>True</td>\n",
       "      <td>False</td>\n",
       "      <td>True</td>\n",
       "      <td>True</td>\n",
       "    </tr>\n",
       "    <tr>\n",
       "      <th>Mianserin</th>\n",
       "      <td>False</td>\n",
       "      <td>True</td>\n",
       "      <td>False</td>\n",
       "      <td>True</td>\n",
       "      <td>True</td>\n",
       "      <td>True</td>\n",
       "      <td>False</td>\n",
       "      <td>True</td>\n",
       "      <td>True</td>\n",
       "      <td>True</td>\n",
       "      <td>...</td>\n",
       "      <td>True</td>\n",
       "      <td>True</td>\n",
       "      <td>False</td>\n",
       "      <td>True</td>\n",
       "      <td>True</td>\n",
       "      <td>True</td>\n",
       "      <td>False</td>\n",
       "      <td>True</td>\n",
       "      <td>True</td>\n",
       "      <td>False</td>\n",
       "    </tr>\n",
       "  </tbody>\n",
       "</table>\n",
       "<p>14 rows × 41 columns</p>\n",
       "</div>"
      ],
      "text/plain": [
       "                curv_head  speed_head  tan_head  angvel_head  curv_neck  \\\n",
       "drug                                                                      \n",
       "Chlorpromazine      False       False      True         True      False   \n",
       "Methiothepin        False        True     False         True      False   \n",
       "Dopamine             True        True     False         True       True   \n",
       "Raclopride          False       False      True         True       True   \n",
       "AA                  False        True      True         True      False   \n",
       "Paroxetine           True        True     False         True      False   \n",
       "Phentolamine         True       False     False         True      False   \n",
       "Serotonin           False       False     False         True      False   \n",
       "Fluoxetine           True        True      True         True       True   \n",
       "Clomipramine        False       False      True         True      False   \n",
       "Alphamethyl         False       False     False         True       True   \n",
       "Quinpirole003       False       False     False         True       True   \n",
       "Imipramine          False        True     False         True      False   \n",
       "Mianserin           False        True     False         True       True   \n",
       "\n",
       "                speed_neck  tan_neck  angvel_neck  curv_tail_base  \\\n",
       "drug                                                                \n",
       "Chlorpromazine       False      True         True           False   \n",
       "Methiothepin          True     False         True           False   \n",
       "Dopamine              True     False         True            True   \n",
       "Raclopride           False      True         True            True   \n",
       "AA                    True      True         True            True   \n",
       "Paroxetine            True     False         True           False   \n",
       "Phentolamine         False     False         True           False   \n",
       "Serotonin             True     False         True            True   \n",
       "Fluoxetine            True     False         True            True   \n",
       "Clomipramine         False      True         True           False   \n",
       "Alphamethyl          False     False         True            True   \n",
       "Quinpirole003        False     False         True            True   \n",
       "Imipramine            True     False         True           False   \n",
       "Mianserin             True     False         True            True   \n",
       "\n",
       "                speed_tail_base  ...  rel_tan_tail_mid  rel_tan_tail_post_mid  \\\n",
       "drug                             ...                                            \n",
       "Chlorpromazine            False  ...             False                  False   \n",
       "Methiothepin               True  ...             False                  False   \n",
       "Dopamine                   True  ...              True                   True   \n",
       "Raclopride                False  ...              True                   True   \n",
       "AA                         True  ...             False                  False   \n",
       "Paroxetine                 True  ...             False                  False   \n",
       "Phentolamine              False  ...             False                   True   \n",
       "Serotonin                 False  ...             False                  False   \n",
       "Fluoxetine                 True  ...              True                   True   \n",
       "Clomipramine              False  ...             False                  False   \n",
       "Alphamethyl               False  ...              True                   True   \n",
       "Quinpirole003             False  ...              True                   True   \n",
       "Imipramine                 True  ...             False                  False   \n",
       "Mianserin                  True  ...              True                   True   \n",
       "\n",
       "                rel_tan_tail_tip  ects_1  ects_2  ects_3  ects_4  ects_5  \\\n",
       "drug                                                                       \n",
       "Chlorpromazine             False   False    True   False   False   False   \n",
       "Methiothepin               False   False   False   False    True   False   \n",
       "Dopamine                    True    True   False   False    True    True   \n",
       "Raclopride                  True    True   False   False   False   False   \n",
       "AA                         False    True    True   False   False   False   \n",
       "Paroxetine                 False   False   False   False   False    True   \n",
       "Phentolamine               False   False   False   False    True    True   \n",
       "Serotonin                  False    True    True   False    True   False   \n",
       "Fluoxetine                  True    True    True   False   False    True   \n",
       "Clomipramine               False   False   False   False    True   False   \n",
       "Alphamethyl                 True    True    True    True   False   False   \n",
       "Quinpirole003               True    True   False   False   False   False   \n",
       "Imipramine                  True   False    True   False    True   False   \n",
       "Mianserin                  False    True    True    True   False    True   \n",
       "\n",
       "                ects_6  quirkness  \n",
       "drug                               \n",
       "Chlorpromazine    True       True  \n",
       "Methiothepin     False       True  \n",
       "Dopamine         False       True  \n",
       "Raclopride       False       True  \n",
       "AA                True      False  \n",
       "Paroxetine       False       True  \n",
       "Phentolamine      True      False  \n",
       "Serotonin         True      False  \n",
       "Fluoxetine        True      False  \n",
       "Clomipramine      True      False  \n",
       "Alphamethyl      False       True  \n",
       "Quinpirole003     True       True  \n",
       "Imipramine        True       True  \n",
       "Mianserin         True      False  \n",
       "\n",
       "[14 rows x 41 columns]"
      ]
     },
     "execution_count": 39,
     "metadata": {},
     "output_type": "execute_result"
    }
   ],
   "source": [
    "df_binary_bf = df_binary_bf.loc[drugs_list]\n",
    "df_binary_bf_greater = df_binary_bf_greater.loc[drugs_list]\n",
    "df_binary_bf_less = df_binary_bf_less.loc[drugs_list]\n",
    "df_binary_bf_less"
   ]
  },
  {
   "cell_type": "code",
   "execution_count": 40,
   "metadata": {},
   "outputs": [
    {
     "data": {
      "text/plain": [
       "Index(['Chlorpromazine', 'Methiothepin', 'Dopamine', 'Raclopride', 'AA',\n",
       "       'Paroxetine', 'Phentolamine', 'Serotonin', 'Fluoxetine', 'Clomipramine',\n",
       "       'Alphamethyl', 'Quinpirole003', 'Imipramine', 'Mianserin'],\n",
       "      dtype='object', name='drug')"
      ]
     },
     "execution_count": 40,
     "metadata": {},
     "output_type": "execute_result"
    }
   ],
   "source": [
    "list_drugs = df_binary_bf.index\n",
    "list_drugs"
   ]
  },
  {
   "cell_type": "code",
   "execution_count": 41,
   "metadata": {},
   "outputs": [],
   "source": [
    "def plot_fig2(param):\n",
    "    \n",
    "    violin_height = 4\n",
    "        \n",
    "    list_drugs = []\n",
    "    dict_drugs = {}\n",
    "\n",
    "    list_drugs1 = list(df_binary_bf.index[(~df_binary_bf[param]==True)&\n",
    "                                     (~df_binary_bf_less[param]==True)&\n",
    "                                     (~df_binary_bf_greater[param]==False)].values)\n",
    "    if list_drugs1:\n",
    "        list_drugs.extend(list_drugs1)\n",
    "        dict_drugs['g'] = list_drugs1\n",
    "\n",
    "    list_drugs2 = list(df_binary_bf.index[(~df_binary_bf[param]==True)&\n",
    "                                     (~df_binary_bf_greater[param]==True)&\n",
    "                                     (~df_binary_bf_less[param]==False)].values)\n",
    "    if list_drugs2:\n",
    "        list_drugs.extend(list_drugs2)\n",
    "        dict_drugs['l'] = list_drugs2\n",
    "\n",
    "    \n",
    "    n_drugs = len(list_drugs1) + len(list_drugs2) \n",
    "#         n_plots = (len(list_drugs1)!=0) + (len(list_drugs2)!=0) + (len(list_drugs3)!=0)\n",
    "\n",
    "    n_plots = len(list(dict_drugs.keys()))\n",
    "    \n",
    "    if n_plots != 0:\n",
    "        \n",
    "#         print(param)\n",
    "#         print(list_drugs1,list_drugs2)\n",
    "#         print(list_drugs)\n",
    "        \n",
    "        fig, axes = plt.subplots(1,1, figsize=(violin_height*n_drugs/2, violin_height))\n",
    "        \n",
    "        \n",
    "        melted_param_df = make_a_melted_df(df_features_zscores, param, list_drugs)\n",
    "        if 'speed_' in param: \n",
    "            melted_param_df[param] = melted_param_df[param] * (346.80)\n",
    "            sns.violinplot(data=melted_param_df, x='test_drug',y=param, hue='drug', hue_order = ['control', 'drug'],\n",
    "                                       split=True, scale=\"width\", scale_hue=False, ax=axes, cut=0)\n",
    "        elif 'curv_' in param:\n",
    "            melted_param_df[param] = melted_param_df[param] * (1/11.56)\n",
    "            sns.violinplot(data=melted_param_df, x='test_drug',y=param, hue='drug', hue_order = ['control', 'drug'],\n",
    "                                   split=True, scale=\"width\", scale_hue=False, ax=axes)\n",
    "        else:\n",
    "            sns.violinplot(data=melted_param_df, x='test_drug',y=param, hue='drug', hue_order = ['control', 'drug'],\n",
    "                                   split=True, scale=\"width\", scale_hue=False, ax=axes)\n",
    "\n",
    "        \n",
    "        new_labels = ['Ascorbic acid' if word == 'AA' else word for word in axes.get_xticklabels()]  \n",
    "        new_labels = ['Quinpirole' if word == 'Quinpirole003' else word for word in new_labels]  \n",
    "        \n",
    "        axes.set_title(f'{list_drugs2}', size = 'xx-large')\n",
    "        axes.set_xticklabels(new_labels, size = 'x-large', rotation=30)\n",
    "        axes.set_ylabel(curvs_dict[param], size = 'xx-large')\n",
    "\n",
    "        \n",
    "        plt.tight_layout()\n",
    "        fig.savefig(os.path.join(dest_folder_oct18,f'Suppfig1_{param}.svg'))\n",
    "\n",
    "        return None"
   ]
  },
  {
   "cell_type": "code",
   "execution_count": 53,
   "metadata": {},
   "outputs": [],
   "source": [
    "# curvs_dict = {'curv_neck':'cN',\n",
    "#  'curv_tail_base':'cTB',\n",
    "#  'curv_tail_pre_mid':'cTprM',\n",
    "#  'curv_tail_mid':'cTM',\n",
    "#  'curv_tail_post_mid':'cTpoM',\n",
    "#  'curv_tail_tip':'cTT'}#,\n",
    "# curvs_dict = {'speed_neck':'sN',\n",
    "#  'speed_tail_base':'sTB',\n",
    "#  'speed_tail_pre_mid':'sTprM',\n",
    "#  'speed_tail_mid':'sTM',\n",
    "#  'speed_tail_post_mid':'sTpoM',\n",
    "#  'speed_tail_tip':'sTT'}\n",
    "# curvs_dict = { 'rel_tan_neck':'rtaN',\n",
    "#  'rel_tan_tail_base':'rtaTB',\n",
    "#  'rel_tan_tail_pre_mid':'rtaTprM',\n",
    "#  'rel_tan_tail_mid':'rtaTM',\n",
    "#  'rel_tan_tail_post_mid':'rtaTpoM',\n",
    "#  'rel_tan_tail_tip':'rtaTT'}\n",
    "curvs_dict = { 'ects_1' :'EC1',\n",
    " 'ects_2':'EC2',\n",
    " 'ects_3':'EC3',\n",
    " 'ects_4':'EC4',\n",
    " 'ects_5':'EC5',\n",
    " 'ects_6':'EC6',\n",
    " 'quirkness':'Quirkiness'}"
   ]
  },
  {
   "cell_type": "code",
   "execution_count": 54,
   "metadata": {},
   "outputs": [
    {
     "data": {
      "text/plain": [
       "dict_keys(['ects_1', 'ects_2', 'ects_3', 'ects_4', 'ects_5', 'ects_6', 'quirkness'])"
      ]
     },
     "execution_count": 54,
     "metadata": {},
     "output_type": "execute_result"
    }
   ],
   "source": [
    "curvs_dict.keys()"
   ]
  },
  {
   "cell_type": "code",
   "execution_count": 51,
   "metadata": {},
   "outputs": [],
   "source": [
    "# set_1 = ['ects_1',\n",
    "#  'ects_2',\n",
    "#  'ects_3',\n",
    "#  'ects_4',\n",
    "#  'ects_5',\n",
    "#  'ects_6',\n",
    "#  'quirkness']"
   ]
  },
  {
   "cell_type": "code",
   "execution_count": 55,
   "metadata": {},
   "outputs": [
    {
     "name": "stderr",
     "output_type": "stream",
     "text": [
      "[Parallel(n_jobs=7)]: Using backend LokyBackend with 7 concurrent workers.\n",
      "[Parallel(n_jobs=7)]: Done   2 out of   7 | elapsed: 16.5min remaining: 41.2min\n",
      "[Parallel(n_jobs=7)]: Done   4 out of   7 | elapsed: 16.6min remaining: 12.4min\n",
      "[Parallel(n_jobs=7)]: Done   7 out of   7 | elapsed: 17.1min finished\n"
     ]
    }
   ],
   "source": [
    "df_params_list = Parallel(n_jobs= 7, verbose = 5)(delayed(plot_fig2)(param) for param in curvs_dict.keys())"
   ]
  },
  {
   "cell_type": "code",
   "execution_count": null,
   "metadata": {},
   "outputs": [],
   "source": []
  },
  {
   "cell_type": "markdown",
   "metadata": {
    "heading_collapsed": true
   },
   "source": [
    "# SSMD"
   ]
  },
  {
   "cell_type": "code",
   "execution_count": null,
   "metadata": {
    "hidden": true
   },
   "outputs": [],
   "source": [
    "df_features_drugs_and_control"
   ]
  },
  {
   "cell_type": "code",
   "execution_count": null,
   "metadata": {
    "hidden": true
   },
   "outputs": [],
   "source": [
    "df_means = df_features_drugs_and_control.groupby(by='drug', as_index=True)[params_list].mean()"
   ]
  },
  {
   "cell_type": "code",
   "execution_count": null,
   "metadata": {
    "hidden": true
   },
   "outputs": [],
   "source": [
    "df_var = df_features_drugs_and_control.groupby(by='drug', as_index=True)[params_list].var()"
   ]
  },
  {
   "cell_type": "code",
   "execution_count": null,
   "metadata": {
    "hidden": true
   },
   "outputs": [],
   "source": [
    "df_var"
   ]
  },
  {
   "cell_type": "code",
   "execution_count": null,
   "metadata": {
    "hidden": true
   },
   "outputs": [],
   "source": [
    "list_ssmd_dicts = []\n",
    "for param in sorted(params_list):\n",
    "    \n",
    "    ssmd_dict = {}\n",
    "    ssmd_dict['param'] = param\n",
    "    \n",
    "    control_mean = df_means.loc['None'][param]\n",
    "    control_var = df_var.loc['None'][param]\n",
    "    \n",
    "    for drug in drugs_list:\n",
    "        \n",
    "        drug_mean = df_means.loc[drug][param]\n",
    "        drug_var = df_var.loc[drug][param]\n",
    "        \n",
    "        ssmd_dict[drug] = (drug_mean - control_mean) / np.sqrt(drug_var + control_var)\n",
    "        \n",
    "    list_ssmd_dicts.append(ssmd_dict)\n",
    "        \n",
    "    "
   ]
  },
  {
   "cell_type": "code",
   "execution_count": null,
   "metadata": {
    "hidden": true
   },
   "outputs": [],
   "source": [
    "ssmd_df  = pd.DataFrame(list_ssmd_dicts).set_index('param')"
   ]
  },
  {
   "cell_type": "code",
   "execution_count": null,
   "metadata": {
    "hidden": true
   },
   "outputs": [],
   "source": [
    "ssmd_df.loc[short_params_list] "
   ]
  },
  {
   "cell_type": "code",
   "execution_count": null,
   "metadata": {
    "hidden": true
   },
   "outputs": [],
   "source": [
    "drug_subset = ['Clomipramine', 'Methiothepin', 'Chlorpromazine', 'Imipramine', 'Mianserin', 'Fluoxetine', 'Phentolamine']"
   ]
  },
  {
   "cell_type": "code",
   "execution_count": null,
   "metadata": {
    "hidden": true
   },
   "outputs": [],
   "source": [
    "check_drugs = [drug for drug in drug_subset if drug in drugs_list]"
   ]
  },
  {
   "cell_type": "code",
   "execution_count": null,
   "metadata": {
    "hidden": true
   },
   "outputs": [],
   "source": [
    "check_drugs"
   ]
  },
  {
   "cell_type": "code",
   "execution_count": null,
   "metadata": {
    "hidden": true
   },
   "outputs": [],
   "source": [
    "short_params_list = sorted(short_params_list)"
   ]
  },
  {
   "cell_type": "code",
   "execution_count": null,
   "metadata": {
    "hidden": true
   },
   "outputs": [],
   "source": [
    "\n",
    "fig, axes = plt.subplots(1,1, figsize = (15, 10))\n",
    "sns.heatmap(ssmd_df.loc[sorted(short_params_list)][check_drugs].T, cmap= 'bwr', \n",
    "            square=True, ax=axes, center=0, cbar = True, cbar_kws = dict(use_gridspec=False,location=\"top\"))\n",
    "axes.set_title('Strictly standardized mean difference')\n",
    "\n",
    "fig.savefig('ssmd_drugs_subset.svg')"
   ]
  },
  {
   "cell_type": "code",
   "execution_count": null,
   "metadata": {
    "hidden": true
   },
   "outputs": [],
   "source": [
    "fig, axes = plt.subplots(1,1, figsize = (15, 10))\n",
    "sns.heatmap(ssmd_df[check_drugs].T, cmap= 'bwr', square=True, \n",
    "            ax=axes, center=0, cbar=True)\n",
    "axes.set_title('Strictly standardized mean difference')\n",
    "fig.savefig('ssmd_drugs.svg')"
   ]
  },
  {
   "cell_type": "code",
   "execution_count": null,
   "metadata": {
    "hidden": true
   },
   "outputs": [],
   "source": [
    "# # define 100 colors using an existing color map\n",
    "# newcolors = plt.get_cmap('viridis',100).colors\n",
    "\n",
    "# # assign new colors of interest\n",
    "# newcolors[  : 50, :] = colors.to_rgba('red')\n",
    "# newcolors[50: 75, :] = colors.to_rgba('yellow')\n",
    "# newcolors[75: 90, :] = colors.to_rgba('orange')\n",
    "# newcolors[90:100, :] = colors.to_rgba('green')\n",
    "\n",
    "# # create the customized color map\n",
    "# mycmap = colors.ListedColormap(newcolors)"
   ]
  },
  {
   "cell_type": "markdown",
   "metadata": {
    "heading_collapsed": true
   },
   "source": [
    "# SMD"
   ]
  },
  {
   "cell_type": "code",
   "execution_count": null,
   "metadata": {
    "hidden": true
   },
   "outputs": [],
   "source": [
    "df_medians = df_features_drugs_and_control.groupby(by='drug', as_index=True)[params_list].median()"
   ]
  },
  {
   "cell_type": "code",
   "execution_count": null,
   "metadata": {
    "hidden": true
   },
   "outputs": [],
   "source": [
    "df_mad = df_features_drugs_and_control.groupby(by='drug', as_index=True)[params_list].mad()"
   ]
  },
  {
   "cell_type": "code",
   "execution_count": null,
   "metadata": {
    "hidden": true
   },
   "outputs": [],
   "source": [
    "list_smd_dicts = []\n",
    "for param in sorted(params_list):\n",
    "    \n",
    "    smd_dict = {}\n",
    "    smd_dict['param'] = param\n",
    "    \n",
    "    control_median = df_medians.loc['None'][param]\n",
    "    control_mad = df_mad.loc['None'][param]\n",
    "    \n",
    "    for drug in drugs_list:\n",
    "        \n",
    "        drug_median = df_medians.loc[drug][param]\n",
    "        drug_mad = df_mad.loc[drug][param]\n",
    "        \n",
    "        smd_dict[drug] = (drug_median - control_median) / (drug_mad + control_mad)\n",
    "        \n",
    "    list_smd_dicts.append(smd_dict)\n",
    "        \n",
    "    "
   ]
  },
  {
   "cell_type": "code",
   "execution_count": null,
   "metadata": {
    "hidden": true
   },
   "outputs": [],
   "source": [
    "smd_df  = pd.DataFrame(list_smd_dicts).set_index('param')"
   ]
  },
  {
   "cell_type": "code",
   "execution_count": null,
   "metadata": {
    "hidden": true
   },
   "outputs": [],
   "source": [
    "smd_df.loc[short_params_list]"
   ]
  },
  {
   "cell_type": "code",
   "execution_count": null,
   "metadata": {
    "hidden": true
   },
   "outputs": [],
   "source": [
    "\n",
    "fig, axes = plt.subplots(1,1, figsize = (15, 10))\n",
    "sns.heatmap(smd_df.loc[sorted(short_params_list)][check_drugs].T, cmap= 'bwr', \n",
    "            square=True, ax=axes, center=0, cbar = True, cbar_kws = dict(use_gridspec=False,location=\"top\"))\n",
    "axes.set_title('Standardized Median Difference')\n",
    "\n",
    "fig.savefig('smd_drugs_subset_cbar.svg')"
   ]
  },
  {
   "cell_type": "code",
   "execution_count": null,
   "metadata": {
    "hidden": true
   },
   "outputs": [],
   "source": [
    "\n",
    "fig, axes = plt.subplots(1,1, figsize = (15, 10))\n",
    "sns.heatmap(smd_df.loc[short_params_list][check_drugs].T, cmap= 'bwr', \n",
    "            square=True, ax=axes, center=0, cbar = True)\n",
    "axes.set_title('Standardized Median Difference')\n",
    "fig.savefig('smd_drugs_subset.svg')"
   ]
  },
  {
   "cell_type": "code",
   "execution_count": null,
   "metadata": {
    "hidden": true
   },
   "outputs": [],
   "source": [
    "writer_2 = pd.ExcelWriter('stat_metadata_drugs.xlsx', engine='openpyxl')\n",
    "\n",
    "# Write each dataframe to a different worksheet.\n",
    "ssmd_df.to_excel(writer_2, sheet_name='SSMD')\n",
    "smd_df.to_excel(writer_2, sheet_name='SMD')\n",
    "\n",
    "# Close the Pandas Excel writer and output the Excel file.\n",
    "writer_2.save()"
   ]
  },
  {
   "cell_type": "markdown",
   "metadata": {},
   "source": [
    "# pval visualize"
   ]
  },
  {
   "cell_type": "code",
   "execution_count": null,
   "metadata": {},
   "outputs": [],
   "source": [
    "df_pval_mwu_less"
   ]
  },
  {
   "cell_type": "code",
   "execution_count": null,
   "metadata": {},
   "outputs": [],
   "source": [
    "fig, axes = plt.subplots(2,1, figsize = (15, 10))\n",
    "sns.heatmap(df_pval_mannwhitney.loc[check_drugs][short_params_list], cmap= 'bwr', \n",
    "            square=True, ax=axes[0], center=0.05, vmax =1, vmin =0,cbar =False)\n",
    "axes[0].set_title('MannWhitneyU')\n",
    "\n",
    "sns.heatmap(ssmd_df.loc[short_params_list][check_drugs].T, cmap= 'bwr', \n",
    "            square=True, ax=axes[1], center=0, cbar = False)\n",
    "axes[1].set_title('Strictly standardized mean difference')\n",
    "\n"
   ]
  },
  {
   "cell_type": "code",
   "execution_count": null,
   "metadata": {},
   "outputs": [],
   "source": [
    "def test_drugs_mannwhitney_stat(drug, params_list, _tail):\n",
    "    \n",
    "    pvalues_dict = {}\n",
    "    pvalues_dict['drug'] = drug\n",
    "    \n",
    "    if drug == 'Dopamine':\n",
    "        control = 'AA'\n",
    "    else:\n",
    "        control = 'None'\n",
    "    \n",
    "    n1 = len(df_features_drugs_and_control[df_features_drugs_and_control[\"drug\"] == drug].index)\n",
    "    n2 = len(df_features_drugs_and_control[df_features_drugs_and_control[\"drug\"] == control].index)\n",
    "    for param in params_list:\n",
    "        \n",
    "        results = mannwhitneyu(*[df_features_drugs_and_control[param][df_features_drugs_and_control[\"drug\"] == group].values \n",
    "                         for group in [control,drug]], alternative= _tail)\n",
    "        \n",
    "        pvalues_dict[param] = results[0]\n",
    "        \n",
    "        pvalues_dict[param] = pvalues_dict[param]/(n1*n2)\n",
    "        \n",
    "    return pvalues_dict"
   ]
  },
  {
   "cell_type": "code",
   "execution_count": null,
   "metadata": {},
   "outputs": [],
   "source": [
    "mannwhitney_effsize_combo_list = Parallel(n_jobs=18, verbose = 5)(delayed(test_drugs_mannwhitney_stat)(drug, params_list,'two-sided') \n",
    "                                                          for drug in drugs_list)"
   ]
  },
  {
   "cell_type": "code",
   "execution_count": null,
   "metadata": {},
   "outputs": [],
   "source": [
    "mannwhitney_stat_combo_list = Parallel(n_jobs=15, verbose = 5)(delayed(test_drugs_mannwhitney_stat)(drug, params_list,'two-sided') \n",
    "                                                          for drug in drugs_list)"
   ]
  },
  {
   "cell_type": "code",
   "execution_count": null,
   "metadata": {},
   "outputs": [],
   "source": [
    "df_test_eff = pd.DataFrame(mannwhitney_effsize_combo_list)\n",
    "df_test_eff.set_index('drug', inplace = True)"
   ]
  },
  {
   "cell_type": "code",
   "execution_count": null,
   "metadata": {},
   "outputs": [],
   "source": [
    "df_test_uvls = pd.DataFrame(mannwhitney_stat_combo_list)"
   ]
  },
  {
   "cell_type": "code",
   "execution_count": null,
   "metadata": {},
   "outputs": [],
   "source": [
    "df_test_uvls.set_index('drug', inplace = True)"
   ]
  },
  {
   "cell_type": "code",
   "execution_count": null,
   "metadata": {},
   "outputs": [],
   "source": [
    "df_test_uvls[short_params_list]"
   ]
  },
  {
   "cell_type": "code",
   "execution_count": null,
   "metadata": {},
   "outputs": [],
   "source": [
    "sns.heatmap(df_test_eff[short_params_list], cmap='RdBu', center=0.5)"
   ]
  },
  {
   "cell_type": "code",
   "execution_count": null,
   "metadata": {},
   "outputs": [],
   "source": [
    "sns.heatmap(smd_df.loc[short_params_list].T, cmap='bwr', center = 0)"
   ]
  },
  {
   "cell_type": "code",
   "execution_count": null,
   "metadata": {},
   "outputs": [],
   "source": [
    "bf_val = len(check_drugs) * len(short_params_list)"
   ]
  },
  {
   "cell_type": "code",
   "execution_count": null,
   "metadata": {},
   "outputs": [],
   "source": [
    "short_params_list"
   ]
  },
  {
   "cell_type": "code",
   "execution_count": null,
   "metadata": {},
   "outputs": [],
   "source": [
    "fig, axes = plt.subplots(1,1, figsize = (25, 8))\n",
    "sns.heatmap(df_binary_bf.loc[check_drugs][sorted(short_params_list)] , cmap = 'PiYG', linewidths=.5,\n",
    "            annot = df_pval_mannwhitney.loc[check_drugs][sorted(short_params_list)], ax= axes, cbar = False)\n",
    "plt.tight_layout()\n",
    "fig.savefig('./Figures/stats_drugs_2/pvals_data/pvals_mannwhitney_two-tailed_bf.svg')"
   ]
  },
  {
   "cell_type": "code",
   "execution_count": null,
   "metadata": {},
   "outputs": [],
   "source": [
    "fig, axes = plt.subplots(1,1, figsize = (25, 8))\n",
    "sns.heatmap(df_binary_bf_less.loc[check_drugs][sorted(short_params_list)], cmap = 'PiYG', linewidths=.5,\n",
    "            annot = df_pval_mwu_less.loc[check_drugs][sorted(short_params_list)], ax= axes, cbar = False)\n",
    "plt.tight_layout()\n",
    "fig.savefig('./Figures/stats_drugs_2/pvals_data/pvals_drugs_mannwhitney_less.svg')"
   ]
  },
  {
   "cell_type": "code",
   "execution_count": null,
   "metadata": {},
   "outputs": [],
   "source": [
    "fig, axes = plt.subplots(1,1, figsize = (25, 8))\n",
    "sns.heatmap(df_binary_bf_greater.loc[check_drugs][sorted(short_params_list)] , cmap = 'PiYG', linewidths=.5,\n",
    "            annot = df_pval_mwu_greater.loc[check_drugs][sorted(short_params_list)], ax= axes, cbar = False)\n",
    "plt.tight_layout()\n",
    "fig.savefig('./Figures/stats_drugs_2/pvals_data/pvals_drugs_mannwhitney_greater.svg')"
   ]
  },
  {
   "cell_type": "markdown",
   "metadata": {},
   "source": [
    "# Make violin plots for Raclorpride"
   ]
  },
  {
   "cell_type": "code",
   "execution_count": null,
   "metadata": {},
   "outputs": [],
   "source": [
    "short_params_list =  ['curv_neck',\n",
    "'curv_tail_base',\n",
    "'curv_tail_pre_mid',\n",
    "'curv_tail_mid',\n",
    "'curv_tail_post_mid',\n",
    "'curv_tail_tip',\n",
    "'rel_tan_neck',\n",
    "'rel_tan_tail_base',\n",
    "'rel_tan_tail_pre_mid',\n",
    "'rel_tan_tail_mid',\n",
    "'rel_tan_tail_post_mid',\n",
    "'rel_tan_tail_tip',\n",
    "'ects_1',\n",
    "'ects_2',\n",
    "'ects_3',\n",
    "'ects_4',\n",
    "'ects_5',\n",
    "'ects_6',\n",
    "'quirkness',\n",
    "'speed_neck',\n",
    "'speed_tail_base',\n",
    "'speed_tail_pre_mid',\n",
    "'speed_tail_mid',\n",
    "'speed_tail_post_mid',                                       \n",
    "'speed_tail_tip']"
   ]
  },
  {
   "cell_type": "code",
   "execution_count": null,
   "metadata": {},
   "outputs": [],
   "source": [
    "feat_groups = ['curv_','ects_','quirk','rel_tan_','speed_']\n",
    "body_segments = ['neck','tail_base','tail_pre_mid','tail_mid','tail_post_mid','tail_tip']"
   ]
  },
  {
   "cell_type": "code",
   "execution_count": null,
   "metadata": {},
   "outputs": [],
   "source": [
    "rac_df = df_features_drugs_and_control[(df_features_drugs_and_control['drug']==f'Raclopride')\n",
    "                              |(df_features_drugs_and_control['drug']==f'None')]"
   ]
  },
  {
   "cell_type": "code",
   "execution_count": null,
   "metadata": {},
   "outputs": [],
   "source": [
    "rac_df.reset_index(drop=True, inplace=True)"
   ]
  },
  {
   "cell_type": "code",
   "execution_count": null,
   "metadata": {},
   "outputs": [],
   "source": [
    "rac_df"
   ]
  },
  {
   "cell_type": "code",
   "execution_count": null,
   "metadata": {},
   "outputs": [],
   "source": [
    "def get_zscores_rac(param):\n",
    "\n",
    "    df_param = rac_df.groupby('drug')[param].transform(lambda x: np.abs(stats.zscore(x, ddof=1)))\n",
    "    \n",
    "    return df_param"
   ]
  },
  {
   "cell_type": "code",
   "execution_count": null,
   "metadata": {},
   "outputs": [],
   "source": [
    "df_params_list_rac = Parallel(n_jobs=15, verbose = 5)(delayed(get_zscores_rac)(param) for param in params_list)\n",
    "\n"
   ]
  },
  {
   "cell_type": "code",
   "execution_count": null,
   "metadata": {},
   "outputs": [],
   "source": [
    "df_rac_zscores = pd.concat(df_params_list_rac , axis = 1)\n",
    "df_rac_zscores"
   ]
  },
  {
   "cell_type": "code",
   "execution_count": null,
   "metadata": {},
   "outputs": [],
   "source": [
    "rac_df[short_params_list] = rac_df[df_rac_zscores <3][short_params_list]"
   ]
  },
  {
   "cell_type": "code",
   "execution_count": null,
   "metadata": {},
   "outputs": [],
   "source": [
    "rac_df"
   ]
  },
  {
   "cell_type": "code",
   "execution_count": null,
   "metadata": {},
   "outputs": [],
   "source": [
    "fig, axes = plt.subplots(3,1, sharey= 'row', sharex = 'all',figsize = (15,15),\n",
    "                         gridspec_kw={'height_ratios':[1,1,1]})\n",
    "for i, feat in enumerate(['curv_','rel_tan_','speed_']):\n",
    "    \n",
    "\n",
    "    cols_to_select = [(feat + x) for x in body_segments] \n",
    "    cols_to_select = cols_to_select + ['drug']\n",
    "    test_df = rac_df.filter(items= cols_to_select)\n",
    "    df_melted = pd.melt(test_df, id_vars='drug', var_name= 'segment', value_name= feat[:-1])\n",
    "    sns.violinplot(data = df_melted, x = 'segment', y = feat[:-1], split=True, hue='drug',\n",
    "                  ax = axes[i], scale =  'width', scale_hue= True, cut=0)\n",
    "\n",
    "    axes[i].xaxis.set_tick_params(labelbottom=True, rotation=30)\n",
    "#             axes[i].set_xticklabels(list_significant)\n",
    "    axes[i].yaxis.set_tick_params(labelleft=True)\n",
    "    axes[i].set_title(f'{feat}')\n",
    "\n",
    "\n",
    "    \n",
    "fig.tight_layout(pad=3.0) \n",
    "# fig.savefig('./Figures/stats_d')"
   ]
  },
  {
   "cell_type": "code",
   "execution_count": null,
   "metadata": {},
   "outputs": [],
   "source": [
    "fig.savefig('./Figures/violin1_rac_v2.svg')"
   ]
  },
  {
   "cell_type": "code",
   "execution_count": null,
   "metadata": {},
   "outputs": [],
   "source": [
    "fig2, axes = plt.subplots(1,1, figsize = (15,5))\n",
    "feat = 'ects_'\n",
    "body_segments = [str(x) for x in [1,2,3,4,5,6]]\n",
    "cols_to_select = [(feat + x) for x in body_segments] \n",
    "    \n",
    "cols_to_select = cols_to_select + ['drug']\n",
    "test_df = rac_df.filter(items= cols_to_select)\n",
    "df_melted = pd.melt(test_df, id_vars='drug', var_name= 'segment', value_name= feat[:-1])\n",
    "sns.violinplot(data = df_melted, x = 'segment', y = feat[:-1], split=True, hue='drug',\n",
    "              ax = axes, scale =  'width', scale_hue= True, cut=0)\n",
    "\n",
    "axes.xaxis.set_tick_params(labelbottom=True, rotation=30)\n",
    "#             axes[i].set_xticklabels(list_significant)\n",
    "axes.yaxis.set_tick_params(labelleft=True)\n",
    "axes.set_title(f'{feat}')\n",
    "\n",
    "\n",
    "    \n",
    "fig2.tight_layout(pad=3.0) \n",
    "fig2.savefig('./Figures/violin2_rac_v2.svg')"
   ]
  },
  {
   "cell_type": "code",
   "execution_count": null,
   "metadata": {},
   "outputs": [],
   "source": [
    "fig3, axes = plt.subplots(1,1, sharey= 'row',figsize = (5,5))\n",
    "\n",
    "cols_to_select = ['quirkness'] + ['drug']\n",
    "test_df = rac_df.filter(items= cols_to_select)\n",
    "df_melted = pd.melt(test_df, id_vars='drug', var_name= 'segment', value_name= feat[:-1])\n",
    "sns.violinplot(data = df_melted, x = 'segment', y = feat[:-1], split=True, hue='drug',\n",
    "              ax = axes, scale =  'width', scale_hue= True, cut=0)\n",
    "\n",
    "axes.xaxis.set_tick_params(labelbottom=True, rotation=30)\n",
    "#             axes[i].set_xticklabels(list_significant)\n",
    "axes.yaxis.set_tick_params(labelleft=True)\n",
    "axes.set_title('Quirkiness')\n",
    "\n",
    "\n",
    "\n",
    "fig3.tight_layout(pad=3.0) "
   ]
  },
  {
   "cell_type": "code",
   "execution_count": null,
   "metadata": {},
   "outputs": [],
   "source": [
    "fig3.savefig('./Figures/violin3_rac_v2.svg')"
   ]
  },
  {
   "cell_type": "code",
   "execution_count": null,
   "metadata": {},
   "outputs": [],
   "source": [
    "df_median_rac = rac_df.groupby(by='drug', as_index=True)[params_list].median()\n",
    "df_mad_rac = rac_df.groupby(by='drug', as_index=True)[params_list].mad()"
   ]
  },
  {
   "cell_type": "code",
   "execution_count": null,
   "metadata": {},
   "outputs": [],
   "source": [
    "df_median_rac"
   ]
  },
  {
   "cell_type": "code",
   "execution_count": null,
   "metadata": {},
   "outputs": [],
   "source": [
    "list_smd_dicts = []\n",
    "for param in short_params_list:\n",
    "    \n",
    "    smd_dict = {}\n",
    "    smd_dict['param'] = param\n",
    "    \n",
    "    control_median = df_median_rac.loc['None'][param]\n",
    "    control_mad = df_mad_rac.loc['None'][param]\n",
    "    \n",
    "    drug = 'Raclopride'\n",
    "    drug_median = df_median_rac.loc[drug][param]\n",
    "    drug_mad = df_mad_rac.loc[drug][param]\n",
    "\n",
    "    smd_dict[drug] = (drug_median - control_median) / (drug_mad + control_mad)\n",
    "        \n",
    "    list_smd_dicts.append(smd_dict)\n",
    "        "
   ]
  },
  {
   "cell_type": "code",
   "execution_count": null,
   "metadata": {},
   "outputs": [],
   "source": [
    "smd_df_rac  = pd.DataFrame(list_smd_dicts).set_index('param')\n",
    "smd_df_rac"
   ]
  },
  {
   "cell_type": "code",
   "execution_count": null,
   "metadata": {},
   "outputs": [],
   "source": [
    "short_params_list"
   ]
  },
  {
   "cell_type": "code",
   "execution_count": null,
   "metadata": {},
   "outputs": [],
   "source": [
    "fig, axes = plt.subplots(1,1, figsize = (15, 10))\n",
    "sns.heatmap(smd_df_rac.loc[short_params_list].values.reshape(1,25), cmap= 'bwr', \n",
    "            square=True, ax=axes, center=0, cbar = True,\n",
    "            cbar_kws = dict(use_gridspec=False,location=\"top\", shrink=0.40, pad = 0.2))\n",
    "axes.set_xticklabels(smd_df_rac.index.to_list(), rotation=90)\n",
    "axes.set_yticklabels(['Raclopride'], rotation=0)\n",
    "axes.set_title('Standardized median difference for Raclopride vs control')\n",
    "for _, spine in axes.spines.items():\n",
    "    spine.set_visible(True)\n",
    "fig.savefig('./Figures/smd_rac_v1.svg')"
   ]
  },
  {
   "cell_type": "code",
   "execution_count": null,
   "metadata": {},
   "outputs": [],
   "source": []
  }
 ],
 "metadata": {
  "kernelspec": {
   "display_name": "Python 3",
   "language": "python",
   "name": "python3"
  },
  "language_info": {
   "codemirror_mode": {
    "name": "ipython",
    "version": 3
   },
   "file_extension": ".py",
   "mimetype": "text/x-python",
   "name": "python",
   "nbconvert_exporter": "python",
   "pygments_lexer": "ipython3",
   "version": "3.8.5"
  },
  "toc": {
   "base_numbering": 1,
   "nav_menu": {},
   "number_sections": true,
   "sideBar": true,
   "skip_h1_title": false,
   "title_cell": "Table of Contents",
   "title_sidebar": "Contents",
   "toc_cell": false,
   "toc_position": {},
   "toc_section_display": true,
   "toc_window_display": false
  }
 },
 "nbformat": 4,
 "nbformat_minor": 4
}
