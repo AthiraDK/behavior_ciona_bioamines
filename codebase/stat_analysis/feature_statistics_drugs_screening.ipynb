{
 "cells": [
  {
   "cell_type": "code",
   "execution_count": 1,
   "metadata": {},
   "outputs": [],
   "source": [
    "import os\n",
    "import sys\n",
    "\n",
    "\n",
    "import h5py\n",
    "import numpy as np\n",
    "import pandas as pd"
   ]
  },
  {
   "cell_type": "code",
   "execution_count": 2,
   "metadata": {},
   "outputs": [],
   "source": [
    "from scipy import stats\n",
    "from scipy.stats import mannwhitneyu"
   ]
  },
  {
   "cell_type": "code",
   "execution_count": 3,
   "metadata": {},
   "outputs": [],
   "source": [
    "import matplotlib as mpl\n",
    "import matplotlib.pyplot as plt\n",
    "import seaborn as sns"
   ]
  },
  {
   "cell_type": "code",
   "execution_count": 4,
   "metadata": {},
   "outputs": [],
   "source": [
    "from ipywidgets import widgets"
   ]
  },
  {
   "cell_type": "code",
   "execution_count": 5,
   "metadata": {},
   "outputs": [],
   "source": [
    "from joblib import Parallel, delayed"
   ]
  },
  {
   "cell_type": "markdown",
   "metadata": {},
   "source": [
    "# Get the data"
   ]
  },
  {
   "cell_type": "code",
   "execution_count": 6,
   "metadata": {},
   "outputs": [],
   "source": [
    "path_metadata = '/data/longterm/10/athira/paper_tierpsy_behavior_v0/metadata/20210209_metadata_1743_of_4086_exps.pickle'"
   ]
  },
  {
   "cell_type": "code",
   "execution_count": 7,
   "metadata": {},
   "outputs": [],
   "source": [
    "df_metadata = pd.read_pickle(path_metadata)"
   ]
  },
  {
   "cell_type": "code",
   "execution_count": 8,
   "metadata": {},
   "outputs": [
    {
     "data": {
      "text/plain": [
       "array(['AA', 'Alphamethyl', 'Chlorpromazine', 'Clomipramine', 'Dopamine',\n",
       "       'Fluoxetine', 'Imipramine', 'Methiothepin', 'Mianserin', 'None',\n",
       "       'Octopamine', 'Paroxetine', 'Phentolamine', 'Quinpirole0003',\n",
       "       'Quinpirole003', 'Raclopride', 'Serotonin', 'Tyramine'],\n",
       "      dtype='<U14')"
      ]
     },
     "execution_count": 8,
     "metadata": {},
     "output_type": "execute_result"
    }
   ],
   "source": [
    "np.unique([fn.split('_')[4] for fn in df_metadata.filename.to_list()])"
   ]
  },
  {
   "cell_type": "code",
   "execution_count": 9,
   "metadata": {},
   "outputs": [],
   "source": [
    "df_features = pd.read_pickle('/data/longterm/10/athira/July17_features_combined_noLightStimuli.pickle')"
   ]
  },
  {
   "cell_type": "code",
   "execution_count": 10,
   "metadata": {},
   "outputs": [
    {
     "data": {
      "text/html": [
       "<div>\n",
       "<style scoped>\n",
       "    .dataframe tbody tr th:only-of-type {\n",
       "        vertical-align: middle;\n",
       "    }\n",
       "\n",
       "    .dataframe tbody tr th {\n",
       "        vertical-align: top;\n",
       "    }\n",
       "\n",
       "    .dataframe thead th {\n",
       "        text-align: right;\n",
       "    }\n",
       "</style>\n",
       "<table border=\"1\" class=\"dataframe\">\n",
       "  <thead>\n",
       "    <tr style=\"text-align: right;\">\n",
       "      <th></th>\n",
       "      <th>frames</th>\n",
       "      <th>filename</th>\n",
       "      <th>drug</th>\n",
       "      <th>light</th>\n",
       "      <th>curv_head</th>\n",
       "      <th>speed_x_head</th>\n",
       "      <th>speed_y_head</th>\n",
       "      <th>speed_head</th>\n",
       "      <th>tan_head</th>\n",
       "      <th>angvel_head</th>\n",
       "      <th>...</th>\n",
       "      <th>rel_tan_tail_mid</th>\n",
       "      <th>rel_tan_tail_post_mid</th>\n",
       "      <th>rel_tan_tail_tip</th>\n",
       "      <th>ects_1</th>\n",
       "      <th>ects_2</th>\n",
       "      <th>ects_3</th>\n",
       "      <th>ects_4</th>\n",
       "      <th>ects_5</th>\n",
       "      <th>ects_6</th>\n",
       "      <th>quirkness</th>\n",
       "    </tr>\n",
       "  </thead>\n",
       "  <tbody>\n",
       "    <tr>\n",
       "      <th>0</th>\n",
       "      <td>7</td>\n",
       "      <td>20180919_115015_1_5m0s_None_None_None_INVERTED...</td>\n",
       "      <td>None</td>\n",
       "      <td>None</td>\n",
       "      <td>-0.017198</td>\n",
       "      <td>-27.008057</td>\n",
       "      <td>-0.536011</td>\n",
       "      <td>27.013375</td>\n",
       "      <td>1.728838</td>\n",
       "      <td>-1.680707</td>\n",
       "      <td>...</td>\n",
       "      <td>-0.965574</td>\n",
       "      <td>-1.442325</td>\n",
       "      <td>4.191924</td>\n",
       "      <td>-0.242226</td>\n",
       "      <td>0.252907</td>\n",
       "      <td>0.100737</td>\n",
       "      <td>-0.103630</td>\n",
       "      <td>-0.036702</td>\n",
       "      <td>0.040370</td>\n",
       "      <td>0.942960</td>\n",
       "    </tr>\n",
       "    <tr>\n",
       "      <th>1</th>\n",
       "      <td>8</td>\n",
       "      <td>20180919_115015_1_5m0s_None_None_None_INVERTED...</td>\n",
       "      <td>None</td>\n",
       "      <td>None</td>\n",
       "      <td>-0.022632</td>\n",
       "      <td>-25.689758</td>\n",
       "      <td>-1.873779</td>\n",
       "      <td>25.758003</td>\n",
       "      <td>0.048131</td>\n",
       "      <td>-1.680707</td>\n",
       "      <td>...</td>\n",
       "      <td>0.737270</td>\n",
       "      <td>0.893605</td>\n",
       "      <td>0.906057</td>\n",
       "      <td>0.171081</td>\n",
       "      <td>0.179248</td>\n",
       "      <td>-0.096917</td>\n",
       "      <td>0.017548</td>\n",
       "      <td>0.020535</td>\n",
       "      <td>-0.006624</td>\n",
       "      <td>0.980586</td>\n",
       "    </tr>\n",
       "    <tr>\n",
       "      <th>2</th>\n",
       "      <td>9</td>\n",
       "      <td>20180919_115015_1_5m0s_None_None_None_INVERTED...</td>\n",
       "      <td>None</td>\n",
       "      <td>None</td>\n",
       "      <td>-0.013683</td>\n",
       "      <td>0.178772</td>\n",
       "      <td>12.000000</td>\n",
       "      <td>12.001332</td>\n",
       "      <td>5.897407</td>\n",
       "      <td>5.849276</td>\n",
       "      <td>...</td>\n",
       "      <td>0.261397</td>\n",
       "      <td>-5.556279</td>\n",
       "      <td>-4.919775</td>\n",
       "      <td>0.135002</td>\n",
       "      <td>-0.094772</td>\n",
       "      <td>-0.126590</td>\n",
       "      <td>0.110299</td>\n",
       "      <td>0.006492</td>\n",
       "      <td>0.022628</td>\n",
       "      <td>0.971257</td>\n",
       "    </tr>\n",
       "    <tr>\n",
       "      <th>3</th>\n",
       "      <td>20</td>\n",
       "      <td>20180919_115015_1_5m0s_None_None_None_INVERTED...</td>\n",
       "      <td>None</td>\n",
       "      <td>None</td>\n",
       "      <td>-0.016047</td>\n",
       "      <td>-5.867770</td>\n",
       "      <td>-1.454545</td>\n",
       "      <td>6.045364</td>\n",
       "      <td>0.244842</td>\n",
       "      <td>-0.513870</td>\n",
       "      <td>...</td>\n",
       "      <td>5.793753</td>\n",
       "      <td>5.687008</td>\n",
       "      <td>5.740084</td>\n",
       "      <td>-0.072909</td>\n",
       "      <td>-0.066518</td>\n",
       "      <td>0.017333</td>\n",
       "      <td>0.002223</td>\n",
       "      <td>-0.083971</td>\n",
       "      <td>0.042877</td>\n",
       "      <td>0.992129</td>\n",
       "    </tr>\n",
       "    <tr>\n",
       "      <th>4</th>\n",
       "      <td>23</td>\n",
       "      <td>20180919_115015_1_5m0s_None_None_None_INVERTED...</td>\n",
       "      <td>None</td>\n",
       "      <td>None</td>\n",
       "      <td>0.005098</td>\n",
       "      <td>-4.011912</td>\n",
       "      <td>0.333333</td>\n",
       "      <td>4.025736</td>\n",
       "      <td>6.239577</td>\n",
       "      <td>1.998245</td>\n",
       "      <td>...</td>\n",
       "      <td>-5.994454</td>\n",
       "      <td>-6.180219</td>\n",
       "      <td>-0.169155</td>\n",
       "      <td>0.020776</td>\n",
       "      <td>0.112950</td>\n",
       "      <td>-0.028227</td>\n",
       "      <td>0.071771</td>\n",
       "      <td>0.060161</td>\n",
       "      <td>-0.024482</td>\n",
       "      <td>0.998460</td>\n",
       "    </tr>\n",
       "    <tr>\n",
       "      <th>...</th>\n",
       "      <td>...</td>\n",
       "      <td>...</td>\n",
       "      <td>...</td>\n",
       "      <td>...</td>\n",
       "      <td>...</td>\n",
       "      <td>...</td>\n",
       "      <td>...</td>\n",
       "      <td>...</td>\n",
       "      <td>...</td>\n",
       "      <td>...</td>\n",
       "      <td>...</td>\n",
       "      <td>...</td>\n",
       "      <td>...</td>\n",
       "      <td>...</td>\n",
       "      <td>...</td>\n",
       "      <td>...</td>\n",
       "      <td>...</td>\n",
       "      <td>...</td>\n",
       "      <td>...</td>\n",
       "      <td>...</td>\n",
       "      <td>...</td>\n",
       "    </tr>\n",
       "    <tr>\n",
       "      <th>18013993</th>\n",
       "      <td>8996</td>\n",
       "      <td>20180808_112130_1_5m0s_Dopamine_None_None_skel...</td>\n",
       "      <td>Dopamine</td>\n",
       "      <td>None</td>\n",
       "      <td>0.003221</td>\n",
       "      <td>1.000000</td>\n",
       "      <td>-0.320496</td>\n",
       "      <td>1.050104</td>\n",
       "      <td>4.798446</td>\n",
       "      <td>-0.000824</td>\n",
       "      <td>...</td>\n",
       "      <td>-0.887769</td>\n",
       "      <td>-1.041476</td>\n",
       "      <td>-1.033917</td>\n",
       "      <td>-0.098597</td>\n",
       "      <td>-0.030548</td>\n",
       "      <td>-0.014418</td>\n",
       "      <td>-0.033454</td>\n",
       "      <td>0.025632</td>\n",
       "      <td>0.009221</td>\n",
       "      <td>0.970947</td>\n",
       "    </tr>\n",
       "    <tr>\n",
       "      <th>18013994</th>\n",
       "      <td>8997</td>\n",
       "      <td>20180808_112130_1_5m0s_Dopamine_None_None_skel...</td>\n",
       "      <td>Dopamine</td>\n",
       "      <td>None</td>\n",
       "      <td>0.005596</td>\n",
       "      <td>0.000000</td>\n",
       "      <td>0.047180</td>\n",
       "      <td>0.047180</td>\n",
       "      <td>4.765812</td>\n",
       "      <td>-0.032634</td>\n",
       "      <td>...</td>\n",
       "      <td>-0.788512</td>\n",
       "      <td>-0.950782</td>\n",
       "      <td>-1.077892</td>\n",
       "      <td>-0.101701</td>\n",
       "      <td>-0.016822</td>\n",
       "      <td>0.003646</td>\n",
       "      <td>-0.022406</td>\n",
       "      <td>0.032891</td>\n",
       "      <td>0.016292</td>\n",
       "      <td>0.968614</td>\n",
       "    </tr>\n",
       "    <tr>\n",
       "      <th>18013995</th>\n",
       "      <td>8998</td>\n",
       "      <td>20180808_112130_1_5m0s_Dopamine_None_None_skel...</td>\n",
       "      <td>Dopamine</td>\n",
       "      <td>None</td>\n",
       "      <td>0.003030</td>\n",
       "      <td>-0.669434</td>\n",
       "      <td>0.529572</td>\n",
       "      <td>0.853573</td>\n",
       "      <td>4.788003</td>\n",
       "      <td>0.022191</td>\n",
       "      <td>...</td>\n",
       "      <td>-0.810796</td>\n",
       "      <td>-1.024025</td>\n",
       "      <td>-1.074564</td>\n",
       "      <td>-0.099125</td>\n",
       "      <td>-0.022143</td>\n",
       "      <td>-0.006314</td>\n",
       "      <td>-0.039338</td>\n",
       "      <td>0.031269</td>\n",
       "      <td>0.008395</td>\n",
       "      <td>0.971154</td>\n",
       "    </tr>\n",
       "    <tr>\n",
       "      <th>18013996</th>\n",
       "      <td>8999</td>\n",
       "      <td>20180808_112130_1_5m0s_Dopamine_None_None_skel...</td>\n",
       "      <td>Dopamine</td>\n",
       "      <td>None</td>\n",
       "      <td>-0.007859</td>\n",
       "      <td>1.000000</td>\n",
       "      <td>0.545929</td>\n",
       "      <td>1.139315</td>\n",
       "      <td>4.793839</td>\n",
       "      <td>0.005836</td>\n",
       "      <td>...</td>\n",
       "      <td>-0.866849</td>\n",
       "      <td>-1.047440</td>\n",
       "      <td>-1.126085</td>\n",
       "      <td>-0.095032</td>\n",
       "      <td>0.007813</td>\n",
       "      <td>-0.011771</td>\n",
       "      <td>-0.047995</td>\n",
       "      <td>0.043870</td>\n",
       "      <td>0.013303</td>\n",
       "      <td>0.967644</td>\n",
       "    </tr>\n",
       "    <tr>\n",
       "      <th>18013997</th>\n",
       "      <td>9000</td>\n",
       "      <td>20180808_112130_1_5m0s_Dopamine_None_None_skel...</td>\n",
       "      <td>Dopamine</td>\n",
       "      <td>None</td>\n",
       "      <td>0.013176</td>\n",
       "      <td>-0.997620</td>\n",
       "      <td>0.591553</td>\n",
       "      <td>1.159819</td>\n",
       "      <td>4.752576</td>\n",
       "      <td>-0.041262</td>\n",
       "      <td>...</td>\n",
       "      <td>-0.853288</td>\n",
       "      <td>-1.003709</td>\n",
       "      <td>-1.075639</td>\n",
       "      <td>-0.102250</td>\n",
       "      <td>-0.036865</td>\n",
       "      <td>0.018598</td>\n",
       "      <td>-0.024561</td>\n",
       "      <td>0.021791</td>\n",
       "      <td>0.023166</td>\n",
       "      <td>0.968911</td>\n",
       "    </tr>\n",
       "  </tbody>\n",
       "</table>\n",
       "<p>18013998 rows × 59 columns</p>\n",
       "</div>"
      ],
      "text/plain": [
       "          frames                                           filename      drug  \\\n",
       "0              7  20180919_115015_1_5m0s_None_None_None_INVERTED...      None   \n",
       "1              8  20180919_115015_1_5m0s_None_None_None_INVERTED...      None   \n",
       "2              9  20180919_115015_1_5m0s_None_None_None_INVERTED...      None   \n",
       "3             20  20180919_115015_1_5m0s_None_None_None_INVERTED...      None   \n",
       "4             23  20180919_115015_1_5m0s_None_None_None_INVERTED...      None   \n",
       "...          ...                                                ...       ...   \n",
       "18013993    8996  20180808_112130_1_5m0s_Dopamine_None_None_skel...  Dopamine   \n",
       "18013994    8997  20180808_112130_1_5m0s_Dopamine_None_None_skel...  Dopamine   \n",
       "18013995    8998  20180808_112130_1_5m0s_Dopamine_None_None_skel...  Dopamine   \n",
       "18013996    8999  20180808_112130_1_5m0s_Dopamine_None_None_skel...  Dopamine   \n",
       "18013997    9000  20180808_112130_1_5m0s_Dopamine_None_None_skel...  Dopamine   \n",
       "\n",
       "         light  curv_head  speed_x_head  speed_y_head  speed_head  tan_head  \\\n",
       "0         None  -0.017198    -27.008057     -0.536011   27.013375  1.728838   \n",
       "1         None  -0.022632    -25.689758     -1.873779   25.758003  0.048131   \n",
       "2         None  -0.013683      0.178772     12.000000   12.001332  5.897407   \n",
       "3         None  -0.016047     -5.867770     -1.454545    6.045364  0.244842   \n",
       "4         None   0.005098     -4.011912      0.333333    4.025736  6.239577   \n",
       "...        ...        ...           ...           ...         ...       ...   \n",
       "18013993  None   0.003221      1.000000     -0.320496    1.050104  4.798446   \n",
       "18013994  None   0.005596      0.000000      0.047180    0.047180  4.765812   \n",
       "18013995  None   0.003030     -0.669434      0.529572    0.853573  4.788003   \n",
       "18013996  None  -0.007859      1.000000      0.545929    1.139315  4.793839   \n",
       "18013997  None   0.013176     -0.997620      0.591553    1.159819  4.752576   \n",
       "\n",
       "          angvel_head  ...  rel_tan_tail_mid  rel_tan_tail_post_mid  \\\n",
       "0           -1.680707  ...         -0.965574              -1.442325   \n",
       "1           -1.680707  ...          0.737270               0.893605   \n",
       "2            5.849276  ...          0.261397              -5.556279   \n",
       "3           -0.513870  ...          5.793753               5.687008   \n",
       "4            1.998245  ...         -5.994454              -6.180219   \n",
       "...               ...  ...               ...                    ...   \n",
       "18013993    -0.000824  ...         -0.887769              -1.041476   \n",
       "18013994    -0.032634  ...         -0.788512              -0.950782   \n",
       "18013995     0.022191  ...         -0.810796              -1.024025   \n",
       "18013996     0.005836  ...         -0.866849              -1.047440   \n",
       "18013997    -0.041262  ...         -0.853288              -1.003709   \n",
       "\n",
       "          rel_tan_tail_tip    ects_1    ects_2    ects_3    ects_4    ects_5  \\\n",
       "0                 4.191924 -0.242226  0.252907  0.100737 -0.103630 -0.036702   \n",
       "1                 0.906057  0.171081  0.179248 -0.096917  0.017548  0.020535   \n",
       "2                -4.919775  0.135002 -0.094772 -0.126590  0.110299  0.006492   \n",
       "3                 5.740084 -0.072909 -0.066518  0.017333  0.002223 -0.083971   \n",
       "4                -0.169155  0.020776  0.112950 -0.028227  0.071771  0.060161   \n",
       "...                    ...       ...       ...       ...       ...       ...   \n",
       "18013993         -1.033917 -0.098597 -0.030548 -0.014418 -0.033454  0.025632   \n",
       "18013994         -1.077892 -0.101701 -0.016822  0.003646 -0.022406  0.032891   \n",
       "18013995         -1.074564 -0.099125 -0.022143 -0.006314 -0.039338  0.031269   \n",
       "18013996         -1.126085 -0.095032  0.007813 -0.011771 -0.047995  0.043870   \n",
       "18013997         -1.075639 -0.102250 -0.036865  0.018598 -0.024561  0.021791   \n",
       "\n",
       "            ects_6  quirkness  \n",
       "0         0.040370   0.942960  \n",
       "1        -0.006624   0.980586  \n",
       "2         0.022628   0.971257  \n",
       "3         0.042877   0.992129  \n",
       "4        -0.024482   0.998460  \n",
       "...            ...        ...  \n",
       "18013993  0.009221   0.970947  \n",
       "18013994  0.016292   0.968614  \n",
       "18013995  0.008395   0.971154  \n",
       "18013996  0.013303   0.967644  \n",
       "18013997  0.023166   0.968911  \n",
       "\n",
       "[18013998 rows x 59 columns]"
      ]
     },
     "execution_count": 10,
     "metadata": {},
     "output_type": "execute_result"
    }
   ],
   "source": [
    "df_features.reset_index(drop=True, inplace=True)\n",
    "df_features"
   ]
  },
  {
   "cell_type": "code",
   "execution_count": 11,
   "metadata": {},
   "outputs": [],
   "source": [
    "df_features_combined = pd.merge(df_features, df_metadata[['filename','good_694', 'drugs_899']], left_on=['filename'], right_on=['filename'],\n",
    "        left_index=True, how='left' )\n"
   ]
  },
  {
   "cell_type": "code",
   "execution_count": 12,
   "metadata": {},
   "outputs": [],
   "source": [
    "df_meta = df_metadata[(df_metadata['good_694'] == True) | (df_metadata['drugs_899'] == True)]"
   ]
  },
  {
   "cell_type": "code",
   "execution_count": 13,
   "metadata": {},
   "outputs": [],
   "source": [
    "df_feats = df_features_combined[(df_features_combined['good_694'] == True) | (df_features_combined['drugs_899'] == True)] "
   ]
  },
  {
   "cell_type": "code",
   "execution_count": 14,
   "metadata": {},
   "outputs": [],
   "source": [
    "params_list = df_features.columns.to_list()"
   ]
  },
  {
   "cell_type": "code",
   "execution_count": 15,
   "metadata": {},
   "outputs": [],
   "source": [
    "speed_xys = ['speed_x_head', 'speed_y_head','speed_x_neck', 'speed_y_neck','speed_x_tail_base', 'speed_y_tail_base',\n",
    " 'speed_x_tail_pre_mid', 'speed_y_tail_pre_mid','speed_x_tail_mid', 'speed_y_tail_mid',\n",
    " 'speed_x_tail_post_mid', 'speed_y_tail_post_mid','speed_x_tail_tip', 'speed_y_tail_tip']\n",
    "for sp_ in speed_xys:\n",
    "    params_list.remove(sp_)"
   ]
  },
  {
   "cell_type": "code",
   "execution_count": 16,
   "metadata": {},
   "outputs": [],
   "source": [
    "\n",
    "params_list.remove('frames')\n",
    "params_list.remove('filename')\n",
    "params_list.remove('drug')\n",
    "params_list.remove('light')\n",
    "# print(params_list)"
   ]
  },
  {
   "cell_type": "code",
   "execution_count": 17,
   "metadata": {},
   "outputs": [],
   "source": [
    "short_params_list =  ['curv_neck',\n",
    "'curv_tail_base',\n",
    "'curv_tail_pre_mid',\n",
    "'curv_tail_mid',\n",
    "'curv_tail_post_mid',\n",
    "'curv_tail_tip',\n",
    "'rel_tan_neck',\n",
    "'rel_tan_tail_base',\n",
    "'rel_tan_tail_pre_mid',\n",
    "'rel_tan_tail_mid',\n",
    "'rel_tan_tail_post_mid',\n",
    "'rel_tan_tail_tip',\n",
    "'ects_1',\n",
    "'ects_2',\n",
    "'ects_3',\n",
    "'ects_4',\n",
    "'ects_5',\n",
    "'ects_6',\n",
    "'quirkness',\n",
    "'speed_neck',\n",
    "'speed_tail_base',\n",
    "'speed_tail_pre_mid',\n",
    "'speed_tail_mid',\n",
    "'speed_tail_post_mid',                                       \n",
    "'speed_tail_tip']"
   ]
  },
  {
   "cell_type": "code",
   "execution_count": 18,
   "metadata": {},
   "outputs": [],
   "source": [
    "# short_params_list = sorted(short_params_list)\n"
   ]
  },
  {
   "cell_type": "code",
   "execution_count": 19,
   "metadata": {},
   "outputs": [],
   "source": [
    "# params = sorted(params_list)"
   ]
  },
  {
   "cell_type": "code",
   "execution_count": 20,
   "metadata": {},
   "outputs": [
    {
     "data": {
      "text/plain": [
       "['Raclopride',\n",
       " 'Paroxetine',\n",
       " 'Fluoxetine',\n",
       " 'Methiothepin',\n",
       " 'Clomipramine',\n",
       " 'Serotonin',\n",
       " 'Alphamethyl',\n",
       " 'Dopamine',\n",
       " 'Imipramine',\n",
       " 'Chlorpromazine',\n",
       " 'AA',\n",
       " 'Phentolamine',\n",
       " 'Mianserin',\n",
       " 'Quinpirole003']"
      ]
     },
     "execution_count": 20,
     "metadata": {},
     "output_type": "execute_result"
    }
   ],
   "source": [
    "drugs_list = list(df_feats.drug.unique())\n",
    "# drugs_list.remove('AA')\n",
    "drugs_list.remove('None')\n",
    "drugs_list.remove('Octopamine')\n",
    "drugs_list.remove('Tyramine')\n",
    "drugs_list.remove('Quinpirole0003')\n",
    "drugs_list"
   ]
  },
  {
   "cell_type": "code",
   "execution_count": null,
   "metadata": {},
   "outputs": [],
   "source": [
    "short_drugs_list = ['Clomipramine',\n",
    " 'Methiothepin',\n",
    " 'Chlorpromazine',\n",
    " 'Imipramine',\n",
    " 'Mianserin',\n",
    " 'Fluoxetine',\n",
    " 'Phentolamine']"
   ]
  },
  {
   "cell_type": "code",
   "execution_count": 21,
   "metadata": {},
   "outputs": [
    {
     "ename": "NameError",
     "evalue": "name 'short_drugs_list' is not defined",
     "output_type": "error",
     "traceback": [
      "\u001b[0;31m---------------------------------------------------------------------------\u001b[0m",
      "\u001b[0;31mNameError\u001b[0m                                 Traceback (most recent call last)",
      "\u001b[0;32m<ipython-input-21-019024dc4cca>\u001b[0m in \u001b[0;36m<module>\u001b[0;34m\u001b[0m\n\u001b[0;32m----> 1\u001b[0;31m \u001b[0mdrugs_\u001b[0m \u001b[0;34m=\u001b[0m \u001b[0;34m[\u001b[0m\u001b[0mdrug\u001b[0m \u001b[0;32mfor\u001b[0m \u001b[0mdrug\u001b[0m \u001b[0;32min\u001b[0m \u001b[0mreversed\u001b[0m\u001b[0;34m(\u001b[0m\u001b[0mshort_drugs_list\u001b[0m\u001b[0;34m)\u001b[0m\u001b[0;34m]\u001b[0m \u001b[0;34m+\u001b[0m \u001b[0;34m[\u001b[0m\u001b[0;34m'None'\u001b[0m\u001b[0;34m]\u001b[0m \u001b[0;34m+\u001b[0m \u001b[0;34m[\u001b[0m\u001b[0;34m'Raclopride'\u001b[0m\u001b[0;34m]\u001b[0m\u001b[0;34m\u001b[0m\u001b[0;34m\u001b[0m\u001b[0m\n\u001b[0m",
      "\u001b[0;31mNameError\u001b[0m: name 'short_drugs_list' is not defined"
     ]
    }
   ],
   "source": [
    "drugs_ = [drug for drug in reversed(short_drugs_list)] + ['None'] + ['Raclopride']"
   ]
  },
  {
   "cell_type": "markdown",
   "metadata": {},
   "source": [
    "# Significance tests"
   ]
  },
  {
   "cell_type": "code",
   "execution_count": null,
   "metadata": {},
   "outputs": [],
   "source": [
    "def get_results_mannwhitney(drug, params_list, _tail, flag = 'pval'):\n",
    "    \n",
    "    pvalues_dict = {}\n",
    "    pvalues_dict['drug'] = drug\n",
    "    \n",
    "    if drug == 'Dopamine':\n",
    "        control = 'AA'\n",
    "    else:\n",
    "        control = 'None'\n",
    "    \n",
    "    n1 = len(df_feats[df_feats[\"drug\"] == drug].index)\n",
    "    n2 = len(df_feats[df_feats[\"drug\"] == control].index)\n",
    "    \n",
    "    for param in params_list:\n",
    "        \n",
    "        results = mannwhitneyu(*[df_feats[param][df_feats[\"drug\"] == group].values \n",
    "                         for group in [control,drug]], alternative= _tail)\n",
    "        \n",
    "        if flag =='pval':\n",
    "            pvalues_dict[param] = results[-1]\n",
    "        elif flag =='ustat':\n",
    "            pvalues_dict[param] = results[0]\n",
    "        elif flag =='eff':\n",
    "            pvalues_dict[param] = results[0]/(n1*n2)\n",
    "        else:\n",
    "            pvalues_dict[param] = 'None'\n",
    "            \n",
    "        \n",
    "    return pvalues_dict"
   ]
  },
  {
   "cell_type": "code",
   "execution_count": null,
   "metadata": {},
   "outputs": [],
   "source": [
    "# @widgets.interact_manual\n",
    "# def plot_mwu_stats(stat_type = ['pval','ustat','eff'], _tail = ['two-sided','less','greater']):\n",
    "    \n",
    "#     mwu_results_list = Parallel(n_jobs= 7, verbose = 5)(delayed(get_results_mannwhitney)(drug, short_params_list, _tail, flag=stat_type) \n",
    "#                                                               for drug in short_drugs_list)\n",
    "#     df_mwu_results = pd.DataFrame(mwu_results_list)\n",
    "#     df_mwu_results.set_index('drug', inplace = True)\n",
    "    \n",
    "#     df_mwu_results.to_pickle(f'./Data/drugs_screening_stats/{stat_type}_{_tail}.pickle')\n",
    "\n",
    "    \n",
    "#     return None"
   ]
  },
  {
   "cell_type": "code",
   "execution_count": null,
   "metadata": {},
   "outputs": [],
   "source": [
    "@widgets.interact_manual\n",
    "def plot_mwu_stats(stat_type = ['pval','ustat','eff'], _tail = ['two-sided','less','greater']):\n",
    "    \n",
    "    mwu_results_list = Parallel(n_jobs= len(drugs_list) , verbose = 5)(delayed(get_results_mannwhitney)(drug, short_params_list, _tail, flag=stat_type) \n",
    "                                                              for drug in drugs_list)\n",
    "    df_mwu_results = pd.DataFrame(mwu_results_list)\n",
    "    df_mwu_results.set_index('drug', inplace = True)\n",
    "    \n",
    "    df_mwu_results.to_pickle(f'./Results_30072021/drugs_pvals_all/{stat_type}_{_tail}.pickle')\n",
    "\n",
    "    \n",
    "    return None"
   ]
  },
  {
   "cell_type": "code",
   "execution_count": null,
   "metadata": {},
   "outputs": [],
   "source": [
    "writer = pd.ExcelWriter('./Results_30072021/results_mannwhitneyu_drugs_all.xlsx', engine='openpyxl')"
   ]
  },
  {
   "cell_type": "code",
   "execution_count": null,
   "metadata": {},
   "outputs": [],
   "source": [
    "list(next(os.walk('./Results_30072021/drugs_pvals_all/')))[-1]"
   ]
  },
  {
   "cell_type": "code",
   "execution_count": null,
   "metadata": {},
   "outputs": [],
   "source": [
    "@widgets.interact_manual\n",
    "def plot_mwu_stats(filename = list(next(os.walk('./Results_30072021/drugs_pvals_all/')))[-1]):\n",
    "    \n",
    "    sheet_name = filename.split('.pi')[0]\n",
    "    df = pd.read_pickle(f'./Results_30072021/drugs_pvals_all/{filename}')\n",
    "    df.to_excel(writer, sheet_name=sheet_name)\n",
    "    writer.save()"
   ]
  },
  {
   "cell_type": "code",
   "execution_count": null,
   "metadata": {},
   "outputs": [],
   "source": [
    "def get_results_mannwhitney(drug, params_list, _tail, flag = 'pval'):\n",
    "    \n",
    "    \n",
    "    n = len(df_feats[df_feats[\"drug\"] == drug].index)\n",
    "        \n",
    "    return n"
   ]
  },
  {
   "cell_type": "code",
   "execution_count": null,
   "metadata": {},
   "outputs": [],
   "source": [
    "drug_framecount ={}"
   ]
  },
  {
   "cell_type": "code",
   "execution_count": null,
   "metadata": {},
   "outputs": [],
   "source": [
    "for i, drug in enumerate(drugs_list):\n",
    "    \n",
    "    n = len(df_feats[df_feats[\"drug\"] == drug].index)\n",
    "    drug_framecount[drug] = n\n",
    "drug_framecount['None'] = len(df_feats[df_feats[\"drug\"] == 'None'].index)"
   ]
  },
  {
   "cell_type": "code",
   "execution_count": null,
   "metadata": {},
   "outputs": [],
   "source": [
    "drug_framecount"
   ]
  },
  {
   "cell_type": "code",
   "execution_count": null,
   "metadata": {},
   "outputs": [],
   "source": [
    "frame_count = pd.DataFrame.from_records(data=drug_framecount, index=['frame_count'])"
   ]
  },
  {
   "cell_type": "code",
   "execution_count": null,
   "metadata": {},
   "outputs": [],
   "source": [
    "frame_count.to_csv('./Results_30072021/n_frames_drugs.csv')"
   ]
  },
  {
   "cell_type": "markdown",
   "metadata": {},
   "source": [
    "# SMD and SSMD"
   ]
  },
  {
   "cell_type": "markdown",
   "metadata": {
    "heading_collapsed": true
   },
   "source": [
    "## SSMD"
   ]
  },
  {
   "cell_type": "code",
   "execution_count": null,
   "metadata": {
    "hidden": true
   },
   "outputs": [],
   "source": [
    "df_means = df_feats.groupby(by='drug', as_index=True)[params_list].mean()\n",
    "df_var = df_feats.groupby(by='drug', as_index=True)[params_list].var()"
   ]
  },
  {
   "cell_type": "code",
   "execution_count": null,
   "metadata": {
    "hidden": true
   },
   "outputs": [],
   "source": [
    "df_std = df_feats.groupby(by='drug', as_index=True)[params_list].std()"
   ]
  },
  {
   "cell_type": "code",
   "execution_count": null,
   "metadata": {
    "hidden": true
   },
   "outputs": [],
   "source": [
    "short_params_list"
   ]
  },
  {
   "cell_type": "code",
   "execution_count": 25,
   "metadata": {
    "hidden": true
   },
   "outputs": [],
   "source": [
    "abb_dict = {'curv_neck':'cN',\n",
    " 'curv_tail_base':'cTB',\n",
    " 'curv_tail_pre_mid':'cTprM',\n",
    " 'curv_tail_mid':'cTM',\n",
    " 'curv_tail_post_mid':'cTpoM',\n",
    " 'curv_tail_tip':'cTT',\n",
    " 'rel_tan_neck':'rtaN',\n",
    " 'rel_tan_tail_base':'rtaTB',\n",
    " 'rel_tan_tail_pre_mid':'rtaTprM',\n",
    " 'rel_tan_tail_mid':'rtaTM',\n",
    " 'rel_tan_tail_post_mid':'rtaTpoM',\n",
    " 'rel_tan_tail_tip':'rtaTT',\n",
    " 'ects_1':'EC1',\n",
    " 'ects_2':'EC2',\n",
    " 'ects_3':'EC3',\n",
    " 'ects_4':'EC4',\n",
    " 'ects_5':'EC5',\n",
    " 'ects_6':'EC6',\n",
    " 'quirkness':'Quirkiness',\n",
    " 'speed_neck':'sN',\n",
    " 'speed_tail_base':'sTB',\n",
    " 'speed_tail_pre_mid':'sTprM',\n",
    " 'speed_tail_mid':'sTM',\n",
    " 'speed_tail_post_mid':'sTpoM',\n",
    " 'speed_tail_tip':'sTT'}"
   ]
  },
  {
   "cell_type": "code",
   "execution_count": null,
   "metadata": {
    "hidden": true
   },
   "outputs": [],
   "source": [
    "drugs_all = drugs_list + ['None']"
   ]
  },
  {
   "cell_type": "code",
   "execution_count": null,
   "metadata": {
    "hidden": true
   },
   "outputs": [],
   "source": [
    "df_means.loc[drugs_all][short_params_list].rename(abb_dict, axis='columns').to_excel('./Results_30072021/mean_violinplots_drugs.xlsx')"
   ]
  },
  {
   "cell_type": "code",
   "execution_count": null,
   "metadata": {
    "hidden": true
   },
   "outputs": [],
   "source": [
    "writer_11 = pd.ExcelWriter('./Results_30072021/meanstd_violinplots_drugs_all.xlsx', engine='openpyxl')\n",
    "\n",
    "# Write each dataframe to a different worksheet.\n",
    "df_means_short = df_means.loc[drugs_all][short_params_list].rename(abb_dict, axis='columns')\n",
    "df_std_short = df_std.loc[drugs_all][short_params_list].rename(abb_dict, axis='columns')\n",
    "\n",
    "df_means_short.to_excel(writer_11, sheet_name='mean')\n",
    "df_std_short.to_excel(writer_11, sheet_name='std')\n",
    "\n",
    "# Close the Pandas Excel writer and output the Excel file.\n",
    "writer_11.save()"
   ]
  },
  {
   "cell_type": "code",
   "execution_count": null,
   "metadata": {
    "hidden": true
   },
   "outputs": [],
   "source": [
    "list_ssmd_dicts = []\n",
    "for param in short_params_list:\n",
    "    \n",
    "    ssmd_dict = {}\n",
    "    ssmd_dict['param'] = param\n",
    "    \n",
    "    control_mean = df_means.loc['None'][param]\n",
    "    control_var = df_var.loc['None'][param]\n",
    "    \n",
    "    for drug in drugs_list:\n",
    "        \n",
    "        if drug == 'Dopamine':\n",
    "            \n",
    "            control_mean = df_means.loc['AA'][param]\n",
    "            control_var = df_var.loc['AA'][param]\n",
    "            \n",
    "        else :\n",
    "            control_mean = df_means.loc['None'][param]\n",
    "            control_var = df_var.loc['None'][param]\n",
    "    \n",
    "        drug_mean = df_means.loc[drug][param]\n",
    "        drug_var = df_var.loc[drug][param]\n",
    "        \n",
    "        ssmd_dict[drug] = (drug_mean - control_mean) / np.sqrt(drug_var + control_var)\n",
    "        \n",
    "    list_ssmd_dicts.append(ssmd_dict)\n",
    "        \n",
    "    "
   ]
  },
  {
   "cell_type": "code",
   "execution_count": null,
   "metadata": {
    "hidden": true
   },
   "outputs": [],
   "source": [
    "ssmd_df  = pd.DataFrame(list_ssmd_dicts).set_index('param')"
   ]
  },
  {
   "cell_type": "code",
   "execution_count": null,
   "metadata": {
    "hidden": true
   },
   "outputs": [],
   "source": [
    "ssmd_df.rename(index=abb_dict, inplace=True)"
   ]
  },
  {
   "cell_type": "code",
   "execution_count": null,
   "metadata": {
    "hidden": true
   },
   "outputs": [],
   "source": [
    "ssmd_df.index"
   ]
  },
  {
   "cell_type": "code",
   "execution_count": null,
   "metadata": {
    "hidden": true
   },
   "outputs": [],
   "source": [
    "max_lim = max(np.abs(ssmd_df.min().min()), ssmd_df.max().max())"
   ]
  },
  {
   "cell_type": "code",
   "execution_count": null,
   "metadata": {
    "hidden": true
   },
   "outputs": [],
   "source": [
    "\n",
    "# fig, axes = plt.subplots(3,1, figsize = (15, 30))\n",
    "# h1 = sns.heatmap(ssmd_df.loc[short_params_list][short_drugs_list].T, cmap= 'bwr', \n",
    "#             square=True, ax=axes[0], center=0, cbar = True, robust=True,\n",
    "#             cbar_kws = dict(use_gridspec=False,location=\"top\", shrink=0.40))\n",
    "# h2 = sns.heatmap(ssmd_df.loc[short_params_list][short_drugs_list].T, cmap= 'bwr', \n",
    "#             square=True, ax=axes[1], center=0, cbar = True,\n",
    "#             cbar_kws = dict(use_gridspec=False,location=\"top\", shrink=0.40))\n",
    "\n",
    "# h3 = sns.heatmap(ssmd_df.loc[short_params_list][short_drugs_list].T, cmap= 'bwr', \n",
    "#             square=True, ax=axes[2], center=0, cbar = True, vmax = max_lim, vmin = -1*max_lim,\n",
    "#             cbar_kws = dict(use_gridspec=False,location=\"top\", shrink=0.40))\n",
    "\n",
    "# axes[0].set_title('Heatmap parameters: center = 0 and robust = True')\n",
    "# axes[1].set_title('Heatmap parameters: center = 0')\n",
    "# axes[1].set_title(f'Heatmap parameters: center = 0, vmax = ')\n",
    "# # fig.savefig('./Figures/heatmap_robust_test.svg')"
   ]
  },
  {
   "cell_type": "code",
   "execution_count": null,
   "metadata": {
    "hidden": true
   },
   "outputs": [],
   "source": [
    "# fig.savefig('./Figures/heatmap_robust_test.png')"
   ]
  },
  {
   "cell_type": "code",
   "execution_count": null,
   "metadata": {
    "hidden": true
   },
   "outputs": [],
   "source": [
    "ssmd_df['AA']"
   ]
  },
  {
   "cell_type": "code",
   "execution_count": null,
   "metadata": {
    "hidden": true
   },
   "outputs": [],
   "source": [
    "\n",
    "fig, axes = plt.subplots(1,1, figsize = (15, 15))\n",
    "sns.heatmap(ssmd_df[drugs_list].T, cmap= 'bwr', \n",
    "            square=True, ax=axes, center=0, cbar = True,\n",
    "            cbar_kws = dict(use_gridspec=False,location=\"top\", shrink=0.40, pad = 0.2))\n",
    "axes.set_title('Strictly standardized mean difference')\n",
    "\n",
    "# fig.savefig('./Figures/ssmd_smd/ssmd_drugs_subset.svg')"
   ]
  },
  {
   "cell_type": "code",
   "execution_count": null,
   "metadata": {
    "hidden": true
   },
   "outputs": [],
   "source": [
    "\n",
    "fig, axes = plt.subplots(1,1, figsize = (15, 15))\n",
    "sns.heatmap(ssmd_df[drugs_list].T, cmap= 'bwr', \n",
    "            square=True, ax=axes, center=0, cbar = True,\n",
    "            cbar_kws = dict(use_gridspec=False,location=\"top\", shrink=0.40, pad = 0.2))\n",
    "axes.set_title('Strictly standardized mean difference')\n",
    "\n",
    "for _, spine in axes.spines.items():\n",
    "    spine.set_visible(True)\n",
    "fig.savefig('./Results_30072021/Fig2/ssmd_drugs_all.svg')"
   ]
  },
  {
   "cell_type": "code",
   "execution_count": null,
   "metadata": {
    "hidden": true
   },
   "outputs": [],
   "source": [
    "\n",
    "# fig, axes = plt.subplots(1,1, figsize = (15, 15))\n",
    "g1 = sns.clustermap(ssmd_df[drugs_list].T, cmap= 'bwr', \n",
    "               col_cluster=False, figsize=(15,10),\n",
    "            square=True, center=0, cbar = True,\n",
    "                    cbar_pos=(0, .1, .03, .4),\n",
    "            cbar_kws = dict(use_gridspec=False,shrink=0.10, pad = 0.2))\n",
    "# axes.set_title('Strictly standardized mean difference')\n",
    "\n",
    "g1.fig.suptitle('Strictly standardized mean difference')\n",
    "g1.savefig('./Results_30072021/Fig2/ssmd_drugs_all_clustermap.svg')"
   ]
  },
  {
   "cell_type": "markdown",
   "metadata": {},
   "source": [
    "## SMD"
   ]
  },
  {
   "cell_type": "code",
   "execution_count": 19,
   "metadata": {},
   "outputs": [],
   "source": [
    "df_medians = df_feats.groupby(by='drug', as_index=True)[params_list].median()\n",
    "df_mad = df_feats.groupby(by='drug', as_index=True)[params_list].mad()"
   ]
  },
  {
   "cell_type": "code",
   "execution_count": 20,
   "metadata": {},
   "outputs": [],
   "source": [
    "list_smd_dicts = []\n",
    "for param in short_params_list:\n",
    "    \n",
    "    smd_dict = {}\n",
    "    smd_dict['param'] = param\n",
    "    \n",
    "    \n",
    "    \n",
    "    for drug in drugs_list:\n",
    "        \n",
    "        if drug == 'Dopamine':\n",
    "            control_median = df_medians.loc['AA'][param]\n",
    "            control_mad = df_mad.loc['AA'][param]\n",
    "            \n",
    "        else:\n",
    "            control_median = df_medians.loc['None'][param]\n",
    "            control_mad = df_mad.loc['None'][param]\n",
    "                \n",
    "        \n",
    "        drug_median = df_medians.loc[drug][param]\n",
    "        drug_mad = df_mad.loc[drug][param]\n",
    "        \n",
    "        smd_dict[drug] = (drug_median - control_median) / (drug_mad + control_mad)\n",
    "        \n",
    "    list_smd_dicts.append(smd_dict)\n",
    "        \n",
    "    "
   ]
  },
  {
   "cell_type": "code",
   "execution_count": 21,
   "metadata": {},
   "outputs": [],
   "source": [
    "smd_df  = pd.DataFrame(list_smd_dicts).set_index('param')"
   ]
  },
  {
   "cell_type": "code",
   "execution_count": 22,
   "metadata": {},
   "outputs": [
    {
     "data": {
      "text/html": [
       "<div>\n",
       "<style scoped>\n",
       "    .dataframe tbody tr th:only-of-type {\n",
       "        vertical-align: middle;\n",
       "    }\n",
       "\n",
       "    .dataframe tbody tr th {\n",
       "        vertical-align: top;\n",
       "    }\n",
       "\n",
       "    .dataframe thead th {\n",
       "        text-align: right;\n",
       "    }\n",
       "</style>\n",
       "<table border=\"1\" class=\"dataframe\">\n",
       "  <thead>\n",
       "    <tr style=\"text-align: right;\">\n",
       "      <th></th>\n",
       "      <th>Raclopride</th>\n",
       "      <th>Paroxetine</th>\n",
       "      <th>Fluoxetine</th>\n",
       "      <th>Methiothepin</th>\n",
       "      <th>Clomipramine</th>\n",
       "      <th>Serotonin</th>\n",
       "      <th>Alphamethyl</th>\n",
       "      <th>Dopamine</th>\n",
       "      <th>Imipramine</th>\n",
       "      <th>Chlorpromazine</th>\n",
       "      <th>AA</th>\n",
       "      <th>Phentolamine</th>\n",
       "      <th>Mianserin</th>\n",
       "      <th>Quinpirole003</th>\n",
       "    </tr>\n",
       "    <tr>\n",
       "      <th>param</th>\n",
       "      <th></th>\n",
       "      <th></th>\n",
       "      <th></th>\n",
       "      <th></th>\n",
       "      <th></th>\n",
       "      <th></th>\n",
       "      <th></th>\n",
       "      <th></th>\n",
       "      <th></th>\n",
       "      <th></th>\n",
       "      <th></th>\n",
       "      <th></th>\n",
       "      <th></th>\n",
       "      <th></th>\n",
       "    </tr>\n",
       "  </thead>\n",
       "  <tbody>\n",
       "    <tr>\n",
       "      <th>curv_neck</th>\n",
       "      <td>-0.069129</td>\n",
       "      <td>0.013236</td>\n",
       "      <td>-0.216368</td>\n",
       "      <td>0.211698</td>\n",
       "      <td>0.132143</td>\n",
       "      <td>0.035130</td>\n",
       "      <td>-0.047527</td>\n",
       "      <td>-0.129778</td>\n",
       "      <td>0.070873</td>\n",
       "      <td>0.012401</td>\n",
       "      <td>0.028718</td>\n",
       "      <td>0.082417</td>\n",
       "      <td>-0.080187</td>\n",
       "      <td>-0.163338</td>\n",
       "    </tr>\n",
       "    <tr>\n",
       "      <th>curv_tail_base</th>\n",
       "      <td>-0.063053</td>\n",
       "      <td>0.230006</td>\n",
       "      <td>-0.022468</td>\n",
       "      <td>0.163274</td>\n",
       "      <td>0.059212</td>\n",
       "      <td>-0.020362</td>\n",
       "      <td>-0.175913</td>\n",
       "      <td>-0.047713</td>\n",
       "      <td>0.066375</td>\n",
       "      <td>0.059530</td>\n",
       "      <td>-0.081625</td>\n",
       "      <td>0.173077</td>\n",
       "      <td>-0.111102</td>\n",
       "      <td>-0.128220</td>\n",
       "    </tr>\n",
       "    <tr>\n",
       "      <th>curv_tail_pre_mid</th>\n",
       "      <td>-0.073749</td>\n",
       "      <td>0.357629</td>\n",
       "      <td>-0.066225</td>\n",
       "      <td>0.088307</td>\n",
       "      <td>0.039766</td>\n",
       "      <td>-0.055939</td>\n",
       "      <td>-0.178131</td>\n",
       "      <td>-0.056604</td>\n",
       "      <td>0.186205</td>\n",
       "      <td>0.034862</td>\n",
       "      <td>-0.049449</td>\n",
       "      <td>0.244835</td>\n",
       "      <td>-0.062251</td>\n",
       "      <td>-0.142188</td>\n",
       "    </tr>\n",
       "    <tr>\n",
       "      <th>curv_tail_mid</th>\n",
       "      <td>-0.102880</td>\n",
       "      <td>0.311758</td>\n",
       "      <td>-0.071134</td>\n",
       "      <td>0.066926</td>\n",
       "      <td>0.042689</td>\n",
       "      <td>0.002904</td>\n",
       "      <td>0.005967</td>\n",
       "      <td>-0.067858</td>\n",
       "      <td>0.115837</td>\n",
       "      <td>0.040881</td>\n",
       "      <td>-0.011782</td>\n",
       "      <td>0.040383</td>\n",
       "      <td>0.017029</td>\n",
       "      <td>-0.051213</td>\n",
       "    </tr>\n",
       "    <tr>\n",
       "      <th>curv_tail_post_mid</th>\n",
       "      <td>-0.146768</td>\n",
       "      <td>0.088420</td>\n",
       "      <td>-0.108129</td>\n",
       "      <td>0.046463</td>\n",
       "      <td>-0.050575</td>\n",
       "      <td>-0.080405</td>\n",
       "      <td>-0.007812</td>\n",
       "      <td>-0.065933</td>\n",
       "      <td>0.044869</td>\n",
       "      <td>0.013284</td>\n",
       "      <td>0.051660</td>\n",
       "      <td>-0.035474</td>\n",
       "      <td>-0.039314</td>\n",
       "      <td>-0.185489</td>\n",
       "    </tr>\n",
       "    <tr>\n",
       "      <th>curv_tail_tip</th>\n",
       "      <td>-0.111536</td>\n",
       "      <td>-0.044732</td>\n",
       "      <td>-0.070392</td>\n",
       "      <td>-0.064293</td>\n",
       "      <td>0.025998</td>\n",
       "      <td>0.013133</td>\n",
       "      <td>0.075813</td>\n",
       "      <td>-0.106593</td>\n",
       "      <td>-0.052997</td>\n",
       "      <td>0.004544</td>\n",
       "      <td>0.019083</td>\n",
       "      <td>0.011393</td>\n",
       "      <td>0.085583</td>\n",
       "      <td>-0.128898</td>\n",
       "    </tr>\n",
       "    <tr>\n",
       "      <th>rel_tan_neck</th>\n",
       "      <td>0.051501</td>\n",
       "      <td>-0.060519</td>\n",
       "      <td>-0.032286</td>\n",
       "      <td>0.049483</td>\n",
       "      <td>0.034385</td>\n",
       "      <td>0.033422</td>\n",
       "      <td>0.007331</td>\n",
       "      <td>-0.042697</td>\n",
       "      <td>0.027117</td>\n",
       "      <td>0.029296</td>\n",
       "      <td>0.044074</td>\n",
       "      <td>-0.024909</td>\n",
       "      <td>0.045778</td>\n",
       "      <td>0.002636</td>\n",
       "    </tr>\n",
       "    <tr>\n",
       "      <th>rel_tan_tail_base</th>\n",
       "      <td>0.000322</td>\n",
       "      <td>-0.024223</td>\n",
       "      <td>-0.123225</td>\n",
       "      <td>0.053666</td>\n",
       "      <td>0.071686</td>\n",
       "      <td>0.059582</td>\n",
       "      <td>-0.025459</td>\n",
       "      <td>-0.074443</td>\n",
       "      <td>0.044407</td>\n",
       "      <td>-0.012238</td>\n",
       "      <td>0.051786</td>\n",
       "      <td>0.067116</td>\n",
       "      <td>-0.024710</td>\n",
       "      <td>-0.063953</td>\n",
       "    </tr>\n",
       "    <tr>\n",
       "      <th>rel_tan_tail_pre_mid</th>\n",
       "      <td>-0.073469</td>\n",
       "      <td>0.041550</td>\n",
       "      <td>-0.143205</td>\n",
       "      <td>0.077364</td>\n",
       "      <td>0.061453</td>\n",
       "      <td>0.050657</td>\n",
       "      <td>-0.063509</td>\n",
       "      <td>-0.055609</td>\n",
       "      <td>0.061007</td>\n",
       "      <td>0.036865</td>\n",
       "      <td>0.011236</td>\n",
       "      <td>0.038992</td>\n",
       "      <td>-0.053610</td>\n",
       "      <td>-0.061948</td>\n",
       "    </tr>\n",
       "    <tr>\n",
       "      <th>rel_tan_tail_mid</th>\n",
       "      <td>-0.025223</td>\n",
       "      <td>0.094211</td>\n",
       "      <td>-0.132812</td>\n",
       "      <td>0.055107</td>\n",
       "      <td>0.059723</td>\n",
       "      <td>0.044571</td>\n",
       "      <td>-0.055034</td>\n",
       "      <td>-0.045823</td>\n",
       "      <td>0.067264</td>\n",
       "      <td>0.062187</td>\n",
       "      <td>0.009055</td>\n",
       "      <td>0.023564</td>\n",
       "      <td>-0.033033</td>\n",
       "      <td>-0.059001</td>\n",
       "    </tr>\n",
       "    <tr>\n",
       "      <th>rel_tan_tail_post_mid</th>\n",
       "      <td>-0.065473</td>\n",
       "      <td>0.126743</td>\n",
       "      <td>-0.131750</td>\n",
       "      <td>0.037069</td>\n",
       "      <td>0.068196</td>\n",
       "      <td>0.029459</td>\n",
       "      <td>-0.054811</td>\n",
       "      <td>-0.005558</td>\n",
       "      <td>0.068736</td>\n",
       "      <td>0.070626</td>\n",
       "      <td>-0.002997</td>\n",
       "      <td>-0.004697</td>\n",
       "      <td>-0.016675</td>\n",
       "      <td>-0.117973</td>\n",
       "    </tr>\n",
       "    <tr>\n",
       "      <th>rel_tan_tail_tip</th>\n",
       "      <td>-0.090336</td>\n",
       "      <td>0.106919</td>\n",
       "      <td>-0.077497</td>\n",
       "      <td>0.068272</td>\n",
       "      <td>0.027581</td>\n",
       "      <td>0.039158</td>\n",
       "      <td>-0.066127</td>\n",
       "      <td>-0.014772</td>\n",
       "      <td>0.024622</td>\n",
       "      <td>0.098807</td>\n",
       "      <td>0.006023</td>\n",
       "      <td>0.006924</td>\n",
       "      <td>-0.010861</td>\n",
       "      <td>-0.076791</td>\n",
       "    </tr>\n",
       "    <tr>\n",
       "      <th>ects_1</th>\n",
       "      <td>-0.119715</td>\n",
       "      <td>0.303851</td>\n",
       "      <td>-0.192602</td>\n",
       "      <td>0.139287</td>\n",
       "      <td>0.030378</td>\n",
       "      <td>-0.006721</td>\n",
       "      <td>-0.073878</td>\n",
       "      <td>-0.015367</td>\n",
       "      <td>0.133827</td>\n",
       "      <td>0.011592</td>\n",
       "      <td>-0.070732</td>\n",
       "      <td>0.045724</td>\n",
       "      <td>-0.057440</td>\n",
       "      <td>-0.198168</td>\n",
       "    </tr>\n",
       "    <tr>\n",
       "      <th>ects_2</th>\n",
       "      <td>0.026854</td>\n",
       "      <td>0.147878</td>\n",
       "      <td>-0.019838</td>\n",
       "      <td>0.013518</td>\n",
       "      <td>0.028842</td>\n",
       "      <td>0.001785</td>\n",
       "      <td>-0.009852</td>\n",
       "      <td>0.117285</td>\n",
       "      <td>-0.010993</td>\n",
       "      <td>-0.099002</td>\n",
       "      <td>-0.104820</td>\n",
       "      <td>-0.018549</td>\n",
       "      <td>-0.062800</td>\n",
       "      <td>0.079184</td>\n",
       "    </tr>\n",
       "    <tr>\n",
       "      <th>ects_3</th>\n",
       "      <td>0.220801</td>\n",
       "      <td>-0.009140</td>\n",
       "      <td>0.086430</td>\n",
       "      <td>0.051275</td>\n",
       "      <td>0.055628</td>\n",
       "      <td>0.020188</td>\n",
       "      <td>-0.077428</td>\n",
       "      <td>0.041559</td>\n",
       "      <td>0.143273</td>\n",
       "      <td>0.015299</td>\n",
       "      <td>0.014127</td>\n",
       "      <td>0.053566</td>\n",
       "      <td>-0.060610</td>\n",
       "      <td>0.083365</td>\n",
       "    </tr>\n",
       "    <tr>\n",
       "      <th>ects_4</th>\n",
       "      <td>0.068472</td>\n",
       "      <td>0.150592</td>\n",
       "      <td>0.118186</td>\n",
       "      <td>-0.085327</td>\n",
       "      <td>-0.158635</td>\n",
       "      <td>-0.075177</td>\n",
       "      <td>0.032917</td>\n",
       "      <td>-0.103877</td>\n",
       "      <td>-0.037500</td>\n",
       "      <td>0.037852</td>\n",
       "      <td>0.085891</td>\n",
       "      <td>-0.049140</td>\n",
       "      <td>0.031466</td>\n",
       "      <td>0.097666</td>\n",
       "    </tr>\n",
       "    <tr>\n",
       "      <th>ects_5</th>\n",
       "      <td>-0.007142</td>\n",
       "      <td>-0.183192</td>\n",
       "      <td>-0.183951</td>\n",
       "      <td>0.111119</td>\n",
       "      <td>0.067641</td>\n",
       "      <td>0.013043</td>\n",
       "      <td>0.146620</td>\n",
       "      <td>-0.147227</td>\n",
       "      <td>0.040020</td>\n",
       "      <td>0.009450</td>\n",
       "      <td>0.149230</td>\n",
       "      <td>-0.113841</td>\n",
       "      <td>0.010466</td>\n",
       "      <td>0.179167</td>\n",
       "    </tr>\n",
       "    <tr>\n",
       "      <th>ects_6</th>\n",
       "      <td>0.055919</td>\n",
       "      <td>0.024372</td>\n",
       "      <td>0.010449</td>\n",
       "      <td>0.031753</td>\n",
       "      <td>-0.064028</td>\n",
       "      <td>-0.090713</td>\n",
       "      <td>0.014088</td>\n",
       "      <td>0.101366</td>\n",
       "      <td>-0.066608</td>\n",
       "      <td>-0.057660</td>\n",
       "      <td>-0.030074</td>\n",
       "      <td>-0.041001</td>\n",
       "      <td>-0.078253</td>\n",
       "      <td>0.002096</td>\n",
       "    </tr>\n",
       "    <tr>\n",
       "      <th>quirkness</th>\n",
       "      <td>-0.118382</td>\n",
       "      <td>-0.104126</td>\n",
       "      <td>0.085981</td>\n",
       "      <td>-0.001750</td>\n",
       "      <td>0.025357</td>\n",
       "      <td>0.010419</td>\n",
       "      <td>-0.083796</td>\n",
       "      <td>-0.027694</td>\n",
       "      <td>-0.045934</td>\n",
       "      <td>-0.313377</td>\n",
       "      <td>0.045410</td>\n",
       "      <td>0.030408</td>\n",
       "      <td>0.009419</td>\n",
       "      <td>-0.034771</td>\n",
       "    </tr>\n",
       "    <tr>\n",
       "      <th>speed_neck</th>\n",
       "      <td>0.061034</td>\n",
       "      <td>0.008297</td>\n",
       "      <td>-0.022069</td>\n",
       "      <td>-0.010988</td>\n",
       "      <td>0.011805</td>\n",
       "      <td>-0.003532</td>\n",
       "      <td>0.000175</td>\n",
       "      <td>-0.021698</td>\n",
       "      <td>-0.049475</td>\n",
       "      <td>0.030550</td>\n",
       "      <td>-0.006569</td>\n",
       "      <td>0.062096</td>\n",
       "      <td>-0.024973</td>\n",
       "      <td>0.018882</td>\n",
       "    </tr>\n",
       "    <tr>\n",
       "      <th>speed_tail_base</th>\n",
       "      <td>0.056294</td>\n",
       "      <td>-0.000274</td>\n",
       "      <td>-0.014537</td>\n",
       "      <td>-0.007648</td>\n",
       "      <td>0.009661</td>\n",
       "      <td>-0.002987</td>\n",
       "      <td>0.001509</td>\n",
       "      <td>-0.016948</td>\n",
       "      <td>-0.036129</td>\n",
       "      <td>0.023152</td>\n",
       "      <td>-0.004554</td>\n",
       "      <td>0.049380</td>\n",
       "      <td>-0.021116</td>\n",
       "      <td>0.023972</td>\n",
       "    </tr>\n",
       "    <tr>\n",
       "      <th>speed_tail_pre_mid</th>\n",
       "      <td>0.052971</td>\n",
       "      <td>-0.001018</td>\n",
       "      <td>-0.008193</td>\n",
       "      <td>-0.007070</td>\n",
       "      <td>0.005849</td>\n",
       "      <td>-0.001331</td>\n",
       "      <td>0.005436</td>\n",
       "      <td>-0.013649</td>\n",
       "      <td>-0.028120</td>\n",
       "      <td>0.016962</td>\n",
       "      <td>-0.001421</td>\n",
       "      <td>0.037165</td>\n",
       "      <td>-0.012516</td>\n",
       "      <td>0.021349</td>\n",
       "    </tr>\n",
       "    <tr>\n",
       "      <th>speed_tail_mid</th>\n",
       "      <td>0.056465</td>\n",
       "      <td>-0.001874</td>\n",
       "      <td>-0.009831</td>\n",
       "      <td>-0.009786</td>\n",
       "      <td>0.000550</td>\n",
       "      <td>-0.003673</td>\n",
       "      <td>0.005832</td>\n",
       "      <td>-0.011218</td>\n",
       "      <td>-0.028398</td>\n",
       "      <td>0.016122</td>\n",
       "      <td>-0.003660</td>\n",
       "      <td>0.038235</td>\n",
       "      <td>-0.009646</td>\n",
       "      <td>0.024355</td>\n",
       "    </tr>\n",
       "    <tr>\n",
       "      <th>speed_tail_post_mid</th>\n",
       "      <td>0.071759</td>\n",
       "      <td>-0.001687</td>\n",
       "      <td>-0.012866</td>\n",
       "      <td>-0.011255</td>\n",
       "      <td>-0.004538</td>\n",
       "      <td>-0.006126</td>\n",
       "      <td>0.008294</td>\n",
       "      <td>-0.009931</td>\n",
       "      <td>-0.026772</td>\n",
       "      <td>0.014908</td>\n",
       "      <td>-0.001470</td>\n",
       "      <td>0.045291</td>\n",
       "      <td>-0.007877</td>\n",
       "      <td>0.026710</td>\n",
       "    </tr>\n",
       "    <tr>\n",
       "      <th>speed_tail_tip</th>\n",
       "      <td>0.052294</td>\n",
       "      <td>-0.003060</td>\n",
       "      <td>-0.003621</td>\n",
       "      <td>-0.007945</td>\n",
       "      <td>-0.005036</td>\n",
       "      <td>-0.005942</td>\n",
       "      <td>0.009069</td>\n",
       "      <td>-0.004992</td>\n",
       "      <td>-0.034220</td>\n",
       "      <td>0.011132</td>\n",
       "      <td>-0.001297</td>\n",
       "      <td>0.036312</td>\n",
       "      <td>-0.004003</td>\n",
       "      <td>0.014404</td>\n",
       "    </tr>\n",
       "  </tbody>\n",
       "</table>\n",
       "</div>"
      ],
      "text/plain": [
       "                       Raclopride  Paroxetine  Fluoxetine  Methiothepin  \\\n",
       "param                                                                     \n",
       "curv_neck               -0.069129    0.013236   -0.216368      0.211698   \n",
       "curv_tail_base          -0.063053    0.230006   -0.022468      0.163274   \n",
       "curv_tail_pre_mid       -0.073749    0.357629   -0.066225      0.088307   \n",
       "curv_tail_mid           -0.102880    0.311758   -0.071134      0.066926   \n",
       "curv_tail_post_mid      -0.146768    0.088420   -0.108129      0.046463   \n",
       "curv_tail_tip           -0.111536   -0.044732   -0.070392     -0.064293   \n",
       "rel_tan_neck             0.051501   -0.060519   -0.032286      0.049483   \n",
       "rel_tan_tail_base        0.000322   -0.024223   -0.123225      0.053666   \n",
       "rel_tan_tail_pre_mid    -0.073469    0.041550   -0.143205      0.077364   \n",
       "rel_tan_tail_mid        -0.025223    0.094211   -0.132812      0.055107   \n",
       "rel_tan_tail_post_mid   -0.065473    0.126743   -0.131750      0.037069   \n",
       "rel_tan_tail_tip        -0.090336    0.106919   -0.077497      0.068272   \n",
       "ects_1                  -0.119715    0.303851   -0.192602      0.139287   \n",
       "ects_2                   0.026854    0.147878   -0.019838      0.013518   \n",
       "ects_3                   0.220801   -0.009140    0.086430      0.051275   \n",
       "ects_4                   0.068472    0.150592    0.118186     -0.085327   \n",
       "ects_5                  -0.007142   -0.183192   -0.183951      0.111119   \n",
       "ects_6                   0.055919    0.024372    0.010449      0.031753   \n",
       "quirkness               -0.118382   -0.104126    0.085981     -0.001750   \n",
       "speed_neck               0.061034    0.008297   -0.022069     -0.010988   \n",
       "speed_tail_base          0.056294   -0.000274   -0.014537     -0.007648   \n",
       "speed_tail_pre_mid       0.052971   -0.001018   -0.008193     -0.007070   \n",
       "speed_tail_mid           0.056465   -0.001874   -0.009831     -0.009786   \n",
       "speed_tail_post_mid      0.071759   -0.001687   -0.012866     -0.011255   \n",
       "speed_tail_tip           0.052294   -0.003060   -0.003621     -0.007945   \n",
       "\n",
       "                       Clomipramine  Serotonin  Alphamethyl  Dopamine  \\\n",
       "param                                                                   \n",
       "curv_neck                  0.132143   0.035130    -0.047527 -0.129778   \n",
       "curv_tail_base             0.059212  -0.020362    -0.175913 -0.047713   \n",
       "curv_tail_pre_mid          0.039766  -0.055939    -0.178131 -0.056604   \n",
       "curv_tail_mid              0.042689   0.002904     0.005967 -0.067858   \n",
       "curv_tail_post_mid        -0.050575  -0.080405    -0.007812 -0.065933   \n",
       "curv_tail_tip              0.025998   0.013133     0.075813 -0.106593   \n",
       "rel_tan_neck               0.034385   0.033422     0.007331 -0.042697   \n",
       "rel_tan_tail_base          0.071686   0.059582    -0.025459 -0.074443   \n",
       "rel_tan_tail_pre_mid       0.061453   0.050657    -0.063509 -0.055609   \n",
       "rel_tan_tail_mid           0.059723   0.044571    -0.055034 -0.045823   \n",
       "rel_tan_tail_post_mid      0.068196   0.029459    -0.054811 -0.005558   \n",
       "rel_tan_tail_tip           0.027581   0.039158    -0.066127 -0.014772   \n",
       "ects_1                     0.030378  -0.006721    -0.073878 -0.015367   \n",
       "ects_2                     0.028842   0.001785    -0.009852  0.117285   \n",
       "ects_3                     0.055628   0.020188    -0.077428  0.041559   \n",
       "ects_4                    -0.158635  -0.075177     0.032917 -0.103877   \n",
       "ects_5                     0.067641   0.013043     0.146620 -0.147227   \n",
       "ects_6                    -0.064028  -0.090713     0.014088  0.101366   \n",
       "quirkness                  0.025357   0.010419    -0.083796 -0.027694   \n",
       "speed_neck                 0.011805  -0.003532     0.000175 -0.021698   \n",
       "speed_tail_base            0.009661  -0.002987     0.001509 -0.016948   \n",
       "speed_tail_pre_mid         0.005849  -0.001331     0.005436 -0.013649   \n",
       "speed_tail_mid             0.000550  -0.003673     0.005832 -0.011218   \n",
       "speed_tail_post_mid       -0.004538  -0.006126     0.008294 -0.009931   \n",
       "speed_tail_tip            -0.005036  -0.005942     0.009069 -0.004992   \n",
       "\n",
       "                       Imipramine  Chlorpromazine        AA  Phentolamine  \\\n",
       "param                                                                       \n",
       "curv_neck                0.070873        0.012401  0.028718      0.082417   \n",
       "curv_tail_base           0.066375        0.059530 -0.081625      0.173077   \n",
       "curv_tail_pre_mid        0.186205        0.034862 -0.049449      0.244835   \n",
       "curv_tail_mid            0.115837        0.040881 -0.011782      0.040383   \n",
       "curv_tail_post_mid       0.044869        0.013284  0.051660     -0.035474   \n",
       "curv_tail_tip           -0.052997        0.004544  0.019083      0.011393   \n",
       "rel_tan_neck             0.027117        0.029296  0.044074     -0.024909   \n",
       "rel_tan_tail_base        0.044407       -0.012238  0.051786      0.067116   \n",
       "rel_tan_tail_pre_mid     0.061007        0.036865  0.011236      0.038992   \n",
       "rel_tan_tail_mid         0.067264        0.062187  0.009055      0.023564   \n",
       "rel_tan_tail_post_mid    0.068736        0.070626 -0.002997     -0.004697   \n",
       "rel_tan_tail_tip         0.024622        0.098807  0.006023      0.006924   \n",
       "ects_1                   0.133827        0.011592 -0.070732      0.045724   \n",
       "ects_2                  -0.010993       -0.099002 -0.104820     -0.018549   \n",
       "ects_3                   0.143273        0.015299  0.014127      0.053566   \n",
       "ects_4                  -0.037500        0.037852  0.085891     -0.049140   \n",
       "ects_5                   0.040020        0.009450  0.149230     -0.113841   \n",
       "ects_6                  -0.066608       -0.057660 -0.030074     -0.041001   \n",
       "quirkness               -0.045934       -0.313377  0.045410      0.030408   \n",
       "speed_neck              -0.049475        0.030550 -0.006569      0.062096   \n",
       "speed_tail_base         -0.036129        0.023152 -0.004554      0.049380   \n",
       "speed_tail_pre_mid      -0.028120        0.016962 -0.001421      0.037165   \n",
       "speed_tail_mid          -0.028398        0.016122 -0.003660      0.038235   \n",
       "speed_tail_post_mid     -0.026772        0.014908 -0.001470      0.045291   \n",
       "speed_tail_tip          -0.034220        0.011132 -0.001297      0.036312   \n",
       "\n",
       "                       Mianserin  Quinpirole003  \n",
       "param                                            \n",
       "curv_neck              -0.080187      -0.163338  \n",
       "curv_tail_base         -0.111102      -0.128220  \n",
       "curv_tail_pre_mid      -0.062251      -0.142188  \n",
       "curv_tail_mid           0.017029      -0.051213  \n",
       "curv_tail_post_mid     -0.039314      -0.185489  \n",
       "curv_tail_tip           0.085583      -0.128898  \n",
       "rel_tan_neck            0.045778       0.002636  \n",
       "rel_tan_tail_base      -0.024710      -0.063953  \n",
       "rel_tan_tail_pre_mid   -0.053610      -0.061948  \n",
       "rel_tan_tail_mid       -0.033033      -0.059001  \n",
       "rel_tan_tail_post_mid  -0.016675      -0.117973  \n",
       "rel_tan_tail_tip       -0.010861      -0.076791  \n",
       "ects_1                 -0.057440      -0.198168  \n",
       "ects_2                 -0.062800       0.079184  \n",
       "ects_3                 -0.060610       0.083365  \n",
       "ects_4                  0.031466       0.097666  \n",
       "ects_5                  0.010466       0.179167  \n",
       "ects_6                 -0.078253       0.002096  \n",
       "quirkness               0.009419      -0.034771  \n",
       "speed_neck             -0.024973       0.018882  \n",
       "speed_tail_base        -0.021116       0.023972  \n",
       "speed_tail_pre_mid     -0.012516       0.021349  \n",
       "speed_tail_mid         -0.009646       0.024355  \n",
       "speed_tail_post_mid    -0.007877       0.026710  \n",
       "speed_tail_tip         -0.004003       0.014404  "
      ]
     },
     "execution_count": 22,
     "metadata": {},
     "output_type": "execute_result"
    }
   ],
   "source": [
    "smd_df"
   ]
  },
  {
   "cell_type": "code",
   "execution_count": 23,
   "metadata": {},
   "outputs": [
    {
     "data": {
      "text/plain": [
       "['curv_neck',\n",
       " 'curv_tail_base',\n",
       " 'curv_tail_pre_mid',\n",
       " 'curv_tail_mid',\n",
       " 'curv_tail_post_mid',\n",
       " 'curv_tail_tip',\n",
       " 'rel_tan_neck',\n",
       " 'rel_tan_tail_base',\n",
       " 'rel_tan_tail_pre_mid',\n",
       " 'rel_tan_tail_mid',\n",
       " 'rel_tan_tail_post_mid',\n",
       " 'rel_tan_tail_tip',\n",
       " 'ects_1',\n",
       " 'ects_2',\n",
       " 'ects_3',\n",
       " 'ects_4',\n",
       " 'ects_5',\n",
       " 'ects_6',\n",
       " 'quirkness',\n",
       " 'speed_neck',\n",
       " 'speed_tail_base',\n",
       " 'speed_tail_pre_mid',\n",
       " 'speed_tail_mid',\n",
       " 'speed_tail_post_mid',\n",
       " 'speed_tail_tip']"
      ]
     },
     "execution_count": 23,
     "metadata": {},
     "output_type": "execute_result"
    }
   ],
   "source": [
    "short_params_list"
   ]
  },
  {
   "cell_type": "code",
   "execution_count": 26,
   "metadata": {},
   "outputs": [],
   "source": [
    "smd_df.rename(index=abb_dict, inplace=True)"
   ]
  },
  {
   "cell_type": "code",
   "execution_count": 27,
   "metadata": {},
   "outputs": [],
   "source": [
    "dest_folder_oct18 = '/data/temp/athira/oct18_violinplots_rescaled'\n"
   ]
  },
  {
   "cell_type": "code",
   "execution_count": 28,
   "metadata": {},
   "outputs": [
    {
     "data": {
      "image/png": "[encoded data removed]",
      "text/plain": [
       "<Figure size 1080x1080 with 2 Axes>"
      ]
     },
     "metadata": {
      "needs_background": "light"
     },
     "output_type": "display_data"
    }
   ],
   "source": [
    "\n",
    "fig, axes = plt.subplots(1,1, figsize = (15, 15))\n",
    "sns.heatmap(smd_df.T, cmap= 'bwr', \n",
    "            square=True, ax=axes, center=0, cbar = True,\n",
    "            cbar_kws = dict(use_gridspec=False,location=\"top\", shrink=0.40, pad = 0.2))\n",
    "axes.set_title('Standardized median difference')\n",
    "for _, spine in axes.spines.items():\n",
    "    spine.set_visible(True)\n",
    "fig.savefig(os.path.join(dest_folder_oct18,'smd_drugs_allbut3q.svg'))"
   ]
  },
  {
   "cell_type": "code",
   "execution_count": 29,
   "metadata": {},
   "outputs": [
    {
     "name": "stderr",
     "output_type": "stream",
     "text": [
      "/share/python-virtual-environments/ciona_behaviour-v2/lib/python3.8/site-packages/seaborn/matrix.py:1216: UserWarning: ``square=True`` ignored in clustermap\n",
      "  warnings.warn(msg)\n"
     ]
    },
    {
     "data": {
      "image/png": "[encoded data removed]",
      "text/plain": [
       "<Figure size 1080x720 with 4 Axes>"
      ]
     },
     "metadata": {
      "needs_background": "light"
     },
     "output_type": "display_data"
    }
   ],
   "source": [
    "g2 = sns.clustermap(smd_df[reversed(drugs_list)].T, cmap= 'bwr', \n",
    "            square=True, center=0, cbar = True,\n",
    "                  figsize=(15,10), col_cluster=False,\n",
    "                    cbar_pos=(0, .1, .03, .4),\n",
    "            cbar_kws = dict(use_gridspec=False, shrink=0.10, pad = 0.2))\n",
    "# axes = fig.get\n",
    "g2.fig.suptitle('Standardized median difference')\n",
    "g2.savefig(os.path.join(dest_folder_oct18,'smd_drugs_allbut3q_clustermap.svg'))\n",
    "# for _, spine in axes.spines.items():\n",
    "#     spine.set_visible(True)"
   ]
  },
  {
   "cell_type": "markdown",
   "metadata": {},
   "source": [
    "## Save SMD and SSMD as excel datasheets"
   ]
  },
  {
   "cell_type": "code",
   "execution_count": null,
   "metadata": {},
   "outputs": [],
   "source": [
    "smd_df"
   ]
  },
  {
   "cell_type": "code",
   "execution_count": null,
   "metadata": {},
   "outputs": [],
   "source": [
    "writer_2 = pd.ExcelWriter('./Results_30072021/smd_ssmd_drugs_all.xlsx', engine='openpyxl')\n",
    "\n",
    "# Write each dataframe to a different worksheet.\n",
    "ssmd_df.to_excel(writer_2, sheet_name='SSMD')\n",
    "smd_df.to_excel(writer_2, sheet_name='SMD')\n",
    "\n",
    "# Close the Pandas Excel writer and output the Excel file.\n",
    "writer_2.save()"
   ]
  },
  {
   "cell_type": "markdown",
   "metadata": {},
   "source": [
    "# Bubble chart for ects"
   ]
  },
  {
   "cell_type": "code",
   "execution_count": 22,
   "metadata": {},
   "outputs": [],
   "source": [
    "df_ects_feats = df_feats[df_feats[\"drug\"] == 'None'].filter(like='ects_')"
   ]
  },
  {
   "cell_type": "code",
   "execution_count": 23,
   "metadata": {},
   "outputs": [
    {
     "data": {
      "text/html": [
       "<div>\n",
       "<style scoped>\n",
       "    .dataframe tbody tr th:only-of-type {\n",
       "        vertical-align: middle;\n",
       "    }\n",
       "\n",
       "    .dataframe tbody tr th {\n",
       "        vertical-align: top;\n",
       "    }\n",
       "\n",
       "    .dataframe thead th {\n",
       "        text-align: right;\n",
       "    }\n",
       "</style>\n",
       "<table border=\"1\" class=\"dataframe\">\n",
       "  <thead>\n",
       "    <tr style=\"text-align: right;\">\n",
       "      <th></th>\n",
       "      <th>ects_1</th>\n",
       "      <th>ects_2</th>\n",
       "      <th>ects_3</th>\n",
       "      <th>ects_4</th>\n",
       "      <th>ects_5</th>\n",
       "      <th>ects_6</th>\n",
       "    </tr>\n",
       "  </thead>\n",
       "  <tbody>\n",
       "    <tr>\n",
       "      <th>0</th>\n",
       "      <td>-0.242226</td>\n",
       "      <td>0.252907</td>\n",
       "      <td>0.100737</td>\n",
       "      <td>-0.103630</td>\n",
       "      <td>-0.036702</td>\n",
       "      <td>0.040370</td>\n",
       "    </tr>\n",
       "    <tr>\n",
       "      <th>0</th>\n",
       "      <td>0.171081</td>\n",
       "      <td>0.179248</td>\n",
       "      <td>-0.096917</td>\n",
       "      <td>0.017548</td>\n",
       "      <td>0.020535</td>\n",
       "      <td>-0.006624</td>\n",
       "    </tr>\n",
       "    <tr>\n",
       "      <th>0</th>\n",
       "      <td>0.135002</td>\n",
       "      <td>-0.094772</td>\n",
       "      <td>-0.126590</td>\n",
       "      <td>0.110299</td>\n",
       "      <td>0.006492</td>\n",
       "      <td>0.022628</td>\n",
       "    </tr>\n",
       "    <tr>\n",
       "      <th>0</th>\n",
       "      <td>-0.072909</td>\n",
       "      <td>-0.066518</td>\n",
       "      <td>0.017333</td>\n",
       "      <td>0.002223</td>\n",
       "      <td>-0.083971</td>\n",
       "      <td>0.042877</td>\n",
       "    </tr>\n",
       "    <tr>\n",
       "      <th>0</th>\n",
       "      <td>0.020776</td>\n",
       "      <td>0.112950</td>\n",
       "      <td>-0.028227</td>\n",
       "      <td>0.071771</td>\n",
       "      <td>0.060161</td>\n",
       "      <td>-0.024482</td>\n",
       "    </tr>\n",
       "    <tr>\n",
       "      <th>...</th>\n",
       "      <td>...</td>\n",
       "      <td>...</td>\n",
       "      <td>...</td>\n",
       "      <td>...</td>\n",
       "      <td>...</td>\n",
       "      <td>...</td>\n",
       "    </tr>\n",
       "    <tr>\n",
       "      <th>4077</th>\n",
       "      <td>0.068363</td>\n",
       "      <td>-0.133170</td>\n",
       "      <td>-0.007390</td>\n",
       "      <td>0.062367</td>\n",
       "      <td>-0.015942</td>\n",
       "      <td>0.014732</td>\n",
       "    </tr>\n",
       "    <tr>\n",
       "      <th>4077</th>\n",
       "      <td>0.004892</td>\n",
       "      <td>-0.022645</td>\n",
       "      <td>0.575269</td>\n",
       "      <td>0.179834</td>\n",
       "      <td>-0.032269</td>\n",
       "      <td>0.047252</td>\n",
       "    </tr>\n",
       "    <tr>\n",
       "      <th>4077</th>\n",
       "      <td>0.068533</td>\n",
       "      <td>-0.031360</td>\n",
       "      <td>0.487498</td>\n",
       "      <td>0.120751</td>\n",
       "      <td>0.013223</td>\n",
       "      <td>-0.012261</td>\n",
       "    </tr>\n",
       "    <tr>\n",
       "      <th>4077</th>\n",
       "      <td>0.084238</td>\n",
       "      <td>0.013878</td>\n",
       "      <td>0.478208</td>\n",
       "      <td>0.073906</td>\n",
       "      <td>0.020132</td>\n",
       "      <td>0.001979</td>\n",
       "    </tr>\n",
       "    <tr>\n",
       "      <th>4077</th>\n",
       "      <td>0.003243</td>\n",
       "      <td>-0.025947</td>\n",
       "      <td>-0.137531</td>\n",
       "      <td>0.008011</td>\n",
       "      <td>0.031461</td>\n",
       "      <td>-0.014005</td>\n",
       "    </tr>\n",
       "  </tbody>\n",
       "</table>\n",
       "<p>6603509 rows × 6 columns</p>\n",
       "</div>"
      ],
      "text/plain": [
       "        ects_1    ects_2    ects_3    ects_4    ects_5    ects_6\n",
       "0    -0.242226  0.252907  0.100737 -0.103630 -0.036702  0.040370\n",
       "0     0.171081  0.179248 -0.096917  0.017548  0.020535 -0.006624\n",
       "0     0.135002 -0.094772 -0.126590  0.110299  0.006492  0.022628\n",
       "0    -0.072909 -0.066518  0.017333  0.002223 -0.083971  0.042877\n",
       "0     0.020776  0.112950 -0.028227  0.071771  0.060161 -0.024482\n",
       "...        ...       ...       ...       ...       ...       ...\n",
       "4077  0.068363 -0.133170 -0.007390  0.062367 -0.015942  0.014732\n",
       "4077  0.004892 -0.022645  0.575269  0.179834 -0.032269  0.047252\n",
       "4077  0.068533 -0.031360  0.487498  0.120751  0.013223 -0.012261\n",
       "4077  0.084238  0.013878  0.478208  0.073906  0.020132  0.001979\n",
       "4077  0.003243 -0.025947 -0.137531  0.008011  0.031461 -0.014005\n",
       "\n",
       "[6603509 rows x 6 columns]"
      ]
     },
     "execution_count": 23,
     "metadata": {},
     "output_type": "execute_result"
    }
   ],
   "source": [
    "df_ects_feats"
   ]
  },
  {
   "cell_type": "code",
   "execution_count": 24,
   "metadata": {},
   "outputs": [
    {
     "data": {
      "text/plain": [
       "0       0.011455\n",
       "0       0.284871\n",
       "0       0.053058\n",
       "0      -0.160965\n",
       "0       0.212950\n",
       "          ...   \n",
       "4077   -0.011039\n",
       "4077    0.752332\n",
       "4077    0.646384\n",
       "4077    0.672341\n",
       "4077   -0.134768\n",
       "Length: 6603509, dtype: float64"
      ]
     },
     "execution_count": 24,
     "metadata": {},
     "output_type": "execute_result"
    }
   ],
   "source": [
    "df_ects_feats.sum(axis=1)"
   ]
  },
  {
   "cell_type": "code",
   "execution_count": 25,
   "metadata": {},
   "outputs": [
    {
     "name": "stderr",
     "output_type": "stream",
     "text": [
      "<ipython-input-25-9d162a1ddf0c>:1: FutureWarning: Indexing with multiple keys (implicitly converted to a tuple of keys) will be deprecated, use a list instead.\n",
      "  df_ects_mean = df_feats.groupby(by=['drug'], as_index=True)['ects_1','ects_2','ects_3','ects_4','ects_5','ects_6'].mean()\n"
     ]
    }
   ],
   "source": [
    "df_ects_mean = df_feats.groupby(by=['drug'], as_index=True)['ects_1','ects_2','ects_3','ects_4','ects_5','ects_6'].mean()"
   ]
  },
  {
   "cell_type": "code",
   "execution_count": 26,
   "metadata": {},
   "outputs": [
    {
     "data": {
      "text/html": [
       "<div>\n",
       "<style scoped>\n",
       "    .dataframe tbody tr th:only-of-type {\n",
       "        vertical-align: middle;\n",
       "    }\n",
       "\n",
       "    .dataframe tbody tr th {\n",
       "        vertical-align: top;\n",
       "    }\n",
       "\n",
       "    .dataframe thead th {\n",
       "        text-align: right;\n",
       "    }\n",
       "</style>\n",
       "<table border=\"1\" class=\"dataframe\">\n",
       "  <thead>\n",
       "    <tr style=\"text-align: right;\">\n",
       "      <th></th>\n",
       "      <th>ects_1</th>\n",
       "      <th>ects_2</th>\n",
       "      <th>ects_3</th>\n",
       "      <th>ects_4</th>\n",
       "      <th>ects_5</th>\n",
       "      <th>ects_6</th>\n",
       "    </tr>\n",
       "    <tr>\n",
       "      <th>drug</th>\n",
       "      <th></th>\n",
       "      <th></th>\n",
       "      <th></th>\n",
       "      <th></th>\n",
       "      <th></th>\n",
       "      <th></th>\n",
       "    </tr>\n",
       "  </thead>\n",
       "  <tbody>\n",
       "    <tr>\n",
       "      <th>AA</th>\n",
       "      <td>0.011699</td>\n",
       "      <td>-0.017214</td>\n",
       "      <td>0.011313</td>\n",
       "      <td>0.010434</td>\n",
       "      <td>0.005925</td>\n",
       "      <td>0.000615</td>\n",
       "    </tr>\n",
       "    <tr>\n",
       "      <th>Alphamethyl</th>\n",
       "      <td>0.016139</td>\n",
       "      <td>-0.018323</td>\n",
       "      <td>-0.001244</td>\n",
       "      <td>0.005008</td>\n",
       "      <td>0.012064</td>\n",
       "      <td>0.006606</td>\n",
       "    </tr>\n",
       "    <tr>\n",
       "      <th>Chlorpromazine</th>\n",
       "      <td>0.004855</td>\n",
       "      <td>-0.011627</td>\n",
       "      <td>0.013204</td>\n",
       "      <td>0.009841</td>\n",
       "      <td>0.003988</td>\n",
       "      <td>0.004875</td>\n",
       "    </tr>\n",
       "    <tr>\n",
       "      <th>Clomipramine</th>\n",
       "      <td>0.013971</td>\n",
       "      <td>-0.002218</td>\n",
       "      <td>0.019637</td>\n",
       "      <td>-0.005817</td>\n",
       "      <td>0.001861</td>\n",
       "      <td>-0.001327</td>\n",
       "    </tr>\n",
       "    <tr>\n",
       "      <th>Dopamine</th>\n",
       "      <td>-0.014026</td>\n",
       "      <td>-0.001047</td>\n",
       "      <td>0.016020</td>\n",
       "      <td>0.008132</td>\n",
       "      <td>0.000729</td>\n",
       "      <td>0.002392</td>\n",
       "    </tr>\n",
       "    <tr>\n",
       "      <th>Fluoxetine</th>\n",
       "      <td>-0.006899</td>\n",
       "      <td>-0.024426</td>\n",
       "      <td>0.012401</td>\n",
       "      <td>0.016833</td>\n",
       "      <td>-0.016780</td>\n",
       "      <td>-0.003396</td>\n",
       "    </tr>\n",
       "    <tr>\n",
       "      <th>Imipramine</th>\n",
       "      <td>0.020975</td>\n",
       "      <td>-0.011341</td>\n",
       "      <td>0.031636</td>\n",
       "      <td>-0.002820</td>\n",
       "      <td>-0.001872</td>\n",
       "      <td>0.003993</td>\n",
       "    </tr>\n",
       "    <tr>\n",
       "      <th>Methiothepin</th>\n",
       "      <td>0.013835</td>\n",
       "      <td>0.004921</td>\n",
       "      <td>0.025100</td>\n",
       "      <td>-0.001079</td>\n",
       "      <td>0.007254</td>\n",
       "      <td>0.003764</td>\n",
       "    </tr>\n",
       "    <tr>\n",
       "      <th>Mianserin</th>\n",
       "      <td>0.000795</td>\n",
       "      <td>-0.012778</td>\n",
       "      <td>0.012222</td>\n",
       "      <td>0.007626</td>\n",
       "      <td>-0.002177</td>\n",
       "      <td>0.002462</td>\n",
       "    </tr>\n",
       "    <tr>\n",
       "      <th>None</th>\n",
       "      <td>0.009301</td>\n",
       "      <td>-0.007304</td>\n",
       "      <td>0.012728</td>\n",
       "      <td>0.007522</td>\n",
       "      <td>0.000620</td>\n",
       "      <td>0.004114</td>\n",
       "    </tr>\n",
       "    <tr>\n",
       "      <th>Octopamine</th>\n",
       "      <td>0.002007</td>\n",
       "      <td>-0.027072</td>\n",
       "      <td>0.014953</td>\n",
       "      <td>0.002287</td>\n",
       "      <td>0.016962</td>\n",
       "      <td>0.006366</td>\n",
       "    </tr>\n",
       "    <tr>\n",
       "      <th>Paroxetine</th>\n",
       "      <td>0.044074</td>\n",
       "      <td>0.010044</td>\n",
       "      <td>0.018040</td>\n",
       "      <td>0.014846</td>\n",
       "      <td>-0.012123</td>\n",
       "      <td>0.006694</td>\n",
       "    </tr>\n",
       "    <tr>\n",
       "      <th>Phentolamine</th>\n",
       "      <td>0.035508</td>\n",
       "      <td>-0.001948</td>\n",
       "      <td>0.014713</td>\n",
       "      <td>0.008436</td>\n",
       "      <td>-0.006241</td>\n",
       "      <td>0.002385</td>\n",
       "    </tr>\n",
       "    <tr>\n",
       "      <th>Quinpirole0003</th>\n",
       "      <td>0.004321</td>\n",
       "      <td>0.015086</td>\n",
       "      <td>0.011664</td>\n",
       "      <td>0.008303</td>\n",
       "      <td>-0.003396</td>\n",
       "      <td>0.002771</td>\n",
       "    </tr>\n",
       "    <tr>\n",
       "      <th>Quinpirole003</th>\n",
       "      <td>-0.009285</td>\n",
       "      <td>0.009418</td>\n",
       "      <td>0.016958</td>\n",
       "      <td>0.012496</td>\n",
       "      <td>0.005651</td>\n",
       "      <td>0.002391</td>\n",
       "    </tr>\n",
       "    <tr>\n",
       "      <th>Raclopride</th>\n",
       "      <td>-0.002185</td>\n",
       "      <td>0.005498</td>\n",
       "      <td>0.040685</td>\n",
       "      <td>0.006487</td>\n",
       "      <td>0.001007</td>\n",
       "      <td>0.006439</td>\n",
       "    </tr>\n",
       "    <tr>\n",
       "      <th>Serotonin</th>\n",
       "      <td>0.001455</td>\n",
       "      <td>-0.009065</td>\n",
       "      <td>0.014870</td>\n",
       "      <td>0.003284</td>\n",
       "      <td>0.006774</td>\n",
       "      <td>-0.001013</td>\n",
       "    </tr>\n",
       "    <tr>\n",
       "      <th>Tyramine</th>\n",
       "      <td>-0.006678</td>\n",
       "      <td>0.002158</td>\n",
       "      <td>0.005468</td>\n",
       "      <td>0.004182</td>\n",
       "      <td>-0.001819</td>\n",
       "      <td>0.014177</td>\n",
       "    </tr>\n",
       "  </tbody>\n",
       "</table>\n",
       "</div>"
      ],
      "text/plain": [
       "                  ects_1    ects_2    ects_3    ects_4    ects_5    ects_6\n",
       "drug                                                                      \n",
       "AA              0.011699 -0.017214  0.011313  0.010434  0.005925  0.000615\n",
       "Alphamethyl     0.016139 -0.018323 -0.001244  0.005008  0.012064  0.006606\n",
       "Chlorpromazine  0.004855 -0.011627  0.013204  0.009841  0.003988  0.004875\n",
       "Clomipramine    0.013971 -0.002218  0.019637 -0.005817  0.001861 -0.001327\n",
       "Dopamine       -0.014026 -0.001047  0.016020  0.008132  0.000729  0.002392\n",
       "Fluoxetine     -0.006899 -0.024426  0.012401  0.016833 -0.016780 -0.003396\n",
       "Imipramine      0.020975 -0.011341  0.031636 -0.002820 -0.001872  0.003993\n",
       "Methiothepin    0.013835  0.004921  0.025100 -0.001079  0.007254  0.003764\n",
       "Mianserin       0.000795 -0.012778  0.012222  0.007626 -0.002177  0.002462\n",
       "None            0.009301 -0.007304  0.012728  0.007522  0.000620  0.004114\n",
       "Octopamine      0.002007 -0.027072  0.014953  0.002287  0.016962  0.006366\n",
       "Paroxetine      0.044074  0.010044  0.018040  0.014846 -0.012123  0.006694\n",
       "Phentolamine    0.035508 -0.001948  0.014713  0.008436 -0.006241  0.002385\n",
       "Quinpirole0003  0.004321  0.015086  0.011664  0.008303 -0.003396  0.002771\n",
       "Quinpirole003  -0.009285  0.009418  0.016958  0.012496  0.005651  0.002391\n",
       "Raclopride     -0.002185  0.005498  0.040685  0.006487  0.001007  0.006439\n",
       "Serotonin       0.001455 -0.009065  0.014870  0.003284  0.006774 -0.001013\n",
       "Tyramine       -0.006678  0.002158  0.005468  0.004182 -0.001819  0.014177"
      ]
     },
     "execution_count": 26,
     "metadata": {},
     "output_type": "execute_result"
    }
   ],
   "source": [
    "df_ects_mean"
   ]
  },
  {
   "cell_type": "code",
   "execution_count": 27,
   "metadata": {},
   "outputs": [
    {
     "data": {
      "text/plain": [
       "['AA',\n",
       " 'Alphamethyl',\n",
       " 'Chlorpromazine',\n",
       " 'Clomipramine',\n",
       " 'Dopamine',\n",
       " 'Fluoxetine',\n",
       " 'Imipramine',\n",
       " 'Methiothepin',\n",
       " 'Mianserin',\n",
       " 'None',\n",
       " 'Octopamine',\n",
       " 'Paroxetine',\n",
       " 'Phentolamine',\n",
       " 'Quinpirole0003',\n",
       " 'Quinpirole003',\n",
       " 'Raclopride',\n",
       " 'Serotonin',\n",
       " 'Tyramine']"
      ]
     },
     "execution_count": 27,
     "metadata": {},
     "output_type": "execute_result"
    }
   ],
   "source": [
    "df_ects_mean.index.to_list()"
   ]
  },
  {
   "cell_type": "code",
   "execution_count": 28,
   "metadata": {},
   "outputs": [
    {
     "name": "stderr",
     "output_type": "stream",
     "text": [
      "<ipython-input-28-69bc185e747a>:1: FutureWarning: Indexing with multiple keys (implicitly converted to a tuple of keys) will be deprecated, use a list instead.\n",
      "  df_ects_var = df_feats.groupby(by=['drug'], as_index=True)['ects_1','ects_2','ects_3','ects_4','ects_5','ects_6'].var()\n"
     ]
    }
   ],
   "source": [
    "df_ects_var = df_feats.groupby(by=['drug'], as_index=True)['ects_1','ects_2','ects_3','ects_4','ects_5','ects_6'].var()"
   ]
  },
  {
   "cell_type": "code",
   "execution_count": 29,
   "metadata": {},
   "outputs": [
    {
     "name": "stderr",
     "output_type": "stream",
     "text": [
      "<ipython-input-29-ca0501a7c127>:1: FutureWarning: Indexing with multiple keys (implicitly converted to a tuple of keys) will be deprecated, use a list instead.\n",
      "  df_ects_std = df_feats.groupby(by=['drug'], as_index=True)['ects_1','ects_2','ects_3','ects_4','ects_5','ects_6'].std()\n"
     ]
    }
   ],
   "source": [
    "df_ects_std = df_feats.groupby(by=['drug'], as_index=True)['ects_1','ects_2','ects_3','ects_4','ects_5','ects_6'].std()"
   ]
  },
  {
   "cell_type": "code",
   "execution_count": 30,
   "metadata": {},
   "outputs": [
    {
     "data": {
      "text/plain": [
       "['Raclopride',\n",
       " 'Paroxetine',\n",
       " 'Fluoxetine',\n",
       " 'Methiothepin',\n",
       " 'Clomipramine',\n",
       " 'Serotonin',\n",
       " 'Alphamethyl',\n",
       " 'Dopamine',\n",
       " 'Imipramine',\n",
       " 'Chlorpromazine',\n",
       " 'AA',\n",
       " 'Phentolamine',\n",
       " 'Mianserin',\n",
       " 'Quinpirole003']"
      ]
     },
     "execution_count": 30,
     "metadata": {},
     "output_type": "execute_result"
    }
   ],
   "source": [
    "drugs_list"
   ]
  },
  {
   "cell_type": "code",
   "execution_count": 46,
   "metadata": {},
   "outputs": [
    {
     "data": {
      "text/plain": [
       "['Raclopride',\n",
       " 'Paroxetine',\n",
       " 'Fluoxetine',\n",
       " 'Methiothepin',\n",
       " 'Clomipramine',\n",
       " 'Serotonin',\n",
       " 'Alphamethyl',\n",
       " 'Dopamine',\n",
       " 'Imipramine',\n",
       " 'Chlorpromazine',\n",
       " 'AA',\n",
       " 'Phentolamine',\n",
       " 'Mianserin',\n",
       " 'Quinpirole003']"
      ]
     },
     "execution_count": 46,
     "metadata": {},
     "output_type": "execute_result"
    }
   ],
   "source": [
    "drugs_list"
   ]
  },
  {
   "cell_type": "code",
   "execution_count": 64,
   "metadata": {},
   "outputs": [
    {
     "name": "stdout",
     "output_type": "stream",
     "text": [
      "['Raclopride', 'Paroxetine', 'Fluoxetine', 'Methiothepin', 'Clomipramine', 'Serotonin', 'Alphamethyl', 'Dopamine', 'Imipramine', 'Chlorpromazine', 'AA', 'Phentolamine', 'Mianserin', 'Quinpirole003'] ['Quinpirole003', 'Mianserin', 'Phentolamine', 'AA', 'Chlorpromazine', 'Imipramine', 'Dopamine', 'Alphamethyl', 'Serotonin', 'Clomipramine', 'Methiothepin', 'Fluoxetine', 'Paroxetine', 'Raclopride', 'None']\n"
     ]
    }
   ],
   "source": [
    "rev_drugs_list = list(reversed(drugs_list)) + ['None']\n",
    "print(drugs_list, rev_drugs_list)"
   ]
  },
  {
   "cell_type": "code",
   "execution_count": 32,
   "metadata": {},
   "outputs": [],
   "source": [
    "import matplotlib.cm as cm\n",
    "import matplotlib.colors as mcolors\n"
   ]
  },
  {
   "cell_type": "code",
   "execution_count": 36,
   "metadata": {},
   "outputs": [
    {
     "data": {
      "text/plain": [
       "['ects_1', 'ects_2', 'ects_3', 'ects_4', 'ects_5', 'ects_6']"
      ]
     },
     "execution_count": 36,
     "metadata": {},
     "output_type": "execute_result"
    }
   ],
   "source": [
    "df_ects_mean.columns.to_list()"
   ]
  },
  {
   "cell_type": "code",
   "execution_count": 65,
   "metadata": {},
   "outputs": [
    {
     "name": "stdout",
     "output_type": "stream",
     "text": [
      "0.04407369189596104 -0.024425502604555525 0.04407369189596104\n"
     ]
    },
    {
     "data": {
      "text/plain": [
       "<matplotlib.colorbar.Colorbar at 0x7fcb930c3250>"
      ]
     },
     "execution_count": 65,
     "metadata": {},
     "output_type": "execute_result"
    },
    {
     "data": {
      "image/png": "[encoded data removed]",
      "text/plain": [
       "<Figure size 720x1440 with 2 Axes>"
      ]
     },
     "metadata": {
      "needs_background": "light"
     },
     "output_type": "display_data"
    }
   ],
   "source": [
    "from matplotlib.collections import PatchCollection\n",
    "\n",
    "\n",
    "ylabels = ['Ascorbic acid' if drug == 'AA' else 'Quinpirole' if drug == 'Quinpirole003' else drug \n",
    "           for drug in rev_drugs_list]\n",
    "xlabels = ['EC1', 'EC2', 'EC3','EC4','EC5','EC6'] #df_ects_mean.columns.to_list()\n",
    "\n",
    "N = len(ylabels)\n",
    "M = len(xlabels)\n",
    "\n",
    "x, y = np.meshgrid(np.arange(M), np.arange(N))\n",
    "s = df_ects_std.loc[new_drugs_list].values\n",
    "c = df_ects_mean.loc[new_drugs_list].values\n",
    "\n",
    "\n",
    "\n",
    "fig, ax = plt.subplots(figsize = (10,20))\n",
    "\n",
    "R = s/s.max()/2\n",
    "circles = [plt.Circle((j,i), radius= 0.9*r) for r,j, i, m, v in zip(R.flat, x.flat, y.flat, \n",
    "                                                                df_ects_mean.loc[rev_drugs_list].values.flat,\n",
    "                                                                df_ects_std.loc[rev_drugs_list].values.flat)]\n",
    "col = PatchCollection(circles, array=c.flatten(), cmap='coolwarm')\n",
    "ax.add_collection(col)\n",
    "c_limit = max(-1*c.flatten().min(), c.flatten().max())\n",
    "print(c_limit,c.flatten().min(), c.flatten().max())\n",
    "col.set_clim(-c_limit, c_limit)\n",
    "ax.set(xticks=np.arange(M), yticks=np.arange(N),\n",
    "       xticklabels=xlabels, yticklabels=ylabels)\n",
    "ax.set_xticks(np.arange(M+1)-0.5, minor=True)\n",
    "ax.set_yticks(np.arange(N+1)-0.5, minor=True)\n",
    "\n",
    "ax.grid(which='minor')\n",
    "\n",
    "fig.colorbar(col, shrink=0.7, label='Mean')"
   ]
  },
  {
   "cell_type": "code",
   "execution_count": 66,
   "metadata": {},
   "outputs": [],
   "source": [
    "fig.savefig('./ects_bubblechart_Oct29.svg')"
   ]
  },
  {
   "cell_type": "code",
   "execution_count": null,
   "metadata": {},
   "outputs": [],
   "source": [
    "0.05/25"
   ]
  },
  {
   "cell_type": "code",
   "execution_count": null,
   "metadata": {},
   "outputs": [],
   "source": []
  }
 ],
 "metadata": {
  "kernelspec": {
   "display_name": "Python 3",
   "language": "python",
   "name": "python3"
  },
  "language_info": {
   "codemirror_mode": {
    "name": "ipython",
    "version": 3
   },
   "file_extension": ".py",
   "mimetype": "text/x-python",
   "name": "python",
   "nbconvert_exporter": "python",
   "pygments_lexer": "ipython3",
   "version": "3.7.3"
  },
  "toc": {
   "base_numbering": 1,
   "nav_menu": {},
   "number_sections": true,
   "sideBar": true,
   "skip_h1_title": false,
   "title_cell": "Table of Contents",
   "title_sidebar": "Contents",
   "toc_cell": false,
   "toc_position": {},
   "toc_section_display": true,
   "toc_window_display": false
  }
 },
 "nbformat": 4,
 "nbformat_minor": 4
}
