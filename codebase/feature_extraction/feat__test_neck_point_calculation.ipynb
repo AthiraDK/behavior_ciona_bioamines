{
 "cells": [
  {
   "cell_type": "code",
   "execution_count": 1,
   "metadata": {},
   "outputs": [],
   "source": [
    "import os\n",
    "import sys\n",
    "import h5py\n",
    "import numpy as np\n",
    "import pandas as pd\n",
    "import random\n",
    "\n",
    "import matplotlib.pyplot as plt\n",
    "import seaborn as sns\n",
    "import ipywidgets as widgets\n",
    "\n",
    "from joblib import Parallel, delayed\n",
    "from IPython.display import display, HTML, Video\n",
    "\n",
    "import re\n",
    "import difflib\n",
    "\n",
    "from scipy.signal import savgol_filter"
   ]
  },
  {
   "cell_type": "code",
   "execution_count": 2,
   "metadata": {},
   "outputs": [],
   "source": [
    "sys.path.append('../code/')\n",
    "from data_handling import del_nan_rows, read_skeleton_as_array, calc_quality"
   ]
  },
  {
   "cell_type": "code",
   "execution_count": 3,
   "metadata": {},
   "outputs": [],
   "source": [
    "path_to_skels = \"/share/data/longterm/2/Jerneja_Behaviour/Tierpsy_skeleton_files_jerneja/\""
   ]
  },
  {
   "cell_type": "code",
   "execution_count": 4,
   "metadata": {},
   "outputs": [],
   "source": [
    "skel_files_list = [os.path.join(root,name) for root,dirs,names in os.walk(path_to_skels) for name in names \n",
    "                   if name.endswith('skeletons.hdf5')]"
   ]
  },
  {
   "cell_type": "markdown",
   "metadata": {},
   "source": [
    "## Looking at the 'quality' of the skeleton files\n",
    "\n",
    "- How many NaN rows exist in each of the skeleton files\n",
    "- Is there any bias : number of NaN rows --vs---drug type or lightOn etc.."
   ]
  },
  {
   "cell_type": "code",
   "execution_count": 5,
   "metadata": {},
   "outputs": [],
   "source": [
    "def get_quality(skel_file):\n",
    "    \n",
    "    with h5py.File(skel_file,'r') as f:\n",
    "        \n",
    "        q = calc_quality(f['skeleton'])\n",
    "    \n",
    "    return q"
   ]
  },
  {
   "cell_type": "code",
   "execution_count": 6,
   "metadata": {},
   "outputs": [],
   "source": [
    "def get_true_drug(drug):\n",
    "    \n",
    "    true_drug_names = ['AA', 'Dopamine','Fluoxetine','Methiothepin', 'None', 'Octopamine', 'Serotonin',\n",
    "               'Tyramine', 'Alphamethyl', 'Chlorpromazine', 'Clomipramine','Imipramine',  \n",
    "               'Mianserin','Paroxetine', 'Phentolamine', 'Quinpirole', 'Raclopride']\n",
    "    \n",
    "    \n",
    "    # get only the alpha (name and not conc) part of the drug label\n",
    "    drug_split = re.findall(r\"[^\\W\\d_]+|\\d+\", drug)\n",
    "\n",
    "    # find the closest match of the drug name from the list \"drug_names\"\n",
    "    true_drug_alpha = difflib.get_close_matches(drug, true_drug_names, \n",
    "                                              n= 1, cutoff= 0.5)\n",
    "\n",
    "    if true_drug_alpha[0] != 'Quinpirole':\n",
    "        true_drug = true_drug_alpha[0]\n",
    "    else:\n",
    "        # replace the old spelling with the closest match \n",
    "        true_drug = drug.replace(drug_split[0],true_drug_alpha[0])\n",
    "\n",
    "    \n",
    "    return true_drug"
   ]
  },
  {
   "cell_type": "code",
   "execution_count": 7,
   "metadata": {},
   "outputs": [],
   "source": [
    "def get_skel_dict(skel_file):\n",
    "\n",
    "    \n",
    "    skel_id = os.path.basename(skel_file).split('_skeletons')[0]\n",
    "    \n",
    "    drug = skel_id.split('_')[4]\n",
    "    if drug == 'ascorbicacid':\n",
    "        drug = 'AA'\n",
    "        \n",
    "        \n",
    "    try:\n",
    "        drug = get_true_drug(drug)\n",
    "    except IndexError:\n",
    "        print(f\"Error thrown for:{drug}\")\n",
    "        \n",
    "        \n",
    "    with h5py.File(skel_file,'r') as f:\n",
    "        skel_quality = calc_quality(f['skeleton'])\n",
    "        skel_lengths = np.array(f['skeleton_length'])\n",
    "         \n",
    "    return {'id':skel_id,'drug':drug, 'quality':skel_quality}"
   ]
  },
  {
   "cell_type": "code",
   "execution_count": 8,
   "metadata": {},
   "outputs": [
    {
     "name": "stderr",
     "output_type": "stream",
     "text": [
      "[Parallel(n_jobs=10)]: Using backend LokyBackend with 10 concurrent workers.\n",
      "[Parallel(n_jobs=10)]: Done  52 tasks      | elapsed:    7.8s\n",
      "[Parallel(n_jobs=10)]: Done 142 tasks      | elapsed:   11.5s\n",
      "[Parallel(n_jobs=10)]: Done 268 tasks      | elapsed:   17.7s\n",
      "[Parallel(n_jobs=10)]: Done 430 tasks      | elapsed:   30.9s\n",
      "[Parallel(n_jobs=10)]: Done 628 tasks      | elapsed:   43.9s\n",
      "[Parallel(n_jobs=10)]: Done 862 tasks      | elapsed:   57.5s\n",
      "[Parallel(n_jobs=10)]: Done 1132 tasks      | elapsed:  1.2min\n",
      "[Parallel(n_jobs=10)]: Done 1438 tasks      | elapsed:  1.5min\n",
      "[Parallel(n_jobs=10)]: Done 1780 tasks      | elapsed:  1.8min\n",
      "[Parallel(n_jobs=10)]: Done 2158 tasks      | elapsed:  2.1min\n",
      "[Parallel(n_jobs=10)]: Done 2572 tasks      | elapsed:  2.4min\n",
      "[Parallel(n_jobs=10)]: Done 3022 tasks      | elapsed:  2.8min\n",
      "[Parallel(n_jobs=10)]: Done 3508 tasks      | elapsed:  3.3min\n",
      "[Parallel(n_jobs=10)]: Done 4030 tasks      | elapsed:  3.7min\n",
      "[Parallel(n_jobs=10)]: Done 4286 out of 4286 | elapsed:  3.9min finished\n"
     ]
    }
   ],
   "source": [
    "skel_list  = Parallel(n_jobs=10, verbose = 5)(delayed(get_skel_dict)(skel_file) for skel_file in skel_files_list)"
   ]
  },
  {
   "cell_type": "code",
   "execution_count": 10,
   "metadata": {},
   "outputs": [],
   "source": [
    "df_skel_data = pd.DataFrame(skel_list)"
   ]
  },
  {
   "cell_type": "code",
   "execution_count": 11,
   "metadata": {},
   "outputs": [
    {
     "data": {
      "text/plain": [
       "array(['AA', 'Alphamethyl', 'Chlorpromazine', 'Clomipramine', 'Dopamine',\n",
       "       'Fluoxetine', 'Imipramine', 'Methiothepin', 'Mianserin', 'None',\n",
       "       'Octopamine', 'Paroxetine', 'Phentolamine', 'Quinpirole0003',\n",
       "       'Quinpirole003', 'Raclopride', 'Serotonin', 'Tyramine'],\n",
       "      dtype=object)"
      ]
     },
     "execution_count": 11,
     "metadata": {},
     "output_type": "execute_result"
    }
   ],
   "source": [
    "np.unique(df_skel_data['drug'])"
   ]
  },
  {
   "cell_type": "code",
   "execution_count": 12,
   "metadata": {},
   "outputs": [
    {
     "data": {
      "text/plain": [
       "array([<matplotlib.axes._subplots.AxesSubplot object at 0x7f98a5b145c0>,\n",
       "       <matplotlib.axes._subplots.AxesSubplot object at 0x7f98a5ade6d8>,\n",
       "       <matplotlib.axes._subplots.AxesSubplot object at 0x7f98a5bdba20>,\n",
       "       <matplotlib.axes._subplots.AxesSubplot object at 0x7f98a5bbc080>,\n",
       "       <matplotlib.axes._subplots.AxesSubplot object at 0x7f98a5aabeb8>,\n",
       "       <matplotlib.axes._subplots.AxesSubplot object at 0x7f98a5a53e48>,\n",
       "       <matplotlib.axes._subplots.AxesSubplot object at 0x7f98a5a02dd8>,\n",
       "       <matplotlib.axes._subplots.AxesSubplot object at 0x7f98a5a31d30>,\n",
       "       <matplotlib.axes._subplots.AxesSubplot object at 0x7f98a59e2cf8>,\n",
       "       <matplotlib.axes._subplots.AxesSubplot object at 0x7f98a5997c18>,\n",
       "       <matplotlib.axes._subplots.AxesSubplot object at 0x7f98a5949ba8>,\n",
       "       <matplotlib.axes._subplots.AxesSubplot object at 0x7f98a58feb38>,\n",
       "       <matplotlib.axes._subplots.AxesSubplot object at 0x7f98a5932ac8>,\n",
       "       <matplotlib.axes._subplots.AxesSubplot object at 0x7f98a58e8a58>,\n",
       "       <matplotlib.axes._subplots.AxesSubplot object at 0x7f98a589c9e8>,\n",
       "       <matplotlib.axes._subplots.AxesSubplot object at 0x7f98a5852978>,\n",
       "       <matplotlib.axes._subplots.AxesSubplot object at 0x7f98a5806908>,\n",
       "       <matplotlib.axes._subplots.AxesSubplot object at 0x7f98a57ba898>],\n",
       "      dtype=object)"
      ]
     },
     "execution_count": 12,
     "metadata": {},
     "output_type": "execute_result"
    },
    {
     "data": {
      "image/png": "[encoded data removed]",
      "text/plain": [
       "<Figure size 1440x1440 with 18 Axes>"
      ]
     },
     "metadata": {
      "needs_background": "light"
     },
     "output_type": "display_data"
    }
   ],
   "source": [
    "fig, axes = plt.subplots(6,3,figsize=(20,20), sharex=True)\n",
    "df_skel_data.hist(by='drug',bins=100, ax= axes)"
   ]
  },
  {
   "cell_type": "markdown",
   "metadata": {},
   "source": [
    "## Skeleton lengths "
   ]
  },
  {
   "cell_type": "code",
   "execution_count": 13,
   "metadata": {},
   "outputs": [
    {
     "data": {
      "text/plain": [
       "['/share/data/longterm/2/Jerneja_Behaviour/Tierpsy_skeleton_files_jerneja/20181128/Results/avis/20181128_142141_1_5m0s_None_None_Light_INVERTED_skeletons.hdf5']"
      ]
     },
     "execution_count": 13,
     "metadata": {},
     "output_type": "execute_result"
    }
   ],
   "source": [
    "n_files = 1\n",
    "skel_file = random.sample(skel_files_list, n_files)\n",
    "skel_file"
   ]
  },
  {
   "cell_type": "code",
   "execution_count": 55,
   "metadata": {},
   "outputs": [],
   "source": [
    "test_data= h5py.File(skel_file[0],'r')"
   ]
  },
  {
   "cell_type": "code",
   "execution_count": 56,
   "metadata": {},
   "outputs": [
    {
     "name": "stdout",
     "output_type": "stream",
     "text": [
      "(53, 49, 2) 100.0\n"
     ]
    }
   ],
   "source": [
    "skel_data = test_data['skeleton']\n",
    "q = calc_quality(skel_data)\n",
    "print(skel_data.shape, q)"
   ]
  },
  {
   "cell_type": "code",
   "execution_count": 57,
   "metadata": {},
   "outputs": [
    {
     "data": {
      "text/plain": [
       "(53, 49)"
      ]
     },
     "execution_count": 57,
     "metadata": {},
     "output_type": "execute_result"
    }
   ],
   "source": [
    "cont_widths = test_data['contour_width']\n",
    "cont_widths.shape"
   ]
  },
  {
   "cell_type": "code",
   "execution_count": 58,
   "metadata": {},
   "outputs": [],
   "source": [
    "cont_coords1 = test_data['contour_side1']\n",
    "cont_coords2 = test_data['contour_side2']"
   ]
  },
  {
   "cell_type": "code",
   "execution_count": 68,
   "metadata": {},
   "outputs": [
    {
     "data": {
      "application/vnd.jupyter.widget-view+json": {
       "model_id": "7c76cb8ae97344d6a5e432cd9e9a564c",
       "version_major": 2,
       "version_minor": 0
      },
      "text/plain": [
       "interactive(children=(IntSlider(value=0, continuous_update=False, description='Frames:', max=52), Output()), _…"
      ]
     },
     "metadata": {},
     "output_type": "display_data"
    }
   ],
   "source": [
    "slider_frame = widgets.IntSlider(value= 0,\n",
    "                                        min=0,\n",
    "                                        max= len(test_data['skeleton_length'])-1,\n",
    "                                        step=1,\n",
    "                                        description='Frames:',\n",
    "                                        disabled=False,\n",
    "                                        continuous_update=False,\n",
    "                                        orientation='horizontal',\n",
    "                                        readout=True,\n",
    "                                        readout_format='d')\n",
    "\n",
    "\n",
    "@widgets.interact\n",
    "def plot_skeleton_with_contour(ind_frame = slider_frame):\n",
    "    \n",
    "    fig, axes = plt.subplots(3,1,figsize=(10,15))\n",
    "    \n",
    "    axes[0].scatter(skel_data[ind_frame,:,0],skel_data[ind_frame,:,1])\n",
    "    \n",
    "    axes[0].scatter(skel_data[ind_frame,0,0],skel_data[ind_frame,0,1],c='r')\n",
    "    axes[0].scatter(skel_data[ind_frame,20,0],skel_data[ind_frame,20,1],c='r')\n",
    "    axes[0].set_aspect('equal')\n",
    "    axes[0].autoscale(True)\n",
    "    \n",
    "    filt_skel_data = savgol_filter(skel_data[ind_frame,:,:].reshape(1,-1,2),\n",
    "                                    window_length=15,polyorder=2,mode='nearest', axis=1)\n",
    "    \n",
    "    axes[1].scatter(filt_skel_data[0,:,0],filt_skel_data[0,:,1])\n",
    "    axes[1].set_aspect('equal')\n",
    "    \n",
    "    axes[2].plot(test_data['skeleton_length'])\n",
    "    axes[2].axvline(x=ind_frame, c='k')\n"
   ]
  },
  {
   "cell_type": "markdown",
   "metadata": {},
   "source": [
    "## Neck point calculation"
   ]
  },
  {
   "cell_type": "code",
   "execution_count": 69,
   "metadata": {},
   "outputs": [],
   "source": [
    "# Jerneja's calculation : neck_point\n",
    "\n",
    "def get_neckpoint(cont_widths):\n",
    "    \n",
    "    \n",
    "    print(np.shape(cont_widths),np.shape(np.diff(cont_widths)))\n",
    "    diff_contour = np.nanmean(np.diff(cont_widths), axis=0)\n",
    "    print(diff_contour.shape)\n",
    "    diff_contour = diff_contour[3:26]\n",
    "    neck_point = np.argmin(diff_contour)+4\n",
    "    \n",
    "    return neck_point"
   ]
  },
  {
   "cell_type": "code",
   "execution_count": 84,
   "metadata": {},
   "outputs": [
    {
     "data": {
      "application/vnd.jupyter.widget-view+json": {
       "model_id": "eb1aa648b58344e781985af750508220",
       "version_major": 2,
       "version_minor": 0
      },
      "text/plain": [
       "interactive(children=(IntSlider(value=0, continuous_update=False, description='Frames:', max=53), Output()), _…"
      ]
     },
     "metadata": {},
     "output_type": "display_data"
    }
   ],
   "source": [
    "slider_frame = widgets.IntSlider(value= 0,\n",
    "                                        min=0,\n",
    "                                        max= len(test_data['skeleton_length']),\n",
    "                                        step=1,\n",
    "                                        description='Frames:',\n",
    "                                        disabled=False,\n",
    "                                        continuous_update=False,\n",
    "                                        orientation='horizontal',\n",
    "                                        readout=True,\n",
    "                                        readout_format='d')\n",
    "\n",
    "\n",
    "@widgets.interact\n",
    "def plot_skeleton_with_contour(ind_frame = slider_frame):\n",
    "    \n",
    "    fig, axes = plt.subplots(2,1,figsize=(10,15))\n",
    "    \n",
    "    axes[0].plot(skel_data[ind_frame,:,0],skel_data[ind_frame,:,1])\n",
    "    axes[0].plot(cont_coords1[ind_frame,:,0],cont_coords1[ind_frame,:,1])\n",
    "    axes[0].plot(cont_coords2[ind_frame,:,0],cont_coords2[ind_frame,:,1])\n",
    "    axes[0].set_aspect('equal')\n",
    "    axes[0].autoscale(True)\n",
    "    \n",
    "    neck_pt = get_neckpoint(cont_widths)\n",
    "    print(neck_pt)\n",
    "    axes[0].scatter(skel_data[ind_frame,neck_pt,0],skel_data[ind_frame,neck_pt,1],c='r')\n",
    "    axes[0].scatter(cont_coords1[ind_frame,neck_pt,0],cont_coords1[ind_frame,neck_pt,1],c='r')\n",
    "    axes[0].scatter(cont_coords2[ind_frame,neck_pt,0],cont_coords2[ind_frame,neck_pt,1],c='r')\n",
    "    \n",
    "    axes[0].scatter(skel_data[ind_frame,20,0],skel_data[ind_frame,20,1],c='k')\n",
    "    axes[0].scatter(cont_coords1[ind_frame,20,0],cont_coords1[ind_frame,20,1],c='k')\n",
    "    axes[0].scatter(cont_coords2[ind_frame,20,0],cont_coords2[ind_frame,20,1],c='k')\n",
    "    \n",
    "    axes[0].fill(cont_coords1[ind_frame,0:neck_pt,0],\n",
    "                         cont_coords1[ind_frame,0:neck_pt,1],\n",
    "                         cont_coords2[ind_frame,0:neck_pt,0],\n",
    "                         cont_coords2[ind_frame,0:neck_pt,1])\n",
    "    \n",
    "    axes[1].plot(test_data['skeleton_length'])\n",
    "    axes[1].axvline(x=ind_frame, c='k')\n"
   ]
  },
  {
   "cell_type": "code",
   "execution_count": 88,
   "metadata": {},
   "outputs": [
    {
     "name": "stdout",
     "output_type": "stream",
     "text": [
      "jupyter core     : 4.6.2\n",
      "jupyter-notebook : 6.0.3\n",
      "qtconsole        : 4.6.0\n",
      "ipython          : 7.12.0\n",
      "ipykernel        : 5.1.4\n",
      "jupyter client   : 5.3.4\n",
      "jupyter lab      : 1.2.6\n",
      "nbconvert        : 5.6.1\n",
      "ipywidgets       : 7.5.1\n",
      "nbformat         : 5.0.4\n",
      "traitlets        : 4.3.3\n"
     ]
    }
   ],
   "source": [
    "!jupyter --version"
   ]
  },
  {
   "cell_type": "code",
   "execution_count": 96,
   "metadata": {},
   "outputs": [],
   "source": [
    "video_file_path = '/share/data/longterm/2/Jerneja_Behaviour/Tierpsy_skeleton_files_jerneja/20180926/redo/20180926_144454_1_5m0s_AA_None_None_INVERTED.avi'"
   ]
  },
  {
   "cell_type": "code",
   "execution_count": 95,
   "metadata": {},
   "outputs": [
    {
     "data": {
      "application/vnd.jupyter.widget-view+json": {
       "model_id": "aee58b584bee4c349ee0bda60ce22c6d",
       "version_major": 2,
       "version_minor": 0
      },
      "text/plain": [
       "Video(value=b'RIFF\\x90\\xdb\\xae0AVI LIST\\xec\\x11\\x00\\x00hdrlavih8\\x00\\x00\\x005\\x82\\x00\\x00\\x00\\x00\\x96\\x00\\x00\\…"
      ]
     },
     "metadata": {},
     "output_type": "display_data"
    }
   ],
   "source": [
    "vid = widgets.Video.from_file(video_file_path)\n",
    "display(vid)"
   ]
  },
  {
   "cell_type": "code",
   "execution_count": 98,
   "metadata": {},
   "outputs": [
    {
     "data": {
      "text/html": [
       "<video src=\"/share/data/longterm/2/Jerneja_Behaviour/Tierpsy_skeleton_files_jerneja/20180926/redo/20180926_144454_1_5m0s_AA_None_None_INVERTED.avi\" controls  >\n",
       "      Your browser does not support the <code>video</code> element.\n",
       "    </video>"
      ],
      "text/plain": [
       "<IPython.core.display.Video object>"
      ]
     },
     "execution_count": 98,
     "metadata": {},
     "output_type": "execute_result"
    }
   ],
   "source": [
    "Video(video_file_path)"
   ]
  },
  {
   "cell_type": "code",
   "execution_count": 38,
   "metadata": {},
   "outputs": [
    {
     "data": {
      "text/plain": [
       "27.99"
      ]
     },
     "execution_count": 38,
     "metadata": {},
     "output_type": "execute_result"
    }
   ],
   "source": [
    "8397/300"
   ]
  },
  {
   "cell_type": "markdown",
   "metadata": {},
   "source": [
    "# Neck point calculation"
   ]
  },
  {
   "cell_type": "code",
   "execution_count": null,
   "metadata": {},
   "outputs": [],
   "source": [
    "f = h5py.file(filename, 'a')\n"
   ]
  },
  {
   "cell_type": "code",
   "execution_count": null,
   "metadata": {},
   "outputs": [],
   "source": [
    "file_path = \"/data/longterm/10/Marios Tierpsy Analysis/29042020_90fps/RawVideos/Results/\""
   ]
  }
 ],
 "metadata": {
  "kernelspec": {
   "display_name": "Python 3",
   "language": "python",
   "name": "python3"
  },
  "language_info": {
   "codemirror_mode": {
    "name": "ipython",
    "version": 3
   },
   "file_extension": ".py",
   "mimetype": "text/x-python",
   "name": "python",
   "nbconvert_exporter": "python",
   "pygments_lexer": "ipython3",
   "version": "3.6.9"
  },
  "toc": {
   "base_numbering": 1,
   "nav_menu": {},
   "number_sections": true,
   "sideBar": true,
   "skip_h1_title": false,
   "title_cell": "Table of Contents",
   "title_sidebar": "Contents",
   "toc_cell": false,
   "toc_position": {},
   "toc_section_display": true,
   "toc_window_display": false
  }
 },
 "nbformat": 4,
 "nbformat_minor": 4
}
