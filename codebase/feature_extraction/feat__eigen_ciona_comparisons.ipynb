{
 "cells": [
  {
   "cell_type": "code",
   "execution_count": 1,
   "metadata": {},
   "outputs": [],
   "source": [
    "import os\n",
    "import sys\n",
    "import numpy as np\n",
    "import pandas as pd\n",
    "import pickle as pkl\n",
    "\n",
    "\n",
    "\n",
    "import seaborn as sns\n",
    "import matplotlib.pyplot as plt\n",
    "from mpl_toolkits.mplot3d import Axes3D\n",
    "import matplotlib.cm as cm\n",
    "\n",
    "from IPython.display import display, HTML\n",
    "\n",
    "import ipywidgets as widgets\n",
    "from ipywidgets import Layout\n",
    "\n",
    "from difflib import get_close_matches\n",
    "from scipy.signal import savgol_filter\n",
    "\n",
    "import h5py\n",
    "from joblib import Parallel, delayed\n",
    "\n",
    "import random\n",
    "random.seed(22)"
   ]
  },
  {
   "cell_type": "code",
   "execution_count": 2,
   "metadata": {},
   "outputs": [],
   "source": [
    "sys.path.append(\"../code/\")\n",
    "from extract_angles import get_bend_angles, get_tan_angles\n",
    "from extract_curvatures import get_curv_savgol"
   ]
  },
  {
   "cell_type": "code",
   "execution_count": 3,
   "metadata": {},
   "outputs": [],
   "source": [
    "%matplotlib widget"
   ]
  },
  {
   "cell_type": "markdown",
   "metadata": {},
   "source": [
    "## Get the skeletons per each class"
   ]
  },
  {
   "cell_type": "code",
   "execution_count": 4,
   "metadata": {},
   "outputs": [],
   "source": [
    "skel_file_folder_test = \"/share/data/temp/athira/tierpsy_skeleton_files_lightON_npy/\"\n",
    "skel_file_folder_wild = \"/share/data/temp/athira/tierpsy_skeleton_files_for_eigen_npy/\"\n",
    "#skel_file_folder = \"/media/athira/Seagate Expansion Drive/Backup_Feb26_2020/athira_data/tierpsy_skeleton_files_for_eigen_npy/\""
   ]
  },
  {
   "cell_type": "code",
   "execution_count": 5,
   "metadata": {},
   "outputs": [
    {
     "name": "stdout",
     "output_type": "stream",
     "text": [
      "Number of skeleton files which belong to control group:99\n"
     ]
    }
   ],
   "source": [
    "# From the saved skeleton arrays, pick the ones belonging to test group \n",
    "\n",
    "skel_files_test = [os.path.join(root,name) for root,dirs,filenames in os.walk(skel_file_folder_test) \n",
    "                                              for name in filenames if ((name.endswith('.npy')) & \n",
    "                                                                        (name.split(\"_\")[5] == \"None\") &\n",
    "                                                                        (name.split(\"_\")[7] == \"Light\")\n",
    "                                                                       )]\n",
    "#print([os.path.basename(fname).split(\"_\")[4] for fname in skel_files_control])\n",
    "print(f\"Number of skeleton files which belong to control group:{len(skel_files_test)}\")"
   ]
  },
  {
   "cell_type": "code",
   "execution_count": 6,
   "metadata": {},
   "outputs": [
    {
     "name": "stdout",
     "output_type": "stream",
     "text": [
      "Number of skeleton files which belong to control group:87\n"
     ]
    }
   ],
   "source": [
    "# From the saved skeleton arrays, pick the ones belonging to test group \n",
    "\n",
    "skel_files_wild = [os.path.join(root,name) for root,dirs,filenames in os.walk(skel_file_folder_wild) \n",
    "                                              for name in filenames if ((name.endswith('.npy')) & \n",
    "                                                                        (name.split(\"_\")[5] == \"None\") &\n",
    "                                                                        (name.split(\"_\")[7] == \"None\")\n",
    "                                                                       )]\n",
    "#print([os.path.basename(fname).split(\"_\")[4] for fname in skel_files_control])\n",
    "print(f\"Number of skeleton files which belong to control group:{len(skel_files_wild)}\")"
   ]
  },
  {
   "cell_type": "markdown",
   "metadata": {},
   "source": [
    "### Calculate features"
   ]
  },
  {
   "cell_type": "code",
   "execution_count": 7,
   "metadata": {},
   "outputs": [],
   "source": [
    "# Load all the skeletons as a list of 3d arrays\n",
    "\n",
    "skel_arrays_test = [np.load(skel_file) for skel_file in skel_files_test]\n",
    "skel_arrays_wild = [np.load(skel_file) for skel_file in skel_files_wild]"
   ]
  },
  {
   "cell_type": "code",
   "execution_count": 8,
   "metadata": {},
   "outputs": [],
   "source": [
    "tail_end = -1\n",
    "skel_arrays_test = [skel_arr[:,:tail_end,:] for skel_arr in skel_arrays_test]\n",
    "skel_arrays_wild = [skel_arr[:,:tail_end,:] for skel_arr in skel_arrays_wild]"
   ]
  },
  {
   "cell_type": "code",
   "execution_count": 9,
   "metadata": {},
   "outputs": [],
   "source": [
    "def get_curv_list(skel_arrays):\n",
    "    \n",
    "    curv_list = Parallel(n_jobs= 10, verbose = 5)(delayed(get_curv_savgol)(skel_arr) \n",
    "                                                for skel_arr in skel_arrays)\n",
    "    return curv_list"
   ]
  },
  {
   "cell_type": "code",
   "execution_count": 10,
   "metadata": {},
   "outputs": [
    {
     "name": "stderr",
     "output_type": "stream",
     "text": [
      "[Parallel(n_jobs=10)]: Using backend LokyBackend with 10 concurrent workers.\n",
      "[Parallel(n_jobs=10)]: Done  54 tasks      | elapsed:    1.1s\n",
      "[Parallel(n_jobs=10)]: Done  80 out of  99 | elapsed:    1.2s remaining:    0.3s\n",
      "[Parallel(n_jobs=10)]: Done  99 out of  99 | elapsed:    1.3s finished\n",
      "[Parallel(n_jobs=10)]: Using backend LokyBackend with 10 concurrent workers.\n",
      "[Parallel(n_jobs=10)]: Done  68 out of  87 | elapsed:    0.5s remaining:    0.1s\n",
      "[Parallel(n_jobs=10)]: Done  87 out of  87 | elapsed:    0.6s finished\n"
     ]
    }
   ],
   "source": [
    "\n",
    "curv_list_test = get_curv_list(skel_arrays_test)\n",
    "curv_matrix_test = np.vstack(curv_list_test)\n",
    "\n",
    "curv_list_wild = get_curv_list(skel_arrays_wild)\n",
    "curv_matrix_wild = np.vstack(curv_list_wild)"
   ]
  },
  {
   "cell_type": "markdown",
   "metadata": {},
   "source": [
    "### Get eigen dictionary calculated from wild control type"
   ]
  },
  {
   "cell_type": "code",
   "execution_count": 11,
   "metadata": {},
   "outputs": [],
   "source": [
    "# \n",
    "eig_dict = np.load('eigen_dict_all.npy', allow_pickle=True).item()"
   ]
  },
  {
   "cell_type": "code",
   "execution_count": 12,
   "metadata": {},
   "outputs": [
    {
     "data": {
      "text/plain": [
       "(48, 6)"
      ]
     },
     "execution_count": 12,
     "metadata": {},
     "output_type": "execute_result"
    }
   ],
   "source": [
    "### Calculate ects for the test group\n",
    "\n",
    "eig_vec_matrix = np.array(eig_dict['eig_vecs'][:,0:eig_dict['n_modes']])\n",
    "eig_vec_matrix.shape"
   ]
  },
  {
   "cell_type": "markdown",
   "metadata": {},
   "source": [
    "### Get ects values"
   ]
  },
  {
   "cell_type": "code",
   "execution_count": 13,
   "metadata": {},
   "outputs": [
    {
     "data": {
      "text/plain": [
       "(463246, 6)"
      ]
     },
     "execution_count": 13,
     "metadata": {},
     "output_type": "execute_result"
    }
   ],
   "source": [
    "ects_test = np.dot(curv_matrix_test,eig_vec_matrix)\n",
    "ects_test.shape"
   ]
  },
  {
   "cell_type": "code",
   "execution_count": 14,
   "metadata": {},
   "outputs": [
    {
     "data": {
      "text/plain": [
       "(809320, 6)"
      ]
     },
     "execution_count": 14,
     "metadata": {},
     "output_type": "execute_result"
    }
   ],
   "source": [
    "ects_wild = np.dot(curv_matrix_wild,eig_vec_matrix)\n",
    "ects_wild.shape"
   ]
  },
  {
   "cell_type": "markdown",
   "metadata": {},
   "source": [
    "### Density plots for ects"
   ]
  },
  {
   "cell_type": "code",
   "execution_count": 15,
   "metadata": {},
   "outputs": [
    {
     "data": {
      "application/vnd.jupyter.widget-view+json": {
       "model_id": "1f81edcd32cd4b219a15ba1b62c522ff",
       "version_major": 2,
       "version_minor": 0
      },
      "text/plain": [
       "Canvas(toolbar=Toolbar(toolitems=[('Home', 'Reset original view', 'home', 'home'), ('Back', 'Back to previous …"
      ]
     },
     "metadata": {},
     "output_type": "display_data"
    }
   ],
   "source": [
    "from scipy.stats import gaussian_kde\n",
    "  \n",
    "fig, axes = plt.subplots(eig_dict['n_modes'],1,figsize=(6,12),sharex=True)\n",
    "\n",
    "for i in range(eig_dict['n_modes']):\n",
    "        sns.set_style('whitegrid')\n",
    "        sns.kdeplot(ects_test[:,i], ax=axes[i], label='test', clip=(-1,1))\n",
    "        sns.kdeplot(ects_wild[:,i], ax=axes[i], label='wild', clip=(-1,1))\n",
    "        \n",
    "        axes[i].set_xlabel(f\"eigen coeff {i}\")\n",
    "        axes[i].set_ylabel('density')\n"
   ]
  },
  {
   "cell_type": "code",
   "execution_count": 16,
   "metadata": {},
   "outputs": [
    {
     "data": {
      "application/vnd.jupyter.widget-view+json": {
       "model_id": "1b58dd432364499eb3c66b62afe590e3",
       "version_major": 2,
       "version_minor": 0
      },
      "text/plain": [
       "Canvas(toolbar=Toolbar(toolitems=[('Home', 'Reset original view', 'home', 'home'), ('Back', 'Back to previous …"
      ]
     },
     "metadata": {},
     "output_type": "display_data"
    }
   ],
   "source": [
    "from scipy.stats import gaussian_kde\n",
    "  \n",
    "fig, axes = plt.subplots(1,1,figsize=(10,5))\n",
    "\n",
    "for i in range(eig_dict['n_modes']):\n",
    "        sns.set_style('whitegrid')\n",
    "        sns.kdeplot(ects_wild[:,i], ax=axes, label=f\"coeff_{i}\")\n",
    "        axes.set_xlabel('eigen coefficient value')\n",
    "        axes.set_ylabel('density')\n"
   ]
  },
  {
   "cell_type": "code",
   "execution_count": null,
   "metadata": {},
   "outputs": [],
   "source": []
  }
 ],
 "metadata": {
  "kernelspec": {
   "display_name": "Python 3",
   "language": "python",
   "name": "python3"
  },
  "language_info": {
   "codemirror_mode": {
    "name": "ipython",
    "version": 3
   },
   "file_extension": ".py",
   "mimetype": "text/x-python",
   "name": "python",
   "nbconvert_exporter": "python",
   "pygments_lexer": "ipython3",
   "version": "3.6.9"
  },
  "toc": {
   "base_numbering": 1,
   "nav_menu": {},
   "number_sections": true,
   "sideBar": true,
   "skip_h1_title": false,
   "title_cell": "Table of Contents",
   "title_sidebar": "Contents",
   "toc_cell": false,
   "toc_position": {},
   "toc_section_display": true,
   "toc_window_display": false
  }
 },
 "nbformat": 4,
 "nbformat_minor": 4
}
