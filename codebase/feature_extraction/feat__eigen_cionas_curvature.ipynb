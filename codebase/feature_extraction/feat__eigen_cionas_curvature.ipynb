{
 "cells": [
  {
   "cell_type": "code",
   "execution_count": 1,
   "metadata": {},
   "outputs": [],
   "source": [
    "import os\n",
    "import sys\n",
    "import numpy as np\n",
    "import pandas as pd\n",
    "import pickle as pkl\n",
    "\n",
    "\n",
    "\n",
    "import seaborn as sns\n",
    "import matplotlib.pyplot as plt\n",
    "from mpl_toolkits.mplot3d import Axes3D\n",
    "import matplotlib.cm as cm\n",
    "\n",
    "from IPython.display import display, HTML\n",
    "\n",
    "import ipywidgets as widgets\n",
    "from ipywidgets import Layout\n",
    "\n",
    "from difflib import get_close_matches\n",
    "from scipy.signal import savgol_filter\n",
    "\n",
    "import h5py\n",
    "from joblib import Parallel, delayed\n",
    "\n",
    "import random\n",
    "random.seed(22)"
   ]
  },
  {
   "cell_type": "code",
   "execution_count": 2,
   "metadata": {},
   "outputs": [],
   "source": [
    "sys.path.append(\"../code/\")\n",
    "from extract_angles import get_bend_angles, get_tan_angles\n",
    "from extract_curvatures import get_curv_savgol"
   ]
  },
  {
   "cell_type": "code",
   "execution_count": 3,
   "metadata": {},
   "outputs": [],
   "source": [
    "%matplotlib widget"
   ]
  },
  {
   "cell_type": "markdown",
   "metadata": {},
   "source": [
    "## Load skeleton files"
   ]
  },
  {
   "cell_type": "code",
   "execution_count": 4,
   "metadata": {},
   "outputs": [],
   "source": [
    "skel_file_folder = \"/share/data/temp/athira/tierpsy_skeleton_files_for_eigen_npy/\"\n",
    "#skel_file_folder = \"/media/athira/Seagate Expansion Drive/Backup_Feb26_2020/athira_data/tierpsy_skeleton_files_for_eigen_npy/\""
   ]
  },
  {
   "cell_type": "code",
   "execution_count": 5,
   "metadata": {},
   "outputs": [
    {
     "name": "stdout",
     "output_type": "stream",
     "text": [
      "Number of skeleton files which belong to control group:95\n"
     ]
    }
   ],
   "source": [
    "# From the saved skeleton arrays, pick the ones belonging to wild or control group (and exclude INVERTED for now)\n",
    "\n",
    "skel_files_control = [os.path.join(root,name) for root,dirs,filenames in os.walk(skel_file_folder) \n",
    "                                              for name in filenames if ((name.endswith('.npy')) & \n",
    "                                                                       (name.split(\"_\")[5] == \"None\") #& \n",
    "                                                                       #(name.split(\"_\")[7] == \"None\") #& \n",
    "                                                                       # ('INVERTED' not in name) &\n",
    "                                                                       #(name.split(\"_\")[0] == \"12n\")\n",
    "                                                                       )]\n",
    "#print([os.path.basename(fname).split(\"_\")[4] for fname in skel_files_control])\n",
    "print(f\"Number of skeleton files which belong to control group:{len(skel_files_control)}\")"
   ]
  },
  {
   "cell_type": "code",
   "execution_count": 6,
   "metadata": {},
   "outputs": [],
   "source": [
    "# select randomly n skeleton files\n",
    "\n",
    "#n_files = 22\n",
    "#skel_files = random.sample(skel_files_control, n_files)\n",
    "skel_files = skel_files_control"
   ]
  },
  {
   "cell_type": "code",
   "execution_count": 7,
   "metadata": {},
   "outputs": [],
   "source": [
    "# Load all the skeletons as a list of 3d arrays\n",
    "\n",
    "skel_arrays = [np.load(skel_file) for skel_file in skel_files]"
   ]
  },
  {
   "cell_type": "code",
   "execution_count": 8,
   "metadata": {},
   "outputs": [],
   "source": [
    "def preprocess_skels(skel_arrays, neck_point = 12, head_as = \"original\", tail_end = -1):\n",
    "    \n",
    "    if head_as == \"omit\":\n",
    "        skel_arrays = [skel_arr[:,neck_point-2:tail_end,:] for skel_arr in skel_arrays]\n",
    "        \n",
    "    elif head_as == \"rigid\":\n",
    "        skel_arrays = [np.hstack([skel_arr[:,0,:].reshape(-1,1,2),\n",
    "                                  skel_arr[:,neck_point-1:tail_end,:]]) for skel_arr in skel_arrays]\n",
    "        \n",
    "    else:\n",
    "        skel_arrays = [skel_arr[:,:tail_end,:] for skel_arr in skel_arrays]\n",
    "    \n",
    "        \n",
    "    return skel_arrays"
   ]
  },
  {
   "cell_type": "markdown",
   "metadata": {},
   "source": [
    "## Calculate shape features"
   ]
  },
  {
   "cell_type": "markdown",
   "metadata": {},
   "source": [
    "### Calculate tangent angles"
   ]
  },
  {
   "cell_type": "code",
   "execution_count": 9,
   "metadata": {},
   "outputs": [],
   "source": [
    "# calculate tangent angles for multiple skeletons in parallel\n",
    "def get_tan_list(skel_arrays, filt = True):\n",
    "    \n",
    "    if filt:\n",
    "        skel_arrays = [savgol_filter(skel_arr, window_length=45, polyorder=2, mode='nearest', axis=1) \n",
    "                                                    for skel_arr in skel_arrays]\n",
    "        \n",
    "    tan_angles_list = Parallel(n_jobs=10, verbose = 5)(delayed(get_tan_angles)\n",
    "                                                    (skel_arr, filt=True, uni_lat=True, center =True) \n",
    "                                                for skel_arr in skel_arrays)\n",
    "    \n",
    "    return tan_angles_list"
   ]
  },
  {
   "cell_type": "markdown",
   "metadata": {},
   "source": [
    "### Calculate bending angles"
   ]
  },
  {
   "cell_type": "code",
   "execution_count": 10,
   "metadata": {},
   "outputs": [],
   "source": [
    "# calculate bending angles for multiple skeletons in parallel\n",
    "def get_bend_list(skel_arrays, filt=False):\n",
    "    \n",
    "    if filt:\n",
    "        skel_arrays = [savgol_filter(skel_arr, window_length=15, polyorder=2, mode='nearest') \n",
    "                                                    for skel_arr in skel_arrays]\n",
    "    \n",
    "    bend_angles_list = Parallel(n_jobs=10, verbose = 5)(delayed(get_bend_angles)(skel_arr) \n",
    "                                                    for skel_arr in skel_arrays)\n",
    "    return bend_angles_list"
   ]
  },
  {
   "cell_type": "markdown",
   "metadata": {},
   "source": [
    "### Calculate curvatures "
   ]
  },
  {
   "cell_type": "code",
   "execution_count": 11,
   "metadata": {},
   "outputs": [],
   "source": [
    "def get_curv_list(skel_arrays):\n",
    "    \n",
    "    curv_list = Parallel(n_jobs= 10, verbose = 5)(delayed(get_curv_savgol)(skel_arr) \n",
    "                                                for skel_arr in skel_arrays)\n",
    "    return curv_list"
   ]
  },
  {
   "cell_type": "markdown",
   "metadata": {},
   "source": [
    "## Eigen ciona calculations"
   ]
  },
  {
   "cell_type": "code",
   "execution_count": 12,
   "metadata": {},
   "outputs": [
    {
     "name": "stderr",
     "output_type": "stream",
     "text": [
      "[Parallel(n_jobs=10)]: Using backend LokyBackend with 10 concurrent workers.\n",
      "[Parallel(n_jobs=10)]: Done  52 tasks      | elapsed:    1.1s\n",
      "[Parallel(n_jobs=10)]: Done  95 out of  95 | elapsed:    1.3s finished\n"
     ]
    },
    {
     "name": "stdout",
     "output_type": "stream",
     "text": [
      "6\n"
     ]
    }
   ],
   "source": [
    "# Using curvatures\n",
    "\n",
    "# Load all the skeletons as a list of 3d arrays\n",
    "skel_arrays = [np.load(skel_file) for skel_file in skel_files]\n",
    "\n",
    "tail_end = -1\n",
    "neck_point = 12\n",
    "skel_arrays_orig = preprocess_skels(skel_arrays, neck_point = 12, head_as = \"original\", tail_end=tail_end)\n",
    "\n",
    "\n",
    "#curv_list_orig = get_curv_list(skel_arrays_orig)\n",
    "curv_list_orig = get_curv_list(skel_arrays_orig)\n",
    "\n",
    "\n",
    "# if rigid:\n",
    "#     curv_list_orig = [np.hstack([np.zeros_like(curv_mat[:,0:neck_point-1]),curv_mat[:,neck_point-1:tail_end]]) \n",
    "#                                           for curv_mat in curv_list_orig]\n",
    "\n",
    "curv_matrix_orig = np.vstack(curv_list_orig)\n",
    "\n",
    "\n",
    "cov_matrix_orig = np.cov(curv_matrix_orig, rowvar= False)\n",
    "\n",
    "\n",
    "\n",
    "# Compute the eigen values and vectors of the covariance matrix \n",
    "eigen_vals_orig, eigen_vecs_orig = np.linalg.eig(cov_matrix_orig)\n",
    "\n",
    "\n",
    "# sort the eigen values and vectors\n",
    "idx = eigen_vals_orig.argsort()[::-1]   \n",
    "eigen_vals_orig = eigen_vals_orig[idx]\n",
    "eigen_vecs_orig = eigen_vecs_orig[:,idx]\n",
    "\n",
    "# calculate the fractional variance\n",
    "eigen_vals_orig_ = eigen_vals_orig\n",
    "eigen_vals_orig = np.cumsum(eigen_vals_orig)/np.sum(eigen_vals_orig) \n",
    "\n",
    "\n",
    "thresh = 0.97\n",
    "# Calculate how many eigen values are needed to explain 'thresh' fraction of the variance\n",
    "n_modes_orig = np.sum((eigen_vals_orig < thresh) == True)\n",
    "\n",
    "print(n_modes_orig)\n",
    "\n",
    "\n",
    "eig_dict_orig = {'name': \"original\",'cov_mat': cov_matrix_orig, 'eig_vals': eigen_vals_orig, \n",
    "                 'eig_vals_':eigen_vals_orig_,'eig_vecs': eigen_vecs_orig, 'n_modes': n_modes_orig}"
   ]
  },
  {
   "cell_type": "markdown",
   "metadata": {},
   "source": [
    "## Plotting functions"
   ]
  },
  {
   "cell_type": "code",
   "execution_count": 13,
   "metadata": {},
   "outputs": [],
   "source": [
    "def plot_cov_matrix( ax, cov_mat):\n",
    "        \n",
    "    cov_plot = ax.imshow(cov_mat, cmap='jet')\n",
    "    plt.colorbar(cov_plot, ax=ax)\n",
    "    ax.set_xlabel('covariance')\n",
    "\n",
    "    return cov_plot\n",
    "\n",
    "\n",
    "def plot_eig_vals(ax, eig_vals):\n",
    "\n",
    "    eig_val_plot = ax.plot(eig_vals,'.')\n",
    "    ax.set_xlabel('K mode')\n",
    "    ax.set_ylabel('fractional variance explained')\n",
    "    ax.set_ylim([0,1])\n",
    "\n",
    "    return eig_val_plot\n",
    "\n",
    "\n",
    "def plot_eig_vecs(ax, eig_vec, n_eig):\n",
    "\n",
    "    eig_vec_plot = ax.set_ylabel(f\"{n_eig}_eigen_vector\")\n",
    "    ax.plot(eig_vec)\n",
    "\n",
    "    return eig_vec_plot"
   ]
  },
  {
   "cell_type": "code",
   "execution_count": 14,
   "metadata": {},
   "outputs": [
    {
     "data": {
      "application/vnd.jupyter.widget-view+json": {
       "model_id": "02024b95dc084989b4e00bd09165a711",
       "version_major": 2,
       "version_minor": 0
      },
      "text/plain": [
       "Canvas(toolbar=Toolbar(toolitems=[('Home', 'Reset original view', 'home', 'home'), ('Back', 'Back to previous …"
      ]
     },
     "metadata": {},
     "output_type": "display_data"
    }
   ],
   "source": [
    "fig,axes = plt.subplots(min(n_modes_orig+2,8),1,figsize=(5,20))\n",
    "\n",
    "\n",
    "axes[0].set_title(eig_dict_orig['name'])\n",
    "plot_cov_matrix(axes[0], eig_dict_orig['cov_mat'])\n",
    "plot_eig_vals(axes[1], eig_dict_orig['eig_vals'])\n",
    "\n",
    "for n_vec in range(min(eig_dict_orig['n_modes'], 6)):\n",
    "\n",
    "    plot_eig_vecs(axes[n_vec+2], eig_dict_orig['eig_vecs'][:,n_vec], n_vec+1)\n",
    "\n",
    "\n",
    "fig.tight_layout(pad=3.0)\n",
    "        "
   ]
  },
  {
   "cell_type": "code",
   "execution_count": 15,
   "metadata": {},
   "outputs": [],
   "source": [
    "np.save('eigen_dict_all.npy',eig_dict_orig)"
   ]
  },
  {
   "cell_type": "markdown",
   "metadata": {},
   "source": [
    "## Eigen reconstruction"
   ]
  },
  {
   "cell_type": "markdown",
   "metadata": {},
   "source": [
    "### Example"
   ]
  },
  {
   "cell_type": "code",
   "execution_count": 16,
   "metadata": {},
   "outputs": [
    {
     "data": {
      "application/vnd.jupyter.widget-view+json": {
       "model_id": "483026e9b48f405f86670cc6a7392416",
       "version_major": 2,
       "version_minor": 0
      },
      "text/plain": [
       "interactive(children=(IntSlider(value=0, continuous_update=False, description='File:', max=94), IntSlider(valu…"
      ]
     },
     "metadata": {},
     "output_type": "display_data"
    }
   ],
   "source": [
    "slider_file = widgets.IntSlider(value= 0,\n",
    "                                        min=0,\n",
    "                                        max= len(skel_arrays)-1,\n",
    "                                        step=1,\n",
    "                                        description='File:',\n",
    "                                        disabled=False,\n",
    "                                        continuous_update=False,\n",
    "                                        orientation='horizontal',\n",
    "                                        readout=True,\n",
    "                                        readout_format='d')\n",
    "\n",
    "slider_frame = widgets.IntSlider(value= 0,\n",
    "                                        min=0,\n",
    "                                        max= 5000,\n",
    "                                        step=1,\n",
    "                                        description='Frames:',\n",
    "                                        disabled=False,\n",
    "                                        continuous_update=False,\n",
    "                                        orientation='horizontal',\n",
    "                                        readout=True,\n",
    "                                        readout_format='d')\n",
    "\n",
    "\n",
    "    \n",
    "@widgets.interact\n",
    "def plot_sample_recon(ind_file = slider_file, ind_frame = slider_frame):\n",
    "    \n",
    "    slider_frame.max = len(skel_arrays[ind_file])-1\n",
    "    \n",
    "    sample_curv = curv_list_orig[ind_file][ind_frame,:]\n",
    "    \n",
    "    coeff_list = []\n",
    "    for k in range(eig_dict_orig['n_modes']):\n",
    "\n",
    "        coeff_list.append(np.dot(eig_dict_orig['eig_vecs'][:,k],sample_curv))\n",
    "    \n",
    "    scaled_eig_vecs = eig_dict_orig['eig_vecs'][:,0:eig_dict_orig['n_modes']] * coeff_list\n",
    "    recon_curv = np.sum(scaled_eig_vecs,axis = 1)\n",
    "\n",
    "\n",
    "    fig, axes = plt.subplots(1,1, figsize =(10,5))\n",
    "    axes.plot(sample_curv , label = 'curv')\n",
    "    axes.plot(recon_curv, label= 'recon curv')\n",
    "    \n",
    "    axes.legend()"
   ]
  },
  {
   "cell_type": "markdown",
   "metadata": {},
   "source": [
    "### Eigen Coefficients Time Series\n",
    "\n",
    "- Reference : [Drosophila paper](https://royalsocietypublishing.org/doi/10.1098/rsif.2015.0899)"
   ]
  },
  {
   "cell_type": "code",
   "execution_count": 17,
   "metadata": {},
   "outputs": [
    {
     "data": {
      "text/plain": [
       "(48, 6)"
      ]
     },
     "execution_count": 17,
     "metadata": {},
     "output_type": "execute_result"
    }
   ],
   "source": [
    "eig_vec_matrix = np.array(eig_dict_orig['eig_vecs'][:,0:eig_dict_orig['n_modes']])\n",
    "eig_vec_matrix.shape"
   ]
  },
  {
   "cell_type": "code",
   "execution_count": 22,
   "metadata": {},
   "outputs": [
    {
     "name": "stdout",
     "output_type": "stream",
     "text": [
      "62\n"
     ]
    }
   ],
   "source": [
    "for ind, file in enumerate(skel_files_control):\n",
    "    fname = os.path.basename(file)\n",
    "    \n",
    "    if fname == \"12n_20180823_150140_1_5m0s_None_None_None_skeleton.npy\":\n",
    "        print(ind)"
   ]
  },
  {
   "cell_type": "code",
   "execution_count": 23,
   "metadata": {},
   "outputs": [
    {
     "data": {
      "text/plain": [
       "(9001, 48)"
      ]
     },
     "execution_count": 23,
     "metadata": {},
     "output_type": "execute_result"
    }
   ],
   "source": [
    "# Choose one experiment \n",
    "\n",
    "ind_file = 62\n",
    "\n",
    "curv_list_orig[ind_file].shape"
   ]
  },
  {
   "cell_type": "markdown",
   "metadata": {},
   "source": [
    "#### Trace back tierpsy features to compare with ects!"
   ]
  },
  {
   "cell_type": "code",
   "execution_count": 24,
   "metadata": {},
   "outputs": [
    {
     "name": "stdout",
     "output_type": "stream",
     "text": [
      "['12n_20180823_150140_1_5m0s_None_None_None_features_JDA.pickle']\n"
     ]
    },
    {
     "data": {
      "text/html": [
       "<div>\n",
       "<style scoped>\n",
       "    .dataframe tbody tr th:only-of-type {\n",
       "        vertical-align: middle;\n",
       "    }\n",
       "\n",
       "    .dataframe tbody tr th {\n",
       "        vertical-align: top;\n",
       "    }\n",
       "\n",
       "    .dataframe thead th {\n",
       "        text-align: right;\n",
       "    }\n",
       "</style>\n",
       "<table border=\"1\" class=\"dataframe\">\n",
       "  <thead>\n",
       "    <tr style=\"text-align: right;\">\n",
       "      <th></th>\n",
       "      <th>skel_lenght</th>\n",
       "      <th>area</th>\n",
       "      <th>frame_number</th>\n",
       "      <th>width_head</th>\n",
       "      <th>width_tail</th>\n",
       "      <th>width_tail_tip</th>\n",
       "      <th>quirkiness</th>\n",
       "      <th>curvature_head</th>\n",
       "      <th>curvature_tail_neck</th>\n",
       "      <th>curvature_tail_middle</th>\n",
       "      <th>...</th>\n",
       "      <th>relative_to_tail_middle1_radial_velocity_tail_tip</th>\n",
       "      <th>relative_to_tail_middle1_angular_velocity_tail_tip</th>\n",
       "      <th>speed_tail_middle</th>\n",
       "      <th>angular_velocity_tail_middle</th>\n",
       "      <th>speed_head_tip</th>\n",
       "      <th>angular_velocity_head_tip</th>\n",
       "      <th>speed_tail_tip</th>\n",
       "      <th>angular_velocity_tail_tip</th>\n",
       "      <th>speed_all</th>\n",
       "      <th>angular_velocity_all</th>\n",
       "    </tr>\n",
       "  </thead>\n",
       "  <tbody>\n",
       "    <tr>\n",
       "      <th>0</th>\n",
       "      <td>124.426407</td>\n",
       "      <td>508.941559</td>\n",
       "      <td>0</td>\n",
       "      <td>9.534327</td>\n",
       "      <td>3.605551</td>\n",
       "      <td>2.828427</td>\n",
       "      <td>0.998633</td>\n",
       "      <td>-0.014143</td>\n",
       "      <td>-1.279202e-02</td>\n",
       "      <td>-7.818981e-03</td>\n",
       "      <td>...</td>\n",
       "      <td>-5.310745</td>\n",
       "      <td>-1.178545</td>\n",
       "      <td>11.790259</td>\n",
       "      <td>0.029293</td>\n",
       "      <td>5.459580</td>\n",
       "      <td>-0.024762</td>\n",
       "      <td>4.659012</td>\n",
       "      <td>-0.237079</td>\n",
       "      <td>3.745293</td>\n",
       "      <td>0.000000</td>\n",
       "    </tr>\n",
       "    <tr>\n",
       "      <th>1</th>\n",
       "      <td>122.669044</td>\n",
       "      <td>508.550751</td>\n",
       "      <td>1</td>\n",
       "      <td>9.769024</td>\n",
       "      <td>3.605551</td>\n",
       "      <td>2.828427</td>\n",
       "      <td>0.998540</td>\n",
       "      <td>-0.010608</td>\n",
       "      <td>-1.709121e-02</td>\n",
       "      <td>-1.247935e-03</td>\n",
       "      <td>...</td>\n",
       "      <td>-10.769576</td>\n",
       "      <td>0.852374</td>\n",
       "      <td>5.236989</td>\n",
       "      <td>0.259180</td>\n",
       "      <td>4.229090</td>\n",
       "      <td>-0.392178</td>\n",
       "      <td>6.805718</td>\n",
       "      <td>0.635219</td>\n",
       "      <td>4.584215</td>\n",
       "      <td>0.000000</td>\n",
       "    </tr>\n",
       "    <tr>\n",
       "      <th>2</th>\n",
       "      <td>125.597977</td>\n",
       "      <td>505.697937</td>\n",
       "      <td>2</td>\n",
       "      <td>9.721663</td>\n",
       "      <td>3.605551</td>\n",
       "      <td>2.595768</td>\n",
       "      <td>0.998520</td>\n",
       "      <td>-0.007847</td>\n",
       "      <td>-1.070164e-03</td>\n",
       "      <td>-2.657407e-03</td>\n",
       "      <td>...</td>\n",
       "      <td>6.141014</td>\n",
       "      <td>-0.404545</td>\n",
       "      <td>22.157988</td>\n",
       "      <td>0.058440</td>\n",
       "      <td>2.499563</td>\n",
       "      <td>1.061808</td>\n",
       "      <td>26.762848</td>\n",
       "      <td>-0.026793</td>\n",
       "      <td>9.957694</td>\n",
       "      <td>0.099124</td>\n",
       "    </tr>\n",
       "    <tr>\n",
       "      <th>3</th>\n",
       "      <td>126.012192</td>\n",
       "      <td>506.919403</td>\n",
       "      <td>3</td>\n",
       "      <td>9.461916</td>\n",
       "      <td>3.869978</td>\n",
       "      <td>2.236068</td>\n",
       "      <td>0.998445</td>\n",
       "      <td>-0.008854</td>\n",
       "      <td>-1.060749e-02</td>\n",
       "      <td>1.588150e-07</td>\n",
       "      <td>...</td>\n",
       "      <td>-5.993042</td>\n",
       "      <td>0.468761</td>\n",
       "      <td>24.067905</td>\n",
       "      <td>-0.058440</td>\n",
       "      <td>2.480309</td>\n",
       "      <td>-0.971503</td>\n",
       "      <td>26.923241</td>\n",
       "      <td>0.026793</td>\n",
       "      <td>13.453935</td>\n",
       "      <td>-0.099124</td>\n",
       "    </tr>\n",
       "    <tr>\n",
       "      <th>4</th>\n",
       "      <td>125.597977</td>\n",
       "      <td>507.774780</td>\n",
       "      <td>4</td>\n",
       "      <td>9.757098</td>\n",
       "      <td>3.605551</td>\n",
       "      <td>2.828427</td>\n",
       "      <td>0.998695</td>\n",
       "      <td>-0.011470</td>\n",
       "      <td>-7.688750e-03</td>\n",
       "      <td>3.799246e-03</td>\n",
       "      <td>...</td>\n",
       "      <td>-3.115539</td>\n",
       "      <td>-0.447260</td>\n",
       "      <td>20.490078</td>\n",
       "      <td>0.058665</td>\n",
       "      <td>0.104617</td>\n",
       "      <td>0.165943</td>\n",
       "      <td>15.962188</td>\n",
       "      <td>-2.149365</td>\n",
       "      <td>14.229018</td>\n",
       "      <td>-0.254062</td>\n",
       "    </tr>\n",
       "    <tr>\n",
       "      <th>...</th>\n",
       "      <td>...</td>\n",
       "      <td>...</td>\n",
       "      <td>...</td>\n",
       "      <td>...</td>\n",
       "      <td>...</td>\n",
       "      <td>...</td>\n",
       "      <td>...</td>\n",
       "      <td>...</td>\n",
       "      <td>...</td>\n",
       "      <td>...</td>\n",
       "      <td>...</td>\n",
       "      <td>...</td>\n",
       "      <td>...</td>\n",
       "      <td>...</td>\n",
       "      <td>...</td>\n",
       "      <td>...</td>\n",
       "      <td>...</td>\n",
       "      <td>...</td>\n",
       "      <td>...</td>\n",
       "      <td>...</td>\n",
       "      <td>...</td>\n",
       "    </tr>\n",
       "    <tr>\n",
       "      <th>8996</th>\n",
       "      <td>126.497475</td>\n",
       "      <td>525.303650</td>\n",
       "      <td>8996</td>\n",
       "      <td>9.390701</td>\n",
       "      <td>3.605551</td>\n",
       "      <td>2.236068</td>\n",
       "      <td>0.998723</td>\n",
       "      <td>0.001539</td>\n",
       "      <td>1.853257e-02</td>\n",
       "      <td>1.639204e-02</td>\n",
       "      <td>...</td>\n",
       "      <td>1.756782</td>\n",
       "      <td>-2.135074</td>\n",
       "      <td>64.125259</td>\n",
       "      <td>-0.255557</td>\n",
       "      <td>52.263550</td>\n",
       "      <td>-1.364028</td>\n",
       "      <td>54.567066</td>\n",
       "      <td>0.954638</td>\n",
       "      <td>55.384804</td>\n",
       "      <td>0.000000</td>\n",
       "    </tr>\n",
       "    <tr>\n",
       "      <th>8997</th>\n",
       "      <td>126.840622</td>\n",
       "      <td>528.864929</td>\n",
       "      <td>8997</td>\n",
       "      <td>9.813562</td>\n",
       "      <td>3.764757</td>\n",
       "      <td>2.828427</td>\n",
       "      <td>0.998920</td>\n",
       "      <td>-0.008024</td>\n",
       "      <td>6.071094e-03</td>\n",
       "      <td>2.718119e-02</td>\n",
       "      <td>...</td>\n",
       "      <td>-9.475593</td>\n",
       "      <td>0.005475</td>\n",
       "      <td>38.930943</td>\n",
       "      <td>-0.173006</td>\n",
       "      <td>27.280182</td>\n",
       "      <td>-0.102428</td>\n",
       "      <td>30.292732</td>\n",
       "      <td>0.060182</td>\n",
       "      <td>29.778297</td>\n",
       "      <td>0.000000</td>\n",
       "    </tr>\n",
       "    <tr>\n",
       "      <th>8998</th>\n",
       "      <td>125.733543</td>\n",
       "      <td>524.254395</td>\n",
       "      <td>8998</td>\n",
       "      <td>9.716990</td>\n",
       "      <td>3.605551</td>\n",
       "      <td>2.828427</td>\n",
       "      <td>0.998979</td>\n",
       "      <td>-0.011817</td>\n",
       "      <td>9.704877e-03</td>\n",
       "      <td>3.071829e-03</td>\n",
       "      <td>...</td>\n",
       "      <td>0.930176</td>\n",
       "      <td>-0.837218</td>\n",
       "      <td>9.146766</td>\n",
       "      <td>-0.396320</td>\n",
       "      <td>19.909374</td>\n",
       "      <td>0.201334</td>\n",
       "      <td>10.347622</td>\n",
       "      <td>-1.084456</td>\n",
       "      <td>10.905099</td>\n",
       "      <td>-0.248741</td>\n",
       "    </tr>\n",
       "    <tr>\n",
       "      <th>8999</th>\n",
       "      <td>126.490906</td>\n",
       "      <td>528.483521</td>\n",
       "      <td>8999</td>\n",
       "      <td>9.391096</td>\n",
       "      <td>3.642266</td>\n",
       "      <td>2.828427</td>\n",
       "      <td>0.998840</td>\n",
       "      <td>-0.024489</td>\n",
       "      <td>-2.674310e-07</td>\n",
       "      <td>1.923335e-02</td>\n",
       "      <td>...</td>\n",
       "      <td>40.198513</td>\n",
       "      <td>1.276871</td>\n",
       "      <td>36.364044</td>\n",
       "      <td>0.920151</td>\n",
       "      <td>14.822331</td>\n",
       "      <td>-1.043837</td>\n",
       "      <td>11.201249</td>\n",
       "      <td>2.060359</td>\n",
       "      <td>22.751928</td>\n",
       "      <td>0.248741</td>\n",
       "    </tr>\n",
       "    <tr>\n",
       "      <th>9000</th>\n",
       "      <td>128.597977</td>\n",
       "      <td>530.791138</td>\n",
       "      <td>9000</td>\n",
       "      <td>9.589930</td>\n",
       "      <td>3.673003</td>\n",
       "      <td>2.828427</td>\n",
       "      <td>0.999122</td>\n",
       "      <td>-0.007555</td>\n",
       "      <td>2.839500e-03</td>\n",
       "      <td>1.841692e-03</td>\n",
       "      <td>...</td>\n",
       "      <td>NaN</td>\n",
       "      <td>NaN</td>\n",
       "      <td>NaN</td>\n",
       "      <td>NaN</td>\n",
       "      <td>NaN</td>\n",
       "      <td>NaN</td>\n",
       "      <td>NaN</td>\n",
       "      <td>NaN</td>\n",
       "      <td>NaN</td>\n",
       "      <td>NaN</td>\n",
       "    </tr>\n",
       "  </tbody>\n",
       "</table>\n",
       "<p>9001 rows × 64 columns</p>\n",
       "</div>"
      ],
      "text/plain": [
       "      skel_lenght        area  frame_number  width_head  width_tail  \\\n",
       "0      124.426407  508.941559             0    9.534327    3.605551   \n",
       "1      122.669044  508.550751             1    9.769024    3.605551   \n",
       "2      125.597977  505.697937             2    9.721663    3.605551   \n",
       "3      126.012192  506.919403             3    9.461916    3.869978   \n",
       "4      125.597977  507.774780             4    9.757098    3.605551   \n",
       "...           ...         ...           ...         ...         ...   \n",
       "8996   126.497475  525.303650          8996    9.390701    3.605551   \n",
       "8997   126.840622  528.864929          8997    9.813562    3.764757   \n",
       "8998   125.733543  524.254395          8998    9.716990    3.605551   \n",
       "8999   126.490906  528.483521          8999    9.391096    3.642266   \n",
       "9000   128.597977  530.791138          9000    9.589930    3.673003   \n",
       "\n",
       "      width_tail_tip  quirkiness  curvature_head  curvature_tail_neck  \\\n",
       "0           2.828427    0.998633       -0.014143        -1.279202e-02   \n",
       "1           2.828427    0.998540       -0.010608        -1.709121e-02   \n",
       "2           2.595768    0.998520       -0.007847        -1.070164e-03   \n",
       "3           2.236068    0.998445       -0.008854        -1.060749e-02   \n",
       "4           2.828427    0.998695       -0.011470        -7.688750e-03   \n",
       "...              ...         ...             ...                  ...   \n",
       "8996        2.236068    0.998723        0.001539         1.853257e-02   \n",
       "8997        2.828427    0.998920       -0.008024         6.071094e-03   \n",
       "8998        2.828427    0.998979       -0.011817         9.704877e-03   \n",
       "8999        2.828427    0.998840       -0.024489        -2.674310e-07   \n",
       "9000        2.828427    0.999122       -0.007555         2.839500e-03   \n",
       "\n",
       "      curvature_tail_middle  ...  \\\n",
       "0             -7.818981e-03  ...   \n",
       "1             -1.247935e-03  ...   \n",
       "2             -2.657407e-03  ...   \n",
       "3              1.588150e-07  ...   \n",
       "4              3.799246e-03  ...   \n",
       "...                     ...  ...   \n",
       "8996           1.639204e-02  ...   \n",
       "8997           2.718119e-02  ...   \n",
       "8998           3.071829e-03  ...   \n",
       "8999           1.923335e-02  ...   \n",
       "9000           1.841692e-03  ...   \n",
       "\n",
       "      relative_to_tail_middle1_radial_velocity_tail_tip  \\\n",
       "0                                             -5.310745   \n",
       "1                                            -10.769576   \n",
       "2                                              6.141014   \n",
       "3                                             -5.993042   \n",
       "4                                             -3.115539   \n",
       "...                                                 ...   \n",
       "8996                                           1.756782   \n",
       "8997                                          -9.475593   \n",
       "8998                                           0.930176   \n",
       "8999                                          40.198513   \n",
       "9000                                                NaN   \n",
       "\n",
       "      relative_to_tail_middle1_angular_velocity_tail_tip  speed_tail_middle  \\\n",
       "0                                             -1.178545           11.790259   \n",
       "1                                              0.852374            5.236989   \n",
       "2                                             -0.404545           22.157988   \n",
       "3                                              0.468761           24.067905   \n",
       "4                                             -0.447260           20.490078   \n",
       "...                                                 ...                 ...   \n",
       "8996                                          -2.135074           64.125259   \n",
       "8997                                           0.005475           38.930943   \n",
       "8998                                          -0.837218            9.146766   \n",
       "8999                                           1.276871           36.364044   \n",
       "9000                                                NaN                 NaN   \n",
       "\n",
       "      angular_velocity_tail_middle  speed_head_tip  angular_velocity_head_tip  \\\n",
       "0                         0.029293        5.459580                  -0.024762   \n",
       "1                         0.259180        4.229090                  -0.392178   \n",
       "2                         0.058440        2.499563                   1.061808   \n",
       "3                        -0.058440        2.480309                  -0.971503   \n",
       "4                         0.058665        0.104617                   0.165943   \n",
       "...                            ...             ...                        ...   \n",
       "8996                     -0.255557       52.263550                  -1.364028   \n",
       "8997                     -0.173006       27.280182                  -0.102428   \n",
       "8998                     -0.396320       19.909374                   0.201334   \n",
       "8999                      0.920151       14.822331                  -1.043837   \n",
       "9000                           NaN             NaN                        NaN   \n",
       "\n",
       "      speed_tail_tip  angular_velocity_tail_tip  speed_all  \\\n",
       "0           4.659012                  -0.237079   3.745293   \n",
       "1           6.805718                   0.635219   4.584215   \n",
       "2          26.762848                  -0.026793   9.957694   \n",
       "3          26.923241                   0.026793  13.453935   \n",
       "4          15.962188                  -2.149365  14.229018   \n",
       "...              ...                        ...        ...   \n",
       "8996       54.567066                   0.954638  55.384804   \n",
       "8997       30.292732                   0.060182  29.778297   \n",
       "8998       10.347622                  -1.084456  10.905099   \n",
       "8999       11.201249                   2.060359  22.751928   \n",
       "9000             NaN                        NaN        NaN   \n",
       "\n",
       "      angular_velocity_all  \n",
       "0                 0.000000  \n",
       "1                 0.000000  \n",
       "2                 0.099124  \n",
       "3                -0.099124  \n",
       "4                -0.254062  \n",
       "...                    ...  \n",
       "8996              0.000000  \n",
       "8997              0.000000  \n",
       "8998             -0.248741  \n",
       "8999              0.248741  \n",
       "9000                   NaN  \n",
       "\n",
       "[9001 rows x 64 columns]"
      ]
     },
     "metadata": {},
     "output_type": "display_data"
    }
   ],
   "source": [
    "skel_fname = os.path.basename(skel_files_control[ind_file])\n",
    "feature_files_folder = \"/share/data/temp/daniel/20200211_tierpsy_features/\"\n",
    "(root, dirs, filenames) = next(os.walk(feature_files_folder))\n",
    "skels_selected = [fname for fname in filenames if skel_fname[:20] in fname]\n",
    "    \n",
    "print(skels_selected)\n",
    "skel_file_path = os.path.join(feature_files_folder,skels_selected[0])\n",
    "skel_feats = np.load(skel_file_path, allow_pickle=True)\n",
    "display(skel_feats)"
   ]
  },
  {
   "cell_type": "code",
   "execution_count": 25,
   "metadata": {},
   "outputs": [],
   "source": [
    "# duration_sec = int(os.path.basename(skel_files_control[ind_file]).split(\"_\")[4].split('m')[0]) * 60\n",
    "# frame_rate = len(curv_list_orig[ind_file])/duration_sec\n",
    "# frame_rate"
   ]
  },
  {
   "cell_type": "code",
   "execution_count": 26,
   "metadata": {},
   "outputs": [
    {
     "data": {
      "text/plain": [
       "(9001, 6)"
      ]
     },
     "execution_count": 26,
     "metadata": {},
     "output_type": "execute_result"
    }
   ],
   "source": [
    "ects = np.dot(curv_list_orig[ind_file],eig_vec_matrix)\n",
    "ects.shape"
   ]
  },
  {
   "cell_type": "code",
   "execution_count": 27,
   "metadata": {},
   "outputs": [
    {
     "data": {
      "application/vnd.jupyter.widget-view+json": {
       "model_id": "12ab815d20ad4dd2b1bdac3cd4157a6d",
       "version_major": 2,
       "version_minor": 0
      },
      "text/plain": [
       "interactive(children=(IntSlider(value=0, continuous_update=False, description='Frames:', max=9000), Output()),…"
      ]
     },
     "metadata": {},
     "output_type": "display_data"
    }
   ],
   "source": [
    "## To check if the matrix calculations makes sense, \n",
    "\n",
    "slider_frame = widgets.IntSlider(value= 0,\n",
    "                                        min=0,\n",
    "                                        max= len(curv_list_orig[ind_file])-1,\n",
    "                                        step=1,\n",
    "                                        description='Frames:',\n",
    "                                        disabled=False,\n",
    "                                        continuous_update=False,\n",
    "                                        orientation='horizontal',\n",
    "                                        readout=True,\n",
    "                                        readout_format='d')\n",
    "\n",
    "\n",
    "    \n",
    "@widgets.interact\n",
    "def plot_recon_mat(ind_frame = slider_frame):\n",
    "    fig, axes = plt.subplots(1,1, figsize =(10,5))\n",
    "    recon_curv = np.sum(ects[ind_frame]*eig_vec_matrix, axis=1)\n",
    "    axes.plot(curv_list_orig[ind_file][ind_frame,:] , label = 'curv')\n",
    "    axes.plot(recon_curv, label= 'recon curv')\n",
    "    axes.legend()"
   ]
  },
  {
   "cell_type": "code",
   "execution_count": 28,
   "metadata": {},
   "outputs": [],
   "source": [
    "\n",
    "# slider_frame_range = widgets.IntRangeSlider(value=[0, 800],\n",
    "#                                             min=0,\n",
    "#                                             max=len(ects),\n",
    "#                                             step=1,\n",
    "#                                             description='Test:',\n",
    "#                                             disabled=False,\n",
    "#                                             continuous_update=False,\n",
    "#                                             orientation='horizontal',\n",
    "#                                             readout=True,\n",
    "#                                             readout_format='d',layout=Layout(width='900px'))\n",
    "# @widgets.interact\n",
    "# def plot_ects(inds_frame = slider_frame_range):\n",
    "#     ind_start, ind_end = inds_frame\n",
    "#     fig,axes = plt.subplots(2,1,figsize=(20,8))\n",
    "#     axes[0].plot(ects[ind_start:ind_end,:])\n",
    "#     axes[1].plot(skel_feats['speed_all'][ind_start:ind_end],label='speed')\n",
    "#     plt.legend()"
   ]
  },
  {
   "cell_type": "markdown",
   "metadata": {},
   "source": [
    "### Density plots for ects"
   ]
  },
  {
   "cell_type": "code",
   "execution_count": 29,
   "metadata": {},
   "outputs": [
    {
     "data": {
      "application/vnd.jupyter.widget-view+json": {
       "model_id": "3410951902ac4abc81db56cf4991401c",
       "version_major": 2,
       "version_minor": 0
      },
      "text/plain": [
       "Canvas(toolbar=Toolbar(toolitems=[('Home', 'Reset original view', 'home', 'home'), ('Back', 'Back to previous …"
      ]
     },
     "metadata": {},
     "output_type": "display_data"
    }
   ],
   "source": [
    "from scipy.stats import gaussian_kde\n",
    "  \n",
    "fig, axes = plt.subplots(1,1,figsize=(10,5))\n",
    "\n",
    "for i in range(eig_dict_orig['n_modes']):\n",
    "        sns.set_style('whitegrid')\n",
    "        sns.kdeplot(ects[:,i], ax=axes, label=f\"coeff_{i}\")\n",
    "        axes.set_xlabel('eigen coefficient value')\n",
    "        axes.set_ylabel('density')\n"
   ]
  },
  {
   "cell_type": "code",
   "execution_count": 30,
   "metadata": {},
   "outputs": [
    {
     "data": {
      "application/vnd.jupyter.widget-view+json": {
       "model_id": "26ae37e565324e1ba434f1d94e250010",
       "version_major": 2,
       "version_minor": 0
      },
      "text/plain": [
       "Canvas(toolbar=Toolbar(toolitems=[('Home', 'Reset original view', 'home', 'home'), ('Back', 'Back to previous …"
      ]
     },
     "metadata": {},
     "output_type": "display_data"
    },
    {
     "data": {
      "text/plain": [
       "Text(0, 0.5, 'a2')"
      ]
     },
     "execution_count": 30,
     "metadata": {},
     "output_type": "execute_result"
    }
   ],
   "source": [
    "plt.close('all')\n",
    "fig, axes = plt.subplots(1,1,figsize=(5,5))\n",
    "\n",
    "sns.kdeplot(ects[:,0],ects[:,2], ax=axes, cmap='jet', shade=True)\n",
    "axes.set_xlabel('a1')\n",
    "axes.set_ylabel('a2')\n"
   ]
  },
  {
   "cell_type": "markdown",
   "metadata": {},
   "source": [
    "### smoothening ECTS\n",
    "- using weighted running average filter"
   ]
  },
  {
   "cell_type": "code",
   "execution_count": 31,
   "metadata": {},
   "outputs": [],
   "source": [
    "\n",
    "def get_weights(window_length):\n",
    "    weights = np.ones(window_length)\n",
    "    for i in range(len(weights)):\n",
    "        weights[i] = 1/ (1 + (np.abs(i-((len(weights) -1)/2))))\n",
    "           \n",
    "    return weights\n",
    "    \n"
   ]
  },
  {
   "cell_type": "code",
   "execution_count": 32,
   "metadata": {},
   "outputs": [
    {
     "name": "stdout",
     "output_type": "stream",
     "text": [
      "(9001, 6) (9005, 6)\n"
     ]
    }
   ],
   "source": [
    "def weighted_average_filter(x, window_length = 15):\n",
    "    \n",
    "    pad_len = window_length // 2\n",
    "    x_padded = np.pad(x,((pad_len, pad_len),(0,0)), mode='edge')\n",
    "    print(x.shape, x_padded.shape)\n",
    "    \n",
    "    x_filt = np.zeros_like(x)\n",
    "    for i in range(len(x_filt)):\n",
    "        \n",
    "        x_filt[i,:] = np.average(x_padded[i:(i+2*pad_len)+1,:], \n",
    "                                           weights = get_weights(window_length),axis=0)\n",
    "    \n",
    "    return x_filt\n",
    "\n",
    "wl = 5\n",
    "\n",
    "ects_filt = weighted_average_filter(ects, wl)"
   ]
  },
  {
   "cell_type": "code",
   "execution_count": null,
   "metadata": {},
   "outputs": [],
   "source": [
    "#np.savetxt('./temp_ects.txt',ects_filt,delimiter=',')"
   ]
  },
  {
   "cell_type": "code",
   "execution_count": 39,
   "metadata": {},
   "outputs": [
    {
     "data": {
      "application/vnd.jupyter.widget-view+json": {
       "model_id": "1e7ac9f9e8e2443cb4a741c2713a944f",
       "version_major": 2,
       "version_minor": 0
      },
      "text/plain": [
       "interactive(children=(IntRangeSlider(value=(0, 5000), continuous_update=False, description='Test:', layout=Lay…"
      ]
     },
     "metadata": {},
     "output_type": "display_data"
    }
   ],
   "source": [
    "slider_frame2 = widgets.IntRangeSlider(value=[0, 5000],\n",
    "                                            min =0, \n",
    "                                            max=len(ects)-1,\n",
    "                                            step=1,\n",
    "                                            description='Test:',\n",
    "                                            disabled=False,\n",
    "                                            continuous_update=False,\n",
    "                                            orientation='horizontal',\n",
    "                                            readout=True,\n",
    "                                            readout_format='d',layout=Layout(width='900px'))\n",
    "\n",
    "\n",
    "\n",
    "@widgets.interact\n",
    "def plot_bscore(inds_frame = slider_frame2):\n",
    "    ind_start, ind_end = inds_frame\n",
    "    x_range = np.arange(ind_start, ind_end)\n",
    "    fig,axes = plt.subplots(eig_dict_orig['n_modes']+2,1,figsize=(8,8))\n",
    "    \n",
    "    ects_lines = axes[0].plot(x_range,ects_filt[ind_start:ind_end,:])\n",
    "    ects_labels = [f\"coeff_{ind}\" for ind in range(eig_dict_orig['n_modes'])]\n",
    "    axes[0].legend(ects_lines,ects_labels)\n",
    "    \n",
    "    for i in range(eig_dict_orig['n_modes']):\n",
    "        axes[i+2].plot(x_range,ects[ind_start:ind_end,i], label='original')\n",
    "        axes[i+2].plot(x_range,ects_filt[ind_start:ind_end,i], label='filtered')\n",
    "        axes[i+2].legend()\n",
    "        \n",
    "    axes[1].plot(skel_feats['speed_all'][ind_start:ind_end],label='speed')\n",
    "    axes[1].legend()\n",
    "    plt.xlabel('frames')\n",
    "    plt.show()"
   ]
  },
  {
   "cell_type": "code",
   "execution_count": 33,
   "metadata": {},
   "outputs": [],
   "source": [
    "speed_bp_params = ['speed_head', 'speed_tail_neck','speed_tail_middle','speed_tail_middle1', 'speed_tail_tip']\n",
    "skel_feats_speed = skel_feats.filter(items=speed_bp_params)"
   ]
  },
  {
   "cell_type": "code",
   "execution_count": 34,
   "metadata": {},
   "outputs": [],
   "source": [
    "df_ects = pd.DataFrame(ects)"
   ]
  },
  {
   "cell_type": "code",
   "execution_count": 35,
   "metadata": {},
   "outputs": [
    {
     "data": {
      "application/vnd.jupyter.widget-view+json": {
       "model_id": "8728a3aab8cf4a01b10493cbd7d56fb2",
       "version_major": 2,
       "version_minor": 0
      },
      "text/plain": [
       "Canvas(toolbar=Toolbar(toolitems=[('Home', 'Reset original view', 'home', 'home'), ('Back', 'Back to previous …"
      ]
     },
     "metadata": {},
     "output_type": "display_data"
    }
   ],
   "source": [
    "corr_ects = df_ects.corr()\n",
    "corr_speed = skel_feats_speed.corr()\n",
    "\n",
    "fig, axes = plt.subplots(1,2,figsize=(6,3))\n",
    "\n",
    "sns.heatmap(corr_ects, ax=axes[0])\n",
    "sns.heatmap(corr_speed, ax = axes[1])\n",
    "\n",
    "plt.tight_layout(w_pad=3.0)"
   ]
  },
  {
   "cell_type": "code",
   "execution_count": 36,
   "metadata": {},
   "outputs": [],
   "source": [
    "df_ects_filt = pd.DataFrame(ects_filt, columns=[f\"a{i}\" for i in range(ects_filt.shape[1])])"
   ]
  },
  {
   "cell_type": "code",
   "execution_count": null,
   "metadata": {},
   "outputs": [],
   "source": [
    "plt.close('all')\n",
    "\n",
    "\n",
    "slider_frame = widgets.IntRangeSlider(value=[0, 1000],\n",
    "                                            min=0,\n",
    "                                            max=len(ects)-1,\n",
    "                                            step=1,\n",
    "                                            description='Test:',\n",
    "                                            disabled=False,\n",
    "                                            continuous_update=False,\n",
    "                                            orientation='horizontal',\n",
    "                                            readout=True,\n",
    "                                            readout_format='d',layout=Layout(width='900px'))\n",
    "\n",
    "\n",
    "@widgets.interact\n",
    "def plot_trajectories(frames = slider_frame):\n",
    "    frame_start, frame_end = frames\n",
    "    \n",
    "    coeff_scatter_plot = sns.PairGrid(df_ects_filt[frame_start:frame_end],  \n",
    "                                      x_vars=list(df_ects_filt.columns), \n",
    "                                      y_vars=list(df_ects_filt.columns))\n",
    "    coeff_scatter_plot.fig.set_size_inches(8,8)\n",
    "    coeff_scatter_plot.map_lower(sns.kdeplot, shade=True, cmap='jet')\n",
    "    coeff_scatter_plot.map_upper(sns.scatterplot,s=5)\n",
    "    coeff_scatter_plot.map_diag(sns.kdeplot, color=sns.color_palette()[2])"
   ]
  },
  {
   "cell_type": "code",
   "execution_count": null,
   "metadata": {},
   "outputs": [],
   "source": [
    "\n",
    "slider_frame1 = widgets.IntRangeSlider(value=[0, 1000],\n",
    "                                            min=0,\n",
    "                                            max=len(ects)-1,\n",
    "                                            step=1,\n",
    "                                            description='Test:',\n",
    "                                            disabled=False,\n",
    "                                            continuous_update=False,\n",
    "                                            orientation='horizontal',\n",
    "                                            readout=True,\n",
    "                                            readout_format='d',layout=Layout(width='900px'))\n",
    "\n",
    "@widgets.interact\n",
    "def plot_trajectories(frames = slider_frame1):\n",
    "    frame_start, frame_end = frames\n",
    "    plt.figure(figsize=(5,5))\n",
    "    ax = plt.axes(projection='3d')\n",
    "    ax.scatter3D(ects_filt[frame_start:frame_end,0],ects_filt[frame_start:frame_end,1],\n",
    "            ects_filt[frame_start:frame_end,2]\n",
    "                 #,c = cm.autumn(ects_filt[frame_start:frame_end,3]))\n",
    "                 ,c = np.arange(0,len(ects)-1)[frame_start:frame_end], cmap='jet')\n",
    "    \n",
    "    \n"
   ]
  },
  {
   "cell_type": "code",
   "execution_count": 77,
   "metadata": {},
   "outputs": [],
   "source": [
    "body_score = np.average(ects_filt, weights=(eig_dict_orig['eig_vals_'][0:eig_dict_orig['n_modes']]), axis=1)"
   ]
  },
  {
   "cell_type": "code",
   "execution_count": 78,
   "metadata": {},
   "outputs": [
    {
     "data": {
      "application/vnd.jupyter.widget-view+json": {
       "model_id": "2b46c5c1b6d44e44a970a597bc1d6bac",
       "version_major": 2,
       "version_minor": 0
      },
      "text/plain": [
       "interactive(children=(IntRangeSlider(value=(0, 5000), continuous_update=False, description='Test:', layout=Lay…"
      ]
     },
     "metadata": {},
     "output_type": "display_data"
    }
   ],
   "source": [
    "slider_frame_range = widgets.IntRangeSlider(value=[0, 5000],\n",
    "                                            min=0,\n",
    "                                            max=len(ects)-1,\n",
    "                                            step=1,\n",
    "                                            description='Test:',\n",
    "                                            disabled=False,\n",
    "                                            continuous_update=False,\n",
    "                                            orientation='horizontal',\n",
    "                                            readout=True,\n",
    "                                            readout_format='d',layout=Layout(width='900px'))\n",
    "@widgets.interact\n",
    "def plot_bscore(inds_frame = slider_frame_range):\n",
    "    ind_start, ind_end = inds_frame\n",
    "    fig,axes = plt.subplots(1,1,figsize=(15,3))\n",
    "    axes.plot(body_score[ind_start:ind_end])\n",
    "    #axes.plot(body_score_filt[ind_start:ind_end])"
   ]
  },
  {
   "cell_type": "markdown",
   "metadata": {},
   "source": [
    "### Segmentation "
   ]
  },
  {
   "cell_type": "code",
   "execution_count": 57,
   "metadata": {},
   "outputs": [],
   "source": [
    "local_minima = np.r_[True, body_score[1:] < body_score[:-1]] & np.r_[body_score[:-1] < body_score[1:], True]"
   ]
  },
  {
   "cell_type": "code",
   "execution_count": 58,
   "metadata": {},
   "outputs": [
    {
     "data": {
      "application/vnd.jupyter.widget-view+json": {
       "model_id": "c45fe9af464d4f139839976bd8c232bf",
       "version_major": 2,
       "version_minor": 0
      },
      "text/plain": [
       "interactive(children=(IntRangeSlider(value=(0, 100), continuous_update=False, description='Test:', layout=Layo…"
      ]
     },
     "metadata": {},
     "output_type": "display_data"
    }
   ],
   "source": [
    "slider_frame_range = widgets.IntRangeSlider(value=[0, 100],\n",
    "                                            min=0,\n",
    "                                            max=len(ects)-1,\n",
    "                                            step=1,\n",
    "                                            description='Test:',\n",
    "                                            disabled=False,\n",
    "                                            continuous_update=False,\n",
    "                                            orientation='horizontal',\n",
    "                                            readout=True,\n",
    "                                            readout_format='d',layout=Layout(width='900px'))\n",
    "@widgets.interact\n",
    "def plot_bscore(inds_frame = slider_frame_range):\n",
    "    ind_start, ind_end = inds_frame\n",
    "    fig,axes = plt.subplots(1,1,figsize=(20,8))\n",
    "    \n",
    "    local_minima_coords = [i for i, x in enumerate(local_minima[ind_start:ind_end]) if x]\n",
    "    for xc in local_minima_coords:\n",
    "        axes.axvline(x=xc,color='k', linestyle='--')\n",
    "    \n",
    "    axes.plot(body_score[ind_start:ind_end])"
   ]
  },
  {
   "cell_type": "markdown",
   "metadata": {},
   "source": [
    "#### Segmentation and clustering using HMM"
   ]
  },
  {
   "cell_type": "code",
   "execution_count": 59,
   "metadata": {},
   "outputs": [],
   "source": [
    "from hmmlearn import hmm"
   ]
  },
  {
   "cell_type": "code",
   "execution_count": 60,
   "metadata": {},
   "outputs": [
    {
     "data": {
      "text/plain": [
       "(9001,)"
      ]
     },
     "execution_count": 60,
     "metadata": {},
     "output_type": "execute_result"
    }
   ],
   "source": [
    "ects_filt[:,0].shape"
   ]
  },
  {
   "cell_type": "code",
   "execution_count": 71,
   "metadata": {},
   "outputs": [
    {
     "name": "stderr",
     "output_type": "stream",
     "text": [
      "         1       22728.3148             +nan\n",
      "         2       40684.3865      +17956.0716\n",
      "         3       40684.3866          +0.0001\n"
     ]
    },
    {
     "data": {
      "text/plain": [
       "GaussianHMM(algorithm='viterbi', covariance_type='full', covars_prior=0.01,\n",
       "            covars_weight=1, init_params='stmc', means_prior=0, means_weight=0,\n",
       "            min_covar=0.001, n_components=3, n_iter=200, params='stmc',\n",
       "            random_state=None, startprob_prior=1.0, tol=0.01,\n",
       "            transmat_prior=1.0, verbose=True)"
      ]
     },
     "execution_count": 71,
     "metadata": {},
     "output_type": "execute_result"
    }
   ],
   "source": [
    "X_train = body_score.reshape(-1,1)\n",
    "\n",
    "model = hmm.GaussianHMM(n_components=3, covariance_type='full',n_iter=200, verbose=True)\n",
    "\n",
    "model.fit(X_train)"
   ]
  },
  {
   "cell_type": "code",
   "execution_count": 72,
   "metadata": {},
   "outputs": [
    {
     "name": "stdout",
     "output_type": "stream",
     "text": [
      "Model converged\n"
     ]
    }
   ],
   "source": [
    "if model.monitor_.converged:\n",
    "    print(\"Model converged\")"
   ]
  },
  {
   "cell_type": "code",
   "execution_count": 73,
   "metadata": {},
   "outputs": [],
   "source": [
    "clusters_train = model.predict(X_train)"
   ]
  },
  {
   "cell_type": "code",
   "execution_count": 74,
   "metadata": {},
   "outputs": [
    {
     "data": {
      "application/vnd.jupyter.widget-view+json": {
       "model_id": "c6df4f3687754f1491e640f1afadccde",
       "version_major": 2,
       "version_minor": 0
      },
      "text/plain": [
       "interactive(children=(IntRangeSlider(value=(0, 5000), continuous_update=False, description='Test:', layout=Lay…"
      ]
     },
     "metadata": {},
     "output_type": "display_data"
    }
   ],
   "source": [
    "plt.close('all')\n",
    "slider_frame_range = widgets.IntRangeSlider(value=[0, 5000],\n",
    "                                            min=0,\n",
    "                                            max=len(ects)-1,\n",
    "                                            step=1,\n",
    "                                            description='Test:',\n",
    "                                            disabled=False,\n",
    "                                            continuous_update=False,\n",
    "                                            orientation='horizontal',\n",
    "                                            readout=True,\n",
    "                                            readout_format='d',layout=Layout(width='900px'))\n",
    "@widgets.interact\n",
    "def plot_bscore_hmm(inds_frame = slider_frame_range):\n",
    "    ind_start, ind_end = inds_frame\n",
    "    fig,axes = plt.subplots(1,1,figsize=(15,3))\n",
    "    x_range = range(ind_start,ind_end)\n",
    "    c_pal = sns.color_palette(\"hls\", 8)\n",
    "    colors = [ c_pal[clus] for clus in clusters_train[ind_start:ind_end]]\n",
    "    axes.scatter(x_range, body_score[ind_start:ind_end], c= colors, s=2)\n",
    "    #axes.plot(body_score_filt[ind_start:ind_end])"
   ]
  },
  {
   "cell_type": "code",
   "execution_count": null,
   "metadata": {},
   "outputs": [],
   "source": []
  },
  {
   "cell_type": "code",
   "execution_count": null,
   "metadata": {},
   "outputs": [],
   "source": []
  }
 ],
 "metadata": {
  "kernelspec": {
   "display_name": "Python 3",
   "language": "python",
   "name": "python3"
  },
  "language_info": {
   "codemirror_mode": {
    "name": "ipython",
    "version": 3
   },
   "file_extension": ".py",
   "mimetype": "text/x-python",
   "name": "python",
   "nbconvert_exporter": "python",
   "pygments_lexer": "ipython3",
   "version": "3.8.5"
  },
  "toc": {
   "base_numbering": 1,
   "nav_menu": {},
   "number_sections": true,
   "sideBar": true,
   "skip_h1_title": false,
   "title_cell": "Table of Contents",
   "title_sidebar": "Contents",
   "toc_cell": false,
   "toc_position": {},
   "toc_section_display": true,
   "toc_window_display": false
  }
 },
 "nbformat": 4,
 "nbformat_minor": 2
}
