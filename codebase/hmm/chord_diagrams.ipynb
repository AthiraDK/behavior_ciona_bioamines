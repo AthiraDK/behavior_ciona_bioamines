{
 "cells": [
  {
   "cell_type": "code",
   "execution_count": null,
   "metadata": {},
   "outputs": [],
   "source": [
    "# !pip install chord\n",
    "# !pip install plotapi"
   ]
  },
  {
   "cell_type": "code",
   "execution_count": 1,
   "metadata": {},
   "outputs": [],
   "source": [
    "import os\n",
    "import sys\n",
    "\n",
    "\n",
    "import h5py\n",
    "import numpy as np\n",
    "import pandas as pd"
   ]
  },
  {
   "cell_type": "code",
   "execution_count": 2,
   "metadata": {},
   "outputs": [],
   "source": [
    "import matplotlib as mpl\n",
    "import matplotlib.pyplot as plt\n",
    "import seaborn as sns"
   ]
  },
  {
   "cell_type": "code",
   "execution_count": 3,
   "metadata": {},
   "outputs": [],
   "source": [
    "from ipywidgets import widgets"
   ]
  },
  {
   "cell_type": "code",
   "execution_count": 4,
   "metadata": {},
   "outputs": [],
   "source": [
    "# from chord import Chord"
   ]
  },
  {
   "cell_type": "code",
   "execution_count": 5,
   "metadata": {},
   "outputs": [],
   "source": [
    "import matplotlib_chord "
   ]
  },
  {
   "cell_type": "markdown",
   "metadata": {},
   "source": [
    "# Drugs"
   ]
  },
  {
   "cell_type": "code",
   "execution_count": 6,
   "metadata": {},
   "outputs": [],
   "source": [
    "transmat_files_path = '../project_behaviour/Data/transmat_10states_feats7/'\n",
    "fnames = next(os.walk(transmat_files_path))[-1]\n",
    "n_drugs = len(fnames)"
   ]
  },
  {
   "cell_type": "code",
   "execution_count": 7,
   "metadata": {},
   "outputs": [],
   "source": [
    "drugs_all = []"
   ]
  },
  {
   "cell_type": "code",
   "execution_count": 8,
   "metadata": {},
   "outputs": [
    {
     "name": "stdout",
     "output_type": "stream",
     "text": [
      "Quinpirole003\n",
      "Chlorpromazine\n",
      "Mianserin\n",
      "Paroxetine\n",
      "AA\n",
      "Fluoxetine\n",
      "None\n",
      "Tyramine\n",
      "Phentolamine\n",
      "Alphamethyl\n",
      "Clomipramine\n",
      "Dopamine\n",
      "Octopamine\n",
      "Quinpirole0003\n",
      "Raclopride\n",
      "Imipramine\n",
      "Methiothepin\n",
      "Serotonin\n"
     ]
    }
   ],
   "source": [
    "for fname in fnames:\n",
    "    drug = (fname.split('_')[1].split('drug')[0])\n",
    "    print(drug)\n",
    "    df_transmat = pd.read_pickle(os.path.join(transmat_files_path, fname))\n",
    "    drugs_all.append(drug)"
   ]
  },
  {
   "cell_type": "code",
   "execution_count": 9,
   "metadata": {},
   "outputs": [],
   "source": [
    "colors_hex = ['#800000',\n",
    " '#D2691E',\n",
    " '#DC143C',\n",
    " '#C71585',\n",
    " '#DA70D6',\n",
    " '#9ACD32',\n",
    " '#3CB371',\n",
    " '#556B2F',\n",
    " '#6495ED',\n",
    " '#8A2BE2']"
   ]
  },
  {
   "cell_type": "code",
   "execution_count": 10,
   "metadata": {},
   "outputs": [],
   "source": [
    "\n",
    "colors_rgb = [matplotlib_chord.hex2rgb(h) for h in colors_hex] "
   ]
  },
  {
   "cell_type": "code",
   "execution_count": 11,
   "metadata": {},
   "outputs": [
    {
     "data": {
      "text/plain": [
       "[(0.5, 0.0, 0.0),\n",
       " (0.8203125, 0.41015625, 0.1171875),\n",
       " (0.859375, 0.078125, 0.234375),\n",
       " (0.77734375, 0.08203125, 0.51953125),\n",
       " (0.8515625, 0.4375, 0.8359375),\n",
       " (0.6015625, 0.80078125, 0.1953125),\n",
       " (0.234375, 0.69921875, 0.44140625),\n",
       " (0.33203125, 0.41796875, 0.18359375),\n",
       " (0.390625, 0.58203125, 0.92578125),\n",
       " (0.5390625, 0.16796875, 0.8828125)]"
      ]
     },
     "execution_count": 11,
     "metadata": {},
     "output_type": "execute_result"
    }
   ],
   "source": [
    "colors_rgb"
   ]
  },
  {
   "cell_type": "code",
   "execution_count": null,
   "metadata": {},
   "outputs": [],
   "source": [
    "# fig, ax = plt.subplots(1,1, figsize = (10,10))\n",
    "# nodePos = matplotlib_chord.chordDiagram(transmat, ax, colors= colors_rgb, pad =4)\n",
    "# prop1 = dict(fontsize=16*0.8, ha='left', va='top')\n",
    "# prop2 = dict(fontsize=16*0.8, ha='right', va='bottom')\n",
    "# nodes = states\n",
    "# for i in [2,3,4,5,6]:\n",
    "#     ax.text(nodePos[i][0], nodePos[i][1], nodes[i], rotation=nodePos[i][2], **prop1)\n",
    "# for i in [7,8,9,0,1]:\n",
    "#     ax.text(nodePos[i][0], nodePos[i][1], nodes[i], rotation=nodePos[i][2], **prop2)"
   ]
  },
  {
   "cell_type": "code",
   "execution_count": null,
   "metadata": {},
   "outputs": [],
   "source": [
    "# Chord.user = \"mch050@uib.no\"\n",
    "# Chord.key = \"PLOTAPI-P-dd8a4ec9-a497-4dc3-af61-a58a170fd138\""
   ]
  },
  {
   "cell_type": "code",
   "execution_count": 12,
   "metadata": {},
   "outputs": [],
   "source": [
    "from plotapi import Chord\n",
    "\n",
    "Chord.set_license(\"mch050@uib.no\", \"PLOTAPI-B-eeff2797-337b-4560-83af-8590cdde27ef\")\n",
    "# PLOTAPI-B-eeff2797-337b-4560-83af-8590cdde27ef"
   ]
  },
  {
   "cell_type": "code",
   "execution_count": 13,
   "metadata": {},
   "outputs": [],
   "source": [
    "# Chord.user = \"mch050@uib.no\"\n",
    "# Chord.key = \"CP-0e246ec7-d822-4bce-bc22-fac4c9042072\""
   ]
  },
  {
   "cell_type": "code",
   "execution_count": 14,
   "metadata": {},
   "outputs": [
    {
     "data": {
      "text/plain": [
       "18"
      ]
     },
     "execution_count": 14,
     "metadata": {},
     "output_type": "execute_result"
    }
   ],
   "source": [
    "n_drugs"
   ]
  },
  {
   "cell_type": "code",
   "execution_count": 15,
   "metadata": {},
   "outputs": [
    {
     "data": {
      "text/plain": [
       "18"
      ]
     },
     "execution_count": 15,
     "metadata": {},
     "output_type": "execute_result"
    }
   ],
   "source": [
    "len(drugs_all)"
   ]
  },
  {
   "cell_type": "code",
   "execution_count": null,
   "metadata": {},
   "outputs": [],
   "source": [
    "short_drugs_list = ['Clomipramine',\n",
    " 'Methiothepin',\n",
    " 'Chlorpromazine',\n",
    " 'Imipramine',\n",
    " 'Mianserin',\n",
    " 'Fluoxetine',\n",
    " 'Phentolamine',\n",
    " 'None',\n",
    "'Raclopride']"
   ]
  },
  {
   "cell_type": "code",
   "execution_count": 16,
   "metadata": {},
   "outputs": [],
   "source": [
    "fnames_short = []"
   ]
  },
  {
   "cell_type": "code",
   "execution_count": 17,
   "metadata": {},
   "outputs": [],
   "source": [
    "for j, fname in enumerate(fnames):\n",
    "    \n",
    "\n",
    "    drug_ = (fname.split('_')[1].split('drug')[0])\n",
    "#     if drug_ == 'Raclopride':\n",
    "#     if drug_ in short_drugs_list:\n",
    "    if drug_ in drugs_all:\n",
    "        fnames_short.append(fname)"
   ]
  },
  {
   "cell_type": "code",
   "execution_count": 18,
   "metadata": {},
   "outputs": [
    {
     "data": {
      "text/plain": [
       "['transmat_Quinpirole003drug41_10states_7feats.pkl',\n",
       " 'transmat_Chlorpromazinedrug51_10states_7feats.pkl',\n",
       " 'transmat_Mianserindrug39_10states_7feats.pkl',\n",
       " 'transmat_Paroxetinedrug57_10states_7feats.pkl',\n",
       " 'transmat_AAdrug64_10states_7feats.pkl',\n",
       " 'transmat_Fluoxetinedrug32_10states_7feats.pkl',\n",
       " 'transmat_Nonedrug694_10states_7feats.pkl',\n",
       " 'transmat_Tyraminedrug52_10states_7feats.pkl',\n",
       " 'transmat_Phentolaminedrug38_10states_7feats.pkl',\n",
       " 'transmat_Alphamethyldrug55_10states_7feats.pkl',\n",
       " 'transmat_Clomipraminedrug59_10states_7feats.pkl',\n",
       " 'transmat_Dopaminedrug88_10states_7feats.pkl',\n",
       " 'transmat_Octopaminedrug51_10states_7feats.pkl',\n",
       " 'transmat_Quinpirole0003drug27_10states_7feats.pkl',\n",
       " 'transmat_Raclopridedrug35_10states_7feats.pkl',\n",
       " 'transmat_Imipraminedrug69_10states_7feats.pkl',\n",
       " 'transmat_Methiothepindrug77_10states_7feats.pkl',\n",
       " 'transmat_Serotonindrug64_10states_7feats.pkl']"
      ]
     },
     "execution_count": 18,
     "metadata": {},
     "output_type": "execute_result"
    }
   ],
   "source": [
    "fnames_short"
   ]
  },
  {
   "cell_type": "code",
   "execution_count": 19,
   "metadata": {},
   "outputs": [],
   "source": [
    "# fnames_short =['transmat_Raclopridedrug35_10states_7feats.pkl',\n",
    "#  'transmat_Chlorpromazinedrug51_10states_7feats.pkl',\n",
    "#  'transmat_Mianserindrug39_10states_7feats.pkl']"
   ]
  },
  {
   "cell_type": "code",
   "execution_count": 20,
   "metadata": {},
   "outputs": [],
   "source": [
    "state_dict = {0:\"<&alpha;>\",1:\"&beta;\",2:\"&gamma;\",3:\"&delta;\",4:\"&epsilon;\",5:\"&zeta;\",\n",
    "                  6:\"&eta;\",7:\"&theta;\",8:\"&iota;\",9:\"&kappa;\",10:\"&lambda;\",11:\"&mu;\"}"
   ]
  },
  {
   "cell_type": "code",
   "execution_count": 24,
   "metadata": {},
   "outputs": [
    {
     "name": "stderr",
     "output_type": "stream",
     "text": [
      "<ipython-input-24-8671b25a3fb6>:15: FutureWarning: Using a non-tuple sequence for multidimensional indexing is deprecated; use `arr[tuple(seq)]` instead of `arr[seq]`. In the future this will be interpreted as an array index, `arr[np.array(seq)]`, which will result either in an error or a different result.\n",
      "  transmat.values[[np.arange(transmat.shape[0])]*2] = 0\n",
      "<ipython-input-24-8671b25a3fb6>:15: FutureWarning: Using a non-tuple sequence for multidimensional indexing is deprecated; use `arr[tuple(seq)]` instead of `arr[seq]`. In the future this will be interpreted as an array index, `arr[np.array(seq)]`, which will result either in an error or a different result.\n",
      "  transmat.values[[np.arange(transmat.shape[0])]*2] = 0\n",
      "<ipython-input-24-8671b25a3fb6>:15: FutureWarning: Using a non-tuple sequence for multidimensional indexing is deprecated; use `arr[tuple(seq)]` instead of `arr[seq]`. In the future this will be interpreted as an array index, `arr[np.array(seq)]`, which will result either in an error or a different result.\n",
      "  transmat.values[[np.arange(transmat.shape[0])]*2] = 0\n",
      "<ipython-input-24-8671b25a3fb6>:15: FutureWarning: Using a non-tuple sequence for multidimensional indexing is deprecated; use `arr[tuple(seq)]` instead of `arr[seq]`. In the future this will be interpreted as an array index, `arr[np.array(seq)]`, which will result either in an error or a different result.\n",
      "  transmat.values[[np.arange(transmat.shape[0])]*2] = 0\n",
      "<ipython-input-24-8671b25a3fb6>:15: FutureWarning: Using a non-tuple sequence for multidimensional indexing is deprecated; use `arr[tuple(seq)]` instead of `arr[seq]`. In the future this will be interpreted as an array index, `arr[np.array(seq)]`, which will result either in an error or a different result.\n",
      "  transmat.values[[np.arange(transmat.shape[0])]*2] = 0\n",
      "<ipython-input-24-8671b25a3fb6>:15: FutureWarning: Using a non-tuple sequence for multidimensional indexing is deprecated; use `arr[tuple(seq)]` instead of `arr[seq]`. In the future this will be interpreted as an array index, `arr[np.array(seq)]`, which will result either in an error or a different result.\n",
      "  transmat.values[[np.arange(transmat.shape[0])]*2] = 0\n",
      "<ipython-input-24-8671b25a3fb6>:15: FutureWarning: Using a non-tuple sequence for multidimensional indexing is deprecated; use `arr[tuple(seq)]` instead of `arr[seq]`. In the future this will be interpreted as an array index, `arr[np.array(seq)]`, which will result either in an error or a different result.\n",
      "  transmat.values[[np.arange(transmat.shape[0])]*2] = 0\n",
      "<ipython-input-24-8671b25a3fb6>:15: FutureWarning: Using a non-tuple sequence for multidimensional indexing is deprecated; use `arr[tuple(seq)]` instead of `arr[seq]`. In the future this will be interpreted as an array index, `arr[np.array(seq)]`, which will result either in an error or a different result.\n",
      "  transmat.values[[np.arange(transmat.shape[0])]*2] = 0\n",
      "<ipython-input-24-8671b25a3fb6>:15: FutureWarning: Using a non-tuple sequence for multidimensional indexing is deprecated; use `arr[tuple(seq)]` instead of `arr[seq]`. In the future this will be interpreted as an array index, `arr[np.array(seq)]`, which will result either in an error or a different result.\n",
      "  transmat.values[[np.arange(transmat.shape[0])]*2] = 0\n",
      "<ipython-input-24-8671b25a3fb6>:15: FutureWarning: Using a non-tuple sequence for multidimensional indexing is deprecated; use `arr[tuple(seq)]` instead of `arr[seq]`. In the future this will be interpreted as an array index, `arr[np.array(seq)]`, which will result either in an error or a different result.\n",
      "  transmat.values[[np.arange(transmat.shape[0])]*2] = 0\n",
      "<ipython-input-24-8671b25a3fb6>:15: FutureWarning: Using a non-tuple sequence for multidimensional indexing is deprecated; use `arr[tuple(seq)]` instead of `arr[seq]`. In the future this will be interpreted as an array index, `arr[np.array(seq)]`, which will result either in an error or a different result.\n",
      "  transmat.values[[np.arange(transmat.shape[0])]*2] = 0\n",
      "<ipython-input-24-8671b25a3fb6>:15: FutureWarning: Using a non-tuple sequence for multidimensional indexing is deprecated; use `arr[tuple(seq)]` instead of `arr[seq]`. In the future this will be interpreted as an array index, `arr[np.array(seq)]`, which will result either in an error or a different result.\n",
      "  transmat.values[[np.arange(transmat.shape[0])]*2] = 0\n",
      "<ipython-input-24-8671b25a3fb6>:15: FutureWarning: Using a non-tuple sequence for multidimensional indexing is deprecated; use `arr[tuple(seq)]` instead of `arr[seq]`. In the future this will be interpreted as an array index, `arr[np.array(seq)]`, which will result either in an error or a different result.\n",
      "  transmat.values[[np.arange(transmat.shape[0])]*2] = 0\n",
      "<ipython-input-24-8671b25a3fb6>:15: FutureWarning: Using a non-tuple sequence for multidimensional indexing is deprecated; use `arr[tuple(seq)]` instead of `arr[seq]`. In the future this will be interpreted as an array index, `arr[np.array(seq)]`, which will result either in an error or a different result.\n",
      "  transmat.values[[np.arange(transmat.shape[0])]*2] = 0\n",
      "<ipython-input-24-8671b25a3fb6>:15: FutureWarning: Using a non-tuple sequence for multidimensional indexing is deprecated; use `arr[tuple(seq)]` instead of `arr[seq]`. In the future this will be interpreted as an array index, `arr[np.array(seq)]`, which will result either in an error or a different result.\n",
      "  transmat.values[[np.arange(transmat.shape[0])]*2] = 0\n",
      "<ipython-input-24-8671b25a3fb6>:15: FutureWarning: Using a non-tuple sequence for multidimensional indexing is deprecated; use `arr[tuple(seq)]` instead of `arr[seq]`. In the future this will be interpreted as an array index, `arr[np.array(seq)]`, which will result either in an error or a different result.\n",
      "  transmat.values[[np.arange(transmat.shape[0])]*2] = 0\n",
      "<ipython-input-24-8671b25a3fb6>:15: FutureWarning: Using a non-tuple sequence for multidimensional indexing is deprecated; use `arr[tuple(seq)]` instead of `arr[seq]`. In the future this will be interpreted as an array index, `arr[np.array(seq)]`, which will result either in an error or a different result.\n",
      "  transmat.values[[np.arange(transmat.shape[0])]*2] = 0\n",
      "<ipython-input-24-8671b25a3fb6>:15: FutureWarning: Using a non-tuple sequence for multidimensional indexing is deprecated; use `arr[tuple(seq)]` instead of `arr[seq]`. In the future this will be interpreted as an array index, `arr[np.array(seq)]`, which will result either in an error or a different result.\n",
      "  transmat.values[[np.arange(transmat.shape[0])]*2] = 0\n"
     ]
    }
   ],
   "source": [
    "max_val = 0 \n",
    "for j, fn in enumerate(fnames_short):\n",
    "    \n",
    "    fname = fnames_short[j]\n",
    "    drug_ = (fname.split('_')[1].split('drug')[0])\n",
    "    df_transmat = pd.read_pickle(os.path.join(transmat_files_path, fname))\n",
    "    \n",
    "    test_cols = [1,2,6,9,0,3,4,5,7,8]\n",
    "    test_ = pd.Index(test_cols)\n",
    "    test_states =  [f'st_{i}' for i in test_cols]\n",
    "#     test_states =  [f'st_{i}' for i in test_cols]\n",
    "    cols_hex = [colors_hex[i] for i in test_cols]\n",
    "    transmat = df_transmat.loc[test_][test_cols].multiply(1000).astype(int)\n",
    "    max_val = max(transmat)\n",
    "    transmat.values[[np.arange(transmat.shape[0])]*2] = 0\n",
    "#     transmat[transmat > 0.9*max_val] = 0\n",
    "    transmat[transmat < 0.001*1000] = 0\n",
    "    transmat = transmat.values.T.tolist()\n",
    "\n",
    "    Chord(transmat, test_states, colors= cols_hex,  divide=True, divide_idx=4,\n",
    "          title = f'{drug_}',\n",
    "            divide_left_label=\"idle\", divide_right_label=\"actively swimming\",\n",
    "                      symmetric=False).to_png(f'./Results_30072021/Chord_diagrams/chord_{drug_}.png')"
   ]
  },
  {
   "cell_type": "markdown",
   "metadata": {
    "heading_collapsed": true
   },
   "source": [
    "# Light"
   ]
  },
  {
   "cell_type": "code",
   "execution_count": null,
   "metadata": {
    "hidden": true
   },
   "outputs": [],
   "source": [
    "print(fname)\n",
    "test_ = pd.read_pickle(os.path.join(transmat_files_path, fname))\n",
    "test_"
   ]
  },
  {
   "cell_type": "code",
   "execution_count": null,
   "metadata": {
    "hidden": true
   },
   "outputs": [],
   "source": [
    "transmat"
   ]
  },
  {
   "cell_type": "code",
   "execution_count": null,
   "metadata": {
    "hidden": true
   },
   "outputs": [],
   "source": [
    "transmat_files_path_light = '../project_behaviour/Data/transmat_10states_feats7_light1/'\n",
    "fnames_light = next(os.walk(transmat_files_path_light))[-1]\n",
    "n_light = len(fnames_light)\n",
    "print(n_light)"
   ]
  },
  {
   "cell_type": "code",
   "execution_count": null,
   "metadata": {
    "hidden": true
   },
   "outputs": [],
   "source": [
    "fnames_light"
   ]
  },
  {
   "cell_type": "code",
   "execution_count": null,
   "metadata": {
    "hidden": true
   },
   "outputs": [],
   "source": [
    "df_transmat_0 = pd.read_pickle(os.path.join(transmat_files_path_light, 'transmat_tOFFbefore_blue_light18_10states_7feats.pkl'))\n",
    "df_transmat_1 = pd.read_pickle(os.path.join(transmat_files_path_light,'transmat_tOFFafter_blue_light16_10states_7feats.pkl'))"
   ]
  },
  {
   "cell_type": "code",
   "execution_count": null,
   "metadata": {
    "hidden": true
   },
   "outputs": [],
   "source": [
    "df_transmat_0"
   ]
  },
  {
   "cell_type": "code",
   "execution_count": null,
   "metadata": {
    "hidden": true
   },
   "outputs": [],
   "source": [
    "df_transmat_1"
   ]
  },
  {
   "cell_type": "code",
   "execution_count": null,
   "metadata": {
    "hidden": true
   },
   "outputs": [],
   "source": [
    "!python --version"
   ]
  },
  {
   "cell_type": "code",
   "execution_count": null,
   "metadata": {
    "hidden": true
   },
   "outputs": [],
   "source": [
    "pd.__version__"
   ]
  },
  {
   "cell_type": "code",
   "execution_count": null,
   "metadata": {
    "hidden": true
   },
   "outputs": [],
   "source": [
    "import pickle \n",
    "pickle.compatible_formats"
   ]
  },
  {
   "cell_type": "code",
   "execution_count": null,
   "metadata": {
    "hidden": true
   },
   "outputs": [],
   "source": [
    "df_transmat"
   ]
  },
  {
   "cell_type": "code",
   "execution_count": null,
   "metadata": {
    "hidden": true
   },
   "outputs": [],
   "source": [
    "fnames_light"
   ]
  },
  {
   "cell_type": "code",
   "execution_count": null,
   "metadata": {
    "hidden": true
   },
   "outputs": [],
   "source": [
    "max_val = 0 \n",
    "for j, fn in enumerate(fnames_light):\n",
    "    \n",
    "    fname = fnames_light[j]\n",
    "    stim_stat = (fname.split('_')[1])\n",
    "    stim_name = (fname.split('_')[2])\n",
    "    light_ = stim_name + '_' + stim_stat\n",
    "    df_transmat = pd.read_pickle(os.path.join(transmat_files_path_light, fname))\n",
    "    \n",
    "    test_cols = [1,2,6,9,0,3,4,5,7,8]\n",
    "    test_ = pd.Index(test_cols)\n",
    "#     test_states =  [f'state_{str(i)}' for i in test_cols]\n",
    "    test_states =  [f'st_{i}' for i in test_cols]\n",
    "    cols_hex = [colors_hex[i] for i in test_cols]\n",
    "    transmat = df_transmat.loc[test_][test_cols].multiply(1000).astype(int)\n",
    "    max_val = max(transmat)\n",
    "    transmat.values[[np.arange(transmat.shape[0])]*2] = 0\n",
    "#     transmat[transmat > 0.9*max_val] = 0\n",
    "    transmat[transmat < 0.001*1000] = 0\n",
    "    transmat = transmat.values.T.tolist()\n",
    "\n",
    "    Chord(transmat, test_states, colors= cols_hex,  divide=True, divide_idx=4,\n",
    "          title = f'{light_}',\n",
    "            divide_left_label=\"idle\", divide_right_label=\"actively swimming\",\n",
    "                      symmetric=False).to_png(f'./Figures/chord_light_10May_test/chord_{light_}.png')"
   ]
  },
  {
   "cell_type": "code",
   "execution_count": null,
   "metadata": {
    "hidden": true
   },
   "outputs": [],
   "source": [
    "max_val = 0 \n",
    "for j, fn in enumerate(fnames_light):\n",
    "    \n",
    "    fname = fnames_light[j]\n",
    "    stim_stat = (fname.split('_')[1])\n",
    "    stim_name = (fname.split('_')[2])\n",
    "    light_ = stim_name + '_' + stim_stat\n",
    "    df_transmat = pd.read_pickle(os.path.join(transmat_files_path_light, fname))\n",
    "    \n",
    "    test_cols = [1,2,6,9,0,3,4,5,7,8]\n",
    "    test_ = pd.Index(test_cols)\n",
    "    test_states =  [f'st_{str(i)}' for i in test_cols]\n",
    "    cols_hex = [colors_hex [i] for i in test_cols]\n",
    "    transmat = df_transmat.loc[test_][test_cols].multiply(1000).astype(int)\n",
    "    max_val = max(transmat)\n",
    "    transmat.values[[np.arange(transmat.shape[0])]*2] = 0\n",
    "    \n",
    "#     transmat[transmat > 0.9*max_val] = 0\n",
    "    transmat[transmat < 0.001*max_val] = 0\n",
    "    transmat = transmat.values.tolist()\n",
    "    Chord(transmat, test_states, colors= cols_hex, divide=True, divide_idx=4, \n",
    "          divide_left_label=\"idle\", divide_right_label=\"actively swimming\",\n",
    "          symmetric=False).to_png(f'./Figures/chord_light_t1/chord_{light_}.png')\n"
   ]
  },
  {
   "cell_type": "markdown",
   "metadata": {
    "heading_collapsed": true,
    "hidden": true
   },
   "source": [
    "## test2 : FLuoxetine white"
   ]
  },
  {
   "cell_type": "code",
   "execution_count": null,
   "metadata": {
    "hidden": true
   },
   "outputs": [],
   "source": []
  },
  {
   "cell_type": "code",
   "execution_count": null,
   "metadata": {
    "hidden": true
   },
   "outputs": [],
   "source": [
    "max_val = 0 \n",
    "for j, fn in enumerate():\n",
    "    \n",
    "    fname = fnames_light[j]\n",
    "    stim_stat = (fname.split('_')[1])\n",
    "    stim_name = (fname.split('_')[2])\n",
    "    light_ = stim_name + '_' + stim_stat\n",
    "    df_transmat = pd.read_pickle(os.path.join(transmat_files_path_light, fname))\n",
    "    \n",
    "    test_cols = [1,2,6,0,3,4,5,7,8,9]\n",
    "    test_ = pd.Index(test_cols)\n",
    "    test_states =  [f'state_{str(i)}' for i in test_cols]\n",
    "    cols_hex = [colors_hex [i] for i in test_cols]\n",
    "    transmat = df_transmat.loc[test_][test_cols].multiply(1000).astype(int)\n",
    "    max_val = max(transmat)\n",
    "    transmat.values[[np.arange(transmat.shape[0])]*2] = 0\n",
    "#     transmat[transmat > 0.9*max_val] = 0\n",
    "    transmat[transmat < 0.001*1000] = 0\n",
    "    transmat = transmat.values.tolist()\n",
    "    Chord(transmat, test_states, colors= cols_hex, divide=True, divide_idx=3, \n",
    "          divide_left_label=\"idle\", divide_right_label=\"actively swimming\",\n",
    "          conjunction=\"<-->\", verb = \"Out of 1000,\", noun = \"transitions\", \n",
    "          symmetric=False).to_png(f'./Figures/chord_light_10May_test/t2_fluoxetine_{light_}.png')\n",
    "#     Chord(transmat, test_states, colors= cols_hex, divide=True, divide_idx=3).to_png(f'./Figures/out_{light_}.png')"
   ]
  }
 ],
 "metadata": {
  "kernelspec": {
   "display_name": "Python 3",
   "language": "python",
   "name": "python3"
  },
  "language_info": {
   "codemirror_mode": {
    "name": "ipython",
    "version": 3
   },
   "file_extension": ".py",
   "mimetype": "text/x-python",
   "name": "python",
   "nbconvert_exporter": "python",
   "pygments_lexer": "ipython3",
   "version": "3.8.5"
  },
  "toc": {
   "base_numbering": 1,
   "nav_menu": {},
   "number_sections": true,
   "sideBar": true,
   "skip_h1_title": false,
   "title_cell": "Table of Contents",
   "title_sidebar": "Contents",
   "toc_cell": false,
   "toc_position": {},
   "toc_section_display": true,
   "toc_window_display": false
  }
 },
 "nbformat": 4,
 "nbformat_minor": 4
}
