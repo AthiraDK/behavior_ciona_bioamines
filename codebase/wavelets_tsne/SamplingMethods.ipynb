{
 "cells": [
  {
   "cell_type": "code",
   "execution_count": null,
   "metadata": {},
   "outputs": [],
   "source": [
    "from openTSNE import TSNE"
   ]
  },
  {
   "cell_type": "code",
   "execution_count": 1,
   "metadata": {},
   "outputs": [],
   "source": [
    "import tqdm\n",
    "import time\n",
    "import json\n",
    "from joblib import Parallel, delayed"
   ]
  },
  {
   "cell_type": "code",
   "execution_count": 2,
   "metadata": {},
   "outputs": [],
   "source": [
    "import os\n",
    "import sys\n",
    "\n",
    "import h5py \n",
    "import pandas as pd\n",
    "import numpy as np\n",
    "import random\n",
    "\n",
    "import matplotlib as mpl\n",
    "import matplotlib.pyplot as plt\n",
    "import seaborn as sns\n",
    "\n",
    "from scipy import signal"
   ]
  },
  {
   "cell_type": "code",
   "execution_count": 3,
   "metadata": {},
   "outputs": [],
   "source": [
    "sys.path.append(\"../Code/\")\n",
    "\n",
    "# Import functions for handling skeleton files\n",
    "from data_handling import read_skeleton_as_array, calc_quality, del_nan_rows"
   ]
  },
  {
   "cell_type": "code",
   "execution_count": 4,
   "metadata": {},
   "outputs": [],
   "source": [
    "import pickle"
   ]
  },
  {
   "cell_type": "code",
   "execution_count": 5,
   "metadata": {},
   "outputs": [],
   "source": [
    "from itertools import islice"
   ]
  },
  {
   "cell_type": "code",
   "execution_count": 6,
   "metadata": {},
   "outputs": [],
   "source": [
    "from numpyencoder import NumpyEncoder"
   ]
  },
  {
   "cell_type": "markdown",
   "metadata": {
    "heading_collapsed": true
   },
   "source": [
    "# Get the data"
   ]
  },
  {
   "cell_type": "code",
   "execution_count": null,
   "metadata": {
    "hidden": true
   },
   "outputs": [],
   "source": [
    "skel_feats_path = \"/share/data/temp/athira/July17_features_combined_noLightStimuli.pickle\""
   ]
  },
  {
   "cell_type": "code",
   "execution_count": null,
   "metadata": {
    "hidden": true
   },
   "outputs": [],
   "source": [
    "skel_meta_path = '/share/data/temp/athira/skeletons_metadata.pkl'"
   ]
  },
  {
   "cell_type": "code",
   "execution_count": null,
   "metadata": {
    "hidden": true
   },
   "outputs": [],
   "source": [
    "df_features = pd.read_pickle(skel_feats_path)"
   ]
  },
  {
   "cell_type": "code",
   "execution_count": null,
   "metadata": {
    "hidden": true
   },
   "outputs": [],
   "source": [
    "df_features.reset_index(drop = True, inplace = True)"
   ]
  },
  {
   "cell_type": "code",
   "execution_count": null,
   "metadata": {
    "hidden": true
   },
   "outputs": [],
   "source": [
    "df_features"
   ]
  },
  {
   "cell_type": "code",
   "execution_count": null,
   "metadata": {
    "hidden": true
   },
   "outputs": [],
   "source": [
    "meta_df = pd.read_pickle(skel_meta_path)"
   ]
  },
  {
   "cell_type": "code",
   "execution_count": null,
   "metadata": {
    "hidden": true
   },
   "outputs": [],
   "source": [
    "selected_exps = meta_df[meta_df['swims_151'] & (meta_df['quality'] >= 95)]"
   ]
  },
  {
   "cell_type": "code",
   "execution_count": null,
   "metadata": {
    "hidden": true
   },
   "outputs": [],
   "source": [
    "df_files = df_features.groupby(by = 'filename')"
   ]
  },
  {
   "cell_type": "code",
   "execution_count": null,
   "metadata": {
    "hidden": true
   },
   "outputs": [],
   "source": [
    "filenames = list(selected_exps['filename'])\n",
    "fnames = filenames"
   ]
  },
  {
   "cell_type": "code",
   "execution_count": null,
   "metadata": {
    "hidden": true
   },
   "outputs": [],
   "source": [
    "df_tsne_exps = []\n",
    "for fname in list(selected_exps['filename']):\n",
    "    df_tsne_exps.append(df_files.get_group(fname))"
   ]
  },
  {
   "cell_type": "code",
   "execution_count": null,
   "metadata": {
    "hidden": true
   },
   "outputs": [],
   "source": [
    "df_all_117 = pd.concat(df_tsne_exps)\n",
    "len(df_all_117.index)"
   ]
  },
  {
   "cell_type": "code",
   "execution_count": null,
   "metadata": {
    "hidden": true
   },
   "outputs": [],
   "source": [
    "df_all_117.reset_index(drop = True, inplace = True)"
   ]
  },
  {
   "cell_type": "code",
   "execution_count": null,
   "metadata": {
    "hidden": true
   },
   "outputs": [],
   "source": [
    "df_all_117"
   ]
  },
  {
   "cell_type": "markdown",
   "metadata": {},
   "source": [
    "# Sampling using histogram \n"
   ]
  },
  {
   "cell_type": "code",
   "execution_count": null,
   "metadata": {},
   "outputs": [],
   "source": [
    "len(df_all_117.index)"
   ]
  },
  {
   "cell_type": "code",
   "execution_count": null,
   "metadata": {},
   "outputs": [],
   "source": [
    "n_samples = 200000\n",
    "n_samplesk = n_samples// 1000"
   ]
  },
  {
   "cell_type": "code",
   "execution_count": null,
   "metadata": {},
   "outputs": [],
   "source": [
    "def nearest_neighbours(test_val, lst):\n",
    "    for i, l in enumerate(zip(lst, islice(lst, 1, None))):\n",
    "        l1 = l[0]\n",
    "        l2 = l[1]\n",
    "        if l1 <= test_val <= l2:\n",
    "#             return l1, l2, i, 1 / x_hist[i]\n",
    "            return (1/x_hist[i])\n",
    "#         else :\n",
    "#             return 1/x_hist[-1]"
   ]
  },
  {
   "cell_type": "code",
   "execution_count": null,
   "metadata": {},
   "outputs": [],
   "source": [
    "feat_coeff_dict = {'speed_neck': 0.3, 'speed_tail_base': 0.1, 'speed_tail_pre_mid': 0.1,\n",
    "                    'speed_tail_mid': 0.3, 'speed_tail_post_mid': 0.1, 'speed_tail_tip': 0.1}"
   ]
  },
  {
   "cell_type": "code",
   "execution_count": null,
   "metadata": {},
   "outputs": [],
   "source": [
    "feat_weights_df = pd.DataFrame()"
   ]
  },
  {
   "cell_type": "code",
   "execution_count": null,
   "metadata": {},
   "outputs": [],
   "source": [
    "for key, coeff in tqdm.tqdm(feat_coeff_dict.items()):\n",
    "    \n",
    "    x_hist, x_ed = np.histogram(df_all_117[key], bins =100, density=1)\n",
    "    \n",
    "    weights = df_all_117[key].apply(lambda y: nearest_neighbours(y, x_ed))\n",
    "    \n",
    "    feat_weights_df[key] = weights * coeff"
   ]
  },
  {
   "cell_type": "code",
   "execution_count": null,
   "metadata": {},
   "outputs": [],
   "source": [
    "# feat_weights_df"
   ]
  },
  {
   "cell_type": "code",
   "execution_count": null,
   "metadata": {},
   "outputs": [],
   "source": [
    "feat_weights_df['final_weights'] = feat_weights_df.sum(axis=1) "
   ]
  },
  {
   "cell_type": "code",
   "execution_count": null,
   "metadata": {},
   "outputs": [],
   "source": [
    "s_tsne = np.load('tsne_Jan18.npy')"
   ]
  },
  {
   "cell_type": "code",
   "execution_count": null,
   "metadata": {},
   "outputs": [],
   "source": [
    "df_all_117.shape"
   ]
  },
  {
   "cell_type": "code",
   "execution_count": null,
   "metadata": {},
   "outputs": [],
   "source": [
    "df_all_117['tsne_0'] = s_tsne[:,0]\n",
    "df_all_117['tsne_1'] = s_tsne[:,1]"
   ]
  },
  {
   "cell_type": "code",
   "execution_count": null,
   "metadata": {},
   "outputs": [],
   "source": [
    "df_samples = df_all_117.sample(n = n_samples, weights = feat_weights_df['final_weights'])\n",
    "# df_samples['speed_neck'].hist(bins=100)"
   ]
  },
  {
   "cell_type": "code",
   "execution_count": null,
   "metadata": {},
   "outputs": [],
   "source": [
    "fig, axes = plt.subplots(2,3, figsize = (10,5))\n",
    "axes = axes.ravel()\n",
    "df_all_117['speed_neck'].hist(bins=100, ax= axes[0])\n",
    "df_all_117['speed_tail_mid'].hist(bins=100, ax= axes[1])\n",
    "df_all_117['speed_tail_tip'].hist(bins=100, ax= axes[2])\n",
    "\n",
    "df_samples['speed_neck'].hist(bins=100, ax= axes[3])\n",
    "df_samples['speed_tail_mid'].hist(bins=100, ax= axes[4])\n",
    "df_samples['speed_tail_tip'].hist(bins=100, ax= axes[5])\n",
    "\n",
    "\n",
    "axes[0].set_title('speed neck orig')\n",
    "axes[1].set_title('speed tail_mid orig')\n",
    "axes[2].set_title('speed tail_tip orig')\n",
    "axes[3].set_title('speed neck sampled')\n",
    "axes[4].set_title('speed tail_mid sampled')\n",
    "axes[5].set_title('speed tail_tip sampled')\n",
    "\n",
    "plt.tight_layout()\n",
    "\n",
    "# fig.savefig(f'dist_sampling{n_samplesk}k_based_on_speeds_3.png')"
   ]
  },
  {
   "cell_type": "markdown",
   "metadata": {
    "heading_collapsed": true
   },
   "source": [
    "# Wavelet calculations"
   ]
  },
  {
   "cell_type": "code",
   "execution_count": null,
   "metadata": {
    "hidden": true
   },
   "outputs": [],
   "source": [
    "feats_list = ['ects_1', 'ects_2', 'ects_3', 'ects_4', 'ects_5', 'ects_6']\n",
    "# feats_list = ['curv_neck','curv_tail_base','curv_tail_pre_mid','curv_tail_mid','curv_tail_post_mid','curv_tail_tip',\n",
    "#               'quirkness']"
   ]
  },
  {
   "cell_type": "code",
   "execution_count": null,
   "metadata": {
    "hidden": true
   },
   "outputs": [],
   "source": [
    "# feats_list = ['speed_neck','speed_tail_base','speed_tail_pre_mid','speed_tail_mid','speed_tail_post_mid','speed_tail_tip']"
   ]
  },
  {
   "cell_type": "code",
   "execution_count": null,
   "metadata": {
    "hidden": true
   },
   "outputs": [],
   "source": [
    "df_feats_selected = []\n",
    "for df in df_tsne_exps:\n",
    "    df_feats_selected.append(df.filter(items = feats_list + ['filename', 'frames']))"
   ]
  },
  {
   "cell_type": "markdown",
   "metadata": {
    "hidden": true
   },
   "source": [
    "## Wavelets "
   ]
  },
  {
   "cell_type": "code",
   "execution_count": null,
   "metadata": {
    "hidden": true
   },
   "outputs": [],
   "source": [
    "# Parameters\n",
    "\n",
    "fs = 30 # Sampling frequency\n",
    "omg0 = 6 # omega0 for the wavelet\n",
    "fs_ny = fs/2 # Nyquist frequency of the system"
   ]
  },
  {
   "cell_type": "code",
   "execution_count": null,
   "metadata": {
    "hidden": true
   },
   "outputs": [],
   "source": [
    "# # 15 scales linearly spaced, max being (half of Nyquist freq) +1 \n",
    "\n",
    "# f_channels = np.arange(1, fs_ny+1, 1)\n",
    "# widths = omg0*fs / (2*f_channels*np.pi) \n",
    "\n",
    "# print(len(f_channels), len(widths))"
   ]
  },
  {
   "cell_type": "code",
   "execution_count": null,
   "metadata": {
    "hidden": true
   },
   "outputs": [],
   "source": [
    "# 30 scales linearly spaced, max being sampling frequency  + 1\n",
    "\n",
    "f_channels = np.arange(1, fs +1, 1)\n",
    "# f_channels = np.arange(1, fs +1, 1)\n",
    "widths = omg0*fs / (2*f_channels*np.pi) \n",
    "\n",
    "print(f_channels, len(widths))"
   ]
  },
  {
   "cell_type": "code",
   "execution_count": null,
   "metadata": {
    "hidden": true
   },
   "outputs": [],
   "source": [
    "from sklearn.preprocessing import MinMaxScaler"
   ]
  },
  {
   "cell_type": "code",
   "execution_count": null,
   "metadata": {
    "hidden": true
   },
   "outputs": [],
   "source": [
    "def wv_transform(df, widths, omg0):\n",
    "    \n",
    "    df_wv = pd.DataFrame()\n",
    "    df_wv['filename'] = df['filename']\n",
    "    df_wv['frames'] = df['frames']\n",
    "    \n",
    "    df.drop(['filename', 'frames'], axis=1, inplace = True)\n",
    "\n",
    "\n",
    "    for feat in list(df.columns):\n",
    "#         scaler = MinMaxScaler()\n",
    "\n",
    "        ts = df[feat].values\n",
    "        cwtm = signal.cwt(ts, signal.morlet2, widths, w = omg0)\n",
    "\n",
    "        wv_feat = np.abs(cwtm)\n",
    "#         if feat == 'curv_neck':\n",
    "#         wv_feat = scaler.fit_transform(wv_feat)\n",
    "        \n",
    "        for f in range(len(widths)):\n",
    "            df_wv[f'{feat}_wv{f}'] = wv_feat[f-1,:]\n",
    "    \n",
    "    return df_wv"
   ]
  },
  {
   "cell_type": "code",
   "execution_count": null,
   "metadata": {
    "hidden": true
   },
   "outputs": [],
   "source": [
    "df_wv_transforms = Parallel(n_jobs=40, verbose = 5)(delayed(wv_transform)(df, widths, omg0) \n",
    "                                                for df in df_feats_selected)\n",
    "df_wv_combined = pd.concat(df_wv_transforms)"
   ]
  },
  {
   "cell_type": "code",
   "execution_count": null,
   "metadata": {
    "hidden": true
   },
   "outputs": [],
   "source": [
    "df_wv_combined.reset_index(drop = True, inplace = True)"
   ]
  },
  {
   "cell_type": "code",
   "execution_count": null,
   "metadata": {
    "hidden": true
   },
   "outputs": [],
   "source": [
    "df_wv_combined.shape"
   ]
  },
  {
   "cell_type": "code",
   "execution_count": null,
   "metadata": {
    "hidden": true
   },
   "outputs": [],
   "source": [
    "# df_tsne_exps = []\n",
    "# for fname in list(selected_exps['filename']):\n",
    "#     df_tsne_exps.append(df_files.get_group(fname))\n",
    "\n",
    "# df_feats_selected = []\n",
    "# for df in df_tsne_exps:\n",
    "#     df_feats_selected.append(df.filter(items = feats_list + ['filename', 'frames']))\n",
    "    \n",
    "    \n",
    "# df_wv_transforms = Parallel(n_jobs=40, verbose = 5)(delayed(wv_transform)(df, widths, omg0) \n",
    "#                                                 for df in df_feats_selected)\n",
    "# df_wv_combined = pd.concat(df_wv_transforms)\n",
    "\n",
    "# df_wv_combined.reset_index(drop = True, inplace = True)"
   ]
  },
  {
   "cell_type": "code",
   "execution_count": null,
   "metadata": {
    "hidden": true
   },
   "outputs": [],
   "source": [
    "# df_wv_comb_to_plot = pd.concat(df_wv_transforms[0:2]).drop(columns=['filename','frames']).values"
   ]
  },
  {
   "cell_type": "code",
   "execution_count": null,
   "metadata": {
    "hidden": true
   },
   "outputs": [],
   "source": [
    "# scaler = MinMaxScaler()\n",
    "# df_wv_comb_to_plot = scaler.fit_transform(df_wv_comb_to_plot)\n"
   ]
  },
  {
   "cell_type": "code",
   "execution_count": null,
   "metadata": {
    "hidden": true
   },
   "outputs": [],
   "source": [
    "# fig, ax = plt.subplots(1,1, figsize = (30,10))\n",
    "# ax.imshow(df_wv_comb_to_plot.T, cmap = 'jet', aspect = 'auto')\n",
    "# ax.plot(np.arange(len(df_feat_comb_to_plot.index)), 100 + 50*df_feat_comb_to_plot['curv_tail_mid'], 'r')\n",
    "# ax.plot(np.arange(len(df_feat_comb_to_plot.index)), 10 + 50*df_feat_comb_to_plot['curv_neck'], 'b')"
   ]
  },
  {
   "cell_type": "code",
   "execution_count": null,
   "metadata": {
    "hidden": true
   },
   "outputs": [],
   "source": [
    "# df_feat_comb_to_plot = pd.concat(df_feats_selected[0:2]).drop(columns=['filename','frames'])\n",
    "# # df_feat_comb_to_plot.columns\n",
    "# fig, ax = plt.subplots(1,1, figsize = (30,5))\n",
    "# ax.plot(np.arange(len(df_feat_comb_to_plot.index)), df_feat_comb_to_plot['curv_neck'])"
   ]
  },
  {
   "cell_type": "code",
   "execution_count": null,
   "metadata": {
    "hidden": true
   },
   "outputs": [],
   "source": [
    "# df_feat_wv_samples = pd.merge(df_samples, df_wv_combined , left_on=['filename','frames'], right_on=['filename','frames'],\n",
    "#         left_index=True, how='left' )"
   ]
  },
  {
   "cell_type": "markdown",
   "metadata": {
    "heading_collapsed": true
   },
   "source": [
    "# Test on tsne_all"
   ]
  },
  {
   "cell_type": "code",
   "execution_count": null,
   "metadata": {
    "hidden": true
   },
   "outputs": [],
   "source": [
    "# fig, axes = plt.subplots(1,2, figsize = (10,5))\n",
    "# axes = axes.ravel()\n",
    "# axes[0].scatter(df_all_117['tsne_0'], df_all_117['tsne_1'], s = 0.05, alpha =0.5, cmap = 'jet')\n",
    "# axes[1].scatter(df_all_117['tsne_0'], df_all_117['tsne_1'], s = 0.05, alpha =0.5, c = df_all_117['speed_neck'], cmap = 'jet')"
   ]
  },
  {
   "cell_type": "code",
   "execution_count": null,
   "metadata": {
    "hidden": true
   },
   "outputs": [],
   "source": [
    "sum_speed_samples = df_samples.filter(items=feat_coeff_dict.keys()).sum(axis=1)"
   ]
  },
  {
   "cell_type": "code",
   "execution_count": null,
   "metadata": {
    "hidden": true
   },
   "outputs": [],
   "source": [
    "fig, axes = plt.subplots(1,2, figsize = (10,5))\n",
    "axes = axes.ravel()\n",
    "axes[0].scatter(df_samples['tsne_0'], df_samples['tsne_1'], s = 0.05, alpha =0.5, cmap = 'jet')\n",
    "axes[1].scatter(df_samples['tsne_0'], df_samples['tsne_1'], s = 0.05, alpha =0.5, c = sum_speed_samples, cmap = 'jet')"
   ]
  },
  {
   "cell_type": "markdown",
   "metadata": {},
   "source": [
    "# Running tsne on sampled datasets"
   ]
  },
  {
   "cell_type": "code",
   "execution_count": null,
   "metadata": {},
   "outputs": [],
   "source": [
    "df_samples_for_tsne = df_all_117.sample(n = n_samples, weights = feat_weights_df['final_weights'])"
   ]
  },
  {
   "cell_type": "code",
   "execution_count": null,
   "metadata": {},
   "outputs": [],
   "source": [
    "df_feat_wv_samples = pd.merge(df_samples_for_tsne, df_wv_combined , left_on=['filename','frames'], right_on=['filename','frames'],\n",
    "        left_index=True, how='left' )"
   ]
  },
  {
   "cell_type": "code",
   "execution_count": null,
   "metadata": {},
   "outputs": [],
   "source": [
    "len(df_feat_wv_samples.index)"
   ]
  },
  {
   "cell_type": "code",
   "execution_count": null,
   "metadata": {},
   "outputs": [],
   "source": [
    "df_wv_for_tsne = df_feat_wv_samples.filter(like = '_wv')\n",
    "len(df_wv_for_tsne.columns) "
   ]
  },
  {
   "cell_type": "code",
   "execution_count": null,
   "metadata": {},
   "outputs": [],
   "source": [
    "df_wv_for_tsne.columns"
   ]
  },
  {
   "cell_type": "code",
   "execution_count": null,
   "metadata": {},
   "outputs": [],
   "source": [
    "# speeds_and_curvs = ['curv_neck','curv_tail_base','curv_tail_pre_mid','curv_tail_mid','curv_tail_post_mid','curv_tail_tip',\n",
    "#                     'speed_neck','speed_tail_base','speed_tail_pre_mid','speed_tail_mid','speed_tail_post_mid','speed_tail_tip']"
   ]
  },
  {
   "cell_type": "code",
   "execution_count": null,
   "metadata": {},
   "outputs": [],
   "source": [
    "# df_feat_for_tsne = df_feat_wv_samples.filter(items = speeds_and_curvs)"
   ]
  },
  {
   "cell_type": "code",
   "execution_count": null,
   "metadata": {},
   "outputs": [],
   "source": [
    "# df_feat_for_tsne.shape"
   ]
  },
  {
   "cell_type": "markdown",
   "metadata": {
    "heading_collapsed": true
   },
   "source": [
    "## Getting wavelet amplitudes from old (saved) files"
   ]
  },
  {
   "cell_type": "code",
   "execution_count": null,
   "metadata": {
    "hidden": true
   },
   "outputs": [],
   "source": [
    "samples_ind = list(df_samples_for_tsne.index.unique())"
   ]
  },
  {
   "cell_type": "code",
   "execution_count": null,
   "metadata": {
    "hidden": true
   },
   "outputs": [],
   "source": [
    "# wv_norm_array_path = '/share/data/temp/athira/WaveletsTSNE/Results/20210118-182448_wv_117files_6feats/wv_norm_array.npy'\n",
    "# wv_metadata_path = os.path.join(os.path.dirname(wv_norm_array_path), 'metadata.txt')\n",
    "\n",
    "# with open(wv_metadata_path) as outfile:\n",
    "#     wv_metadata = json.load(outfile)\n",
    "\n",
    "#     f_channels = wv_metadata['wv_params']['f_channels']\n",
    "#     fnames = wv_metadata['filenames']\n",
    "#     feats = wv_metadata['features']\n",
    "    \n",
    "\n",
    "# ciona_data = np.load(wv_norm_array_path,allow_pickle=True)\n",
    "# X_data = ciona_data[:,:-1]\n",
    "# y_ciona = ciona_data[:,-1]"
   ]
  },
  {
   "cell_type": "code",
   "execution_count": null,
   "metadata": {
    "hidden": true
   },
   "outputs": [],
   "source": [
    "sampled_X_data = X_data[samples_ind, :]"
   ]
  },
  {
   "cell_type": "code",
   "execution_count": null,
   "metadata": {
    "hidden": true,
    "scrolled": true
   },
   "outputs": [],
   "source": [
    "sampled_X_data"
   ]
  },
  {
   "cell_type": "markdown",
   "metadata": {},
   "source": [
    "## From wavelet dataframes"
   ]
  },
  {
   "cell_type": "code",
   "execution_count": null,
   "metadata": {},
   "outputs": [],
   "source": [
    "perplexity = 750\n",
    "n_samplesk = len(df_wv_for_tsne.index) // 1000"
   ]
  },
  {
   "cell_type": "code",
   "execution_count": null,
   "metadata": {},
   "outputs": [],
   "source": [
    "n_samplesk"
   ]
  },
  {
   "cell_type": "code",
   "execution_count": null,
   "metadata": {},
   "outputs": [],
   "source": [
    "test_tsne = TSNE(n_jobs=46, perplexity = perplexity, exaggeration = 2)\n",
    "test_tsne = test_tsne.fit(df_wv_for_tsne.values)"
   ]
  },
  {
   "cell_type": "code",
   "execution_count": null,
   "metadata": {},
   "outputs": [],
   "source": [
    "with open('/share/data/longterm/10/athira/Jan26_preSeminarResults/tsne_p750_ex2.npy', 'wb') as tsne_file1:\n",
    "    np.save(tsne_file1, test_tsne)"
   ]
  },
  {
   "cell_type": "code",
   "execution_count": null,
   "metadata": {},
   "outputs": [],
   "source": [
    "# test_tsne = TSNE(n_jobs=40, perplexity = 500, neighbors='exact')\n",
    "# test_tsne = test_tsne.fit(sampled_X_data)"
   ]
  },
  {
   "cell_type": "code",
   "execution_count": null,
   "metadata": {},
   "outputs": [],
   "source": [
    "# pickle.dump(test_tsne, open('/share/data/temp/athira/WaveletsTSNE/TSNE_embedding_200k_p500.tsne', 'wb'), protocol=4)"
   ]
  },
  {
   "cell_type": "markdown",
   "metadata": {
    "heading_collapsed": true
   },
   "source": [
    "## Saving stuff"
   ]
  },
  {
   "cell_type": "markdown",
   "metadata": {
    "hidden": true
   },
   "source": [
    "### Saving wavelet data"
   ]
  },
  {
   "cell_type": "code",
   "execution_count": null,
   "metadata": {
    "hidden": true
   },
   "outputs": [],
   "source": [
    "timestr = time.strftime(\"%Y%m%d-%H%M%S\")\n",
    "\n",
    "wv_folder_name = f'{timestr}_wvTSNEresults'\n",
    "wv_folder = os.path.join('/share/data/temp/athira/WaveletsTSNE/Results/',wv_folder_name)\n",
    "if not os.path.exists(wv_folder):\n",
    "    os.makedirs(wv_folder)"
   ]
  },
  {
   "cell_type": "code",
   "execution_count": null,
   "metadata": {
    "hidden": true
   },
   "outputs": [],
   "source": [
    "n_files = len(filenames)\n",
    "n_feats = len(feats_list)\n",
    "    \n",
    "settings = {}\n",
    "\n",
    "settings['filenames'] = fnames\n",
    "settings['features'] = feats_list\n",
    "settings['n_files'] = int(n_files)\n",
    "settings['n_feats'] = int(n_feats)\n",
    "settings['wv_params'] = {'f_ny':int(fs_ny), 'omg0':int(omg0), 'f_channels':list(f_channels), 'widths':list(widths)}\n",
    "\n",
    "with open(os.path.join(wv_folder,'wv_metadata.txt'), 'w') as outfile:\n",
    "    json.dump(settings, outfile, indent=4, sort_keys=True,\n",
    "              separators=(', ', ': '), ensure_ascii=False,\n",
    "              cls=NumpyEncoder)"
   ]
  },
  {
   "cell_type": "code",
   "execution_count": null,
   "metadata": {
    "hidden": true
   },
   "outputs": [],
   "source": [
    "timestr = time.strftime(\"%Y%m%d-%H%M%S\")\n",
    "df_feat_wv_samples.to_pickle(os.path.join(wv_folder,f'{timestr}_featsNwavelets_sampled_based_on_speed.pkl'))"
   ]
  },
  {
   "cell_type": "markdown",
   "metadata": {
    "hidden": true
   },
   "source": [
    "### Saving tsne stuff"
   ]
  },
  {
   "cell_type": "code",
   "execution_count": null,
   "metadata": {
    "hidden": true
   },
   "outputs": [],
   "source": [
    "wv_folder"
   ]
  },
  {
   "cell_type": "code",
   "execution_count": null,
   "metadata": {
    "hidden": true
   },
   "outputs": [],
   "source": [
    "timestr_tsne = time.strftime(\"%Y%m%d-%H%M%S\")\n",
    "\n",
    "with open(os.path.join(wv_folder,f'{timestr_tsne}_tsne_embedding_p{perplexity}_n{n_samplesk}k.tsne'), 'wb') as tsne_file:\n",
    "    pickle.dump(test_tsne, tsne_file, protocol=4)"
   ]
  },
  {
   "cell_type": "markdown",
   "metadata": {
    "heading_collapsed": true
   },
   "source": [
    "## Plotting stuff"
   ]
  },
  {
   "cell_type": "code",
   "execution_count": null,
   "metadata": {
    "hidden": true
   },
   "outputs": [],
   "source": [
    "sum_to_ann = df_wv_for_tsne.sum(axis=1)"
   ]
  },
  {
   "cell_type": "code",
   "execution_count": null,
   "metadata": {
    "hidden": true
   },
   "outputs": [],
   "source": [
    "sum_speed = df_samples_for_tsne['speed_neck'] + df_samples_for_tsne['speed_tail_mid'] + df_samples_for_tsne['speed_tail_tip'] "
   ]
  },
  {
   "cell_type": "code",
   "execution_count": null,
   "metadata": {
    "hidden": true
   },
   "outputs": [],
   "source": [
    "fig, axes = plt.subplots(3,3, figsize = (15,15))\n",
    "axes = axes.ravel()\n",
    "axes[0].scatter(test_tsne[:,0], test_tsne[:,1], s = 0.05, alpha =0.5, cmap = 'jet')\n",
    "axes[1].scatter(test_tsne[:,0], test_tsne[:,1], s = 0.05, alpha =0.5, c = sum_speed, cmap = 'jet')\n",
    "axes[2].scatter(test_tsne[:,0], test_tsne[:,1], s = 0.05, alpha =0.5, c = df_samples_for_tsne['quirkness'], cmap = 'jet')\n",
    "\n",
    "axes[3].scatter(test_tsne[:,0], test_tsne[:,1], s = 0.05, alpha =0.5, c = df_samples_for_tsne['ects_1'], cmap = 'jet')\n",
    "axes[4].scatter(test_tsne[:,0], test_tsne[:,1], s = 0.05, alpha =0.5, c = df_samples_for_tsne['ects_2'], cmap = 'jet')\n",
    "axes[5].scatter(test_tsne[:,0], test_tsne[:,1], s = 0.05, alpha =0.5, c = df_samples_for_tsne['ects_3'], cmap = 'jet')\n",
    "\n",
    "axes[6].scatter(test_tsne[:,0], test_tsne[:,1], s = 0.05, alpha =0.5, c = df_samples_for_tsne['ects_4'], cmap = 'jet')\n",
    "axes[7].scatter(test_tsne[:,0], test_tsne[:,1], s = 0.05, alpha =0.5, c = df_samples_for_tsne['ects_5'], cmap = 'jet')\n",
    "axes[8].scatter(test_tsne[:,0], test_tsne[:,1], s = 0.05, alpha =0.5, c = df_samples_for_tsne['ects_6'], cmap = 'jet')\n",
    "\n",
    "axes[0].set_title(f'p={perplexity} {n_samplesk}k samples')\n",
    "axes[1].set_title('sum of 3 speeds')\n",
    "axes[2].set_title('sum of wavelet feats')\n",
    "axes[3].set_title('speed_neck')\n",
    "axes[4].set_title('speed_tail_mid')\n",
    "axes[5].set_title('speed_tail_tip')\n"
   ]
  },
  {
   "cell_type": "code",
   "execution_count": null,
   "metadata": {
    "hidden": true
   },
   "outputs": [],
   "source": [
    "# fig.savefig(f'{wv_folder}/tsne_speed_{n_samplesk}ksampling_p{perplexity}_curv.png')\n",
    "# fig.savefig(f'tsne_speed_{n_samplesk}ksampling_p{perplexity}_curv_test.png')"
   ]
  },
  {
   "cell_type": "markdown",
   "metadata": {},
   "source": [
    "# Now let me try to optimize the tsne results"
   ]
  },
  {
   "cell_type": "code",
   "execution_count": null,
   "metadata": {},
   "outputs": [],
   "source": [
    "from openTSNE import TSNEEmbedding, affinity, initialization\n",
    "from openTSNE import initialization"
   ]
  },
  {
   "cell_type": "code",
   "execution_count": null,
   "metadata": {},
   "outputs": [],
   "source": [
    "%%time\n",
    "affinities_annealing = affinity.PerplexityBasedNN(\n",
    "    df_wv_for_tsne.values,\n",
    "    perplexity= 500,\n",
    "    metric=\"euclidean\",\n",
    "    n_jobs= 46,\n",
    "    random_state=3,\n",
    "    method = 'exact'\n",
    ")"
   ]
  },
  {
   "cell_type": "code",
   "execution_count": null,
   "metadata": {},
   "outputs": [],
   "source": [
    "%time init = initialization.pca(df_wv_for_tsne.values, random_state=42)"
   ]
  },
  {
   "cell_type": "code",
   "execution_count": null,
   "metadata": {},
   "outputs": [],
   "source": [
    "embedding = TSNEEmbedding(\n",
    "    init,\n",
    "    affinities_annealing,\n",
    "    negative_gradient_method=\"fft\",\n",
    "    n_jobs= 46,\n",
    "    \n",
    ")"
   ]
  },
  {
   "cell_type": "markdown",
   "metadata": {},
   "source": [
    "## Perform normal t-SNE optimization with large perplexity\n"
   ]
  },
  {
   "cell_type": "code",
   "execution_count": null,
   "metadata": {},
   "outputs": [],
   "source": [
    "%%time \n",
    "embedding1 = embedding.optimize(n_iter=250, exaggeration=12, momentum=0.5)"
   ]
  },
  {
   "cell_type": "code",
   "execution_count": null,
   "metadata": {},
   "outputs": [],
   "source": [
    "fig, axes = plt.subplots(2,3, figsize = (15,10))\n",
    "axes = axes.ravel()\n",
    "axes[0].scatter(embedding1[:,0], embedding1[:,1], s = 0.05, alpha =0.5, cmap = 'jet')\n",
    "axes[1].scatter(embedding1[:,0], embedding1[:,1], s = 0.05, alpha =0.5, c = sum_speed, cmap = 'jet')\n",
    "axes[2].scatter(embedding1[:,0], embedding1[:,1], s = 0.05, alpha =0.5, c = sum_to_ann, cmap = 'jet')\n",
    "\n",
    "axes[3].scatter(embedding1[:,0], embedding1[:,1], s = 0.05, alpha =0.5, c = df_samples_for_tsne['ects_1'], cmap = 'jet')\n",
    "axes[4].scatter(embedding1[:,0], embedding1[:,1], s = 0.05, alpha =0.5, c = df_samples_for_tsne['speed_neck'], cmap = 'jet')\n",
    "axes[5].scatter(embedding1[:,0], embedding1[:,1], s = 0.05, alpha =0.5, c = df_samples_for_tsne['curv_tail_tip'], cmap = 'jet')\n",
    "\n",
    "# axes[0].set_title(f'p={perplexity} {n_samplesk}k samples')\n",
    "axes[1].set_title('sum of 3 speeds')\n",
    "axes[2].set_title('sum of wavelet feats')\n",
    "axes[3].set_title('speed_neck')\n",
    "axes[4].set_title('speed_tail_mid')\n",
    "axes[5].set_title('speed_tail_tip')"
   ]
  },
  {
   "cell_type": "code",
   "execution_count": null,
   "metadata": {},
   "outputs": [],
   "source": [
    "%time embedding2 = embedding1.optimize(n_iter=750, exaggeration=1, momentum=0.8)\n"
   ]
  },
  {
   "cell_type": "code",
   "execution_count": null,
   "metadata": {},
   "outputs": [],
   "source": [
    "with open('/share/data/longterm/10/athira/Jan26_preSeminarResults/tsne_p500_ex12_ex1.tsne', 'wb') as tsne_file2:\n",
    "    pickle.dump(embedding2, tsne_file2, protocol=4)"
   ]
  },
  {
   "cell_type": "code",
   "execution_count": null,
   "metadata": {},
   "outputs": [],
   "source": [
    "fig, axes = plt.subplots(2,3, figsize = (15,10))\n",
    "axes = axes.ravel()\n",
    "axes[0].scatter(embedding2[:,0], embedding2[:,1], s = 0.05, alpha =0.5, cmap = 'jet')\n",
    "axes[1].scatter(embedding2[:,0], embedding2[:,1], s = 0.05, alpha =0.5, c = sum_speed, cmap = 'jet')\n",
    "axes[2].scatter(embedding2[:,0], embedding2[:,1], s = 0.05, alpha =0.5, c = sum_to_ann, cmap = 'jet')\n",
    "\n",
    "axes[3].scatter(embedding2[:,0], embedding2[:,1], s = 0.05, alpha =0.5, c = df_samples_for_tsne['ects_1'], cmap = 'jet')\n",
    "axes[4].scatter(embedding2[:,0], embedding2[:,1], s = 0.05, alpha =0.5, c = df_samples_for_tsne['speed_neck'], cmap = 'jet')\n",
    "axes[5].scatter(embedding2[:,0], embedding2[:,1], s = 0.05, alpha =0.5, c = df_samples_for_tsne['curv_tail_mid'], cmap = 'jet')\n",
    "\n",
    "# axes[0].set_title(f'p={perplexity} {n_samplesk}k samples')\n",
    "axes[1].set_title('sum of 3 speeds')\n",
    "axes[2].set_title('sum of wavelet feats')\n",
    "axes[3].set_title('speed_neck')\n",
    "axes[4].set_title('speed_tail_mid')\n",
    "axes[5].set_title('speed_tail_tip')"
   ]
  },
  {
   "cell_type": "markdown",
   "metadata": {},
   "source": [
    "## Lower perplexity and optimize"
   ]
  },
  {
   "cell_type": "code",
   "execution_count": null,
   "metadata": {},
   "outputs": [],
   "source": [
    "%time affinities_annealing.set_perplexity(250)"
   ]
  },
  {
   "cell_type": "code",
   "execution_count": null,
   "metadata": {},
   "outputs": [],
   "source": [
    "%time embedding3 = embedding2.optimize(n_iter=500, momentum=0.8, exaggeration= 3)"
   ]
  },
  {
   "cell_type": "code",
   "execution_count": null,
   "metadata": {},
   "outputs": [],
   "source": [
    "with open('/share/data/longterm/10/athira/Jan26_preSeminarResults/tsne_p250_ex3.npy', 'wb') as tsne_file3:\n",
    "    np.save(tsne_file3, embedding3)"
   ]
  },
  {
   "cell_type": "code",
   "execution_count": null,
   "metadata": {},
   "outputs": [],
   "source": [
    "fig, axes = plt.subplots(2,3, figsize = (15,10))\n",
    "axes = axes.ravel()\n",
    "axes[0].scatter(embedding3[:,0], embedding3[:,1], s = 0.05, alpha =0.5, cmap = 'jet')\n",
    "axes[1].scatter(embedding3[:,0], embedding3[:,1], s = 0.05, alpha =0.5, c = sum_speed, cmap = 'jet')\n",
    "axes[2].scatter(embedding3[:,0], embedding3[:,1], s = 0.05, alpha =0.5, c = sum_to_ann, cmap = 'jet')\n",
    "\n",
    "axes[3].scatter(embedding3[:,0], embedding3[:,1], s = 0.05, alpha =0.5, c = df_samples_for_tsne['speed_neck'], cmap = 'jet')\n",
    "axes[4].scatter(embedding3[:,0], embedding3[:,1], s = 0.05, alpha =0.5, c = df_samples_for_tsne['speed_tail_mid'], cmap = 'jet')\n",
    "axes[5].scatter(embedding3[:,0], embedding3[:,1], s = 0.05, alpha =0.5, c = df_samples_for_tsne['speed_tail_tip'], cmap = 'jet')\n",
    "#\n",
    "# axes[0].set_title(f'p={perplexity} {n_samplesk}k samples')\n",
    "axes[1].set_title('sum of 3 speeds')\n",
    "axes[2].set_title('sum of wavelet feats')\n",
    "axes[3].set_title('speed_neck')\n",
    "axes[4].set_title('speed_tail_mid')\n",
    "axes[5].set_title('speed_tail_tip')"
   ]
  },
  {
   "cell_type": "markdown",
   "metadata": {},
   "source": [
    "## MULTISCALE "
   ]
  },
  {
   "cell_type": "code",
   "execution_count": null,
   "metadata": {},
   "outputs": [],
   "source": [
    "affinities_multiscale_mixture = affinity.Multiscale(\n",
    "    df_wv_for_tsne.values,\n",
    "    perplexities=[100, 1000],\n",
    "    metric=\"cosine\",\n",
    "    \n",
    "    n_jobs= 40,\n",
    "    random_state=3,\n",
    ")"
   ]
  },
  {
   "cell_type": "code",
   "execution_count": null,
   "metadata": {},
   "outputs": [],
   "source": [
    "%time init = initialization.pca(df_wv_for_tsne.values, random_state=42)"
   ]
  },
  {
   "cell_type": "code",
   "execution_count": null,
   "metadata": {},
   "outputs": [],
   "source": [
    "embedding_ms = TSNEEmbedding(\n",
    "    init,\n",
    "    affinities_multiscale_mixture,\n",
    "    negative_gradient_method=\"fft\",\n",
    "    n_jobs= 40,\n",
    ")\n"
   ]
  },
  {
   "cell_type": "code",
   "execution_count": null,
   "metadata": {},
   "outputs": [],
   "source": [
    "%time embedding1_ms = embedding_ms.optimize(n_iter=250, exaggeration=12, momentum=0.5)"
   ]
  },
  {
   "cell_type": "code",
   "execution_count": null,
   "metadata": {},
   "outputs": [],
   "source": [
    "fig, axes = plt.subplots(2,3, figsize = (15,10))\n",
    "axes = axes.ravel()\n",
    "axes[0].scatter(embedding1_ms[:,0], embedding1_ms[:,1], s = 0.05, alpha =0.5, cmap = 'jet')\n",
    "axes[1].scatter(embedding1_ms[:,0], embedding1_ms[:,1], s = 0.05, alpha =0.5, c = sum_speed, cmap = 'jet')\n",
    "axes[2].scatter(embedding1_ms[:,0], embedding1_ms[:,1], s = 0.05, alpha =0.5, c = sum_to_ann, cmap = 'jet')\n",
    "\n",
    "axes[3].scatter(embedding1_ms[:,0], embedding1_ms[:,1], s = 0.05, alpha =0.5, c = df_samples_for_tsne['speed_neck'], cmap = 'jet')\n",
    "axes[4].scatter(embedding1_ms[:,0], embedding1_ms[:,1], s = 0.05, alpha =0.5, c = df_samples_for_tsne['speed_tail_mid'], cmap = 'jet')\n",
    "axes[5].scatter(embedding1_ms[:,0], embedding1_ms[:,1], s = 0.05, alpha =0.5, c = df_samples_for_tsne['speed_tail_tip'], cmap = 'jet')\n",
    "\n",
    "# axes[0].set_title(f'p={perplexity} {n_samplesk}k samples')\n",
    "axes[1].set_title('sum of 3 speeds')\n",
    "axes[2].set_title('sum of wavelet feats')\n",
    "axes[3].set_title('speed_neck')\n",
    "axes[4].set_title('speed_tail_mid')\n",
    "axes[5].set_title('speed_tail_tip')"
   ]
  },
  {
   "cell_type": "code",
   "execution_count": null,
   "metadata": {},
   "outputs": [],
   "source": [
    "%time embedding2_ms = embedding1_ms.optimize(n_iter=750, exaggeration=1, momentum=0.8)"
   ]
  },
  {
   "cell_type": "code",
   "execution_count": null,
   "metadata": {},
   "outputs": [],
   "source": [
    "fig, axes = plt.subplots(2,3, figsize = (15,10))\n",
    "axes = axes.ravel()\n",
    "axes[0].scatter(embedding2_ms[:,0], embedding2_ms[:,1], s = 0.05, alpha =0.5, cmap = 'jet')\n",
    "axes[1].scatter(embedding2_ms[:,0], embedding2_ms[:,1], s = 0.05, alpha =0.5, c = sum_speed, cmap = 'jet')\n",
    "axes[2].scatter(embedding2_ms[:,0], embedding2_ms[:,1], s = 0.05, alpha =0.5, c = sum_to_ann, cmap = 'jet')\n",
    "\n",
    "axes[3].scatter(embedding2_ms[:,0], embedding2_ms[:,1], s = 0.05, alpha =0.5, c = df_samples_for_tsne['speed_neck'], cmap = 'jet')\n",
    "axes[4].scatter(embedding2_ms[:,0], embedding2_ms[:,1], s = 0.05, alpha =0.5, c = df_samples_for_tsne['speed_tail_mid'], cmap = 'jet')\n",
    "axes[5].scatter(embedding2_ms[:,0], embedding2_ms[:,1], s = 0.05, alpha =0.5, c = df_samples_for_tsne['speed_tail_tip'], cmap = 'jet')\n",
    "\n",
    "# axes[0].set_title(f'p={perplexity} {n_samplesk}k samples')\n",
    "axes[1].set_title('sum of 3 speeds')\n",
    "axes[2].set_title('sum of wavelet feats')\n",
    "axes[3].set_title('speed_neck')\n",
    "axes[4].set_title('speed_tail_mid')\n",
    "axes[5].set_title('speed_tail_tip')"
   ]
  },
  {
   "cell_type": "code",
   "execution_count": null,
   "metadata": {},
   "outputs": [],
   "source": [
    "%time embedding3_ms = embedding2_ms.optimize(n_iter=150, exaggeration=1.5, momentum=0.8)"
   ]
  },
  {
   "cell_type": "code",
   "execution_count": null,
   "metadata": {},
   "outputs": [],
   "source": [
    "fig, axes = plt.subplots(2,3, figsize = (15,10))\n",
    "axes = axes.ravel()\n",
    "axes[0].scatter(embedding3_ms[:,0], embedding3_ms[:,1], s = 0.05, alpha =0.5, cmap = 'jet')\n",
    "axes[1].scatter(embedding3_ms[:,0], embedding3_ms[:,1], s = 0.05, alpha =0.5, c = sum_speed, cmap = 'jet')\n",
    "axes[2].scatter(embedding3_ms[:,0], embedding3_ms[:,1], s = 0.05, alpha =0.5, c = sum_to_ann, cmap = 'jet')\n",
    "\n",
    "axes[3].scatter(embedding3_ms[:,0], embedding3_ms[:,1], s = 0.05, alpha =0.5, c = df_samples_for_tsne['speed_neck'], cmap = 'jet')\n",
    "axes[4].scatter(embedding3_ms[:,0], embedding3_ms[:,1], s = 0.05, alpha =0.5, c = df_samples_for_tsne['speed_tail_mid'], cmap = 'jet')\n",
    "axes[5].scatter(embedding3_ms[:,0], embedding3_ms[:,1], s = 0.05, alpha =0.5, c = df_samples_for_tsne['speed_tail_tip'], cmap = 'jet')\n",
    "\n",
    "# axes[0].set_title(f'p={perplexity} {n_samplesk}k samples')\n",
    "axes[1].set_title('sum of 3 speeds')\n",
    "axes[2].set_title('sum of wavelet feats')\n",
    "axes[3].set_title('speed_neck')\n",
    "axes[4].set_title('speed_tail_mid')\n",
    "axes[5].set_title('speed_tail_tip')"
   ]
  },
  {
   "cell_type": "markdown",
   "metadata": {},
   "source": [
    "# Clustering the tSNE outputs using DBSCAN or HDBSCAN"
   ]
  },
  {
   "cell_type": "code",
   "execution_count": null,
   "metadata": {},
   "outputs": [],
   "source": [
    "embedding_test = embedding2\n",
    "\n",
    "embedding_test.data.shape"
   ]
  },
  {
   "cell_type": "code",
   "execution_count": null,
   "metadata": {},
   "outputs": [],
   "source": [
    "df_all_feats = df_feat_wv_samples\n",
    "df_wvs = df_wv_for_tsne"
   ]
  },
  {
   "cell_type": "code",
   "execution_count": null,
   "metadata": {},
   "outputs": [],
   "source": [
    "# load the TSNE embedding \n",
    "\n",
    "tsne_fn = '/share/data/temp/athira/WaveletsTSNE/TSNE_embedding_200k_p500.tsne'\n",
    "\n",
    "with open(tsne_fn, 'rb') as tsne_file:\n",
    "    embedding_test = pickle.load(tsne_file)\n",
    "\n",
    "embedding_test.data.shape"
   ]
  },
  {
   "cell_type": "code",
   "execution_count": null,
   "metadata": {},
   "outputs": [],
   "source": [
    "# load the wavelet features which were used as input to TSNE \n",
    "\n",
    "df_all_feats = pd.read_pickle('/share/data/temp/athira/WaveletsTSNE/Results/20210121-161922_wvTSNEresults/20210121-190409_featsNwavelets_sampled_based_on_speed.pkl')\n",
    "\n",
    "df_wvs = df_all_feats.filter(like='_wv')\n",
    "\n",
    "print(len(df_all_feats.index),len(df_wvs.columns))"
   ]
  },
  {
   "cell_type": "markdown",
   "metadata": {},
   "source": [
    "## Clustering in tsne space"
   ]
  },
  {
   "cell_type": "code",
   "execution_count": null,
   "metadata": {},
   "outputs": [],
   "source": [
    "speeds_sum = df_all_feats['speed_neck'] + df_all_feats['speed_tail_mid'] + df_all_feats['speed_tail_tip'] \\\n",
    "                 + df_all_feats['speed_tail_base'] + df_all_feats['speed_tail_pre_mid'] + df_all_feats['speed_tail_post_mid']"
   ]
  },
  {
   "cell_type": "code",
   "execution_count": null,
   "metadata": {},
   "outputs": [],
   "source": [
    "clus_in = np.ones((embedding_test.data.shape[0],4))\n",
    "clus_in[:,0] = embedding_test[:,0].data\n",
    "clus_in[:,1] = embedding_test[:,1].data\n",
    "clus_in[:,2] = embedding3[:,0].data\n",
    "clus_in[:,3] = test_tsne[:,1].data\n"
   ]
  },
  {
   "cell_type": "code",
   "execution_count": null,
   "metadata": {},
   "outputs": [],
   "source": [
    "clus_in.shape"
   ]
  },
  {
   "cell_type": "markdown",
   "metadata": {},
   "source": [
    "### Clustering using DBSCAN"
   ]
  },
  {
   "cell_type": "code",
   "execution_count": null,
   "metadata": {},
   "outputs": [],
   "source": [
    "from sklearn.cluster import DBSCAN"
   ]
  },
  {
   "cell_type": "code",
   "execution_count": null,
   "metadata": {},
   "outputs": [],
   "source": [
    "\n",
    "%%time\n",
    "\n",
    "# Clustering using DBSCAN\n",
    "\n",
    "clustering = DBSCAN(eps = 10, min_samples= 2000, n_jobs=46).fit(clus_in)\n",
    "print(clustering.labels_.max())"
   ]
  },
  {
   "cell_type": "code",
   "execution_count": null,
   "metadata": {},
   "outputs": [],
   "source": [
    "with open('/share/data/longterm/10/athira/Jan26_preSeminarResults/dbscan_results.pkl', 'wb') as dbscan_file:\n",
    "    pickle.dump(clustering, dbscan_file, protocol=4)"
   ]
  },
  {
   "cell_type": "markdown",
   "metadata": {},
   "source": [
    "### Clustering using HDBSCAN"
   ]
  },
  {
   "cell_type": "code",
   "execution_count": null,
   "metadata": {},
   "outputs": [],
   "source": [
    "import hdbscan"
   ]
  },
  {
   "cell_type": "code",
   "execution_count": null,
   "metadata": {},
   "outputs": [],
   "source": [
    "# %%time\n",
    "\n",
    "# # Clustering using HDBSCAN\n",
    "# #  \n",
    "# clusterer = hdbscan.HDBSCAN(min_cluster_size = 5, cluster_selection_epsilon = 1, min_samples= 10000,\n",
    "#                                 prediction_data=True, core_dist_n_jobs=40)\n",
    "# clusterer.fit(clus_in)\n",
    "# print(clusterer.labels_.max())"
   ]
  },
  {
   "cell_type": "code",
   "execution_count": null,
   "metadata": {},
   "outputs": [],
   "source": [
    "with open('/share/data/longterm/10/athira/Jan26_preSeminarResults/hdbscan_results.pkl', 'wb') as hdbscan_file:\n",
    "    pickle.dump(clusterer, hdbscan_file, protocol=4)"
   ]
  },
  {
   "cell_type": "markdown",
   "metadata": {},
   "source": [
    "### Plotting the results of clustering"
   ]
  },
  {
   "cell_type": "code",
   "execution_count": null,
   "metadata": {},
   "outputs": [],
   "source": [
    "label_map_db = {}\n",
    "for i, label in enumerate(np.unique(clustering.labels_)):\n",
    "    label_map_db[label] = i\n",
    "\n",
    "c_pal_db = sns.color_palette('tab10',len(np.unique(clustering.labels_))+1)\n",
    "\n",
    "colors_db = [c_pal_db[label_map_db[label]] for label in clustering.labels_]\n"
   ]
  },
  {
   "cell_type": "code",
   "execution_count": null,
   "metadata": {},
   "outputs": [],
   "source": [
    "label_map_hdb = {}\n",
    "for i, label in enumerate(np.unique(clusterer.labels_)):\n",
    "    label_map_hdb[label] = i\n",
    "\n",
    "c_pal_hdb = sns.color_palette('tab10',len(np.unique(clusterer.labels_))+1)\n",
    "\n",
    "colors_hdb = [c_pal_hdb[label_map_hdb[label]] for label in clusterer.labels_]\n"
   ]
  },
  {
   "cell_type": "code",
   "execution_count": null,
   "metadata": {},
   "outputs": [],
   "source": [
    "len(colors_db)"
   ]
  },
  {
   "cell_type": "code",
   "execution_count": null,
   "metadata": {},
   "outputs": [],
   "source": [
    "fig, axes = plt.subplots(1, 2, figsize = (10,5))\n",
    "axes = axes.ravel()\n",
    "axes[0].scatter(embedding_test[:,0], embedding_test[:,1], s = 0.05, alpha =0.5, cmap = 'jet')\n",
    "axes[1].scatter(embedding_test[:,0], embedding_test[:,1], s = 0.05, alpha =0.5, c = colors_db)\n",
    "# axes[2].scatter(embedding_test[:,0], embedding_test[:,1], s = 0.05, alpha =0.5, c = colors_hdb)\n",
    "\n",
    "# axes[3].scatter(test_tsne[:,0], test_tsne[:,1], s = 0.05, alpha =0.5, c = colors_db, cmap = 'jet')\n",
    "# axes[4].scatter(test_tsne[:,0], test_tsne[:,1], s = 0.05, alpha =0.5, c = colors_hdb, cmap = 'jet')\n",
    "# axes[5].scatter(embedding_test[:,0], embedding_test[:,1], s = 0.05, alpha =0.5, c = df_all_feats['speed_tail_tip'], cmap = 'jet')"
   ]
  },
  {
   "cell_type": "code",
   "execution_count": null,
   "metadata": {},
   "outputs": [],
   "source": [
    "results_dir = '/share/devops/athira/project_behaviour/Results/Jan26_results/'"
   ]
  },
  {
   "cell_type": "code",
   "execution_count": null,
   "metadata": {},
   "outputs": [],
   "source": [
    "fig.savefig(f'{results_dir}TSNE_dbscan_results.png')"
   ]
  },
  {
   "cell_type": "markdown",
   "metadata": {},
   "source": [
    "# Predicting using kNN classifier"
   ]
  },
  {
   "cell_type": "markdown",
   "metadata": {},
   "source": [
    "## Get test data (single experiment)"
   ]
  },
  {
   "cell_type": "code",
   "execution_count": null,
   "metadata": {},
   "outputs": [],
   "source": [
    "from ipywidgets import interact, interact_manual, interactive\n",
    "import ipywidgets as widgets"
   ]
  },
  {
   "cell_type": "code",
   "execution_count": null,
   "metadata": {},
   "outputs": [],
   "source": [
    "skel_files_path = '/share/data/temp/athira/Tierpsy_skeleton_files_July13/'\n",
    "# skel_array = skel_array[list(df_wv_in.frames)]"
   ]
  },
  {
   "cell_type": "code",
   "execution_count": null,
   "metadata": {},
   "outputs": [],
   "source": [
    "# Get the data\n",
    "\n",
    "# @widgets.interact_manual\n",
    "# def \n",
    "\n",
    "# i = 42\n",
    "# fname = fnames[i]\n",
    "fname = '20180817_093829_1_15m0s_None_None_None_skeletons.hdf5'\n",
    "# feats_list = ['ects_1', 'ects_2', 'ects_3', 'ects_4','ects_5', 'ects_6']\n",
    "# get the features\n",
    "df_feat_in = df_files.get_group(fname)\n",
    "df_feat_filt_in = df_feat_in.filter(items = feats_list + ['filename', 'frames'])\n",
    "# get the wavelet features\n",
    "df_wv_in = wv_transform(df_feat_filt_in, widths, omg0)\n",
    "df_wv_filt_in = df_wv_in.filter(like = '_wv')\n",
    "# get the skeleton array\n",
    "skel_file = os.path.join(skel_files_path,fname)\n",
    "skel_array = read_skeleton_as_array(skel_file)\n",
    "# skel_array = del_nan_rows(skel_array)\n",
    "skel_array.shape"
   ]
  },
  {
   "cell_type": "code",
   "execution_count": null,
   "metadata": {},
   "outputs": [],
   "source": [
    "df_wv_filt_in.columns"
   ]
  },
  {
   "cell_type": "code",
   "execution_count": null,
   "metadata": {},
   "outputs": [],
   "source": [
    "# test_tsne = TSNE(n_jobs=46, perplexity = 50, exaggeration = 2)\n",
    "# test_tsne = test_tsne.fit(df_wv_filt_in.values)"
   ]
  },
  {
   "cell_type": "code",
   "execution_count": null,
   "metadata": {},
   "outputs": [],
   "source": [
    "sum_speed = df_feat_in['speed_neck'] + df_feat_in['speed_tail_mid'] + df_feat_in['speed_tail_tip']\n",
    "sum_to_ann = df_wv_filt_in.sum(axis = 1)"
   ]
  },
  {
   "cell_type": "code",
   "execution_count": null,
   "metadata": {},
   "outputs": [],
   "source": [
    "# fig, axes = plt.subplots(2,3, figsize = (15,10))\n",
    "# axes = axes.ravel()\n",
    "# axes[0].scatter(test_tsne[:,0], test_tsne[:,1], s = 0.05, alpha =0.5, cmap = 'jet')\n",
    "# axes[1].scatter(test_tsne[:,0], test_tsne[:,1], s = 0.05, alpha =0.5, c = sum_speed, cmap = 'jet')\n",
    "# axes[2].scatter(test_tsne[:,0], test_tsne[:,1], s = 0.05, alpha =0.5, c = sum_to_ann, cmap = 'jet')\n",
    "\n",
    "# axes[3].scatter(test_tsne[:,0], test_tsne[:,1], s = 0.05, alpha =0.5, c = df_feat_in['speed_neck'], cmap = 'jet')\n",
    "# axes[4].scatter(test_tsne[:,0], test_tsne[:,1], s = 0.05, alpha =0.5, c = df_feat_in['speed_tail_mid'], cmap = 'jet')\n",
    "# axes[5].scatter(test_tsne[:,0], test_tsne[:,1], s = 0.05, alpha =0.5, c = df_feat_in['speed_tail_tip'], cmap = 'jet')\n",
    "\n",
    "# # axes[0].set_title(f'p={500} {n_samplesk}k samples')\n",
    "# axes[1].set_title('sum of 3 speeds')\n",
    "# axes[2].set_title('sum of wavelet feats')\n",
    "# axes[3].set_title('speed_neck')\n",
    "# axes[4].set_title('speed_tail_mid')\n",
    "# axes[5].set_title('speed_tail_tip')\n"
   ]
  },
  {
   "cell_type": "code",
   "execution_count": null,
   "metadata": {},
   "outputs": [],
   "source": [
    "skel_array = skel_array[list(df_wv_in.frames)]\n",
    "skel_array.shape"
   ]
  },
  {
   "cell_type": "markdown",
   "metadata": {},
   "source": [
    "## Compute tSNE embedding (projection)"
   ]
  },
  {
   "cell_type": "code",
   "execution_count": null,
   "metadata": {},
   "outputs": [],
   "source": [
    "df_wv_filt_in.shape"
   ]
  },
  {
   "cell_type": "code",
   "execution_count": null,
   "metadata": {},
   "outputs": [],
   "source": [
    "tsne_in = embedding_test.transform(df_wv_filt_in.values)"
   ]
  },
  {
   "cell_type": "code",
   "execution_count": null,
   "metadata": {},
   "outputs": [],
   "source": [
    "df_wv_filt_in.values.shape"
   ]
  },
  {
   "cell_type": "code",
   "execution_count": null,
   "metadata": {},
   "outputs": [],
   "source": [
    "sum_to_ann_in = df_wv_filt_in.sum(axis=1)"
   ]
  },
  {
   "cell_type": "code",
   "execution_count": null,
   "metadata": {},
   "outputs": [],
   "source": [
    "sum_speed_in = df_feat_in['speed_neck'] + df_feat_in['speed_tail_mid'] + df_feat_in['speed_tail_tip'] + \\\n",
    "                df_feat_in['speed_tail_base'] + df_feat_in['speed_tail_pre_mid'] + df_feat_in['speed_tail_post_mid'] "
   ]
  },
  {
   "cell_type": "markdown",
   "metadata": {},
   "source": [
    "## Prediction using kNN classifier"
   ]
  },
  {
   "cell_type": "code",
   "execution_count": null,
   "metadata": {},
   "outputs": [],
   "source": [
    "from sklearn.neighbors import KNeighborsClassifier"
   ]
  },
  {
   "cell_type": "code",
   "execution_count": null,
   "metadata": {},
   "outputs": [],
   "source": [
    "neigh = KNeighborsClassifier(n_neighbors= 2000, n_jobs = 40)"
   ]
  },
  {
   "cell_type": "code",
   "execution_count": null,
   "metadata": {},
   "outputs": [],
   "source": [
    "neigh.fit(embedding_test, clustering.labels_)"
   ]
  },
  {
   "cell_type": "code",
   "execution_count": null,
   "metadata": {},
   "outputs": [],
   "source": [
    "with open('/share/data/longterm/10/athira/Jan26_preSeminarResults/kNN_obj.pkl', 'wb') as knn_file:\n",
    "    pickle.dump(neigh, knn_file, protocol=4)"
   ]
  },
  {
   "cell_type": "code",
   "execution_count": null,
   "metadata": {},
   "outputs": [],
   "source": [
    "test_labels = neigh.predict(tsne_in.data)"
   ]
  },
  {
   "cell_type": "code",
   "execution_count": null,
   "metadata": {},
   "outputs": [],
   "source": [
    "test_labels.max()"
   ]
  },
  {
   "cell_type": "markdown",
   "metadata": {},
   "source": [
    "## Plotting prediction results"
   ]
  },
  {
   "cell_type": "code",
   "execution_count": null,
   "metadata": {},
   "outputs": [],
   "source": [
    "a = 2\n",
    "a"
   ]
  },
  {
   "cell_type": "code",
   "execution_count": null,
   "metadata": {},
   "outputs": [],
   "source": [
    "test_labels.shape"
   ]
  },
  {
   "cell_type": "code",
   "execution_count": null,
   "metadata": {},
   "outputs": [],
   "source": [
    "colors_predict = [c_pal_db[label_map_db[test_labels[i]]] for i in range(len(skel_array)) ]"
   ]
  },
  {
   "cell_type": "code",
   "execution_count": null,
   "metadata": {},
   "outputs": [],
   "source": [
    "colors_predict = [c_pal_hdb[label_map_hdb[test_labels[i]]] for i in range(len(skel_array)) ]\n",
    "# "
   ]
  },
  {
   "cell_type": "code",
   "execution_count": null,
   "metadata": {},
   "outputs": [],
   "source": [
    "# colors_predict = [c_pal_hdb[label_map_hdb[test_labels[i]]] if test_labels[i] != -1 else 'r' for i in range(len(skel_array)) ]\n"
   ]
  },
  {
   "cell_type": "markdown",
   "metadata": {},
   "source": [
    "###  Results in tsne space"
   ]
  },
  {
   "cell_type": "code",
   "execution_count": null,
   "metadata": {},
   "outputs": [],
   "source": [
    "\n",
    "\n",
    "# fig, axes = plt.subplots(2,3, figsize = (15,10))\n",
    "# axes = axes.ravel()\n",
    "# axes[0].scatter(embedding_test[:,0], embedding_test[:,1], s = 0.05, alpha =0.5)\n",
    "# axes[0].scatter(tsne_in[:,0], tsne_in[:,1], s = 0.05, alpha =0.5)\n",
    "# axes[1].scatter(tsne_in[:,0], tsne_in[:,1], s = 0.05, alpha =0.5, c = sum_speed_in, cmap = 'jet')\n",
    "\n",
    "\n",
    "\n",
    "# # axes[2].scatter(tsne_in[:,0], tsne_in[:,1], s = 0.05, alpha =0.5, c = sum_to_ann_in, cmap = 'jet')\n",
    "\n",
    "# # axes[3].scatter(tsne_in[:,0], tsne_in[:,1], s = 0.05, alpha =0.5, c = df_feat_in['speed_neck'], cmap = 'jet')\n",
    "# # axes[4].scatter(tsne_in[:,0], tsne_in[:,1], s = 0.05, alpha =0.5, c = df_feat_in['speed_tail_mid'], cmap = 'jet')\n",
    "# # axes[5].scatter(tsne_in[:,0], tsne_in[:,1], s = 0.05, alpha =0.5, c = df_feat_in['speed_tail_tip'], cmap = 'jet')"
   ]
  },
  {
   "cell_type": "code",
   "execution_count": null,
   "metadata": {},
   "outputs": [],
   "source": [
    "# colors_predict =  colors_hdb\n",
    "# tsne_in = embedding_test"
   ]
  },
  {
   "cell_type": "code",
   "execution_count": null,
   "metadata": {},
   "outputs": [],
   "source": [
    "# len(colors_db)"
   ]
  },
  {
   "cell_type": "code",
   "execution_count": null,
   "metadata": {},
   "outputs": [],
   "source": [
    "fig, axes = plt.subplots(1,3, figsize = (15, 5), sharex=True, sharey=True)\n",
    "axes = axes.ravel()\n",
    "\n",
    "axes[0].scatter(embedding_test[:,0], embedding_test[:,1], s = 0.05, alpha =0.5)\n",
    "axes[0].scatter(tsne_in[:,0], tsne_in[:,1], s = 0.5, alpha =0.5)\n",
    "\n",
    "axes[1].scatter(tsne_in[:,0], tsne_in[:,1], s = 0.05, alpha =0.5, c = colors_predict)\n",
    "axes[2].scatter(embedding_test[:,0], embedding_test[:,1], s = 0.05, alpha =0.5, c = colors_db)\n",
    "\n",
    "# axes[4].scatter(tsne_in[:,0], tsne_in[:,1], s = 0.05, alpha =0.5, c = sum_speed_in, cmap = 'jet')\n",
    "# plt.show()"
   ]
  },
  {
   "cell_type": "markdown",
   "metadata": {},
   "source": [
    "### Results as traces"
   ]
  },
  {
   "cell_type": "code",
   "execution_count": null,
   "metadata": {},
   "outputs": [],
   "source": [
    "skel_array.shape"
   ]
  },
  {
   "cell_type": "code",
   "execution_count": null,
   "metadata": {},
   "outputs": [],
   "source": [
    "fig, ax = plt.subplots(figsize = (10,10))\n",
    "\n",
    "ax.scatter(skel_array[:,12,0], skel_array[:,12,1], color = colors_predict, s = 1)\n",
    "    \n",
    "ax.axis(\"equal\")"
   ]
  },
  {
   "cell_type": "code",
   "execution_count": null,
   "metadata": {},
   "outputs": [],
   "source": [
    "fig, ax = plt.subplots(figsize = (10,10))\n",
    "\n",
    "for i in range(len(skel_array)):\n",
    "\n",
    "    ax.plot(skel_array[i,:,0], skel_array[i,:,1], color = colors_predict[i], alpha = 0.5)\n",
    "    \n",
    "ax.axis(\"equal\")\n",
    "# ax.set_title(testfile)"
   ]
  },
  {
   "cell_type": "code",
   "execution_count": null,
   "metadata": {},
   "outputs": [],
   "source": [
    "fn_tag = ('_'.join(fname.split('_')[:2]))"
   ]
  },
  {
   "cell_type": "code",
   "execution_count": null,
   "metadata": {},
   "outputs": [],
   "source": [
    "fig.savefig(f'new_trace_{fn_tag}_db_curv.png')"
   ]
  },
  {
   "cell_type": "markdown",
   "metadata": {},
   "source": [
    "# Let's put this in a loop to create multiple traces "
   ]
  },
  {
   "cell_type": "code",
   "execution_count": null,
   "metadata": {},
   "outputs": [],
   "source": [
    "feats_list = ['ects_1', 'ects_2', 'ects_3', 'ects_4','ects_5', 'ects_6']"
   ]
  },
  {
   "cell_type": "code",
   "execution_count": null,
   "metadata": {},
   "outputs": [],
   "source": [
    "fig, axes = plt.subplots(2,4, figsize = (20,10), sharex=True, sharey=True)\n",
    "axes = axes.ravel()\n",
    "\n",
    "for i, fname in tqdm.tqdm(enumerate(random.sample(fnames, 8))):\n",
    "    \n",
    "    # get the features\n",
    "    df_feat_in = df_files.get_group(fname)\n",
    "    df_feat_filt_in = df_feat_in.filter(items = feats_list + ['filename', 'frames'])\n",
    "    # get the wavelet features\n",
    "    df_wv_in = wv_transform(df_feat_filt_in, widths, omg0)\n",
    "    df_wv_filt_in = df_wv_in.filter(like = '_wv')\n",
    "    # get the skeleton array\n",
    "    skel_file = os.path.join(skel_files_path,fname)\n",
    "    skel_array = read_skeleton_as_array(skel_file)\n",
    "    skel_array = del_nan_rows(skel_array)\n",
    "    \n",
    "    tsne_in = embedding_test.transform(df_wv_filt_in.values)\n",
    "    test_labels = neigh.predict(tsne_in.data)\n",
    "    colors_predict = [c_pal_db[label_map_db[test_labels[i]]] if test_labels[i] != -1 else 'r' for i in range(len(skel_array)) ]\n",
    "\n",
    "    axes[i].scatter(skel_array[:,12,0], skel_array[:,12,1], color = colors_predict, alpha = 0.7, s = 0.9)"
   ]
  },
  {
   "cell_type": "code",
   "execution_count": null,
   "metadata": {},
   "outputs": [],
   "source": [
    "fig.savefig('neck_point_traces_1.png')"
   ]
  },
  {
   "cell_type": "markdown",
   "metadata": {},
   "source": [
    "# Creating motifs dataset as in HMM"
   ]
  },
  {
   "cell_type": "code",
   "execution_count": null,
   "metadata": {},
   "outputs": [],
   "source": [
    "from operator import itemgetter\n",
    "from itertools import *"
   ]
  },
  {
   "cell_type": "code",
   "execution_count": null,
   "metadata": {},
   "outputs": [],
   "source": [
    "def make_cluster_df():    \n",
    "    \n",
    "    data = df.filter(items = feats_list).values\n",
    "    \n",
    "#     clusters = model.predict(data)\n",
    "#     clusters = [label_map_hdb[label] for label in clusterer.labels_]\n",
    "    clusters = [label_map_db[test_labels[i]] for i in range(len(skel_array)) ]\n",
    "    \n",
    "    df_motif = []\n",
    "    \n",
    "    for state in range(len(np.unique(clusters))):\n",
    "        \n",
    "        clus = {}\n",
    "        clus_inds = [ind for ind, val in enumerate(clusters) if val == state]\n",
    "        clus_inds_nested = [list(map(itemgetter(1), g)) for k, g in groupby(enumerate(clus_inds), lambda x: x[0]-x[1])]\n",
    "        clus['start'] = [x[0] for x in clus_inds_nested]\n",
    "        clus['stop'] = [x[-1] for x in clus_inds_nested]\n",
    "        clus['duration'] = [x[-1]-x[0] for x in clus_inds_nested]\n",
    "        clus['cluster'] = [state for x in clus_inds_nested]\n",
    "\n",
    "        df_clus = pd.DataFrame(clus)\n",
    "        \n",
    "        df_motif.append(df_clus)\n",
    "     \n",
    "    df_motif = pd.concat(df_motif)   \n",
    "    return df_motif"
   ]
  },
  {
   "cell_type": "code",
   "execution_count": null,
   "metadata": {},
   "outputs": [],
   "source": []
  },
  {
   "cell_type": "code",
   "execution_count": null,
   "metadata": {},
   "outputs": [],
   "source": [
    "df_wv_combined.reset_index(drop = True, inplace = True)"
   ]
  },
  {
   "cell_type": "code",
   "execution_count": null,
   "metadata": {},
   "outputs": [],
   "source": [
    "df_wv_combined.drop(col)"
   ]
  },
  {
   "cell_type": "code",
   "execution_count": null,
   "metadata": {},
   "outputs": [],
   "source": [
    "tsne_in_all = embedding_test.transform(df_wv_combined.drop(columns=['filename', 'frames']).values)"
   ]
  },
  {
   "cell_type": "code",
   "execution_count": null,
   "metadata": {},
   "outputs": [],
   "source": [
    "df_wv_combined['tsne_all_0'] = tsne_in_all[:,0]\n",
    "df_wv_combined['tsne_all_1'] = tsne_in_all[:,1]"
   ]
  },
  {
   "cell_type": "code",
   "execution_count": null,
   "metadata": {},
   "outputs": [],
   "source": [
    "clus_all = neigh.predict(tsne_in_all)"
   ]
  },
  {
   "cell_type": "code",
   "execution_count": null,
   "metadata": {},
   "outputs": [],
   "source": [
    "tsne_in_all = embedding_test.transform(df_wv_combined.drop(columns=['filename', 'frames']).values)\n",
    "df_wv_combined['tsne_all_0'] = tsne_in_all[:,0]\n",
    "df_wv_combined['tsne_all_1'] = tsne_in_all[:,1]\n",
    "clus_all = neigh.predict(tsne_in_all)\n",
    "colors_all = [c_pal_db[label_map_db[clus_all[i]]] for i in range(len(clus_all)) ]\n",
    "\n",
    "fig, axes = plt.subplots(1,3, figsize = (15, 5), sharex=True, sharey=True)\n",
    "axes = axes.ravel()\n",
    "\n",
    "axes[0].scatter(tsne_in_all[:,0], tsne_in_all[:,1], s = 0.05, alpha =0.5)\n",
    "axes[1].scatter(tsne_in_all[:,0], tsne_in_all[:,1], s = 0.05, alpha =0.5, c = colors_all)"
   ]
  },
  {
   "cell_type": "code",
   "execution_count": null,
   "metadata": {},
   "outputs": [],
   "source": [
    "np.unique(clus_all)"
   ]
  },
  {
   "cell_type": "code",
   "execution_count": null,
   "metadata": {},
   "outputs": [],
   "source": [
    "colors_all = [c_pal_db[label_map_db[clus_all[i]]] for i in range(len(clus_all)) ]"
   ]
  },
  {
   "cell_type": "code",
   "execution_count": null,
   "metadata": {},
   "outputs": [],
   "source": [
    "fig, axes = plt.subplots(1,3, figsize = (15, 5), sharex=True, sharey=True)\n",
    "axes = axes.ravel()\n",
    "\n",
    "axes[0].scatter(tsne_in_all[:,0], tsne_in_all[:,1], s = 0.05, alpha =0.5)\n",
    "axes[1].scatter(tsne_in_all[:,0], tsne_in_all[:,1], s = 0.05, alpha =0.5, c = colors_all)"
   ]
  },
  {
   "cell_type": "code",
   "execution_count": null,
   "metadata": {},
   "outputs": [],
   "source": [
    "df_wv_combined['clus_all'] = clus_all"
   ]
  },
  {
   "cell_type": "code",
   "execution_count": null,
   "metadata": {},
   "outputs": [],
   "source": [
    "df_wv_combined.to_pickle('save_tsne_dbscan_knn_clustering.pkl')"
   ]
  },
  {
   "cell_type": "code",
   "execution_count": null,
   "metadata": {},
   "outputs": [],
   "source": [
    "df_wv_combined['clus_all'].unique()"
   ]
  },
  {
   "cell_type": "code",
   "execution_count": null,
   "metadata": {},
   "outputs": [],
   "source": [
    "df_wv_exp = df_wv_combined.groupby(by = 'filename')"
   ]
  },
  {
   "cell_type": "code",
   "execution_count": null,
   "metadata": {},
   "outputs": [],
   "source": [
    "skel_files_path = '/share/data/temp/athira/Tierpsy_skeleton_files_July13/'\n"
   ]
  },
  {
   "cell_type": "code",
   "execution_count": null,
   "metadata": {},
   "outputs": [],
   "source": [
    "df_wv_combined[df_wv_combined['clus_all'] == 5]['filename'].unique()"
   ]
  },
  {
   "cell_type": "code",
   "execution_count": null,
   "metadata": {},
   "outputs": [],
   "source": [
    "def create_traces(fn):    \n",
    "    \n",
    "    df = df_wv_exp.get_group(fn)\n",
    "    \n",
    "    fpath = os.path.join(skel_files_path, fn)\n",
    "    \n",
    "    skel_obj = h5py.File(fpath, 'r')\n",
    "    skel_array = np.array(skel_obj['skeleton'])\n",
    "    skel_array = skel_array[list(df.frames)]\n",
    "    \n",
    "#     clusters = model.predict(data)\n",
    "#     clusters = [label_map_hdb[label] for label in clusterer.labels_]\n",
    "\n",
    "    test_labels = df['clus_all'].values\n",
    "    \n",
    "#     print(np.unique(test_labels))\n",
    "    fn_tag = ('_'.join(fn.split('_')[:2]))\n",
    "    \n",
    "    clusters = [label_map_db[test_labels[i]] for i in range(len(skel_array)) ]\n",
    "    \n",
    "    fig1, axes = plt.subplots(1,3,figsize = (15,5), sharex=True, sharey=True)\n",
    "    colors_predict = [c_pal_db[label_map_db[test_labels[i]]] for i in range(len(skel_array)) ]\n",
    "    \n",
    "    axes[0].scatter(tsne_in_all[:,0], tsne_in_all[:,1], s = 0.05, alpha =0.5)\n",
    "    axes[0].scatter(df['tsne_all_0'], df['tsne_all_1'], s = 0.05, alpha =0.5)\n",
    "    axes[1].scatter(df['tsne_all_0'], df['tsne_all_1'], s = 0.05, alpha =0.5, c = colors_predict)\n",
    "    axes[2].scatter(tsne_in_all[:,0], tsne_in_all[:,1], s = 0.05, alpha =0.5, c = colors_all)\n",
    "#     axes[2].scatter(skel_array[:,12,0], skel_array[:,12,1], color = colors_predict, s = 1)\n",
    "    \n",
    "#     for ax in axes:\n",
    "#         ax.axis(\"equal\")\n",
    "        \n",
    "    fig1.savefig(f'tsne_project_{fn_tag}.png')\n",
    "    \n",
    "    fig2, ax2 = plt.subplots(1,1,figsize = (10,10))\n",
    "    for i in range(len(skel_array)):\n",
    "\n",
    "        ax2.plot(skel_array[i,:,0], skel_array[i,:,1], color = colors_predict[i], alpha = 0.5)\n",
    "        ax2.axis(\"equal\")\n",
    "\n",
    "    \n",
    "    fig2.savefig(f'traces_from_fn_{fn_tag}.png')\n",
    "\n",
    "    return fn"
   ]
  },
  {
   "cell_type": "code",
   "execution_count": null,
   "metadata": {},
   "outputs": [],
   "source": [
    "create_traces('20180807_190944_1_15m0s_None_None_None_skeletons.hdf5')"
   ]
  },
  {
   "cell_type": "code",
   "execution_count": null,
   "metadata": {},
   "outputs": [],
   "source": [
    "def make_cluster_motifs_df(fn):    \n",
    "    \n",
    "    df = df_wv_exp.get_group(fn)\n",
    "    \n",
    "    fpath = os.path.join(skel_files_path, fn)\n",
    "    \n",
    "    skel_obj = h5py.File(fpath, 'r')\n",
    "    skel_array = np.array(skel_obj['skeleton'])\n",
    "    skel_array = skel_array[list(df.frames)]\n",
    "    \n",
    "#     clusters = model.predict(data)\n",
    "#     clusters = [label_map_hdb[label] for label in clusterer.labels_]\n",
    "\n",
    "    test_labels = df['clus_all'].values\n",
    "    \n",
    "    print(np.unique(test_labels))\n",
    "    \n",
    "    clusters = [label_map_db[test_labels[i]] for i in range(len(skel_array)) ]\n",
    "    \n",
    "    df_motif = []\n",
    "    \n",
    "    for state in list(label_map_db.values()):\n",
    "        \n",
    "        print(state)\n",
    "        \n",
    "        clus = {}\n",
    "        clus_inds = [ind for ind, val in enumerate(clusters) if val == state]\n",
    "        clus_inds_nested = [list(map(itemgetter(1), g)) for k, g in groupby(enumerate(clus_inds), lambda x: x[0]-x[1])]\n",
    "        clus['start'] = [x[0] for x in clus_inds_nested]\n",
    "        clus['stop'] = [x[-1] for x in clus_inds_nested]\n",
    "        clus['duration'] = [x[-1]-x[0] for x in clus_inds_nested]\n",
    "        clus['cluster'] = [state for x in clus_inds_nested]\n",
    "        clus['filename'] = [fn for x in clus_inds_nested]\n",
    "        clus['drug'] = [fn.split('_')[4] for x in clus_inds_nested]\n",
    "\n",
    "        df_clus = pd.DataFrame(clus)\n",
    "        \n",
    "        df_motif.append(df_clus)\n",
    "        \n",
    "    \n",
    "     \n",
    "    df_motif = pd.concat(df_motif)   \n",
    "    \n",
    "#     fig, axes = plt.subplots(1,3,figsize = (15,5))\n",
    "#     colors_predict = [c_pal_db[label_map_db[test_labels[i]]] for i in range(len(skel_array)) ]\n",
    "#     axes[0].scatter(df['tsne_all_0'], df['tsne_all_1'], s = 0.05, alpha =0.5, c = colors_predict)\n",
    "#     axes[1].scatter(skel_array[:,12,0], skel_array[:,12,1], color = colors_predict, s = 1)\n",
    "#     axes[2].scatter(tsne_in_all[:,0], tsne_in_all[:,1], s = 0.05, alpha =0.5)\n",
    "#     axes[2].scatter(df['tsne_all_0'], df['tsne_all_1'], s = 0.05, alpha =0.5)\n",
    "#     for ax in axes:\n",
    "#         ax.axis(\"equal\")\n",
    "    print(df_motif.cluster.unique())\n",
    "\n",
    "    return df_motif"
   ]
  },
  {
   "cell_type": "code",
   "execution_count": null,
   "metadata": {},
   "outputs": [],
   "source": [
    "df_test_motif = make_cluster_motifs_df('20180716_135432_1_5m0s_None_None_None_skeletons.hdf5')"
   ]
  },
  {
   "cell_type": "code",
   "execution_count": null,
   "metadata": {},
   "outputs": [],
   "source": [
    "fnames = df_control_tsne_results.filename.unique()"
   ]
  },
  {
   "cell_type": "code",
   "execution_count": null,
   "metadata": {},
   "outputs": [],
   "source": [
    "len(fnames)"
   ]
  },
  {
   "cell_type": "code",
   "execution_count": null,
   "metadata": {},
   "outputs": [],
   "source": [
    "df_motifs_all = Parallel(n_jobs=40, verbose = 5)(delayed(make_cluster_motifs_df)(fn) \n",
    "                                                for fn in fnames)\n",
    "df_motifs_combined = pd.concat(df_motifs_all)"
   ]
  },
  {
   "cell_type": "code",
   "execution_count": null,
   "metadata": {},
   "outputs": [],
   "source": [
    "fn = '20180730_113126_1_5m0s_None_None_None_skeletons.hdf5'\n",
    "df = df_wv_exp.get_group(fn)\n",
    "\n",
    "fpath = os.path.join(skel_files_path, fn)\n",
    "\n",
    "skel_obj = h5py.File(fpath, 'r')\n",
    "skel_array = np.array(skel_obj['skeleton'])\n",
    "skel_array = skel_array[list(df.frames)]\n",
    "\n",
    "\n",
    "test_labels = df['clus_all'].values\n",
    "\n",
    "#     print(np.unique(test_labels))\n",
    "fn_tag = ('_'.join(fn.split('_')[:2]))\n",
    "\n",
    "clusters = [label_map_db[test_labels[i]] for i in range(len(skel_array)) ]"
   ]
  },
  {
   "cell_type": "code",
   "execution_count": null,
   "metadata": {},
   "outputs": [],
   "source": [
    "frame_widget = widgets.IntRangeSlider(\n",
    "    value=[0, 100],\n",
    "    min=0,\n",
    "    max=skel_array.shape[0],\n",
    "    step=1,\n",
    "    description='Test:',\n",
    "    disabled=False,\n",
    "    continuous_update=False,\n",
    "    orientation='horizontal',\n",
    "    readout=True,\n",
    "    readout_format='d',\n",
    ")"
   ]
  },
  {
   "cell_type": "code",
   "execution_count": null,
   "metadata": {
    "scrolled": false
   },
   "outputs": [],
   "source": [
    "@widgets.interact_manual\n",
    "def create_anims(frame_lims = frame_widget):    \n",
    "    plt.clf()\n",
    "    fig, ax = plt.subplots(1,1, figsize = (10,10))\n",
    "    def animate(i):\n",
    "        \n",
    "        frame = skel_array[i,:,:]\n",
    "        xs = frame[:,0]\n",
    "        ys = frame[:,1]\n",
    "#         angle = get_base_angle(xs[12], ys[12]) - np.pi\n",
    "#         xs = xs-frame[12, 0]\n",
    "#         ys = ys-frame[12, 1]\n",
    "#         xs, ys = rotate(xs, ys, angle)\n",
    "        ax.plot(xs, ys, c = c_pal_db[clusters[i]], alpha = 0.4)\n",
    "        ax.axis(\"off\")\n",
    "\n",
    "    \n",
    "    fig, ax = plt.subplots(1,1, figsize = (10,10))\n",
    "    anim = animation(fig, animate, frames = np.arange(frame_lims[0],frame_lims[1], 5), interval = 200).to_jshtml()\n",
    "    display(HTML(anim))\n",
    "\n",
    "    return fn"
   ]
  },
  {
   "cell_type": "code",
   "execution_count": null,
   "metadata": {},
   "outputs": [],
   "source": [
    "len(fnames)"
   ]
  },
  {
   "cell_type": "code",
   "execution_count": null,
   "metadata": {},
   "outputs": [],
   "source": [
    "df_motif_test = make_cluster_df()"
   ]
  },
  {
   "cell_type": "code",
   "execution_count": null,
   "metadata": {},
   "outputs": [],
   "source": [
    "df_motifs_combined.cluster.unique()"
   ]
  },
  {
   "cell_type": "code",
   "execution_count": null,
   "metadata": {},
   "outputs": [],
   "source": [
    "df_motifs_combined = pd.read_pickle('save_motifs_combined_tsne.pkl')"
   ]
  },
  {
   "cell_type": "code",
   "execution_count": null,
   "metadata": {},
   "outputs": [],
   "source": [
    "sns.palplot(c_pal_db)"
   ]
  },
  {
   "cell_type": "code",
   "execution_count": null,
   "metadata": {},
   "outputs": [],
   "source": []
  },
  {
   "cell_type": "code",
   "execution_count": null,
   "metadata": {},
   "outputs": [],
   "source": [
    "c_file_pal = sns.color_palette([c_pal_db[int(i)] for i in set(df_motifs_combined.cluster.unique())])"
   ]
  },
  {
   "cell_type": "code",
   "execution_count": null,
   "metadata": {},
   "outputs": [],
   "source": [
    "sns.palplot(c_file_pal)"
   ]
  },
  {
   "cell_type": "code",
   "execution_count": null,
   "metadata": {},
   "outputs": [],
   "source": [
    "sns.countplot(data= df_motifs_combined, x='cluster', palette=  c_file_pal)"
   ]
  },
  {
   "cell_type": "code",
   "execution_count": null,
   "metadata": {},
   "outputs": [],
   "source": [
    "def rotate(x, y, angle):\n",
    "    xr = x*np.cos(angle) - y* np.sin(angle)\n",
    "    yr = x*np.sin(angle) + y* np.cos(angle)\n",
    "    return xr,yr\n",
    "def get_base_angle(x,y, degrees = False):\n",
    "    angle = np.arctan(y/x)\n",
    "    if y < 0:\n",
    "        angle *=-1\n",
    "    if not degrees:\n",
    "        return(angle)\n",
    "    else:\n",
    "        return(np.degrees(angle))"
   ]
  },
  {
   "cell_type": "code",
   "execution_count": null,
   "metadata": {},
   "outputs": [],
   "source": [
    "df_motif_test = df_motifs_combined"
   ]
  },
  {
   "cell_type": "code",
   "execution_count": null,
   "metadata": {},
   "outputs": [],
   "source": [
    "df_motif_test['duration'].count()"
   ]
  },
  {
   "cell_type": "code",
   "execution_count": null,
   "metadata": {},
   "outputs": [],
   "source": [
    "df_motif_test[df_motif_test['duration'] > 20].cluster.unique()"
   ]
  },
  {
   "cell_type": "code",
   "execution_count": null,
   "metadata": {},
   "outputs": [],
   "source": [
    "motifs_filter_duration = df_motif_test[(df_motif_test['duration'] > 14)]\n",
    "sample_motifs = motifs_filter_duration.groupby(by='cluster').sample(36)\n",
    "groups = sample_motifs.groupby(by='cluster')"
   ]
  },
  {
   "cell_type": "code",
   "execution_count": null,
   "metadata": {},
   "outputs": [],
   "source": [
    "from matplotlib.animation import FuncAnimation as animation\n",
    "from IPython.display import HTML\n"
   ]
  },
  {
   "cell_type": "code",
   "execution_count": null,
   "metadata": {},
   "outputs": [],
   "source": [
    "from pathlib import Path\n",
    "Path(f'../Results/predict_Seen_test').mkdir(parents=True, exist_ok=True)"
   ]
  },
  {
   "cell_type": "code",
   "execution_count": null,
   "metadata": {
    "scrolled": false
   },
   "outputs": [],
   "source": [
    "for cluster in tqdm.tqdm([1,2,3,4,5,6]):\n",
    "    \n",
    "    def animate(i):\n",
    "        for j, m in enumerate(selected_motifs_1):\n",
    "#             if i%30 == 0:\n",
    "#                 axes.ravel()[j].clear()\n",
    "            frame = m[i,:,:]\n",
    "            xs = frame[:,0]\n",
    "            ys = frame[:,1]\n",
    "            angle = get_base_angle(xs[12], ys[12]) - np.pi\n",
    "            xs = xs-frame[12, 0]\n",
    "            ys = ys-frame[12, 1]\n",
    "            xs, ys = rotate(xs, ys, angle)\n",
    "            axes.ravel()[j].plot(xs, ys, c = c_pal_db[cluster], alpha = 0.4)\n",
    "            axes.ravel()[j].axis(\"off\")\n",
    "#             axes.ravel()[j].set_title(f'{len(m)}')\n",
    "        plt.suptitle(f'Motifs from Cluster {cluster}')\n",
    "        \n",
    "        \n",
    "    selected_motifs_1 = []\n",
    "    \n",
    "#     try:\n",
    "    motifs = groups.get_group(cluster)\n",
    "\n",
    "    for i in range(36):\n",
    "        motif = motifs.iloc[i]\n",
    "\n",
    "        fname = motif['filename']\n",
    "        fpath = os.path.join(skel_files_path, fname)\n",
    "\n",
    "        skel_obj = h5py.File(fpath, 'r')\n",
    "        skel_array = np.array(skel_obj['skeleton'])\n",
    "        \n",
    "        df_skel_feats = df_files.get_group(fname)\n",
    "        \n",
    "        skel_array = skel_array[list(df_skel_feats.frames)]\n",
    "        \n",
    "#         skel_array = del_nan_rows(skel_array)\n",
    "\n",
    "        start = int(motif['start'])\n",
    "        stop = int(motif['stop'])\n",
    "\n",
    "        selected_motifs_1.append(skel_array[start:stop,:,:])\n",
    "    print(len(selected_motifs_1))\n",
    "    fig, axes = plt.subplots(6,6, figsize = (10,10))\n",
    "#     plt.title(f'cluster {cluster}')\n",
    "    \n",
    "    \n",
    "\n",
    "    anim = animation(fig, animate, frames = 14, interval = 200).save(f'../Results/tsne_motif_aligned_cl{cluster}_many.gif', writer='imagemagick')\n",
    "    #to_jshtml()\n",
    "#     display(HTML(anim))\n",
    "\n",
    "    fig.savefig(f'../Results/tsne_motif_aligned_cl{cluster}_many.png')\n",
    "#     except Exception as e:\n",
    "#         print(\"Oops!\", e.__class__, \"occurred.\") "
   ]
  },
  {
   "cell_type": "code",
   "execution_count": null,
   "metadata": {},
   "outputs": [],
   "source": [
    "def translate(skel_coords, neck_ind):\n",
    "    \n",
    "    diff = skel_coords[neck_ind]\n",
    "    skel_coords_trans = skel_coords - diff\n",
    "    \n",
    "    return skel_coords_trans"
   ]
  },
  {
   "cell_type": "code",
   "execution_count": null,
   "metadata": {},
   "outputs": [],
   "source": [
    "def rotate_matrix(skel_array,angle):\n",
    "    xr = skel_array[:,0]*np.cos(angle) - skel_array[:,1]* np.sin(angle)\n",
    "    yr = skel_array[:,0]*np.sin(angle) + skel_array[:,1]* np.cos(angle)\n",
    "    return xr,yr"
   ]
  },
  {
   "cell_type": "code",
   "execution_count": null,
   "metadata": {},
   "outputs": [],
   "source": [
    "def angle(x,y, degrees = False):\n",
    "    angle = np.arctan2(y,x)\n",
    "#     if y < 0:\n",
    "#         angle *=-1\n",
    "    if not degrees:\n",
    "        return(angle)\n",
    "    else:\n",
    "        return(np.degrees(angle))"
   ]
  },
  {
   "cell_type": "code",
   "execution_count": null,
   "metadata": {},
   "outputs": [],
   "source": [
    "def rotate(x, y, angle):\n",
    "    xr = x*np.cos(angle) - y* np.sin(angle)\n",
    "    yr = x*np.sin(angle) + y* np.cos(angle)\n",
    "    return xr,yr"
   ]
  },
  {
   "cell_type": "code",
   "execution_count": null,
   "metadata": {},
   "outputs": [],
   "source": [
    "motifs_filter_duration = df_motif_test[(df_motif_test['duration'] > 8) & ((df_motif_test['duration'] < 12))]\n",
    "sample_motifs_ = motifs_filter_duration.groupby(by='cluster').sample(6)\n",
    "groups_ = sample_motifs_.groupby(by='cluster')"
   ]
  },
  {
   "cell_type": "code",
   "execution_count": null,
   "metadata": {},
   "outputs": [],
   "source": [
    "motifs_list = []\n",
    "for i in [1,2,3,4,5,6]:\n",
    "        \n",
    "    motif = groups_.get_group(i)\n",
    "    motifs_list.append(motif)\n",
    "\n",
    "motifs = pd.concat(motifs_list)"
   ]
  },
  {
   "cell_type": "code",
   "execution_count": null,
   "metadata": {},
   "outputs": [],
   "source": [
    "xx = 2\n",
    "xx"
   ]
  },
  {
   "cell_type": "code",
   "execution_count": null,
   "metadata": {},
   "outputs": [],
   "source": [
    "df_features = pd.read_pickle('/share/data/temp/athira/July17_features_combined_noLightStimuli.pickle')\n",
    "df_files = df_features.groupby('filename')"
   ]
  },
  {
   "cell_type": "code",
   "execution_count": null,
   "metadata": {},
   "outputs": [],
   "source": [
    "\n",
    "fig, axes = plt.subplots(2,3,figsize=(15,15))\n",
    "\n",
    "axs = axes.ravel()\n",
    "\n",
    "for i in range(len(motifs.index)):\n",
    "    \n",
    "    motif = motifs.iloc[i]\n",
    "\n",
    "    fname = motif['filename']\n",
    "    fpath = os.path.join(skel_files_path, fname)\n",
    "\n",
    "    skel_obj = h5py.File(fpath, 'r')\n",
    "    skel_array = np.array(skel_obj['skeleton'])\n",
    "    df_skel_feats = df_files.get_group(fname)\n",
    "        \n",
    "    skel_array = skel_array[list(df_skel_feats.frames)]\n",
    "\n",
    "    start = int(motif['start'])\n",
    "    stop = int(motif['stop'])\n",
    "\n",
    "    motif_skels = skel_array[start:stop,:,:]\n",
    "        \n",
    "    cluster = int(motif['cluster'])\n",
    "    \n",
    "    for j, ind in enumerate(range(start, stop)):\n",
    "\n",
    "        neck_ind = 12\n",
    "\n",
    "        c_n = c_pal_db[cluster]\n",
    "        \n",
    "        skel_coords = motif_skels[j,:,:]\n",
    "\n",
    "\n",
    "        skel_coords_trans = translate(skel_coords,neck_ind)\n",
    "        rot_angle = angle(skel_coords_trans[-1,0],skel_coords_trans[-1,1], degrees = False)\n",
    "    \n",
    "        #rotate all the points in the skeleton\n",
    "        if rot_angle > np.pi/2:\n",
    "            rotation = 3*(np.pi/2)-rot_angle\n",
    "#         elif rot_angle < (-1*np.pi/2):\n",
    "#             rotation = -(np.pi/2+rot_angle)\n",
    "#         elif ((rot_angle > 0) & (rot_angle <= np.pi/2)):\n",
    "#             rotation = (np.pi/2+rot_angle)\n",
    "        else:\n",
    "            rotation = -(np.pi/2+rot_angle)\n",
    "\n",
    "\n",
    "\n",
    "        xr,yr = rotate_matrix(skel_coords_trans, rotation)\n",
    "\n",
    " \n",
    "        axs[cluster-1].plot(xr,yr, color = c_n, alpha = 0.3)\n",
    "        axs[cluster-1].scatter(xr[neck_ind],yr[neck_ind])\n",
    "        axs[cluster-1].axis('equal')\n",
    "        axs[cluster-1].axis('off')\n",
    "        axs[cluster-1].set_title(f'cluster {cluster}')\n",
    "        axs[cluster-1].axvline(x=0, ls=':',c='k',linewidth=1)\n",
    "        \n",
    "for ax in axs:\n",
    "    ax.axis('off')\n",
    "        \n",
    "# fig.savefig(f'../Results/.png')"
   ]
  },
  {
   "cell_type": "code",
   "execution_count": null,
   "metadata": {},
   "outputs": [],
   "source": [
    "fig.savefig('../../ciona_tierpsy_behavior/Figures/hmm_results/panel_B_1.svg)"
   ]
  },
  {
   "cell_type": "code",
   "execution_count": null,
   "metadata": {},
   "outputs": [],
   "source": [
    "# # Modify for tSNE stuff\n",
    "# def make_cluster_df(df):    \n",
    "    \n",
    "#     data = df.filter(items = feats_list).values\n",
    "    \n",
    "#     clusters = model.predict(data)\n",
    "    \n",
    "#     fname = df.filename.unique()[0]\n",
    "#     fpath = os.paath.join(data_folder, fname)\n",
    "    \n",
    "#     skel_obj = h5py.File(fpath, 'r')\n",
    "#     skel_array = np.array(skel_obj['skeleton'])\n",
    "#     skel_array = del_nan_rows(skel_array)\n",
    "    \n",
    "#     df_motif = []\n",
    "    \n",
    "#     for state in range(n_states):\n",
    "        \n",
    "#         clus = {}\n",
    "#         clus_inds = [ind for ind, val in enumerate(clusters) if val == state]\n",
    "#         clus_inds_nested = [list(map(itemgetter(1), g)) for k, g in groupby(enumerate(clus_inds), lambda x: x[0]-x[1])]\n",
    "#         clus['start'] = [x[0] for x in clus_inds_nested]\n",
    "#         clus['stop'] = [x[-1] for x in clus_inds_nested]\n",
    "#         clus['duration'] = [x[-1]-x[0] for x in clus_inds_nested]\n",
    "#         clus['cluster'] = [state for x in clus_inds_nested]\n",
    "#         clus['filename'] = [fname for x in clus_inds_nested]\n",
    "#         clus['drug'] = [fname.split('_')[4] for x in clus_inds_nested]\n",
    "#         df_clus = pd.DataFrame(clus)\n",
    "        \n",
    "#         df_motif.append(df_clus)\n",
    "     \n",
    "#     df_motif = pd.concat(df_motif)   \n",
    "#     return df_motif"
   ]
  },
  {
   "cell_type": "markdown",
   "metadata": {},
   "source": [
    "# Motifs comparisons"
   ]
  },
  {
   "cell_type": "code",
   "execution_count": null,
   "metadata": {},
   "outputs": [],
   "source": [
    "n_train_exps = 1743\n",
    "active_seen = 'seen'\n",
    "idle_seen = 'seen'\n",
    "all_seen = 'seen'\n",
    "n_states = 10\n",
    "fn_motif_tail = '1743_normed'\n",
    "n_feats = 6\n"
   ]
  },
  {
   "cell_type": "code",
   "execution_count": null,
   "metadata": {},
   "outputs": [],
   "source": [
    "# df_motif_control_151 = pd.read_pickle(f'../Data/motifs_dataframe_{n_train_exps}{active_seen}Control151_{n_states}model{fn_motif_tail}_{n_feats}feats.pkl')\n",
    "# df_motif_control_543 = pd.read_pickle(f'../Data/motifs_dataframe_{n_train_exps}{idle_seen}Control543_{n_states}model{fn_motif_tail}_{n_feats}feats.pkl')\n",
    "# df_motif_control_all = pd.read_pickle(f'../Data/motifs_dataframe_{n_train_exps}{all_seen}Control694_{n_states}model{fn_motif_tail}_{n_feats}feats.pkl')\n",
    "# df_motif_drugs_899 = pd.read_pickle(f'../Data/motifs_dataframe_{n_train_exps}SeenDrugsQTested899_{n_states}model{fn_motif_tail}_{n_feats}feats.pkl')\n",
    "# df_motif_light_150 = pd.read_pickle(f'../Data/motifs_dataframe_{n_train_exps}SeenLightQTested150_{n_states}model{fn_motif_tail}_{n_feats}feats.pkl')\n"
   ]
  },
  {
   "cell_type": "code",
   "execution_count": null,
   "metadata": {},
   "outputs": [],
   "source": [
    "with open('/share/data/longterm/10/athira/Jan26_preSeminarResults/control694_filenames.pkl', 'rb') as control_file:\n",
    "    control_all = pickle.load(control_file)"
   ]
  },
  {
   "cell_type": "code",
   "execution_count": null,
   "metadata": {},
   "outputs": [],
   "source": [
    "with open('/share/data/longterm/10/athira/Jan26_preSeminarResults/drug899_filenames.pkl', 'rb') as drug_file:\n",
    "    drug_all = pickle.load(drug_file)"
   ]
  },
  {
   "cell_type": "code",
   "execution_count": null,
   "metadata": {},
   "outputs": [],
   "source": [
    "with open('/share/data/longterm/10/athira/Jan26_preSeminarResults/light150_filenames.pkl', 'rb') as light_file:\n",
    "    light_all = pickle.load(light_file)"
   ]
  },
  {
   "cell_type": "markdown",
   "metadata": {},
   "source": [
    "## Load models"
   ]
  },
  {
   "cell_type": "code",
   "execution_count": null,
   "metadata": {},
   "outputs": [],
   "source": [
    "with open('/share/data/longterm/10/athira/Jan26_preSeminarResults/tsne_p500_ex12_ex1.tsne', 'rb') as tsne_model:\n",
    "    embedding_test = pickle.load(tsne_model)"
   ]
  },
  {
   "cell_type": "code",
   "execution_count": 7,
   "metadata": {},
   "outputs": [],
   "source": [
    "with open('/share/data/longterm/10/athira/Jan26_preSeminarResults/tsne_p250_ex3.npy', 'rb') as tsne2:\n",
    "    embedding_test2 = np.load(tsne2)"
   ]
  },
  {
   "cell_type": "code",
   "execution_count": 8,
   "metadata": {},
   "outputs": [],
   "source": [
    "with open('/share/data/longterm/10/athira/Jan26_preSeminarResults/tsne_p750_ex2.npy', 'rb') as tsne3:\n",
    "    embedding_test3 = np.load(tsne3)"
   ]
  },
  {
   "cell_type": "code",
   "execution_count": 9,
   "metadata": {},
   "outputs": [],
   "source": [
    "with open('/share/data/longterm/10/athira/Jan26_preSeminarResults/kNN_obj.pkl', 'rb') as knn_model:\n",
    "    neigh = pickle.load(knn_model)"
   ]
  },
  {
   "cell_type": "markdown",
   "metadata": {
    "heading_collapsed": true
   },
   "source": [
    "## Control_all"
   ]
  },
  {
   "cell_type": "code",
   "execution_count": null,
   "metadata": {
    "hidden": true
   },
   "outputs": [],
   "source": [
    "feats_list"
   ]
  },
  {
   "cell_type": "code",
   "execution_count": null,
   "metadata": {
    "hidden": true
   },
   "outputs": [],
   "source": [
    "df_control_feats = []\n",
    "for fname in control_all:\n",
    "    df_control_feats.append(df_files.get_group(fname))"
   ]
  },
  {
   "cell_type": "code",
   "execution_count": null,
   "metadata": {
    "hidden": true
   },
   "outputs": [],
   "source": [
    "df_control_feats_selected = []\n",
    "for df in df_control_feats:\n",
    "    df_control_feats_selected.append(df.filter(items = feats_list + ['filename', 'frames']))"
   ]
  },
  {
   "cell_type": "code",
   "execution_count": null,
   "metadata": {
    "hidden": true
   },
   "outputs": [],
   "source": [
    "   \n",
    "df_wv_transforms_control = Parallel(n_jobs=40, verbose = 5)(delayed(wv_transform)(df, widths, omg0) \n",
    "                                                for df in df_control_feats_selected)\n",
    "df_wv_combined_control = pd.concat(df_wv_transforms_control)\n",
    "df_wv_combined_control.reset_index(drop = True, inplace = True)"
   ]
  },
  {
   "cell_type": "code",
   "execution_count": null,
   "metadata": {
    "hidden": true
   },
   "outputs": [],
   "source": [
    "df_control_tsne_results = df_wv_combined_control.filter(items = ['filename','frames'])"
   ]
  },
  {
   "cell_type": "code",
   "execution_count": null,
   "metadata": {
    "hidden": true
   },
   "outputs": [],
   "source": [
    "tsne_control_all = embedding_test.transform(df_wv_combined_control.drop(columns=['filename', 'frames']).values)\n",
    "df_control_tsne_results['tsne_proj_0'] = tsne_control_all[:,0]\n",
    "df_control_tsne_results['tsne_proj_1'] = tsne_control_all[:,1]"
   ]
  },
  {
   "cell_type": "code",
   "execution_count": null,
   "metadata": {
    "hidden": true
   },
   "outputs": [],
   "source": [
    "df_control_tsne_results.to_pickle('/share/data/longterm/10/athira/Jan26_preSeminarResults/tsne_control_results.pkl')"
   ]
  },
  {
   "cell_type": "code",
   "execution_count": null,
   "metadata": {
    "hidden": true
   },
   "outputs": [],
   "source": [
    "len(df_control_tsne_results.index)"
   ]
  },
  {
   "cell_type": "code",
   "execution_count": null,
   "metadata": {
    "hidden": true
   },
   "outputs": [],
   "source": [
    "df_control_tsne_results"
   ]
  },
  {
   "cell_type": "code",
   "execution_count": null,
   "metadata": {
    "hidden": true
   },
   "outputs": [],
   "source": [
    "clus_control = neigh.predict(tsne_control_all)\n",
    "df_control_tsne_results['clus_db'] = clus_control"
   ]
  },
  {
   "cell_type": "code",
   "execution_count": null,
   "metadata": {
    "hidden": true
   },
   "outputs": [],
   "source": [
    "colors_control = [c_pal_db[label_map_db[clus_control[i]]] for i in range(len(clus_control)) ]"
   ]
  },
  {
   "cell_type": "code",
   "execution_count": null,
   "metadata": {
    "hidden": true
   },
   "outputs": [],
   "source": [
    "df_control_tsne_results.to_pickle('/share/data/longterm/10/athira/Jan26_preSeminarResults/tsne_control_results_clus.pkl')"
   ]
  },
  {
   "cell_type": "markdown",
   "metadata": {
    "heading_collapsed": true
   },
   "source": [
    "## Drugs"
   ]
  },
  {
   "cell_type": "code",
   "execution_count": null,
   "metadata": {
    "hidden": true
   },
   "outputs": [],
   "source": [
    "df_drug_feats_selected = []\n",
    "for fname in drug_all:\n",
    "    df_drug_feats_selected.append(df_files.get_group(fname).filter(items = feats_list + ['filename', 'frames']))"
   ]
  },
  {
   "cell_type": "code",
   "execution_count": null,
   "metadata": {
    "hidden": true
   },
   "outputs": [],
   "source": [
    "    \n",
    "df_drug_feats_selected = []\n",
    "for df in df_drug_feats:\n",
    "    df_drug_feats_selected.append(df.filter(items = feats_list + ['filename', 'frames']))"
   ]
  },
  {
   "cell_type": "code",
   "execution_count": null,
   "metadata": {
    "hidden": true
   },
   "outputs": [],
   "source": [
    "   \n",
    "df_wv_transforms_drug = Parallel(n_jobs=40, verbose = 5)(delayed(wv_transform)(df, widths, omg0) \n",
    "                                                for df in df_drug_feats_selected)\n",
    "df_wv_combined_drug = pd.concat(df_wv_transforms_drug)\n",
    "df_wv_combined_drug.reset_index(drop = True, inplace = True)"
   ]
  },
  {
   "cell_type": "code",
   "execution_count": null,
   "metadata": {
    "hidden": true
   },
   "outputs": [],
   "source": [
    "df_wv_combined_drug.shape"
   ]
  },
  {
   "cell_type": "code",
   "execution_count": null,
   "metadata": {
    "hidden": true
   },
   "outputs": [],
   "source": [
    "df_drug_tsne_results = df_wv_combined_drug.filter(items = ['filename','frames'])"
   ]
  },
  {
   "cell_type": "code",
   "execution_count": null,
   "metadata": {
    "hidden": true
   },
   "outputs": [],
   "source": [
    "del df_drug_feats_selected"
   ]
  },
  {
   "cell_type": "code",
   "execution_count": null,
   "metadata": {
    "hidden": true
   },
   "outputs": [],
   "source": [
    "del df_features"
   ]
  },
  {
   "cell_type": "code",
   "execution_count": null,
   "metadata": {
    "hidden": true
   },
   "outputs": [],
   "source": [
    "tsne_drug_all = embedding_test.transform(df_wv_combined_drug.drop(columns=['filename', 'frames']).values)\n",
    "df_drug_tsne_results['tsne_proj_0'] = tsne_drug_all[:,0]\n",
    "df_drug_tsne_results['tsne_proj_1'] = tsne_drug_all[:,1]"
   ]
  },
  {
   "cell_type": "code",
   "execution_count": null,
   "metadata": {
    "hidden": true
   },
   "outputs": [],
   "source": [
    "df_drug_tsne_results.to_pickle('/share/data/longterm/10/athira/Jan26_preSeminarResults/tsne_drug_results.pkl')"
   ]
  },
  {
   "cell_type": "code",
   "execution_count": null,
   "metadata": {
    "hidden": true
   },
   "outputs": [],
   "source": [
    "df_drug_tsne_results = pd.read_pickle('/share/data/longterm/10/athira/Jan26_preSeminarResults/tsne_drug_results.pkl')"
   ]
  },
  {
   "cell_type": "code",
   "execution_count": null,
   "metadata": {
    "hidden": true
   },
   "outputs": [],
   "source": [
    "tsne_drug_all = df_drug_tsne_results.filter(like='tsne_proj')"
   ]
  },
  {
   "cell_type": "code",
   "execution_count": null,
   "metadata": {
    "hidden": true
   },
   "outputs": [],
   "source": [
    "clus_drug = neigh.predict(tsne_drug_all)\n",
    "df_drug_tsne_results['clus_db'] = clus_drug"
   ]
  },
  {
   "cell_type": "code",
   "execution_count": null,
   "metadata": {
    "hidden": true
   },
   "outputs": [],
   "source": [
    "df_drug_tsne_results.to_pickle('/share/data/longterm/10/athira/Jan26_preSeminarResults/tsne_drug_results_clus.pkl')"
   ]
  },
  {
   "cell_type": "code",
   "execution_count": null,
   "metadata": {
    "hidden": true
   },
   "outputs": [],
   "source": [
    "colors_drug = [c_pal_db[label_map_db[clus_drug[i]]] for i in range(len(clus_drug)) ]"
   ]
  },
  {
   "cell_type": "markdown",
   "metadata": {
    "heading_collapsed": true
   },
   "source": [
    "## Light "
   ]
  },
  {
   "cell_type": "code",
   "execution_count": null,
   "metadata": {
    "hidden": true
   },
   "outputs": [],
   "source": [
    "df_light_feats = []\n",
    "for fname in light_all:\n",
    "    df_light_feats.append(df_files.get_group(fname))\n",
    "    "
   ]
  },
  {
   "cell_type": "code",
   "execution_count": null,
   "metadata": {
    "hidden": true
   },
   "outputs": [],
   "source": [
    "df_light_feats_selected = []\n",
    "for df in df_light_feats:\n",
    "    df_light_feats_selected.append(df.filter(items = feats_list + ['filename', 'frames']))\n",
    "    "
   ]
  },
  {
   "cell_type": "code",
   "execution_count": null,
   "metadata": {
    "hidden": true
   },
   "outputs": [],
   "source": [
    "df_wv_transforms_light = Parallel(n_jobs=40, verbose = 5)(delayed(wv_transform)(df, widths, omg0) \n",
    "                                                for df in df_light_feats_selected)\n",
    "df_wv_combined_light = pd.concat(df_wv_transforms_light)\n",
    "df_wv_combined_light.reset_index(drop = True, inplace = True)"
   ]
  },
  {
   "cell_type": "code",
   "execution_count": null,
   "metadata": {
    "hidden": true
   },
   "outputs": [],
   "source": [
    "df_light_tsne_results = df_wv_combined_light.filter(items = ['filename','frames'])"
   ]
  },
  {
   "cell_type": "code",
   "execution_count": null,
   "metadata": {
    "hidden": true
   },
   "outputs": [],
   "source": [
    "tsne_light_all = embedding_test.transform(df_wv_combined_light.drop(columns=['filename', 'frames']).values)\n",
    "df_light_tsne_results['tsne_proj_0'] = tsne_light_all[:,0]\n",
    "df_light_tsne_results['tsne_proj_1'] = tsne_light_all[:,1]"
   ]
  },
  {
   "cell_type": "code",
   "execution_count": null,
   "metadata": {
    "hidden": true
   },
   "outputs": [],
   "source": [
    "clus_light = neigh.predict(tsne_light_all)\n",
    "df_light_tsne_results['clus_db'] = clus_light\n",
    "colors_light = [c_pal_db[label_map_db[clus_light[i]]] for i in range(len(clus_light)) ]"
   ]
  },
  {
   "cell_type": "markdown",
   "metadata": {},
   "source": [
    "## Plots"
   ]
  },
  {
   "cell_type": "code",
   "execution_count": 10,
   "metadata": {},
   "outputs": [],
   "source": [
    "with open('/share/data/longterm/10/athira/Jan26_preSeminarResults/dbscan_results.pkl', 'rb') as dbscan_file:\n",
    "    clustering = pickle.load(dbscan_file)"
   ]
  },
  {
   "cell_type": "code",
   "execution_count": 11,
   "metadata": {},
   "outputs": [],
   "source": [
    "label_map_db = {}\n",
    "for i, label in enumerate(np.unique(clustering.labels_)):\n",
    "    label_map_db[label] = i\n",
    "\n",
    "c_pal_db = sns.color_palette('tab10',len(np.unique(clustering.labels_))+1)"
   ]
  },
  {
   "cell_type": "code",
   "execution_count": 12,
   "metadata": {},
   "outputs": [
    {
     "data": {
      "image/png": "[encoded data removed]",
      "text/plain": [
       "<Figure size 576x72 with 1 Axes>"
      ]
     },
     "metadata": {
      "needs_background": "light"
     },
     "output_type": "display_data"
    }
   ],
   "source": [
    "sns.palplot(c_pal_db)"
   ]
  },
  {
   "cell_type": "markdown",
   "metadata": {},
   "source": [
    "### tSNE space"
   ]
  },
  {
   "cell_type": "code",
   "execution_count": null,
   "metadata": {},
   "outputs": [],
   "source": [
    "clustering.labels_.shape"
   ]
  },
  {
   "cell_type": "code",
   "execution_count": null,
   "metadata": {},
   "outputs": [],
   "source": [
    "\n",
    "clus_all = clustering.labels_\n",
    "colors_space = [c_pal_db[label_map_db[clus_all[i]]] for i in range(len(clus_all)) ]\n",
    "\n",
    "\n",
    "fig, axes = plt.subplots(1,1, figsize = (5,5), sharex=True, sharey=True)\n",
    "\n",
    "axes.scatter(embedding_test[:,0], embedding_test[:,1], s = 0.05, alpha =0.5, c = colors_space)\n",
    "axes.set_xlim([-100, 100])\n",
    "axes.set_ylim([-100, 100])\n",
    "fig.savefig('../../ciona_tierpsy_behavior/Figures/tsne_results/behavioural_space_rescaled1.png')"
   ]
  },
  {
   "cell_type": "code",
   "execution_count": null,
   "metadata": {},
   "outputs": [],
   "source": [
    "fig, axes = plt.subplots(1,1, figsize = (5,5), sharex=True, sharey=True)\n",
    "\n",
    "axes.scatter(embedding_test[:,0], embedding_test[:,1], s = 0.05, alpha =0.5)\n",
    "axes.set_xlim([-100, 100])\n",
    "axes.set_ylim([-100, 100])\n",
    "fig.savefig('../../ciona_tierpsy_behavior/Figures/tsne_results/behavioural_space_blue_rescaled1.png')"
   ]
  },
  {
   "cell_type": "code",
   "execution_count": 15,
   "metadata": {},
   "outputs": [
    {
     "data": {
      "text/plain": [
       "<matplotlib.collections.PathCollection at 0x7f7757b51160>"
      ]
     },
     "execution_count": 15,
     "metadata": {},
     "output_type": "execute_result"
    },
    {
     "data": {
      "image/png": "[encoded data removed]",
      "text/plain": [
       "<Figure size 360x360 with 1 Axes>"
      ]
     },
     "metadata": {
      "needs_background": "light"
     },
     "output_type": "display_data"
    }
   ],
   "source": [
    "\n",
    "clus_all = clustering.labels_\n",
    "colors_space = [c_pal_db[label_map_db[clus_all[i]]] for i in range(len(clus_all)) ]\n",
    "\n",
    "\n",
    "fig, axes = plt.subplots(1,1, figsize = (5,5), sharex=True, sharey=True)\n",
    "\n",
    "axes.scatter(embedding_test2[:,0], embedding_test2[:,1], s = 0.05, alpha =0.5, c = colors_space)\n",
    "# axes.set_xlim([-100, 100])\n",
    "# axes.set_ylim([-100, 100])\n",
    "# fig.savefig('../../ciona_tierpsy_behavior/Figures/tsne_results/behavioural_space_rescaled1.png')"
   ]
  },
  {
   "cell_type": "code",
   "execution_count": 16,
   "metadata": {},
   "outputs": [
    {
     "data": {
      "text/plain": [
       "<matplotlib.collections.PathCollection at 0x7f7757b7b070>"
      ]
     },
     "execution_count": 16,
     "metadata": {},
     "output_type": "execute_result"
    },
    {
     "data": {
      "image/png": "[encoded data removed]",
      "text/plain": [
       "<Figure size 360x360 with 1 Axes>"
      ]
     },
     "metadata": {
      "needs_background": "light"
     },
     "output_type": "display_data"
    }
   ],
   "source": [
    "\n",
    "clus_all = clustering.labels_\n",
    "colors_space = [c_pal_db[label_map_db[clus_all[i]]] for i in range(len(clus_all)) ]\n",
    "\n",
    "\n",
    "fig, axes = plt.subplots(1,1, figsize = (5,5), sharex=True, sharey=True)\n",
    "\n",
    "axes.scatter(embedding_test3[:,0], embedding_test3[:,1], s = 0.05, alpha =0.5, c = colors_space)\n",
    "# axes.set_xlim([-100, 100])\n",
    "# axes.set_ylim([-100, 100])"
   ]
  },
  {
   "cell_type": "code",
   "execution_count": 17,
   "metadata": {},
   "outputs": [
    {
     "data": {
      "text/plain": [
       "<matplotlib.collections.PathCollection at 0x7f7757d940a0>"
      ]
     },
     "execution_count": 17,
     "metadata": {},
     "output_type": "execute_result"
    },
    {
     "data": {
      "image/png": "[encoded data removed]",
      "text/plain": [
       "<Figure size 360x360 with 1 Axes>"
      ]
     },
     "metadata": {
      "needs_background": "light"
     },
     "output_type": "display_data"
    }
   ],
   "source": [
    "clus_all = clustering.labels_\n",
    "colors_space = [c_pal_db[label_map_db[clus_all[i]]] for i in range(len(clus_all)) ]\n",
    "\n",
    "\n",
    "fig, axes = plt.subplots(1,1, figsize = (5,5), sharex=True, sharey=True)\n",
    "\n",
    "axes.scatter(embedding_test2[:,0], embedding_test3[:,1], s = 0.05, alpha =0.5, c = colors_space)\n",
    "# axes.set_xlim([-100, 100])\n",
    "# axes.set_ylim([-100, 100])"
   ]
  },
  {
   "cell_type": "markdown",
   "metadata": {},
   "source": [
    "### tSNE space plots"
   ]
  },
  {
   "cell_type": "code",
   "execution_count": null,
   "metadata": {},
   "outputs": [],
   "source": [
    "\n",
    "clus_control = df_control_tsne_results['clus_db']\n",
    "clus_drug = df_drug_tsne_results['clus_db']\n",
    "\n",
    "colors_drug = [c_pal_db[label_map_db[clus_drug[i]]] for i in range(len(clus_drug)) ]\n",
    "colors_control = [c_pal_db[label_map_db[clus_control[i]]] for i in range(len(clus_control)) ]"
   ]
  },
  {
   "cell_type": "code",
   "execution_count": null,
   "metadata": {},
   "outputs": [],
   "source": [
    "fig, axes = plt.subplots(1,2, figsize = (10, 5), sharex=True, sharey=True)\n",
    "axes = axes.ravel()\n",
    "\n",
    "\n",
    "# axes[0].scatter(embedding_test[:,0], embedding_test[:,1], s = 0.05, alpha =0.5, c = colors_db)\n",
    "axes[0].scatter(df_control_tsne_results['tsne_proj_0'], df_control_tsne_results['tsne_proj_1'], s = 0.05, alpha =0.5, c = colors_control)\n",
    "axes[1].scatter(df_drug_tsne_results['tsne_proj_0'], df_drug_tsne_results['tsne_proj_1'], s = 0.05, alpha =0.5, c = colors_drug)\n",
    "# axes[3].scatter(tsne_light_all[:,0], tsne_light_all[:,1], s = 0.05, alpha =0.5, c = colors_light)"
   ]
  },
  {
   "cell_type": "code",
   "execution_count": null,
   "metadata": {},
   "outputs": [],
   "source": [
    "\n",
    "# df_drug_tsne_results.to_pickle('../Data/tsne_drug_results.pkl')\n",
    "# df_light_tsne_results.to_pickle('../Data/tsne_light_results.pkl')"
   ]
  },
  {
   "cell_type": "code",
   "execution_count": null,
   "metadata": {},
   "outputs": [],
   "source": [
    "fig.savefig('tsne_proj_results_control_and_drug_datasets.png')"
   ]
  },
  {
   "cell_type": "markdown",
   "metadata": {},
   "source": [
    "### plots comparison"
   ]
  },
  {
   "cell_type": "code",
   "execution_count": null,
   "metadata": {},
   "outputs": [],
   "source": [
    "df_control_tsne_results= pd.read_pickle('/share/data/longterm/10/athira/Jan26_preSeminarResults/tsne_control_results_clus.pkl')"
   ]
  },
  {
   "cell_type": "code",
   "execution_count": null,
   "metadata": {},
   "outputs": [],
   "source": [
    "df_control_tsne_results['drug'] = 'None'"
   ]
  },
  {
   "cell_type": "code",
   "execution_count": null,
   "metadata": {},
   "outputs": [],
   "source": [
    "df_drug_tsne_results= pd.read_pickle('/share/data/longterm/10/athira/Jan26_preSeminarResults/tsne_drug_results_clus.pkl')"
   ]
  },
  {
   "cell_type": "code",
   "execution_count": null,
   "metadata": {},
   "outputs": [],
   "source": [
    "df_drug_tsne_results.columns"
   ]
  },
  {
   "cell_type": "code",
   "execution_count": null,
   "metadata": {},
   "outputs": [],
   "source": [
    "df_drug_tsne_results['drug'] = df_drug_tsne_results['filename'].apply(lambda x: x.split('_')[4])"
   ]
  },
  {
   "cell_type": "code",
   "execution_count": null,
   "metadata": {},
   "outputs": [],
   "source": [
    "df_drug_tsne_results.head()"
   ]
  },
  {
   "cell_type": "code",
   "execution_count": null,
   "metadata": {},
   "outputs": [],
   "source": [
    "df_control_and_drug_tsne_results = pd.concat([df_control_tsne_results, df_drug_tsne_results])"
   ]
  },
  {
   "cell_type": "code",
   "execution_count": null,
   "metadata": {},
   "outputs": [],
   "source": [
    "df_control_and_drug_tsne_results['active'] = df_control_and_drug_tsne_results['clus_db'].apply(lambda x: True if x !=1 else False) "
   ]
  },
  {
   "cell_type": "code",
   "execution_count": null,
   "metadata": {},
   "outputs": [],
   "source": [
    "df_control_and_drug_tsne_results_active = df_control_and_drug_tsne_results[df_control_and_drug_tsne_results['clus_db'] != 1]"
   ]
  },
  {
   "cell_type": "code",
   "execution_count": null,
   "metadata": {},
   "outputs": [],
   "source": [
    "df_durations_per_and_cluster = df_control_and_drug_tsne_results.groupby(['drug','clus_db'])['frames'].describe()[['count']]"
   ]
  },
  {
   "cell_type": "code",
   "execution_count": null,
   "metadata": {},
   "outputs": [],
   "source": [
    "df_percents = df_durations_per_and_cluster.groupby(['drug'])[['count']].apply(lambda x:100 * x / (x.sum())).reset_index()"
   ]
  },
  {
   "cell_type": "code",
   "execution_count": null,
   "metadata": {},
   "outputs": [],
   "source": [
    "df_percents"
   ]
  },
  {
   "cell_type": "code",
   "execution_count": null,
   "metadata": {},
   "outputs": [],
   "source": [
    "# df_percents['clus_db'] = df_percents['clus_db'].apply(lambda x: x-1)"
   ]
  },
  {
   "cell_type": "code",
   "execution_count": null,
   "metadata": {},
   "outputs": [],
   "source": [
    "pivoted_df = df_percents.pivot(index = 'drug', columns='clus_db', values = 'count')"
   ]
  },
  {
   "cell_type": "code",
   "execution_count": null,
   "metadata": {},
   "outputs": [],
   "source": [
    "pivoted_df"
   ]
  },
  {
   "cell_type": "code",
   "execution_count": null,
   "metadata": {},
   "outputs": [],
   "source": [
    "pivoted_df.to_csv('../../ciona_tierpsy_behavior/Figures/tsne_results/drugs_stacked_percentage_clusters.csv')"
   ]
  },
  {
   "cell_type": "code",
   "execution_count": null,
   "metadata": {},
   "outputs": [],
   "source": [
    "colors_map = [c_pal_db[label_map_db[i]] for i in [0,1,2,3,4,5] ]"
   ]
  },
  {
   "cell_type": "code",
   "execution_count": null,
   "metadata": {},
   "outputs": [],
   "source": [
    "fig, axes = plt.subplots(1,1, figsize=(15,5))\n",
    "pivoted_df.plot(kind='bar',stacked='True', ax=axes, legend=False, color = ['b','r'])\n",
    "axes.set_xticklabels(axes.get_xticklabels(), rotation = 45, ha=\"right\")\n",
    "# axes.set_xticklabels(drug_order, rotation = 45, ha=\"right\")\n",
    "axes.set_xlabel('percentage active vs idle')\n",
    "plt.gcf().subplots_adjust(bottom=0.25)\n",
    "plt.legend(loc=\"upper center\", bbox_to_anchor=(1.03,1))\n",
    "# fig.savefig('../../ciona_tierpsy_behavior/Figures/tsne_results/drugs_stacked_AvsI_annot.svg')\n",
    "\n",
    "for i, p in enumerate(axes.patches):\n",
    "    if i < 18:\n",
    "        vert = -10\n",
    "\n",
    "        axes.annotate(format(p.get_height(), '.0f'), \n",
    "                       (p.get_x() + p.get_width() / 2., p.get_height()), \n",
    "                       ha = 'center', va = 'center', \n",
    "                       xytext = (0, vert), \n",
    "                       textcoords = 'offset points')\n",
    "        \n",
    "fig.savefig('../../ciona_tierpsy_behavior/Figures/tsne_results/drugs_stacked_AvsI_annot.svg')"
   ]
  },
  {
   "cell_type": "code",
   "execution_count": null,
   "metadata": {},
   "outputs": [],
   "source": []
  },
  {
   "cell_type": "markdown",
   "metadata": {},
   "source": [
    "# Finding traces"
   ]
  },
  {
   "cell_type": "code",
   "execution_count": null,
   "metadata": {},
   "outputs": [],
   "source": []
  },
  {
   "cell_type": "code",
   "execution_count": null,
   "metadata": {},
   "outputs": [],
   "source": []
  },
  {
   "cell_type": "code",
   "execution_count": null,
   "metadata": {},
   "outputs": [],
   "source": []
  },
  {
   "cell_type": "code",
   "execution_count": null,
   "metadata": {},
   "outputs": [],
   "source": [
    "# x = clustering.fit_predict(df_wv_filt_in.values)"
   ]
  },
  {
   "cell_type": "code",
   "execution_count": null,
   "metadata": {},
   "outputs": [],
   "source": [
    "# test_labels, strengths = hdbscan.prediction.approximate_predict(clusterer, tsne_in.data)"
   ]
  },
  {
   "cell_type": "code",
   "execution_count": null,
   "metadata": {},
   "outputs": [],
   "source": [
    "# memb_vectors = hdbscan.prediction.membership_vector(clusterer, tsne_in.data)"
   ]
  },
  {
   "cell_type": "code",
   "execution_count": null,
   "metadata": {},
   "outputs": [],
   "source": [
    "# test_labels.max()"
   ]
  },
  {
   "cell_type": "code",
   "execution_count": null,
   "metadata": {},
   "outputs": [],
   "source": [
    "np.unique(test_labels)"
   ]
  },
  {
   "cell_type": "code",
   "execution_count": null,
   "metadata": {},
   "outputs": [],
   "source": [
    "np.unique(test_labels[strengths >= 0.9])"
   ]
  },
  {
   "cell_type": "code",
   "execution_count": null,
   "metadata": {},
   "outputs": [],
   "source": [
    "np.sum(test_labels == -1)"
   ]
  },
  {
   "cell_type": "code",
   "execution_count": null,
   "metadata": {},
   "outputs": [],
   "source": [
    "len(np.unique(test_labels))"
   ]
  },
  {
   "cell_type": "code",
   "execution_count": null,
   "metadata": {},
   "outputs": [],
   "source": [
    "skel_array.shape"
   ]
  },
  {
   "cell_type": "code",
   "execution_count": null,
   "metadata": {},
   "outputs": [],
   "source": [
    "# label_colors"
   ]
  },
  {
   "cell_type": "code",
   "execution_count": null,
   "metadata": {},
   "outputs": [],
   "source": [
    "skel_array.shape"
   ]
  },
  {
   "cell_type": "code",
   "execution_count": null,
   "metadata": {},
   "outputs": [],
   "source": [
    "plt.scatter(skel_array[:,12,0], skel_array[:,12,1], color = label_colors, alpha = 0.7, s = 0.9)\n",
    "    \n",
    "# ax.axis(\"equal\")\n",
    "# ax.set_title(testfile)"
   ]
  },
  {
   "cell_type": "code",
   "execution_count": null,
   "metadata": {},
   "outputs": [],
   "source": [
    "# fig, ax = plt.subplots(figsize = (5,5))\n",
    "\n",
    "# for i in range(len(skel_array)):\n",
    "\n",
    "#     ax.plot(skel_array[i,:,0], skel_array[i,:,1], color = c_pal[test_labels[i]], alpha = 0.7)\n",
    "    \n",
    "# ax.axis(\"equal\")\n",
    "# # ax.set_title(testfile)"
   ]
  },
  {
   "cell_type": "code",
   "execution_count": null,
   "metadata": {},
   "outputs": [],
   "source": [
    "fnames_check_3 = ['20180716_134809_1_5m0s_None_None_None_skeletons.hdf5',\n",
    "       '20180716_135432_1_5m0s_None_None_None_skeletons.hdf5',\n",
    "       '20180716_140012_1_5m0s_None_None_None_skeletons.hdf5']"
   ]
  },
  {
   "cell_type": "code",
   "execution_count": null,
   "metadata": {},
   "outputs": [],
   "source": [
    "fnames_check_3_browns = ['20180716_134809_1_5m0s_None_None_None_skeletons.hdf5',\n",
    "       '20180716_135432_1_5m0s_None_None_None_skeletons.hdf5',\n",
    "       '20180716_140012_1_5m0s_None_None_None_skeletons.hdf5']"
   ]
  },
  {
   "cell_type": "code",
   "execution_count": null,
   "metadata": {},
   "outputs": [],
   "source": [
    "fnames_check = [       '20180716_134809_1_5m0s_None_None_None_skeletons.hdf5',\n",
    "       '20180716_154119_1_5m0s_None_None_None_skeletons.hdf5',\n",
    "       '20180716_151220_1_5m0s_None_None_None_INVERTED_skeletons.hdf5',\n",
    "       '20180716_164934_1_5m0s_None_None_None_skeletons.hdf5',\n",
    "       '20180716_135432_1_5m0s_None_None_None_skeletons.hdf5',\n",
    "       '20180716_140012_1_5m0s_None_None_None_skeletons.hdf5',\n",
    "'20180716_134810_1_5m0s_Methiothepin_None_None_skeletons.hdf5',\n",
    "'20180716_131647_1_5m0s_Serotonin_None_None_INVERTED_skeletons.hdf5']"
   ]
  },
  {
   "cell_type": "code",
   "execution_count": null,
   "metadata": {},
   "outputs": [],
   "source": [
    "fnames_all = list(df_control_and_drug_tsne_results.filename.unique())"
   ]
  },
  {
   "cell_type": "code",
   "execution_count": null,
   "metadata": {},
   "outputs": [],
   "source": [
    "fnames_0716_1 = [fn for fn in fnames_all if fn.startswith('20180716_1')]"
   ]
  },
  {
   "cell_type": "code",
   "execution_count": null,
   "metadata": {},
   "outputs": [],
   "source": [
    "print([fn for fn in fnames_all if fn.startswith('20180823_151523')])"
   ]
  },
  {
   "cell_type": "code",
   "execution_count": null,
   "metadata": {},
   "outputs": [],
   "source": [
    "fnames_brown = ['20180716_164934_1_5m0s_None_None_None_skeletons.hdf5',\n",
    "                '20180808_123808_1_5m0s_None_None_None_skeletons.hdf5',\n",
    "                '20180823_151523_1_15m0s_None_None_None_skeletons.hdf5',\n",
    "               ]"
   ]
  },
  {
   "cell_type": "code",
   "execution_count": null,
   "metadata": {},
   "outputs": [],
   "source": [
    "fnames_0716_1"
   ]
  },
  {
   "cell_type": "code",
   "execution_count": null,
   "metadata": {},
   "outputs": [],
   "source": [
    "df_tsne_results_grouped = df_control_and_drug_tsne_results.groupby('filename')"
   ]
  },
  {
   "cell_type": "code",
   "execution_count": null,
   "metadata": {},
   "outputs": [],
   "source": [
    "# '20180727_115537_1_5m0s_None_None_None_skeletons.hdf5',\n",
    "#        '20180817_121415_1_15m0s_None_None_None_skeletons.hdf5',\n",
    "#        '20180808_114234_1_15m0s_None_None_None_skeletons.hdf5',\n",
    "#        '20180705_123548_1_5m0s_None_None_None_skeletons.hdf5',\n",
    "#        '20180806_133006_1_15m0s_None_None_None_skeletons.hdf5',\n",
    "#        '20180808_123808_1_5m0s_None_None_None_skeletons.hdf5',\n",
    "#        '20180730_103154_1_15m0s_None_None_None_skeletons.hdf5',\n",
    "#        '20180716_164934_1_5m0s_None_None_None_skeletons.hdf5',\n",
    "#        '20180725_102308_1_15m0s_None_None_None_skeletons.hdf5',\n",
    "#        '20180716_151220_1_5m0s_None_None_None_INVERTED_skeletons.hdf5',\n",
    "#        '20180817_123957_1_5m0s_None_None_None_skeletons.hdf5',\n",
    "#        '20180709_094858_1_15m0s_None_None_None_skeletons.hdf5',\n",
    "#        '20180709_114302_1_15m0s_None_None_None_skeletons.hdf5',\n",
    "#        '20180823_124209_1_15m0s_None_None_None_skeletons.hdf5',\n",
    "#        '20180823_151523_1_15m0s_None_None_None_skeletons.hdf5',\n",
    "#        '20180716_154119_1_5m0s_None_None_None_skeletons.hdf5',\n",
    "#        '20180706_113314_1_5m0s_None_None_None_skeletons.hdf5',\n",
    "#        '20180716_134809_1_5m0s_None_None_None_skeletons.hdf5',\n",
    "#        '20180808_115805_1_15m0s_None_None_None_skeletons.hdf5',\n",
    "#        '20180709_145701_1_5m0s_None_None_None_skeletons.hdf5',\n",
    "#        '20180718_135348_1_5m0s_None_None_None_INVERTED_skeletons.hdf5',\n",
    "#        '20180808_160026_1_5m0s_None_None_None_skeletons.hdf5',\n",
    "#        '20180709_121000_1_5m0s_None_None_None_skeletons.hdf5',\n",
    "#        '20180727_110004_1_15m0s_None_None_None_skeletons.hdf5',\n",
    "#        '20180817_101417_1_15m0s_None_None_None_skeletons.hdf5',\n",
    "#        '20180803_164739_1_15m0s_None_None_None_skeletons.hdf5',\n",
    "#        '20180823_124233_1_15m0s_None_None_None_skeletons.hdf5',\n",
    "#        '20180716_135432_1_5m0s_None_None_None_skeletons.hdf5',\n",
    "pink_fnames = [\n",
    "       '20180817_103936_1_5m0s_None_None_None_skeletons.hdf5',\n",
    "       '20180822_153525_1_15m0s_None_None_None_skeletons.hdf5',\n",
    "       '20180823_125825_1_5m0s_None_None_None_skeletons.hdf5',\n",
    "       '20180807_190944_1_15m0s_None_None_None_skeletons.hdf5',\n",
    "       '20180706_102015_1_5m0s_None_None_None_skeletons.hdf5',\n",
    "       '20180709_163004_1_15m0s_None_None_None_skeletons.hdf5',\n",
    "       '20180727_133018_1_15m0s_None_None_None_skeletons.hdf5',\n",
    "       '20180725_114241_1_15m0s_None_None_None_skeletons.hdf5']"
   ]
  },
  {
   "cell_type": "code",
   "execution_count": null,
   "metadata": {},
   "outputs": [],
   "source": [
    "fig, axes = plt.subplots(2, 4, figsize = (20,10), sharex=True, sharey=True)\n",
    "axes = axes.ravel()\n",
    "for i, fname in enumerate(pink_fnames):\n",
    "    \n",
    "    skel_file = os.path.join(skel_files_path,fname)\n",
    "    skel_array = read_skeleton_as_array(skel_file)\n",
    "    skel_array = del_nan_rows(skel_array)\n",
    "    \n",
    "    axes[i].scatter(skel_array[:,12,0], skel_array[:,12,1], alpha = 0.7, s = 0.9)\n",
    "    axes[i].set_title('_'.join(fname.split('_')[:2]))\n",
    "    print(fname)"
   ]
  },
  {
   "cell_type": "code",
   "execution_count": null,
   "metadata": {},
   "outputs": [],
   "source": [
    "fig, axes = plt.subplots(1, 3, figsize = (15,5), sharex=True, sharey=True)\n",
    "axes = axes.ravel()\n",
    "for i, fname in enumerate(random.sample(list(fnames_brown), 3)):\n",
    "    \n",
    "    skel_files_path = '/share/data/temp/athira/Tierpsy_skeleton_files_July13/'\n",
    "    skel_file = os.path.join(skel_files_path,fname)\n",
    "    skel_array = read_skeleton_as_array(skel_file)\n",
    "    \n",
    "    \n",
    "    df = df_tsne_results_grouped.get_group(fname)\n",
    "    df_clus = df['clus_db']\n",
    "    col_file = [c_pal_db[label_map_db[i]] for i in df['clus_db'] ]\n",
    "    \n",
    "    try:\n",
    "        skel_array_ = del_nan_rows(skel_array)\n",
    "        axes[i].scatter(skel_array_[:,12,0], skel_array_[:,12,1], alpha = 0.7, s = 0.9, c= col_file)\n",
    "    except ValueError:\n",
    "        \n",
    "        print('some bad frames')\n",
    "        skel_array_ = skel_array[list(df.frames)]\n",
    "        axes[i].scatter(skel_array_[:,12,0], skel_array_[:,12,1], alpha = 0.7, s = 0.9, c= col_file)\n",
    "    finally:\n",
    "        axes[i].set_title('_'.join(fname.split('_')[:5]))\n",
    "        print(fname, skel_array.shape[0])"
   ]
  },
  {
   "cell_type": "code",
   "execution_count": null,
   "metadata": {},
   "outputs": [],
   "source": [
    "fig.savefig('browns_traces.png')"
   ]
  },
  {
   "cell_type": "code",
   "execution_count": null,
   "metadata": {},
   "outputs": [],
   "source": [
    "fnames_pink =  df_control_and_drug_tsne_results[((df_control_and_drug_tsne_results['clus_db'] == 5))]['filename'].unique()"
   ]
  },
  {
   "cell_type": "code",
   "execution_count": null,
   "metadata": {},
   "outputs": [],
   "source": [
    "len(fnames_pink)"
   ]
  },
  {
   "cell_type": "code",
   "execution_count": null,
   "metadata": {},
   "outputs": [],
   "source": [
    "fnames_check_3"
   ]
  },
  {
   "cell_type": "code",
   "execution_count": null,
   "metadata": {},
   "outputs": [],
   "source": [
    "fnames_pink = list(fnames_pink)"
   ]
  },
  {
   "cell_type": "code",
   "execution_count": null,
   "metadata": {},
   "outputs": [],
   "source": [
    "fnames_pink.remove(fnames_check_3[2])"
   ]
  },
  {
   "cell_type": "code",
   "execution_count": null,
   "metadata": {},
   "outputs": [],
   "source": [
    "len(fnames_pink)"
   ]
  },
  {
   "cell_type": "code",
   "execution_count": null,
   "metadata": {},
   "outputs": [],
   "source": [
    "df_pink_minus3_list = []\n",
    "for fn in fnames_pink:\n",
    "    df_pink_minus3_list.append(df_tsne_results_grouped.get_group(fn))\n",
    "df_pink_minus3 = pd.concat(df_pink_minus3_list)"
   ]
  },
  {
   "cell_type": "code",
   "execution_count": null,
   "metadata": {},
   "outputs": [],
   "source": [
    "df_pink_minus3_active = df_pink_minus3[df_pink_minus3['clus_db'] != 1]\n",
    "df_pink_minus3_active"
   ]
  },
  {
   "cell_type": "code",
   "execution_count": null,
   "metadata": {},
   "outputs": [],
   "source": [
    "df_durations_per_and_pink = df_pink_minus3_active.groupby(['drug','clus_db'])['frames'].describe()[['count']]\n",
    "df_durations_per_and_pink[['count']] = df_durations_per_and_pink[['count']].astype(int)"
   ]
  },
  {
   "cell_type": "code",
   "execution_count": null,
   "metadata": {},
   "outputs": [],
   "source": [
    "df_percents_active_pink = df_durations_per_and_pink.groupby(['drug'])[['count']].apply(lambda x:100 * x / (x.sum())).reset_index()"
   ]
  },
  {
   "cell_type": "code",
   "execution_count": null,
   "metadata": {},
   "outputs": [],
   "source": [
    "df_percents_active_pink"
   ]
  },
  {
   "cell_type": "code",
   "execution_count": null,
   "metadata": {},
   "outputs": [],
   "source": [
    "df_durations_per_and_pink.reset_index(inplace=True)"
   ]
  },
  {
   "cell_type": "code",
   "execution_count": null,
   "metadata": {},
   "outputs": [],
   "source": [
    "df_pivoted_pink = df_durations_per_and_pink.pivot(index = 'drug', columns='clus_db', values = 'count')"
   ]
  },
  {
   "cell_type": "code",
   "execution_count": null,
   "metadata": {},
   "outputs": [],
   "source": [
    "df_pivoted_pink_percent = df_percents_active_pink.pivot(index = 'drug', columns='clus_db', values = 'count')"
   ]
  },
  {
   "cell_type": "code",
   "execution_count": null,
   "metadata": {},
   "outputs": [],
   "source": [
    "df_pivoted_pink_percent"
   ]
  },
  {
   "cell_type": "code",
   "execution_count": null,
   "metadata": {},
   "outputs": [],
   "source": [
    "colors_map"
   ]
  },
  {
   "cell_type": "code",
   "execution_count": null,
   "metadata": {},
   "outputs": [],
   "source": [
    "fig, axes = plt.subplots(1,1, figsize=(12,10))\n",
    "df_pivoted_pink_percent[5].plot(kind='bar', ax=axes, legend=False, color = colors_map[4])\n",
    "axes.set_xticklabels(axes.get_xticklabels(), rotation = 45, ha=\"right\")\n",
    "# axes.set_xticklabels(drug_order, rotation = 45, ha=\"right\")\n",
    "axes.set_ylabel('Percent of frames classified as pink cluster ')\n",
    "axes.set_title(f'Excluding the 3 files on the same date, \\n  Out of 694 control and 899 drug experiments')\n",
    "plt.gcf().subplots_adjust(bottom=0.25)\n",
    "plt.legend(loc=\"upper center\", bbox_to_anchor=(1.03,1))\n",
    "\n",
    "fig.savefig('percentage_pink_occurences_in_other_experiments.png')"
   ]
  },
  {
   "cell_type": "code",
   "execution_count": null,
   "metadata": {},
   "outputs": [],
   "source": [
    "fnames_serotonin_pink"
   ]
  },
  {
   "cell_type": "code",
   "execution_count": null,
   "metadata": {},
   "outputs": [],
   "source": [
    "fig, axes = plt.subplots(2, 4, figsize = (20,10), sharex=True, sharey=True)\n",
    "axes = axes.ravel()\n",
    "for i, fname in enumerate(random.sample(fnames, 8)):\n",
    "    \n",
    "    skel_file = os.path.join(skel_files_path,fname)\n",
    "    skel_array = read_skeleton_as_array(skel_file)\n",
    "    skel_array = del_nan_rows(skel_array)\n",
    "    \n",
    "    axes[i].scatter(skel_array[:,12,0], skel_array[:,12,1], alpha = 0.7, s = 0.9)\n",
    "    axes[i].set_title('_'.join(fname.split('_')[:2]))\n",
    "    print(fname)"
   ]
  },
  {
   "cell_type": "code",
   "execution_count": null,
   "metadata": {},
   "outputs": [],
   "source": [
    "fnames = ['20180817_123456_1_5m0s_None_None_None_skeletons.hdf5',\n",
    "'20180817_144212_1_5m0s_None_None_None_skeletons.hdf5',\n",
    "'20180926_102013_1_5m0s_None_None_None_INVERTED_skeletons.hdf5',\n",
    "'20180730_103154_1_15m0s_None_None_None_skeletons.hdf5',\n",
    "'20180730_131522_1_5m0s_None_None_None_skeletons.hdf5',\n",
    "'20180727_112021_1_5m0s_None_None_None_skeletons.hdf5',\n",
    "         '20180706_102015_1_5m0s_None_None_None_skeletons.hdf5',\n",
    "       '20180709_163004_1_15m0s_None_None_None_skeletons.hdf5',\n",
    "       '20180727_133018_1_15m0s_None_None_None_skeletons.hdf5',\n",
    "       '20180725_114241_1_15m0s_None_None_None_skeletons.hdf5']"
   ]
  },
  {
   "cell_type": "markdown",
   "metadata": {
    "heading_collapsed": true
   },
   "source": [
    "# Sampling using histogram: tests"
   ]
  },
  {
   "cell_type": "code",
   "execution_count": null,
   "metadata": {
    "hidden": true
   },
   "outputs": [],
   "source": [
    "def nearest_neighbours(test_val, lst):\n",
    "    for i, l in enumerate(zip(lst, islice(lst, 1, None))):\n",
    "        l1 = l[0]\n",
    "        l2 = l[1]\n",
    "        if l1 <= test_val <= l2:\n",
    "#             return l1, l2, i, 1 / x_hist[i]\n",
    "            return 1/x_hist[i]"
   ]
  },
  {
   "cell_type": "code",
   "execution_count": null,
   "metadata": {
    "hidden": true
   },
   "outputs": [],
   "source": [
    "def closest(test_val, lst): \n",
    "    \n",
    "    lst = np.asarray(lst) \n",
    "    idx = ((lst - test_val)).argmin() \n",
    "    return (1/x_hist[idx-1]) \n",
    "\n",
    "\n",
    "def largest_within_delta(k, lst):\n",
    "    X = np.asarray(lst)\n",
    "    right_idx = X.searchsorted(k,'left')\n",
    "#     if (k - X[right_idx]) <= delta:\n",
    "    \n",
    "    return (1/x_hist[right_idx])\n",
    "    \n",
    "    "
   ]
  },
  {
   "cell_type": "code",
   "execution_count": null,
   "metadata": {
    "hidden": true
   },
   "outputs": [],
   "source": [
    "x_hist, x_ed = np.histogram(df_all_117['speed_neck'], bins =100,  density =1)"
   ]
  },
  {
   "cell_type": "code",
   "execution_count": null,
   "metadata": {
    "hidden": true
   },
   "outputs": [],
   "source": [
    "test_ind = random.choice(range(len(df_all_117.index)))\n",
    "test_speed = df_all_117['speed_neck'].values[test_ind]\n",
    "print(test_ind, test_speed)\n",
    "nn_result = nearest_neighbours(test_speed, x_ed) \n",
    "closest_result = largest_within_delta(test_speed, x_ed) \n",
    "print(nn_result, closest_result)\n",
    "nn_result == closest_result"
   ]
  },
  {
   "cell_type": "code",
   "execution_count": null,
   "metadata": {
    "hidden": true
   },
   "outputs": [],
   "source": [
    "X = list(df_all_117['speed_neck'].values)\n",
    "ind = np.searchsorted(x_ed, X, 'right')\n",
    "ind = list(ind - 2)\n",
    "weights = [x_hist[i] for i in ind]"
   ]
  },
  {
   "cell_type": "code",
   "execution_count": null,
   "metadata": {
    "hidden": true
   },
   "outputs": [],
   "source": [
    "feat_weights_df['speed_neck']"
   ]
  },
  {
   "cell_type": "code",
   "execution_count": null,
   "metadata": {
    "hidden": true
   },
   "outputs": [],
   "source": [
    "# for key, coeff in tqdm.tqdm(feat_coeff_dict.items()):\n",
    "    \n",
    "#     x_hist, x_ed = np.histogram(df_all_117[key], bins =100,  density =1)\n",
    "#     weights_test = df_speeds.apply(lambda x: largest_within_delta(x, x_ed), axis =1,  result_type='expand')\n",
    "#     feat_weights_dict[key] = list(weights_test)\n",
    "     "
   ]
  },
  {
   "cell_type": "code",
   "execution_count": null,
   "metadata": {
    "hidden": true
   },
   "outputs": [],
   "source": [
    "weights_test"
   ]
  },
  {
   "cell_type": "code",
   "execution_count": null,
   "metadata": {
    "hidden": true
   },
   "outputs": [],
   "source": [
    "feat_weights_df.replace(np.inf, 0, inplace=True)"
   ]
  },
  {
   "cell_type": "code",
   "execution_count": null,
   "metadata": {
    "hidden": true
   },
   "outputs": [],
   "source": [
    "weights_test = feat_weights_df.sum(axis=1)"
   ]
  },
  {
   "cell_type": "code",
   "execution_count": null,
   "metadata": {
    "hidden": true
   },
   "outputs": [],
   "source": [
    "# weights_test = df_all_117.apply(lambda y: nearest_neighbours(y['speed_neck'], x_ed), axis =1,  result_type='expand')"
   ]
  },
  {
   "cell_type": "code",
   "execution_count": null,
   "metadata": {
    "hidden": true
   },
   "outputs": [],
   "source": [
    "df_samples = df_all_117.sample(n = 20000, weights = feat_weights_df['speed_neck'])\n",
    "df_samples['speed_neck'].hist(bins=100)"
   ]
  },
  {
   "cell_type": "markdown",
   "metadata": {
    "heading_collapsed": true
   },
   "source": [
    "# Sampling using multiple speed values"
   ]
  },
  {
   "cell_type": "code",
   "execution_count": null,
   "metadata": {
    "hidden": true
   },
   "outputs": [],
   "source": [
    "def closest(K, lst, feat_hist, coeff): \n",
    "    \n",
    "    lst = np.asarray(lst) \n",
    "    idx = (np.abs(lst - K)).argmin() \n",
    "    return (1/feat_hist[idx-1]) "
   ]
  },
  {
   "cell_type": "code",
   "execution_count": null,
   "metadata": {
    "hidden": true
   },
   "outputs": [],
   "source": [
    "def nearest_neighbours_feat(test_val, lst, feat_hist, coeff):\n",
    "    \n",
    "    for i, l in enumerate(zip(lst, islice(lst, 1, None))):\n",
    "        l1 = l[0]\n",
    "        l2 = l[1]\n",
    "        if l1 <= test_val <= l2:\n",
    "            return (1/feat_hist[i])"
   ]
  },
  {
   "cell_type": "code",
   "execution_count": null,
   "metadata": {
    "hidden": true
   },
   "outputs": [],
   "source": []
  },
  {
   "cell_type": "code",
   "execution_count": null,
   "metadata": {
    "hidden": true
   },
   "outputs": [],
   "source": [
    "# for key, coeff in feat_coeff_dict.items():\n",
    "    \n",
    "#     x_hist, x_ed = np.histogram(df_all_117[key], bins =100,  density =1)\n",
    "#     weights_test = df_all_117.apply(lambda y: nearest_neighbours_feat(y[key]/df_all_117[key].max(), x_ed, x_hist, coeff), axis =1,  result_type='expand')\n",
    "#     feat_weights_dict[key] = list(weights_test)\n",
    "    "
   ]
  },
  {
   "cell_type": "code",
   "execution_count": null,
   "metadata": {
    "hidden": true
   },
   "outputs": [],
   "source": [
    "# open('/share/data/temp/athira/WaveletsTSNE/TSNE_embedding_all.tsne', 'wb')"
   ]
  },
  {
   "cell_type": "code",
   "execution_count": null,
   "metadata": {
    "hidden": true
   },
   "outputs": [],
   "source": [
    "feat_weights_df"
   ]
  },
  {
   "cell_type": "code",
   "execution_count": null,
   "metadata": {
    "hidden": true
   },
   "outputs": [],
   "source": [
    "for key, coeff in feat_coeff_dict.items():\n",
    "    \n",
    "    max_key = feat_weights_df[key].max()\n",
    "    feat_weights_df[key] = feat_weights_df[key]/max_key"
   ]
  },
  {
   "cell_type": "code",
   "execution_count": null,
   "metadata": {
    "hidden": true
   },
   "outputs": [],
   "source": [
    "feat_weights_df['final_weights'] = feat_weights_df.apply(lambda y: np.sum([y[key] * coeff for key, coeff in feat_coeff_dict.items()]), axis =1,  result_type='expand')"
   ]
  },
  {
   "cell_type": "code",
   "execution_count": null,
   "metadata": {
    "hidden": true
   },
   "outputs": [],
   "source": [
    "for key, coeff in feat_coeff_dict.items():\n",
    "    \n",
    "    max_key = feat_weights_df[feat_weights_df[key] != np.inf][key].max()\n",
    "    feat_weights_df[key].replace(np.inf,max_key, inplace=True)\n",
    "   "
   ]
  },
  {
   "cell_type": "code",
   "execution_count": null,
   "metadata": {
    "hidden": true
   },
   "outputs": [],
   "source": [
    "feat_weights_df['final_weights'] = feat_weights_df.sum(axis=1) "
   ]
  },
  {
   "cell_type": "code",
   "execution_count": null,
   "metadata": {
    "hidden": true
   },
   "outputs": [],
   "source": [
    "feat_weights_df['final_weights']"
   ]
  },
  {
   "cell_type": "code",
   "execution_count": null,
   "metadata": {
    "hidden": true
   },
   "outputs": [],
   "source": [
    "df_all_117['speed_neck'].hist(bins=100)"
   ]
  },
  {
   "cell_type": "code",
   "execution_count": null,
   "metadata": {
    "hidden": true
   },
   "outputs": [],
   "source": [
    "feat_weights_df['speed_neck'].hist(bins=100)"
   ]
  },
  {
   "cell_type": "code",
   "execution_count": null,
   "metadata": {
    "hidden": true
   },
   "outputs": [],
   "source": [
    "df_samples = df_all_117.sample(n = 20000, weights = feat_weights_df['speed_neck'])\n",
    "df_samples['speed_neck'].hist(bins=100)"
   ]
  },
  {
   "cell_type": "code",
   "execution_count": null,
   "metadata": {
    "hidden": true
   },
   "outputs": [],
   "source": [
    "df_samples['speed_tail_tip'].hist(bins=100)"
   ]
  },
  {
   "cell_type": "code",
   "execution_count": null,
   "metadata": {
    "hidden": true
   },
   "outputs": [],
   "source": []
  },
  {
   "cell_type": "code",
   "execution_count": null,
   "metadata": {
    "hidden": true
   },
   "outputs": [],
   "source": []
  },
  {
   "cell_type": "code",
   "execution_count": null,
   "metadata": {
    "hidden": true
   },
   "outputs": [],
   "source": []
  },
  {
   "cell_type": "markdown",
   "metadata": {},
   "source": [
    "# Random tests"
   ]
  },
  {
   "cell_type": "markdown",
   "metadata": {},
   "source": [
    "## Trials to sample"
   ]
  },
  {
   "cell_type": "code",
   "execution_count": null,
   "metadata": {},
   "outputs": [],
   "source": [
    "# x  = df_all_117.speed_neck.hist(bins = 100, density =1)"
   ]
  },
  {
   "cell_type": "code",
   "execution_count": null,
   "metadata": {},
   "outputs": [],
   "source": [
    "x_hist, x_ed = np.histogram(df_all_117['speed_neck'], bins =100,  density =1)"
   ]
  },
  {
   "cell_type": "code",
   "execution_count": null,
   "metadata": {},
   "outputs": [],
   "source": [
    "# bound = np.max(x) + np.min(x)"
   ]
  },
  {
   "cell_type": "code",
   "execution_count": null,
   "metadata": {},
   "outputs": [],
   "source": [
    "from itertools import islice\n",
    "\n",
    "def nearest_neighbours(test_val, lst):\n",
    "    for i, l in enumerate(zip(lst, islice(lst, 1, None))):\n",
    "        l1 = l[0]\n",
    "        l2 = l[1]\n",
    "        if l1 <= test_val <= l2:\n",
    "#             return l1, l2, i, 1 / x_hist[i]\n",
    "            return 1/x_hist[i]\n",
    "#         else :\n",
    "#             return 1/x_hist[-1]"
   ]
  },
  {
   "cell_type": "code",
   "execution_count": null,
   "metadata": {},
   "outputs": [],
   "source": [
    "test_ind = random.choice(range(len(df_all_117.index)))\n",
    "test_speed = df_all_117['speed_neck'].values[test_ind]\n",
    "print(test_ind, test_speed)\n"
   ]
  },
  {
   "cell_type": "code",
   "execution_count": null,
   "metadata": {},
   "outputs": [],
   "source": [
    "\n",
    "print(test_ind, test_speed)\n",
    "nearest_neighbours(test_speed, x_ed)"
   ]
  },
  {
   "cell_type": "code",
   "execution_count": null,
   "metadata": {},
   "outputs": [],
   "source": [
    "\n",
    "# print(test_ind, test_speed)\n",
    "# nearest_neighbours_feat(test_speed, x_ed, x_hist, 0.5)"
   ]
  },
  {
   "cell_type": "code",
   "execution_count": null,
   "metadata": {},
   "outputs": [],
   "source": [
    "x_hist"
   ]
  },
  {
   "cell_type": "code",
   "execution_count": null,
   "metadata": {},
   "outputs": [],
   "source": [
    "weights_test = df_all_117.apply(lambda y: nearest_neighbours(y['speed_neck'], x_ed), axis =1,  result_type='expand')"
   ]
  },
  {
   "cell_type": "code",
   "execution_count": null,
   "metadata": {},
   "outputs": [],
   "source": [
    "weights_test.shape"
   ]
  },
  {
   "cell_type": "code",
   "execution_count": null,
   "metadata": {},
   "outputs": [],
   "source": [
    "len(list(weights_test))"
   ]
  },
  {
   "cell_type": "code",
   "execution_count": null,
   "metadata": {},
   "outputs": [],
   "source": [
    "df_samples = df_all_117.sample(n = 10000, weights = weights_test)\n",
    "df_samples['speed_neck'].hist(bins=100)"
   ]
  },
  {
   "cell_type": "code",
   "execution_count": null,
   "metadata": {},
   "outputs": [],
   "source": [
    "df_samples2 = df_all_117.sample(n = 20000, weights = weights_test)\n",
    "df_samples2['speed_neck'].hist(bins=100)"
   ]
  },
  {
   "cell_type": "code",
   "execution_count": null,
   "metadata": {},
   "outputs": [],
   "source": [
    "# len(df_samples['filename'].unique())"
   ]
  },
  {
   "cell_type": "code",
   "execution_count": null,
   "metadata": {},
   "outputs": [],
   "source": [
    "# pd.DataFrame(s_tsne)"
   ]
  },
  {
   "cell_type": "code",
   "execution_count": null,
   "metadata": {},
   "outputs": [],
   "source": [
    "fig, axes = plt.subplots(1,2, figsize = (10,5))\n",
    "axes = axes.ravel()\n",
    "axes[0].scatter(df_samples2['tsne_0'], df_samples2['tsne_1'], s = 0.05, alpha =0.5, cmap = 'jet')\n",
    "axes[1].scatter(df_samples2['tsne_0'], df_samples2['tsne_1'], s = 0.05, alpha =0.5, c = df_samples2['speed_neck'], cmap = 'jet')"
   ]
  },
  {
   "cell_type": "markdown",
   "metadata": {},
   "source": [
    "## Test individual files"
   ]
  },
  {
   "cell_type": "code",
   "execution_count": null,
   "metadata": {},
   "outputs": [],
   "source": [
    "i = 71\n",
    "\n",
    "X_in = X_data[y_ciona == i]\n",
    "df_in = df_files.get_group(fnames[i])"
   ]
  },
  {
   "cell_type": "code",
   "execution_count": null,
   "metadata": {},
   "outputs": [],
   "source": [
    "X_in.shape"
   ]
  },
  {
   "cell_type": "code",
   "execution_count": null,
   "metadata": {},
   "outputs": [],
   "source": [
    "tsne_in = test_tsne.transform(X_in)"
   ]
  },
  {
   "cell_type": "code",
   "execution_count": null,
   "metadata": {},
   "outputs": [],
   "source": [
    "tsne_in.shape"
   ]
  },
  {
   "cell_type": "code",
   "execution_count": null,
   "metadata": {},
   "outputs": [],
   "source": []
  },
  {
   "cell_type": "code",
   "execution_count": null,
   "metadata": {},
   "outputs": [],
   "source": [
    "sum_to_ann_in = tsne_in.sum(axis=1)"
   ]
  },
  {
   "cell_type": "code",
   "execution_count": null,
   "metadata": {},
   "outputs": [],
   "source": [
    "sum_speed_in = df_in['speed_neck'] + df_in['speed_tail_mid'] + df_in['speed_tail_tip'] + \\\n",
    "                df_in['speed_tail_base'] + df_in['speed_tail_pre_mid'] + df_in['speed_tail_post_mid'] "
   ]
  },
  {
   "cell_type": "code",
   "execution_count": null,
   "metadata": {},
   "outputs": [],
   "source": [
    "fig, axes = plt.subplots(2,3, figsize = (15,10))\n",
    "axes = axes.ravel()\n",
    "axes[0].scatter(tsne_in[:,0], tsne_in[:,1], s = 0.05, alpha =0.5, c = range(tsne_in.shape[0]), cmap = 'jet')\n",
    "axes[1].scatter(tsne_in[:,0], tsne_in[:,1], s = 0.05, alpha =0.5, c = sum_speed_in, cmap = 'jet')\n",
    "axes[2].scatter(tsne_in[:,0], tsne_in[:,1], s = 0.05, alpha =0.5, c = sum_to_ann_in, cmap = 'jet')\n",
    "\n",
    "axes[3].scatter(tsne_in[:,0], tsne_in[:,1], s = 0.05, alpha =0.5, c = df_in['speed_neck'], cmap = 'jet')\n",
    "axes[4].scatter(tsne_in[:,0], tsne_in[:,1], s = 0.05, alpha =0.5, c = df_in['speed_tail_mid'], cmap = 'jet')\n",
    "axes[5].scatter(tsne_in[:,0], tsne_in[:,1], s = 0.05, alpha =0.5, c = df_in['speed_tail_tip'], cmap = 'jet')"
   ]
  },
  {
   "cell_type": "code",
   "execution_count": null,
   "metadata": {},
   "outputs": [],
   "source": [
    "sys.path.append(\"../Code/\")\n",
    "\n",
    "# Import functions for handling skeleton files\n",
    "from data_handling import read_skeleton_as_array, calc_quality, del_nan_rows"
   ]
  },
  {
   "cell_type": "code",
   "execution_count": null,
   "metadata": {},
   "outputs": [],
   "source": [
    "skel_path = f'/share/data/temp/athira/Tierpsy_skeleton_files_July13/{fnames[i]}'\n",
    "skel_array = del_nan_rows(read_skeleton_as_array(skel_path))"
   ]
  },
  {
   "cell_type": "code",
   "execution_count": null,
   "metadata": {},
   "outputs": [],
   "source": [
    "fig, axes = plt.subplots(2,3, figsize = (15,10))\n",
    "axes = axes.ravel()\n",
    "axes[0].scatter(skel_array[:,12,0], skel_array[:,12,1],s = 0.5, alpha =0.5, c = sum_speed_in, cmap='jet')\n",
    "axes[1].scatter(skel_array[:,12,0], skel_array[:,12,1],s = 0.5, alpha =0.5, c = range(tsne_in.shape[0]), cmap='jet')\n",
    "# axes[1].plot(skel_array[0:5000,12,0], skel_array[0:5000,12,1])\n",
    "# axes[2].plot(skel_array[5000:10000,12,0], skel_array[5000:10000,12,1])\n",
    "# axes[3].plot(skel_array[10000:15000,12,0], skel_array[10000:15000,12,1])\n",
    "# axes[4].plot(skel_array[15000:20000,12,0], skel_array[15000:20000,12,1])\n",
    "# axes[5].plot(skel_array[20000:,12,0], skel_array[20000:,12,1])"
   ]
  },
  {
   "cell_type": "code",
   "execution_count": null,
   "metadata": {},
   "outputs": [],
   "source": []
  },
  {
   "cell_type": "code",
   "execution_count": null,
   "metadata": {},
   "outputs": [],
   "source": []
  }
 ],
 "metadata": {
  "kernelspec": {
   "display_name": "Python 3",
   "language": "python",
   "name": "python3"
  },
  "language_info": {
   "codemirror_mode": {
    "name": "ipython",
    "version": 3
   },
   "file_extension": ".py",
   "mimetype": "text/x-python",
   "name": "python",
   "nbconvert_exporter": "python",
   "pygments_lexer": "ipython3",
   "version": "3.8.10"
  },
  "toc": {
   "base_numbering": 1,
   "nav_menu": {},
   "number_sections": true,
   "sideBar": true,
   "skip_h1_title": false,
   "title_cell": "Table of Contents",
   "title_sidebar": "Contents",
   "toc_cell": false,
   "toc_position": {},
   "toc_section_display": true,
   "toc_window_display": false
  }
 },
 "nbformat": 4,
 "nbformat_minor": 4
}
