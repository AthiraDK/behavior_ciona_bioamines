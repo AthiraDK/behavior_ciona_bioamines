{
 "cells": [
  {
   "cell_type": "markdown",
   "metadata": {},
   "source": [
    "**This notebook can be used to filter skeleton files from the entire set of skeleton files (in hdf5 format) such that the selected files are fit for eigen ciona calculation.**\n",
    "- For eigen cionas, we pick skeleton files which have more than 5000 (see below) frames in them.\n",
    "- Also, files which have no NaN rows are chosen. \n",
    "- The skeleton (coordinates) data from the selected hierarchical data files are saved as numpy array."
   ]
  },
  {
   "cell_type": "code",
   "execution_count": 1,
   "metadata": {},
   "outputs": [],
   "source": [
    "import os\n",
    "import sys\n",
    "import numpy as np\n",
    "\n",
    "from joblib import Parallel, delayed\n"
   ]
  },
  {
   "cell_type": "code",
   "execution_count": 2,
   "metadata": {},
   "outputs": [],
   "source": [
    "sys.path.append('../code/')\n",
    "from data_handling import read_skeleton_as_array, calc_quality, del_nan_rows"
   ]
  },
  {
   "cell_type": "code",
   "execution_count": 3,
   "metadata": {},
   "outputs": [],
   "source": [
    "skel_data_folder = \"/share/data/longterm/2/Jerneja_Behaviour/Tierpsy_skeleton_files_jerneja/\"\n",
    "dest_file_folder = \"/share/data/temp/athira/tierpsy_skeleton_files_for_eigen_npy/\""
   ]
  },
  {
   "cell_type": "code",
   "execution_count": 4,
   "metadata": {},
   "outputs": [],
   "source": [
    "#dest_file_folder = \"/share/data/temp/athira/tierpsy_skeleton_files_lightON_npy/\""
   ]
  },
  {
   "cell_type": "markdown",
   "metadata": {},
   "source": [
    "# Getting the skeleton files"
   ]
  },
  {
   "cell_type": "code",
   "execution_count": 5,
   "metadata": {},
   "outputs": [
    {
     "name": "stdout",
     "output_type": "stream",
     "text": [
      "Total number of hdf5 skeleton files:4286\n"
     ]
    }
   ],
   "source": [
    "# Load the original hdf5 skeleton files \n",
    "\n",
    "skel_files = [os.path.join(root,name) for root,dirs,files in os.walk(skel_data_folder) \n",
    "              for name in files if name.endswith('skeletons.hdf5')]\n",
    "\n",
    "print(f\"Total number of hdf5 skeleton files:{len(skel_files)}\")"
   ]
  },
  {
   "cell_type": "markdown",
   "metadata": {},
   "source": [
    "\n",
    "# Pick skeletons for computing eigen ciona"
   ]
  },
  {
   "cell_type": "code",
   "execution_count": 6,
   "metadata": {},
   "outputs": [],
   "source": [
    "def select_skeletons(file_path, feature_files):\n",
    "    \n",
    "    file_name = os.path.basename(file_path)\n",
    "    file_name = file_name.split(\"_\")[:-1]\n",
    "    light_bool = file_name[6]\n",
    "    date_time = f\"{file_name[0]}_{file_name[1]}\"\n",
    "    fn_prefix = '_'.join(file_name)\n",
    "    neck_point = None\n",
    "    \n",
    "    # TODO: find the neckpoint from feature files \n",
    "\n",
    "    for feat_file in feature_files:\n",
    "        if date_time in feat_file:\n",
    "            neck_point = feat_file.split('_')[0]\n",
    "    \n",
    "#     if neck_point in ['10n','11n','12n','13n','14n','15n']:\n",
    "    if (neck_point in ['10n','11n','12n','13n','14n','15n']) : #& (light_bool != \"None\")\n",
    "        \n",
    "        dest_file_name = f\"{neck_point}_{fn_prefix}_skeleton\"\n",
    "        dest_file_path = os.path.join(dest_file_folder, dest_file_name)\n",
    "\n",
    "        skel_array = read_skeleton_as_array(file_path)\n",
    "        skel_quality = calc_quality(skel_array)\n",
    "\n",
    "        # choose skeletons with more than 5000 frames and no nan rows at all \n",
    "        if (len(skel_array) > 500) & (skel_quality ==100):\n",
    "        \n",
    "            skel_array = del_nan_rows(skel_array)\n",
    "            np.save(dest_file_path, skel_array) ## save as npy files\n",
    "\n",
    "            return 1\n",
    "    else:\n",
    "        return 0\n",
    "        "
   ]
  },
  {
   "cell_type": "code",
   "execution_count": 7,
   "metadata": {},
   "outputs": [
    {
     "name": "stderr",
     "output_type": "stream",
     "text": [
      "[Parallel(n_jobs=10)]: Using backend LokyBackend with 10 concurrent workers.\n",
      "[Parallel(n_jobs=10)]: Done  52 tasks      | elapsed:    2.8s\n",
      "[Parallel(n_jobs=10)]: Done 142 tasks      | elapsed:    5.7s\n",
      "[Parallel(n_jobs=10)]: Done 378 tasks      | elapsed:   18.3s\n",
      "[Parallel(n_jobs=10)]: Done 540 tasks      | elapsed:   27.4s\n",
      "[Parallel(n_jobs=10)]: Done 738 tasks      | elapsed:   37.4s\n",
      "[Parallel(n_jobs=10)]: Done 972 tasks      | elapsed:   48.0s\n",
      "[Parallel(n_jobs=10)]: Done 1242 tasks      | elapsed:  1.0min\n",
      "[Parallel(n_jobs=10)]: Done 1548 tasks      | elapsed:  1.2min\n",
      "[Parallel(n_jobs=10)]: Done 2030 tasks      | elapsed:  1.5min\n",
      "[Parallel(n_jobs=10)]: Done 2569 tasks      | elapsed:  1.8min\n",
      "[Parallel(n_jobs=10)]: Done 2992 tasks      | elapsed:  2.1min\n",
      "[Parallel(n_jobs=10)]: Done 3442 tasks      | elapsed:  2.4min\n",
      "[Parallel(n_jobs=10)]: Done 4086 tasks      | elapsed:  2.8min\n",
      "[Parallel(n_jobs=10)]: Done 4267 out of 4286 | elapsed:  3.0min remaining:    0.8s\n"
     ]
    },
    {
     "name": "stdout",
     "output_type": "stream",
     "text": [
      "Number of skeletons saved: 0\n"
     ]
    },
    {
     "name": "stderr",
     "output_type": "stream",
     "text": [
      "[Parallel(n_jobs=10)]: Done 4286 out of 4286 | elapsed:  3.0min finished\n"
     ]
    }
   ],
   "source": [
    "# feature files are used as a temporary fix to get neckpoints for the skeletons\n",
    "feature_files_folder = \"/share/data/temp/daniel/20200211_tierpsy_features/\"\n",
    "(_,_,feature_files_JDA)  = next(os.walk(feature_files_folder))\n",
    "\n",
    "# Parallel save the selected skeletons as pickles \n",
    "skel_pickles = Parallel(n_jobs=10, verbose = 5)(delayed(select_skeletons)(skel_file, feature_files_JDA) \n",
    "                                                for skel_file in skel_files)\n",
    "print(f\"Number of skeletons saved: {np.sum(skel_pickles==1)}\")"
   ]
  },
  {
   "cell_type": "code",
   "execution_count": 8,
   "metadata": {},
   "outputs": [
    {
     "data": {
      "text/plain": [
       "252"
      ]
     },
     "execution_count": 8,
     "metadata": {},
     "output_type": "execute_result"
    }
   ],
   "source": [
    "(root, dirs, filenames) = next(os.walk(dest_file_folder))\n",
    "skels_selected = [fname for fname in filenames if fname.endswith('.npy')]\n",
    "    \n",
    "len(skels_selected)"
   ]
  },
  {
   "cell_type": "code",
   "execution_count": 9,
   "metadata": {},
   "outputs": [
    {
     "name": "stdout",
     "output_type": "stream",
     "text": [
      "[9000, 9000, 9003, 17256, 9003, 9000, 9002, 9001, 9000, 6827, 8999, 1026, 9002, 9002, 2018, 9001, 8839, 9001, 9002, 8981, 8059, 9001, 9002, 9002, 8135, 8871, 9002, 4543, 8981, 9003, 9001, 7964, 6383, 4097, 9003, 8568, 9002, 9002, 9001, 8778, 9001, 9001, 8567, 9001, 26999, 9001, 9000, 9001, 8912, 27001, 9000, 9003, 8371, 9000, 3317, 26998, 9000, 8951, 8739, 9003, 8954, 8817, 9001, 9002, 8671, 2369, 9001, 9003, 22409, 9002, 8992, 8045, 3566, 9003, 9002, 9000, 9002, 8820, 9000, 9002, 9002, 9001, 7635, 9001, 8793, 9003, 9002, 9002, 9002, 8875, 9002, 9002, 9002, 9001, 27001, 9002, 9001, 9002, 9000, 8024, 9001, 9002, 9002, 6435, 9001, 7925, 27001, 13092, 27001, 7425, 8677, 8998, 9002, 26999, 21751, 8734, 9000, 8998, 8984, 8999, 9001, 9001, 4987, 8995, 9001, 2175, 2662, 9001, 9002, 9004, 8948, 9003, 3814, 9003, 7600, 9001, 6506, 9003, 8578, 8968, 9002, 9002, 8678, 9001, 9000, 9001, 7562, 7249, 26997, 9001, 5000, 9001, 9002, 7562, 9002, 8998, 9001, 9001, 8927, 8568, 9001, 9001, 8134, 9000, 8013, 8998, 9001, 5915, 9000, 9002, 7898, 24589, 8992, 8845, 3282, 1952, 8733, 9002, 26999, 8999, 9001, 9002, 9003, 8973, 8048, 6672, 5335, 2204, 9002, 8482, 7039, 8989, 8481, 9002, 6003, 7134, 8944, 9002, 2033, 9000, 9002, 3127, 8091, 9002, 9003, 26388, 8831, 9000, 4527, 8385, 8751, 9001, 5207, 7351, 9002, 8804, 9002, 8746, 9001, 9001, 9001, 9001, 8939, 8929, 8960, 8425, 14142, 8828, 8768, 8624, 9002, 8999, 9001, 8600, 27002, 9002, 9002, 8997, 9002, 4231, 15087, 9002, 8792, 4590, 9003, 8997, 3143, 8418, 22108, 7032, 8933, 9001]\n"
     ]
    }
   ],
   "source": [
    "print([len(np.load(os.path.join(dest_file_folder,skel_arr))) for skel_arr in skels_selected])"
   ]
  },
  {
   "cell_type": "code",
   "execution_count": null,
   "metadata": {},
   "outputs": [],
   "source": []
  },
  {
   "cell_type": "code",
   "execution_count": null,
   "metadata": {},
   "outputs": [],
   "source": []
  }
 ],
 "metadata": {
  "kernelspec": {
   "display_name": "Python 3",
   "language": "python",
   "name": "python3"
  },
  "language_info": {
   "codemirror_mode": {
    "name": "ipython",
    "version": 3
   },
   "file_extension": ".py",
   "mimetype": "text/x-python",
   "name": "python",
   "nbconvert_exporter": "python",
   "pygments_lexer": "ipython3",
   "version": "3.6.9"
  },
  "toc": {
   "base_numbering": 1,
   "nav_menu": {},
   "number_sections": true,
   "sideBar": true,
   "skip_h1_title": false,
   "title_cell": "Table of Contents",
   "title_sidebar": "Contents",
   "toc_cell": false,
   "toc_position": {},
   "toc_section_display": true,
   "toc_window_display": false
  }
 },
 "nbformat": 4,
 "nbformat_minor": 4
}
