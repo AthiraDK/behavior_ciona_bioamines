{
 "cells": [
  {
   "cell_type": "code",
   "execution_count": 1,
   "metadata": {},
   "outputs": [],
   "source": [
    "import os\n",
    "import sys\n",
    "\n",
    "import h5py\n",
    "\n",
    "import random\n",
    "import numpy as np\n",
    "import pandas as pd\n",
    "\n",
    "import matplotlib.pyplot as plt\n",
    "import seaborn as sns\n",
    "\n",
    "from IPython.display import display\n",
    "import ipywidgets as widgets\n",
    "\n",
    "from joblib import Parallel, delayed\n"
   ]
  },
  {
   "cell_type": "markdown",
   "metadata": {},
   "source": [
    "# Defining the segments on skeletons & contours "
   ]
  },
  {
   "cell_type": "markdown",
   "metadata": {},
   "source": [
    "### get skeletons, contours and contour widths from hdf5 files"
   ]
  },
  {
   "cell_type": "code",
   "execution_count": 2,
   "metadata": {},
   "outputs": [],
   "source": [
    "# get skeleton hdf5 files\n",
    "path_to_skels = \"/share/data/longterm/2/Jerneja_Behaviour/Tierpsy_skeleton_files_jerneja/\"\n",
    "# path_to_skels = \"/share/data/longterm/10/Marios Tierpsy analysis/30042020_120fps/analysis 120fps/Results/\"\n",
    "skel_files_list = [os.path.join(root,name) for root,dirs,names in os.walk(path_to_skels) for name in names \n",
    "                   if name.endswith('skeletons.hdf5')]"
   ]
  },
  {
   "cell_type": "code",
   "execution_count": 3,
   "metadata": {},
   "outputs": [
    {
     "name": "stdout",
     "output_type": "stream",
     "text": [
      "/share/data/longterm/2/Jerneja_Behaviour/Tierpsy_skeleton_files_jerneja/20180817/Results/20180817_152616_1_5m0s_quinpirole0003_None_None_skeletons.hdf5\n"
     ]
    }
   ],
   "source": [
    "# Pick a random skeleton \n",
    "\n",
    "skel_file = random.choice(skel_files_list)\n",
    "print(skel_file)\n",
    "skel_obj = h5py.File(skel_file, 'r')"
   ]
  },
  {
   "cell_type": "code",
   "execution_count": 4,
   "metadata": {},
   "outputs": [],
   "source": [
    "sample_file = '/share/data/longterm/2/Jerneja_Behaviour/Tierpsy_skeleton_files_jerneja/20180823_2/Results/20180823_133410_1_5m0s_alphamethyl_None_None_skeletons.hdf5'\n",
    "skel_obj = h5py.File(sample_file, 'r')"
   ]
  },
  {
   "cell_type": "code",
   "execution_count": 5,
   "metadata": {},
   "outputs": [],
   "source": [
    "# get skeleton array, contour arrays (2), cont widths\n",
    "\n",
    "contour_width = np.array(skel_obj['contour_width'])\n",
    "skeleton_array = np.array(skel_obj['skeleton'])\n",
    "skeleton_length = np.array(skel_obj['skeleton_length'])\n",
    "contour_array_1 = np.array(skel_obj['contour_side1'])\n",
    "contour_array_2 = np.array(skel_obj['contour_side2'])"
   ]
  },
  {
   "cell_type": "markdown",
   "metadata": {},
   "source": [
    "### Calculate neck points"
   ]
  },
  {
   "cell_type": "code",
   "execution_count": 6,
   "metadata": {},
   "outputs": [],
   "source": [
    "def get_neckpoint(cont_widths):\n",
    "    \n",
    "    \n",
    "    diff_contour = np.nanmean(np.diff(cont_widths), axis=0)\n",
    "    diff_contour = diff_contour[3:22]\n",
    "    neck_point = np.argmin(diff_contour)+4\n",
    "    \n",
    "    return neck_point"
   ]
  },
  {
   "cell_type": "code",
   "execution_count": 7,
   "metadata": {},
   "outputs": [
    {
     "name": "stdout",
     "output_type": "stream",
     "text": [
      "12\n"
     ]
    }
   ],
   "source": [
    "neck_point = get_neckpoint(contour_width)\n",
    "print(neck_point)"
   ]
  },
  {
   "cell_type": "markdown",
   "metadata": {},
   "source": [
    "### Calculate the segment indices"
   ]
  },
  {
   "cell_type": "code",
   "execution_count": null,
   "metadata": {},
   "outputs": [],
   "source": [
    "def segment_partitions(neck):\n",
    "    \n",
    "    segments_ind = {\n",
    "                'head' : int(np.round(neck/2))/48,\n",
    "                'neck' : neck/48,\n",
    "                'tail_6' : int(np.round((49-neck)/2)+neck)/48, \n",
    "                'tail_3' : int(np.round((49-neck)/4)+neck)/48,\n",
    "                'tail_9' : int(np.round(3*(49-neck)/4)+neck)/48,\n",
    "            }\n",
    "    \n",
    "    return segments_ind"
   ]
  },
  {
   "cell_type": "code",
   "execution_count": null,
   "metadata": {},
   "outputs": [],
   "source": [
    "max_skel_index = contour_width.shape[-1] - 1 # default : 48"
   ]
  },
  {
   "cell_type": "code",
   "execution_count": null,
   "metadata": {},
   "outputs": [],
   "source": [
    "segments_ind_dflt = segment_partitions(neck_point)\n",
    "segments_ind = {k:int(round(x*max_skel_index)) for k,x in segments_ind_dflt.items()}"
   ]
  },
  {
   "cell_type": "markdown",
   "metadata": {
    "heading_collapsed": true
   },
   "source": [
    "### Define contours of segmented regions\n",
    "\n",
    "- split contours into segments depending on the index of the segments\n",
    "- reconstruct with cont-width edge lines (note : edges)\n",
    "- note: might need to reverse to get a closed circle"
   ]
  },
  {
   "cell_type": "code",
   "execution_count": null,
   "metadata": {
    "hidden": true
   },
   "outputs": [],
   "source": [
    "def segment_contours(contour_1, contour_2, segments_ind):\n",
    "    \n",
    "#     from itertools import groupby\n",
    "#     from operator import itemgetter\n",
    "    \n",
    "    contour_dict = {}\n",
    "    indices = np.array([0,max_skel_index])\n",
    "    indices = np.insert(indices, 1, list(segments_ind.values()))\n",
    "    indices = sorted(indices)\n",
    "    #indices_nested = [list(map(itemgetter(1), g)) for k, g in groupby(enumerate(indices), lambda x: x[0]-x[1])]\n",
    "    indices_nested = [[indices[i],indices[i+1]] for i in range(len(indices)-1)]\n",
    "    print(indices_nested)\n",
    "    \n",
    "    for i, ind_bound in enumerate(indices_nested):\n",
    "        \n",
    "        contour_1_x = contour_1[ind_bound[0]:ind_bound[1]+1,0]\n",
    "        contour_2_x = contour_2[ind_bound[0]:ind_bound[1]+1,0]\n",
    "        contour_2_x = np.flipud(contour_2_x)\n",
    "        \n",
    "        contour_1_y = contour_1[ind_bound[0]:ind_bound[1]+1,1]\n",
    "        contour_2_y = contour_2[ind_bound[0]:ind_bound[1]+1,1]\n",
    "        contour_2_y = np.flipud(contour_2_y)\n",
    "        \n",
    "        contour_x = np.concatenate((contour_1_x, contour_2_x))\n",
    "        contour_y = np.concatenate((contour_1_y, contour_2_y))\n",
    "        contour_dict[i] = np.array([contour_x, contour_y])\n",
    "        \n",
    "    return contour_dict\n",
    "    \n",
    "    "
   ]
  },
  {
   "cell_type": "code",
   "execution_count": null,
   "metadata": {
    "hidden": true
   },
   "outputs": [],
   "source": [
    "contour_dict = segment_contours(contour_array_1[1,:,:], contour_array_2[1,:,:], segments_ind)"
   ]
  },
  {
   "cell_type": "code",
   "execution_count": null,
   "metadata": {
    "hidden": true
   },
   "outputs": [],
   "source": [
    "contour_dict[0].shape"
   ]
  },
  {
   "cell_type": "code",
   "execution_count": null,
   "metadata": {
    "hidden": true
   },
   "outputs": [],
   "source": [
    "for key, val in contour_dict.items():\n",
    "   \n",
    "    plt.fill(contour_dict[key][0],contour_dict[key][1])"
   ]
  },
  {
   "cell_type": "markdown",
   "metadata": {
    "heading_collapsed": true
   },
   "source": [
    "### Redefine body parts"
   ]
  },
  {
   "cell_type": "code",
   "execution_count": null,
   "metadata": {
    "hidden": true
   },
   "outputs": [],
   "source": [
    "def body_partitions(neck):\n",
    "    \n",
    "    segments_ind = {        \n",
    "                'neck' : [(neck-1)/48, (neck+2)/48], \n",
    "                'head' : [0, (neck-1)/48],\n",
    "                'head_tip' : [0, int(np.round((neck-1)/2))/48],\n",
    "                'head_base' : [int(np.round((neck-1)/2))/48, (neck-1)/48],\n",
    "                'tail': [(neck+2)/48 ,1],\n",
    "                'tail_base': [(neck+2)/48 ,int(np.round((49-(neck+2))/4)+(neck+2))/48],\n",
    "                'tail_mid_proximal': [int(np.round((49-(neck+2))/4)+(neck+2))/48, int(np.round(2*(49-(neck+2))/4)+(neck+2))/48],\n",
    "                'tail_mid_distal': [int(np.round(2*(49-(neck+2))/4)+(neck+2))/48, int(np.round(3*(49-(neck+2))/4)+(neck+2))/48],\n",
    "                'tail_tip': [int(np.round(3*(49-(neck+2))/4)+(neck+2))/48,1]\n",
    "            }\n",
    "    \n",
    "    return segments_ind"
   ]
  },
  {
   "cell_type": "code",
   "execution_count": null,
   "metadata": {
    "hidden": true
   },
   "outputs": [],
   "source": [
    "max_skel_index = contour_width.shape[-1] - 1"
   ]
  },
  {
   "cell_type": "code",
   "execution_count": null,
   "metadata": {
    "hidden": true
   },
   "outputs": [],
   "source": [
    "segments_ind_dflt = body_partitions(neck_point)\n",
    "segments_ind = { k: [int(round(x[0]*max_skel_index)),int(round(x[1]*max_skel_index))] for k,x in segments_ind_dflt.items()}"
   ]
  },
  {
   "cell_type": "code",
   "execution_count": null,
   "metadata": {
    "hidden": true
   },
   "outputs": [],
   "source": [
    "segments_ind"
   ]
  },
  {
   "cell_type": "code",
   "execution_count": null,
   "metadata": {
    "hidden": true
   },
   "outputs": [],
   "source": [
    "def segment_contours(contour_1, contour_2, segments_ind):\n",
    "    \n",
    "    contour_dict = {}\n",
    "    \n",
    "    for key, ind_bound in segments_ind.items():\n",
    "        \n",
    "        contour_1_x = contour_1[ind_bound[0]:ind_bound[1]+1,0]\n",
    "        contour_2_x = contour_2[ind_bound[0]:ind_bound[1]+1,0]\n",
    "        contour_2_x = np.flipud(contour_2_x)\n",
    "        \n",
    "        contour_1_y = contour_1[ind_bound[0]:ind_bound[1]+1,1]\n",
    "        contour_2_y = contour_2[ind_bound[0]:ind_bound[1]+1,1]\n",
    "        contour_2_y = np.flipud(contour_2_y)\n",
    "        \n",
    "        contour_x = np.concatenate((contour_1_x, contour_2_x))\n",
    "        contour_y = np.concatenate((contour_1_y, contour_2_y))\n",
    "        contour_dict[key] = np.array([contour_x, contour_y])\n",
    "        \n",
    "    return contour_dict\n",
    "    \n",
    "    "
   ]
  },
  {
   "cell_type": "code",
   "execution_count": null,
   "metadata": {
    "hidden": true
   },
   "outputs": [],
   "source": [
    "contour_dict = segment_contours(contour_array_1[500,:,:], contour_array_2[500,:,:], segments_ind)"
   ]
  },
  {
   "cell_type": "code",
   "execution_count": null,
   "metadata": {
    "hidden": true
   },
   "outputs": [],
   "source": [
    "for key, val in contour_dict.items():\n",
    "    if key in ['neck','head','tail']:\n",
    "        plt.fill(contour_dict[key][0],contour_dict[key][1])"
   ]
  },
  {
   "cell_type": "code",
   "execution_count": null,
   "metadata": {
    "hidden": true
   },
   "outputs": [],
   "source": [
    "def calc_centroids(segments_ind, neck_point):\n",
    "    centroid_dict = {}\n",
    "    \n",
    "    for key, value in segments_ind.items():\n",
    "        \n",
    "        centroid_dict[key] = round((value[0] + value[1])/2)\n",
    "    \n",
    "    centroid_dict['neck'] = neck_point\n",
    "#     centroid_dict['tail'] = segments_ind['tail_mid_distal'][0]\n",
    "#     centroid_dict['head'] = segments_ind['head_base'][0]\n",
    "    \n",
    "    centroid_dict['tail'] = segments_ind['tail_mid_distal'][0]\n",
    "    centroid_dict['head'] = segments_ind['head_base'][0]\n",
    "    return centroid_dict"
   ]
  },
  {
   "cell_type": "markdown",
   "metadata": {
    "heading_collapsed": true
   },
   "source": [
    "### Make the annotated plots for random frames"
   ]
  },
  {
   "cell_type": "code",
   "execution_count": null,
   "metadata": {
    "hidden": true
   },
   "outputs": [],
   "source": [
    "slider_frame = widgets.IntSlider(value= 0,\n",
    "                                        min=0,\n",
    "                                        max= contour_width.shape[0]-1,\n",
    "                                        step=1,\n",
    "                                        description='Frames:',\n",
    "                                        disabled=False,\n",
    "                                        continuous_update=False,\n",
    "                                        orientation='horizontal',\n",
    "                                        readout=True,\n",
    "                                        readout_format='d')\n",
    "\n",
    "cpal = sns.color_palette(\"hls\",10)\n",
    "color_dict = {}\n",
    "for key, color in zip(contour_dict.keys(), cpal):\n",
    "    color_dict[key] = color\n",
    "    \n",
    "@widgets.interact\n",
    "def plot_ciona_segments(ind_frame = slider_frame):\n",
    "    \n",
    "    fig, axes = plt.subplots(2,1,figsize=(10,15))\n",
    "    \n",
    "    contour_all_x = np.concatenate((contour_array_1[ind_frame,:,0],np.flipud(contour_array_2[ind_frame,:,0])))\n",
    "    contour_all_y = np.concatenate((contour_array_1[ind_frame,:,1],np.flipud(contour_array_2[ind_frame,:,1])))\n",
    "    \n",
    "    contour_dict = segment_contours(contour_array_1[ind_frame,:,:], contour_array_2[ind_frame,:,:], segments_ind)\n",
    "    for key, val in contour_dict.items():\n",
    "        \n",
    "        axes[1].fill(contour_dict[key][0],contour_dict[key][1],label=key, color = color_dict[key], alpha=0.5)\n",
    "        \n",
    "        if key in ['tail','head', 'neck']:\n",
    "            axes[0].fill(contour_dict[key][0],contour_dict[key][1],label=key,linewidth=5, color = color_dict[key], alpha=0.5)\n",
    "        if key in ['tail','head']:\n",
    "            axes[1].plot(contour_dict[key][0],contour_dict[key][1],label=key,linewidth=5, color = color_dict[key]) \n",
    "    \n",
    "    \n",
    "    print(skeleton_length[ind_frame])\n",
    "    \n",
    "    centroid_dict = calc_centroids(segments_ind, neck_point)\n",
    "    for key, centroid in centroid_dict.items():\n",
    "        #if key not in ['head','tail']:\n",
    "        axes[1].scatter(skeleton_array[ind_frame,centroid,0],skeleton_array[ind_frame,centroid,1],c='k')\n",
    "        if key in ['neck', 'head','tail']:\n",
    "            axes[0].scatter(skeleton_array[ind_frame,centroid,0],skeleton_array[ind_frame,centroid,1],c='k')\n",
    "            \n",
    "    \n",
    "# # Plot the skeleteon and the contours\n",
    "#     axes.plot(skeleton_array[ind_frame,:,0],skeleton_array[ind_frame,:,1],'k')\n",
    "#     \n",
    "\n",
    "## Plot the segment indices (jerneja)\n",
    "#     for key, index in segments_ind.items():    \n",
    "#         axes.scatter(skeleton_array[ind_frame,index,0],skeleton_array[ind_frame,index,1],c='k')\n",
    "#         axes.scatter(contour_array_1[ind_frame,index,0],contour_array_1[ind_frame,index,1],c='k')\n",
    "#         axes.scatter(contour_array_2[ind_frame,index,0],contour_array_2[ind_frame,index,1],c='k', label=key)\n",
    "    \n",
    "    for ax in axes:\n",
    "        ax.set_aspect('equal')\n",
    "        ax.autoscale(True)\n",
    "        ax.legend()"
   ]
  },
  {
   "cell_type": "markdown",
   "metadata": {},
   "source": [
    "# Framewise calculations"
   ]
  },
  {
   "cell_type": "markdown",
   "metadata": {},
   "source": [
    "### Calculate neck points : framewise"
   ]
  },
  {
   "cell_type": "code",
   "execution_count": 8,
   "metadata": {},
   "outputs": [],
   "source": [
    "def calc_neck_points(cont_widths):\n",
    "    \n",
    "    print(cont_widths.shape)\n",
    "    diff_contour = np.diff(cont_widths)\n",
    "    diff_contour = diff_contour[:,3:22]\n",
    "    print(diff_contour.shape)\n",
    "    neck_points = np.argmin(diff_contour, axis=1)+4\n",
    "    \n",
    "    return neck_points\n",
    "    "
   ]
  },
  {
   "cell_type": "code",
   "execution_count": 9,
   "metadata": {},
   "outputs": [
    {
     "name": "stdout",
     "output_type": "stream",
     "text": [
      "(8994, 49)\n",
      "(8994, 19)\n"
     ]
    }
   ],
   "source": [
    "neck_point_array = calc_neck_points(contour_width)"
   ]
  },
  {
   "cell_type": "markdown",
   "metadata": {},
   "source": [
    "### Calculate segment indices : framewise"
   ]
  },
  {
   "cell_type": "code",
   "execution_count": null,
   "metadata": {},
   "outputs": [],
   "source": [
    "# def body_partitions_framewise(neck):\n",
    "    \n",
    "#     segments_ind = {        \n",
    "#                 'neck' : [(neck-1)/48, (neck+1)/48], \n",
    "#                 'head' : [0, (neck-1)/48],\n",
    "# #                 'head_tip' : [0, int(np.round((neck-1)/2))/48],\n",
    "# #                 'head_base' : [int(np.round((neck-1)/2))/48, (neck-1)/48],\n",
    "#                 'tail': [(neck+1)/48 ,1],\n",
    "#                 'tail_base': [(neck+1)/48 ,int(np.round((49-(neck+1))/5)+(neck+1))/48],\n",
    "#                 'tail_pre_mid': [int(np.round((49-(neck+1))/5)+(neck+1))/48, int(np.round(2*(49-(neck+1))/5)+(neck+1))/48],\n",
    "#                 'tail_mid': [ int(np.round(2*(49-(neck+1))/5)+(neck+1))/48,int(np.round(3*(49-(neck+1))/5)+(neck+1))/48],\n",
    "#                 'tail_post_mid': [int(np.round(3*(49-(neck+1))/5)+(neck+1))/48, int(np.round(4*(49-(neck+1))/5)+(neck+1))/48],\n",
    "#                 'tail_tip': [int(np.round(4*(49-(neck+1))/5)+(neck+1))/48,1]\n",
    "#             }\n",
    "    \n",
    "#     return segments_ind"
   ]
  },
  {
   "cell_type": "code",
   "execution_count": 10,
   "metadata": {},
   "outputs": [],
   "source": [
    "def body_partitions_framewise(neck):\n",
    "    \n",
    "    #NOTE: to be changed for feature calculations as mutually exclusive index ranges\n",
    "    \n",
    "    tail_length = 48-(neck+2)+1\n",
    "    tail_seg_len = int(np.round(tail_length / 5))\n",
    "    segments_ind = {        \n",
    "                'neck' : [(neck-1), (neck+1)], \n",
    "                'head' : [0, (neck-1)],\n",
    "                'tail': [(neck+1) ,48],\n",
    "        \n",
    "                'tail_base': [(neck+1) ,(neck+2)+ tail_seg_len ],\n",
    "                'tail_pre_mid': [(neck+2)+ tail_seg_len, (neck+2)+ 2*tail_seg_len ],\n",
    "                'tail_mid': [(neck+2)+ 2*tail_seg_len, (neck+2)+ 3*tail_seg_len ],\n",
    "                'tail_post_mid': [(neck+2)+ 3*tail_seg_len, (neck+2)+ 4*tail_seg_len ],\n",
    "                'tail_tip': [(neck+2)+ 4*tail_seg_len ,48]\n",
    "            }\n",
    "    \n",
    "    return segments_ind"
   ]
  },
  {
   "cell_type": "code",
   "execution_count": 11,
   "metadata": {},
   "outputs": [],
   "source": [
    "def get_segment_indices(neck_point):\n",
    "    \n",
    "    max_skel_index = contour_width.shape[-1] - 1 # default : 48\n",
    "    segments_ind_dflt = body_partitions_framewise(neck_point)\n",
    "    segments_ind = { k: [int(round(x[0]*max_skel_index)),int(round(x[1]*max_skel_index))] for k,x in segments_ind_dflt.items()}\n",
    "#     return segments_ind\n",
    "    return segments_ind_dflt"
   ]
  },
  {
   "cell_type": "code",
   "execution_count": 12,
   "metadata": {},
   "outputs": [],
   "source": [
    "def segment_contours_fw(contour_1, contour_2, segments_ind):\n",
    "    \n",
    "    contour_dict = {}\n",
    "    \n",
    "    for key, ind_bound in segments_ind.items():\n",
    "        \n",
    "        contour_1_x = contour_1[ind_bound[0]:ind_bound[1]+1,0]\n",
    "        contour_2_x = contour_2[ind_bound[0]:ind_bound[1]+1,0]\n",
    "        contour_2_x = np.flipud(contour_2_x)\n",
    "        \n",
    "        contour_1_y = contour_1[ind_bound[0]:ind_bound[1]+1,1]\n",
    "        contour_2_y = contour_2[ind_bound[0]:ind_bound[1]+1,1]\n",
    "        contour_2_y = np.flipud(contour_2_y)\n",
    "        \n",
    "        contour_x = np.concatenate((contour_1_x, contour_2_x))\n",
    "        contour_y = np.concatenate((contour_1_y, contour_2_y))\n",
    "        contour_dict[key] = np.array([contour_x, contour_y])\n",
    "        \n",
    "    return contour_dict\n",
    "    "
   ]
  },
  {
   "cell_type": "code",
   "execution_count": 13,
   "metadata": {},
   "outputs": [],
   "source": [
    "def calc_centroids_fw(segments_ind, neck_point):\n",
    "    centroid_dict = {}\n",
    "    \n",
    "    for key, value in segments_ind.items():\n",
    "        \n",
    "        centroid_dict[key] = int(np.round((value[0] + value[1])/2))\n",
    "    \n",
    "    centroid_dict['neck'] = neck_point\n",
    "#     centroid_dict['tail'] = segments_ind['tail_mid_distal'][0]\n",
    "#     centroid_dict['head'] = segments_ind['head_base'][0]\n",
    "    \n",
    "    centroid_dict['tail'] = centroid_dict['tail_mid']\n",
    "    #centroid_dict['head'] = segments_ind['head_base'][0]\n",
    "    return centroid_dict"
   ]
  },
  {
   "cell_type": "code",
   "execution_count": 66,
   "metadata": {},
   "outputs": [],
   "source": [
    "# !jupyter labextension install @jupyter-widgets/jupyterlab-manager@1.26"
   ]
  },
  {
   "cell_type": "code",
   "execution_count": 67,
   "metadata": {},
   "outputs": [
    {
     "name": "stdout",
     "output_type": "stream",
     "text": [
      "1.2.6\r\n"
     ]
    }
   ],
   "source": [
    "!jupyter lab --version"
   ]
  },
  {
   "cell_type": "code",
   "execution_count": 14,
   "metadata": {},
   "outputs": [
    {
     "data": {
      "application/vnd.jupyter.widget-view+json": {
       "model_id": "aa08b3fe4e794a5fa5f9d370f09760aa",
       "version_major": 2,
       "version_minor": 0
      },
      "text/plain": [
       "Button(description='Save figure', style=ButtonStyle())"
      ]
     },
     "metadata": {},
     "output_type": "display_data"
    },
    {
     "data": {
      "application/vnd.jupyter.widget-view+json": {
       "model_id": "24674d45aeea4d5ea4c89f752bae8549",
       "version_major": 2,
       "version_minor": 0
      },
      "text/plain": [
       "interactive(children=(IntSlider(value=0, continuous_update=False, description='Frames:', max=8993), Output()),…"
      ]
     },
     "metadata": {},
     "output_type": "display_data"
    },
    {
     "data": {
      "image/png": "[encoded data removed]",
      "text/plain": [
       "<Figure size 720x1080 with 2 Axes>"
      ]
     },
     "metadata": {
      "needs_background": "light"
     },
     "output_type": "display_data"
    }
   ],
   "source": [
    "slider_frame = widgets.IntSlider(value= 0,\n",
    "                                        min=0,\n",
    "                                        max= contour_width.shape[0]-1,\n",
    "                                        step=1,\n",
    "                                        description='Frames:',\n",
    "                                        disabled=False,\n",
    "                                        continuous_update=False,\n",
    "                                        orientation='horizontal',\n",
    "                                        readout=True,\n",
    "                                        readout_format='d')\n",
    "\n",
    "cpal = sns.color_palette(\"hls\",9)\n",
    "#cpal = sns.hls_palette(8, l=.5, s=.5)\n",
    "# color_dict = {}\n",
    "# color_dict = {'neck' : sns.xkcd_rgb[\"salmon\"], \n",
    "#                 'head': sns.xkcd_rgb[\"orange\"] ,\n",
    "#                 'tail': sns.xkcd_rgb[\"brick red\"] ,\n",
    "#                 'tail_base': sns.xkcd_rgb[\"dark pink\"],\n",
    "#                 'tail_pre_mid': sns.xkcd_rgb[\"rose\"],\n",
    "#                 'tail_mid': sns.xkcd_rgb[\"mauve\"],\n",
    "#                 'tail_post_mid': sns.xkcd_rgb[\"dusty rose\"],\n",
    "#                 'tail_tip': sns.xkcd_rgb[\"pale red\"]}\n",
    "\n",
    "save_button = widgets.Button(description='Save figure')\n",
    "display(save_button)\n",
    "\n",
    "@widgets.interact\n",
    "def plot_ciona_segments(ind_frame = slider_frame):\n",
    "    \n",
    "    fig, axes = plt.subplots(2,1,figsize=(10,15))\n",
    "    \n",
    "    \n",
    "    contour_all_x = np.concatenate((contour_array_1[ind_frame,:,0],np.flipud(contour_array_2[ind_frame,:,0])))\n",
    "    contour_all_y = np.concatenate((contour_array_1[ind_frame,:,1],np.flipud(contour_array_2[ind_frame,:,1])))\n",
    "    \n",
    "    segments_ind = get_segment_indices(neck_point_array[ind_frame])\n",
    "    \n",
    "    contour_dict = segment_contours_fw(contour_array_1[ind_frame,:,:], contour_array_2[ind_frame,:,:], segments_ind)\n",
    "    \n",
    "    for key, color in zip(contour_dict.keys(), cpal):\n",
    "        color_dict[key] = color\n",
    "    \n",
    "    for key, val in contour_dict.items():\n",
    "        if key not in ['tail']:\n",
    "            axes[1].fill(contour_dict[key][0],contour_dict[key][1],label=key, color = color_dict[key], alpha=0.5)\n",
    "        \n",
    "        if key in ['tail','head', 'neck']:\n",
    "            axes[0].fill(contour_dict[key][0],contour_dict[key][1],label=key,linewidth=5, color = color_dict[key], alpha=0.5)\n",
    "        if key in ['tail','head']:\n",
    "            axes[1].plot(contour_dict[key][0],contour_dict[key][1],label=key,linewidth=5, color = color_dict[key]) \n",
    "    \n",
    "    \n",
    "    print(skeleton_length[ind_frame])\n",
    "    print(neck_point_array[ind_frame])\n",
    "    centroid_dict = calc_centroids_fw(segments_ind, neck_point_array[ind_frame])\n",
    "    print(centroid_dict)\n",
    "    for key, centroid in centroid_dict.items():\n",
    "        #if key not in ['head','tail']:\n",
    "        axes[1].scatter(skeleton_array[ind_frame,centroid,0],skeleton_array[ind_frame,centroid,1],c='k')\n",
    "        if key in ['neck', 'head','tail']:\n",
    "            axes[0].scatter(skeleton_array[ind_frame,centroid,0],skeleton_array[ind_frame,centroid,1],c='k')\n",
    "            \n",
    "    \n",
    "# # Plot the skeleteon and the contours\n",
    "#     axes.plot(skeleton_array[ind_frame,:,0],skeleton_array[ind_frame,:,1],'k')\n",
    "#     \n",
    "\n",
    "## Plot the segment indices (jerneja)\n",
    "#     for key, index in segments_ind.items():    \n",
    "#         axes.scatter(skeleton_array[ind_frame,index,0],skeleton_array[ind_frame,index,1],c='k')\n",
    "#         axes.scatter(contour_array_1[ind_frame,index,0],contour_array_1[ind_frame,index,1],c='k')\n",
    "#         axes.scatter(contour_array_2[ind_frame,index,0],contour_array_2[ind_frame,index,1],c='k', label=key)\n",
    "    \n",
    "    for ax in axes:\n",
    "        ax.set_aspect('equal')\n",
    "        ax.autoscale(True)\n",
    "        ax.legend()\n",
    "        \n",
    "        ax.get_xaxis().set_visible(False)\n",
    "        ax.get_yaxis().set_visible(False)\n",
    "        \n",
    "    \n",
    "        \n",
    "#     save_button.on_click(plt.savefig(f'annotted_{slider_frame.value}.png')) "
   ]
  },
  {
   "cell_type": "code",
   "execution_count": 15,
   "metadata": {},
   "outputs": [
    {
     "data": {
      "application/vnd.jupyter.widget-view+json": {
       "model_id": "bd643f7b3fb24cc6b936edca3409ade7",
       "version_major": 2,
       "version_minor": 0
      },
      "text/plain": [
       "interactive(children=(IntSlider(value=0, continuous_update=False, description='Frames:', max=8993), Output()),…"
      ]
     },
     "metadata": {},
     "output_type": "display_data"
    }
   ],
   "source": [
    "slider_frame = widgets.IntSlider(value= 0,\n",
    "                                        min=0,\n",
    "                                        max= contour_width.shape[0]-1,\n",
    "                                        step=1,\n",
    "                                        description='Frames:',\n",
    "                                        disabled=False,\n",
    "                                        continuous_update=False,\n",
    "                                        orientation='horizontal',\n",
    "                                        readout=True,\n",
    "                                        readout_format='d')\n",
    "\n",
    "cpal = sns.color_palette(\"hls\",9)\n",
    "#cpal = sns.hls_palette(8, l=.5, s=.5)\n",
    "color_dict = {}\n",
    "# color_dict = {'neck' : sns.xkcd_rgb[\"salmon\"], \n",
    "#                 'head': sns.xkcd_rgb[\"orange\"] ,\n",
    "#                 'tail': sns.xkcd_rgb[\"brick red\"] ,\n",
    "#                 'tail_base': sns.xkcd_rgb[\"dark pink\"],\n",
    "#                 'tail_pre_mid': sns.xkcd_rgb[\"rose\"],\n",
    "#                 'tail_mid': sns.xkcd_rgb[\"mauve\"],\n",
    "#                 'tail_post_mid': sns.xkcd_rgb[\"dusty rose\"],\n",
    "#                 'tail_tip': sns.xkcd_rgb[\"pale red\"]}\n",
    "\n",
    "\n",
    "\n",
    "@widgets.interact\n",
    "def plot_ciona_segments(ind_frame = slider_frame):\n",
    "    \n",
    "    fig, axes = plt.subplots(1,1,figsize=(10,15))\n",
    "    \n",
    "    \n",
    "    contour_all_x = np.concatenate((contour_array_1[ind_frame,:,0],np.flipud(contour_array_2[ind_frame,:,0])))\n",
    "    contour_all_y = np.concatenate((contour_array_1[ind_frame,:,1],np.flipud(contour_array_2[ind_frame,:,1])))\n",
    "    \n",
    "    segments_ind = get_segment_indices(neck_point_array[ind_frame])\n",
    "    \n",
    "    contour_dict = segment_contours_fw(contour_array_1[ind_frame,:,:], contour_array_2[ind_frame,:,:], segments_ind)\n",
    "    \n",
    "    for key, color in zip(contour_dict.keys(), cpal):\n",
    "        color_dict[key] = color\n",
    "    \n",
    "    # Plot the segments areas and borders/contours\n",
    "    for key, val in contour_dict.items():\n",
    "        if key not in ['tail']:\n",
    "            axes.fill(contour_dict[key][0],contour_dict[key][1],label=key, color = color_dict[key], alpha=0.5)\n",
    "        \n",
    "#         if key in ['tail','head', 'neck']:\n",
    "#             axes[0].fill(contour_dict[key][0],contour_dict[key][1],label=key,linewidth=5, color = color_dict[key], alpha=0.5)\n",
    "#         if key in ['tail', 'head']:\n",
    "#             axes.plot(contour_dict[key][0],contour_dict[key][1],label=key,linewidth=5, color = color_dict[key]) \n",
    "    \n",
    "    \n",
    "    print(skeleton_length[ind_frame])\n",
    "    print(neck_point_array[ind_frame])\n",
    "    \n",
    "    ## Plot the centroids\n",
    "    \n",
    "    centroid_dict = calc_centroids_fw(segments_ind, neck_point_array[ind_frame])\n",
    "    for key, centroid in centroid_dict.items():\n",
    "        #if key not in ['head','tail']:\n",
    "        axes.scatter(skeleton_array[ind_frame,centroid,0],skeleton_array[ind_frame,centroid,1],c='k')\n",
    "#         if key in ['neck', 'head','tail']:\n",
    "#             axes[0].scatter(skeleton_array[ind_frame,centroid,0],skeleton_array[ind_frame,centroid,1],c='k')\n",
    "            \n",
    "    \n",
    "#     for ax in axes:\n",
    "    axes.set_aspect('equal')\n",
    "    axes.autoscale(True)\n",
    "    axes.legend()\n",
    "        \n",
    "    axes.get_xaxis().set_visible(False)\n",
    "    axes.get_yaxis().set_visible(False)\n",
    "        \n",
    "#     save_button = widgets.Button(description='Save figure')\n",
    "#     display(save_button)\n",
    "        \n",
    "#     save_button.on_click(plt.savefig(f'annotted_{slider_frame.value}.png')) \n",
    "\n",
    "    fig.savefig('cionas_segment_annotated.svg')"
   ]
  },
  {
   "cell_type": "markdown",
   "metadata": {},
   "source": [
    "#### Tests"
   ]
  },
  {
   "cell_type": "code",
   "execution_count": 41,
   "metadata": {},
   "outputs": [
    {
     "data": {
      "image/png": "[encoded data removed]",
      "text/plain": [
       "<Figure size 720x1080 with 1 Axes>"
      ]
     },
     "metadata": {
      "needs_background": "light"
     },
     "output_type": "display_data"
    }
   ],
   "source": [
    "fig, axes = plt.subplots(1,1,figsize=(10,15))\n",
    "axes.scatter(skeleton_array[0,:,0],skeleton_array[0,:,1],c='r', s = 12)\n",
    "axes.plot(skeleton_array[0,:,0],skeleton_array[0,:,1], color = 'k', linestyle = ':')\n",
    "axes.plot(contour_array_1[0,:,0],contour_array_1[0,:,1], color = 'k', linewidth = 2, alpha = 0.5)\n",
    "axes.plot(contour_array_2[0,:,0],contour_array_2[0,:,1], color = 'k', linewidth = 2, alpha = 0.5)\n",
    "axes.set_aspect('equal')\n",
    "axes.autoscale(True)\n",
    "axes.get_xaxis().set_visible(False)\n",
    "axes.get_yaxis().set_visible(False)\n",
    "fig.savefig('cionas_tierpsy_49points_fig1panelC.svg')"
   ]
  },
  {
   "cell_type": "code",
   "execution_count": null,
   "metadata": {},
   "outputs": [],
   "source": [
    "tips = sns.load_dataset(\"tips\")"
   ]
  },
  {
   "cell_type": "code",
   "execution_count": null,
   "metadata": {},
   "outputs": [],
   "source": [
    "tips"
   ]
  },
  {
   "cell_type": "code",
   "execution_count": 17,
   "metadata": {},
   "outputs": [],
   "source": [
    "def get_indices(neck):\n",
    "    \n",
    "    tail_length = 48-(neck+2)+1\n",
    "    tail_seg_len = int(np.round(tail_length / 5))\n",
    "    segments_ind = {        \n",
    "                'neck' : [(neck-1), (neck+1)], \n",
    "                'head' : [0, (neck-2)],\n",
    "                'tail': [(neck+2) ,48],\n",
    "        \n",
    "                'tail_base': [(neck+2) ,(neck+2)+ tail_seg_len -1],\n",
    "                'tail_pre_mid': [(neck+2)+ tail_seg_len, (neck+2)+ 2*tail_seg_len -1],\n",
    "                'tail_mid': [(neck+2)+ 2*tail_seg_len, (neck+2)+ 3*tail_seg_len -1],\n",
    "                'tail_post_mid': [(neck+2)+ 3*tail_seg_len, (neck+2)+ 4*tail_seg_len -1],\n",
    "                'tail_tip': [(neck+2)+ 4*tail_seg_len ,48]\n",
    "            }\n",
    "    \n",
    "    return segments_ind\n",
    "    "
   ]
  },
  {
   "cell_type": "code",
   "execution_count": 24,
   "metadata": {},
   "outputs": [],
   "source": [
    "indices_test = get_indices(15)"
   ]
  },
  {
   "cell_type": "code",
   "execution_count": 25,
   "metadata": {},
   "outputs": [
    {
     "data": {
      "text/plain": [
       "{'neck': [14, 16],\n",
       " 'head': [0, 13],\n",
       " 'tail': [17, 48],\n",
       " 'tail_base': [17, 22],\n",
       " 'tail_pre_mid': [23, 28],\n",
       " 'tail_mid': [29, 34],\n",
       " 'tail_post_mid': [35, 40],\n",
       " 'tail_tip': [41, 48]}"
      ]
     },
     "execution_count": 25,
     "metadata": {},
     "output_type": "execute_result"
    }
   ],
   "source": [
    "indices_test"
   ]
  },
  {
   "cell_type": "code",
   "execution_count": null,
   "metadata": {},
   "outputs": [],
   "source": []
  }
 ],
 "metadata": {
  "kernelspec": {
   "display_name": "Python 3",
   "language": "python",
   "name": "python3"
  },
  "language_info": {
   "codemirror_mode": {
    "name": "ipython",
    "version": 3
   },
   "file_extension": ".py",
   "mimetype": "text/x-python",
   "name": "python",
   "nbconvert_exporter": "python",
   "pygments_lexer": "ipython3",
   "version": "3.8.5"
  },
  "toc": {
   "base_numbering": 1,
   "nav_menu": {},
   "number_sections": true,
   "sideBar": true,
   "skip_h1_title": false,
   "title_cell": "Table of Contents",
   "title_sidebar": "Contents",
   "toc_cell": false,
   "toc_position": {},
   "toc_section_display": true,
   "toc_window_display": false
  }
 },
 "nbformat": 4,
 "nbformat_minor": 4
}
